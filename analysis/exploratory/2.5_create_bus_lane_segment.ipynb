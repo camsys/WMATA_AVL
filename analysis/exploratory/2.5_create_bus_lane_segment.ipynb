{
 "cells": [
  {
   "cell_type": "markdown",
   "metadata": {},
   "source": [
    "# copied from a previous rawnav repo - needs to be updated for the new workflow"
   ]
  },
  {
   "cell_type": "code",
   "execution_count": 1,
   "metadata": {
    "ExecuteTime": {
     "end_time": "2020-09-15T15:12:16.246700Z",
     "start_time": "2020-09-15T15:12:15.037693Z"
    }
   },
   "outputs": [],
   "source": [
    "import os, sys, glob, pandas as pd, geopandas as gpd\n",
    "import pyarrow as pa, pyarrow.parquet as pq\n",
    "import folium\n",
    "from folium.plugins import MarkerCluster\n",
    "from folium import CircleMarker\n",
    "from IPython.display import IFrame\n",
    "\n",
    "#### ben imports\n",
    "import json\n",
    "import numpy as np\n",
    "from scipy.spatial import cKDTree\n",
    "from shapely.geometry import LineString, Point\n",
    "\n",
    "\n",
    "pd.set_option('display.max_columns', None)\n",
    "if not sys.warnoptions:\n",
    "    import warnings\n",
    "    warnings.simplefilter(\"ignore\")\n",
    "%load_ext autoreload\n",
    "%autoreload 2\n",
    "\n",
    "#NAD83 Maryland (ft)\n",
    "wmata_crs = 2248"
   ]
  },
  {
   "cell_type": "code",
   "execution_count": 87,
   "metadata": {
    "ExecuteTime": {
     "end_time": "2020-09-15T17:20:44.751501Z",
     "start_time": "2020-09-15T17:20:44.673448Z"
    }
   },
   "outputs": [],
   "source": [
    "from ipywidgets import interact\n",
    "from shapely.ops import cascaded_union, linemerge"
   ]
  },
  {
   "cell_type": "code",
   "execution_count": 7,
   "metadata": {
    "ExecuteTime": {
     "end_time": "2020-09-15T15:15:42.855766Z",
     "start_time": "2020-09-15T15:15:42.779472Z"
    }
   },
   "outputs": [],
   "source": [
    "#os.path.pardir is equivalent to \"..\"\n",
    "#need to append folder 2 levels up in order to load wmatarawnav\n",
    "sys.path.append(os.path.join( os.path.pardir,os.path.pardir))\n",
    "import wmatarawnav as wr"
   ]
  },
  {
   "cell_type": "code",
   "execution_count": 8,
   "metadata": {
    "ExecuteTime": {
     "end_time": "2020-09-15T15:15:43.046394Z",
     "start_time": "2020-09-15T15:15:42.963884Z"
    }
   },
   "outputs": [],
   "source": [
    "# 1.2 Set Global Parameters\n",
    "############################################\n",
    "if os.getlogin() == \"WylieTimmerman\":\n",
    "    path_working = r\"C:\\OD\\OneDrive - Foursquare ITP\\Projects\\WMATA_AVL\"\n",
    "    os.chdir(os.path.join(path_working))\n",
    "    sys.path.append(r\"C:\\OD\\OneDrive - Foursquare ITP\\Projects\\WMATA_AVL\")\n",
    "    path_sp = r\"C:\\Users\\WylieTimmerman\\Documents\\projects_local\\wmata_avl_local\"\n",
    "    path_source_data = os.path.join(path_sp,\"data\",\"00-raw\")\n",
    "    path_processed_data = os.path.join(path_sp, \"data\",\"02-processed\")\n",
    "    path_segments = os.path.join(path_working,\"data\",\"02-processed\")\n",
    "elif os.getlogin() == \"abibeka\":\n",
    "    path_working = r\"C:\\Users\\abibeka\\OneDrive - Kittelson & Associates, Inc\\Documents\\Github\\WMATA_AVL\"\n",
    "    os.chdir(os.path.join(path_working))\n",
    "    sys.path.append(path_working)\n",
    "    path_source_data = r\"C:\\Users\\abibeka\\OneDrive - Kittelson & Associates, Inc\\Documents\\WMATA-AVL\\Data\"\n",
    "    path_processed_data = os.path.join(path_source_data, \"ProcessedData\")\n",
    "    path_segments = path_processed_data\n",
    "elif os.getlogin() == \"E048374\":\n",
    "    # Working Paths\n",
    "    path_working = r\"C:\\Users\\E048374\\OneDrive - WMATA\\rawnav_rachel_fork\\WMATA_AVL\"\n",
    "    os.chdir(os.path.join(path_working))\n",
    "    sys.path.append(r\"C:\\Users\\E048374\\OneDrive - WMATA\\rawnav_rachel_fork\\WMATA_AVL\")\n",
    "    path_source_data = r\"\\\\l-600730\\RawNavArchive\"\n",
    "    path_sp = r\"C:\\Users\\E048374\\Documents\\RawNav\"\n",
    "    path_processed_data = os.path.join(path_sp, \"data\", \"02-processed\")\n",
    "    path_segments = path_processed_data\n",
    "    \n",
    "else:\n",
    "    raise FileNotFoundError(\"Define the path_working, path_source_data, gtfs_dir, \\\n",
    "                            ZippedFilesloc, and path_processed_data in a new elif block\")"
   ]
  },
  {
   "cell_type": "markdown",
   "metadata": {},
   "source": [
    "## load segments for visualization"
   ]
  },
  {
   "cell_type": "code",
   "execution_count": 9,
   "metadata": {
    "ExecuteTime": {
     "end_time": "2020-09-15T15:15:43.397851Z",
     "start_time": "2020-09-15T15:15:43.284612Z"
    }
   },
   "outputs": [],
   "source": [
    "bus_lane_edges_loc = \"C:\\\\Users\\\\E048374\\\\OneDrive - WMATA\\\\rawnav_rachel_fork\\\\WMATA_AVL\\\\data\\\\02-processed\\\\route_52_bus_link_edges.geojson\"\n",
    "bus_lane_edges = gpd.read_file(bus_lane_edges_loc)"
   ]
  },
  {
   "cell_type": "code",
   "execution_count": 10,
   "metadata": {
    "ExecuteTime": {
     "end_time": "2020-09-15T15:15:43.777936Z",
     "start_time": "2020-09-15T15:15:43.684934Z"
    }
   },
   "outputs": [
    {
     "data": {
      "text/plain": [
       "array(['5201', '5202'], dtype=object)"
      ]
     },
     "execution_count": 10,
     "metadata": {},
     "output_type": "execute_result"
    }
   ],
   "source": [
    "#filter for pattern_id = 5201 - south, 5202 - north\n",
    "bus_lane_edges = (bus_lane_edges[(bus_lane_edges.loc[:,'PATTERN_ID']=='5201')\n",
    "                    |(bus_lane_edges.loc[:,'PATTERN_ID']=='5202')]).copy()\n",
    "bus_lane_edges.loc[:,'PATTERN_ID'].unique()"
   ]
  },
  {
   "cell_type": "code",
   "execution_count": 11,
   "metadata": {
    "ExecuteTime": {
     "end_time": "2020-09-15T15:15:43.974332Z",
     "start_time": "2020-09-15T15:15:43.892139Z"
    }
   },
   "outputs": [
    {
     "data": {
      "text/plain": [
       "PATTERN_ID         object\n",
       "from_geoid         object\n",
       "from_stop_seq       int64\n",
       "to_stop_seq         int64\n",
       "to_geoid           object\n",
       "from_node          object\n",
       "to_node            object\n",
       "link_code          object\n",
       "edge_code          object\n",
       "length            float64\n",
       "geometry         geometry\n",
       "dtype: object"
      ]
     },
     "execution_count": 11,
     "metadata": {},
     "output_type": "execute_result"
    }
   ],
   "source": [
    "bus_lane_edges.dtypes"
   ]
  },
  {
   "cell_type": "code",
   "execution_count": 12,
   "metadata": {
    "ExecuteTime": {
     "end_time": "2020-09-15T15:15:44.152606Z",
     "start_time": "2020-09-15T15:15:44.071606Z"
    }
   },
   "outputs": [],
   "source": [
    "#need to change datatype for merge with stop sequence below\n",
    "bus_lane_edges.loc[:,'from_geoid'] = bus_lane_edges.loc[:,'from_geoid'].astype('int64')\n",
    "bus_lane_edges.loc[:,'to_geoid'] = bus_lane_edges.loc[:,'to_geoid'].astype('int64')"
   ]
  },
  {
   "cell_type": "code",
   "execution_count": 13,
   "metadata": {
    "ExecuteTime": {
     "end_time": "2020-09-15T15:15:44.335480Z",
     "start_time": "2020-09-15T15:15:44.245233Z"
    }
   },
   "outputs": [
    {
     "data": {
      "text/html": [
       "<div>\n",
       "<style scoped>\n",
       "    .dataframe tbody tr th:only-of-type {\n",
       "        vertical-align: middle;\n",
       "    }\n",
       "\n",
       "    .dataframe tbody tr th {\n",
       "        vertical-align: top;\n",
       "    }\n",
       "\n",
       "    .dataframe thead th {\n",
       "        text-align: right;\n",
       "    }\n",
       "</style>\n",
       "<table border=\"1\" class=\"dataframe\">\n",
       "  <thead>\n",
       "    <tr style=\"text-align: right;\">\n",
       "      <th></th>\n",
       "      <th>PATTERN_ID</th>\n",
       "      <th>from_geoid</th>\n",
       "      <th>from_stop_seq</th>\n",
       "      <th>to_stop_seq</th>\n",
       "      <th>to_geoid</th>\n",
       "      <th>from_node</th>\n",
       "      <th>to_node</th>\n",
       "      <th>link_code</th>\n",
       "      <th>edge_code</th>\n",
       "      <th>length</th>\n",
       "      <th>geometry</th>\n",
       "    </tr>\n",
       "  </thead>\n",
       "  <tbody>\n",
       "    <tr>\n",
       "      <th>0</th>\n",
       "      <td>5201</td>\n",
       "      <td>7352</td>\n",
       "      <td>18</td>\n",
       "      <td>19</td>\n",
       "      <td>7243</td>\n",
       "      <td>49745296</td>\n",
       "      <td>5445907574</td>\n",
       "      <td>7352-7243</td>\n",
       "      <td>49745296-5445907574</td>\n",
       "      <td>56.492</td>\n",
       "      <td>LINESTRING (-77.03222 38.92454, -77.03221 38.9...</td>\n",
       "    </tr>\n",
       "    <tr>\n",
       "      <th>1</th>\n",
       "      <td>5201</td>\n",
       "      <td>7352</td>\n",
       "      <td>18</td>\n",
       "      <td>19</td>\n",
       "      <td>7243</td>\n",
       "      <td>49745297</td>\n",
       "      <td>49745296</td>\n",
       "      <td>7352-7243</td>\n",
       "      <td>49745297-49745296</td>\n",
       "      <td>23.983</td>\n",
       "      <td>LINESTRING (-77.03224 38.92476, -77.03222 38.9...</td>\n",
       "    </tr>\n",
       "    <tr>\n",
       "      <th>2</th>\n",
       "      <td>5201</td>\n",
       "      <td>7352</td>\n",
       "      <td>18</td>\n",
       "      <td>19</td>\n",
       "      <td>7243</td>\n",
       "      <td>49745301</td>\n",
       "      <td>4887731136</td>\n",
       "      <td>7352-7243</td>\n",
       "      <td>49745301-4887731136</td>\n",
       "      <td>22.908</td>\n",
       "      <td>LINESTRING (-77.03232 38.92550, -77.03231 38.9...</td>\n",
       "    </tr>\n",
       "  </tbody>\n",
       "</table>\n",
       "</div>"
      ],
      "text/plain": [
       "  PATTERN_ID  from_geoid  from_stop_seq  to_stop_seq  to_geoid from_node  \\\n",
       "0       5201        7352             18           19      7243  49745296   \n",
       "1       5201        7352             18           19      7243  49745297   \n",
       "2       5201        7352             18           19      7243  49745301   \n",
       "\n",
       "      to_node  link_code            edge_code  length  \\\n",
       "0  5445907574  7352-7243  49745296-5445907574  56.492   \n",
       "1    49745296  7352-7243    49745297-49745296  23.983   \n",
       "2  4887731136  7352-7243  49745301-4887731136  22.908   \n",
       "\n",
       "                                            geometry  \n",
       "0  LINESTRING (-77.03222 38.92454, -77.03221 38.9...  \n",
       "1  LINESTRING (-77.03224 38.92476, -77.03222 38.9...  \n",
       "2  LINESTRING (-77.03232 38.92550, -77.03231 38.9...  "
      ]
     },
     "execution_count": 13,
     "metadata": {},
     "output_type": "execute_result"
    }
   ],
   "source": [
    "bus_lane_edges.head(3)"
   ]
  },
  {
   "cell_type": "markdown",
   "metadata": {},
   "source": [
    "## load stop sequence"
   ]
  },
  {
   "cell_type": "code",
   "execution_count": 14,
   "metadata": {
    "ExecuteTime": {
     "end_time": "2020-09-15T15:15:44.739248Z",
     "start_time": "2020-09-15T15:15:44.628717Z"
    }
   },
   "outputs": [],
   "source": [
    "stop_seq_loc = \"C:\\\\Users\\\\E048374\\\\OneDrive - WMATA\\\\rawnav_rachel_fork\\\\WMATA_AVL\\\\data\\\\02-processed\\\\route_52_stop_sequence.geojson\"\n",
    "stop_seq = gpd.read_file(stop_seq_loc)"
   ]
  },
  {
   "cell_type": "code",
   "execution_count": 15,
   "metadata": {
    "ExecuteTime": {
     "end_time": "2020-09-15T15:15:44.893173Z",
     "start_time": "2020-09-15T15:15:44.812148Z"
    }
   },
   "outputs": [
    {
     "data": {
      "text/plain": [
       "ROUTE_ID            object\n",
       "ROUTE_VERSION        int64\n",
       "DIRECTION           object\n",
       "STOPID               int64\n",
       "GEOID                int64\n",
       "STOPORDER            int64\n",
       "STOPSORTORDER        int64\n",
       "LONGITUDE          float64\n",
       "LATITUDE           float64\n",
       "PATTERN_ID          object\n",
       "GEODESCRIPTION      object\n",
       "STOP_SEQUENCE      float64\n",
       "REVENUE_FLAG         int64\n",
       "geometry          geometry\n",
       "dtype: object"
      ]
     },
     "execution_count": 15,
     "metadata": {},
     "output_type": "execute_result"
    }
   ],
   "source": [
    "stop_seq.dtypes"
   ]
  },
  {
   "cell_type": "code",
   "execution_count": 16,
   "metadata": {
    "ExecuteTime": {
     "end_time": "2020-09-15T15:15:45.094867Z",
     "start_time": "2020-09-15T15:15:45.003869Z"
    }
   },
   "outputs": [
    {
     "data": {
      "text/html": [
       "<div>\n",
       "<style scoped>\n",
       "    .dataframe tbody tr th:only-of-type {\n",
       "        vertical-align: middle;\n",
       "    }\n",
       "\n",
       "    .dataframe tbody tr th {\n",
       "        vertical-align: top;\n",
       "    }\n",
       "\n",
       "    .dataframe thead th {\n",
       "        text-align: right;\n",
       "    }\n",
       "</style>\n",
       "<table border=\"1\" class=\"dataframe\">\n",
       "  <thead>\n",
       "    <tr style=\"text-align: right;\">\n",
       "      <th></th>\n",
       "      <th>ROUTE_ID</th>\n",
       "      <th>ROUTE_VERSION</th>\n",
       "      <th>DIRECTION</th>\n",
       "      <th>STOPID</th>\n",
       "      <th>GEOID</th>\n",
       "      <th>STOPORDER</th>\n",
       "      <th>STOPSORTORDER</th>\n",
       "      <th>LONGITUDE</th>\n",
       "      <th>LATITUDE</th>\n",
       "      <th>PATTERN_ID</th>\n",
       "      <th>GEODESCRIPTION</th>\n",
       "      <th>STOP_SEQUENCE</th>\n",
       "      <th>REVENUE_FLAG</th>\n",
       "      <th>geometry</th>\n",
       "    </tr>\n",
       "  </thead>\n",
       "  <tbody>\n",
       "    <tr>\n",
       "      <th>0</th>\n",
       "      <td>52</td>\n",
       "      <td>1</td>\n",
       "      <td>SOUTH</td>\n",
       "      <td>6192</td>\n",
       "      <td>8676</td>\n",
       "      <td>2</td>\n",
       "      <td>1</td>\n",
       "      <td>-77.033157</td>\n",
       "      <td>38.955723</td>\n",
       "      <td>5201</td>\n",
       "      <td>COLORADO AVE NW + 14TH ST NW</td>\n",
       "      <td>1.0</td>\n",
       "      <td>1</td>\n",
       "      <td>POINT (-77.03316 38.95572)</td>\n",
       "    </tr>\n",
       "    <tr>\n",
       "      <th>1</th>\n",
       "      <td>52</td>\n",
       "      <td>1</td>\n",
       "      <td>SOUTH</td>\n",
       "      <td>25231</td>\n",
       "      <td>8667</td>\n",
       "      <td>3</td>\n",
       "      <td>2</td>\n",
       "      <td>-77.033531</td>\n",
       "      <td>38.955456</td>\n",
       "      <td>5201</td>\n",
       "      <td>14TH ST + JEFFERSON DR</td>\n",
       "      <td>2.0</td>\n",
       "      <td>1</td>\n",
       "      <td>POINT (-77.03353 38.95546)</td>\n",
       "    </tr>\n",
       "    <tr>\n",
       "      <th>2</th>\n",
       "      <td>52</td>\n",
       "      <td>1</td>\n",
       "      <td>SOUTH</td>\n",
       "      <td>21857</td>\n",
       "      <td>8616</td>\n",
       "      <td>4</td>\n",
       "      <td>3</td>\n",
       "      <td>-77.033508</td>\n",
       "      <td>38.954307</td>\n",
       "      <td>5201</td>\n",
       "      <td>14TH ST + INGRAHAM ST</td>\n",
       "      <td>3.0</td>\n",
       "      <td>1</td>\n",
       "      <td>POINT (-77.03351 38.95431)</td>\n",
       "    </tr>\n",
       "  </tbody>\n",
       "</table>\n",
       "</div>"
      ],
      "text/plain": [
       "  ROUTE_ID  ROUTE_VERSION DIRECTION  STOPID  GEOID  STOPORDER  STOPSORTORDER  \\\n",
       "0       52              1     SOUTH    6192   8676          2              1   \n",
       "1       52              1     SOUTH   25231   8667          3              2   \n",
       "2       52              1     SOUTH   21857   8616          4              3   \n",
       "\n",
       "   LONGITUDE   LATITUDE PATTERN_ID                GEODESCRIPTION  \\\n",
       "0 -77.033157  38.955723       5201  COLORADO AVE NW + 14TH ST NW   \n",
       "1 -77.033531  38.955456       5201        14TH ST + JEFFERSON DR   \n",
       "2 -77.033508  38.954307       5201         14TH ST + INGRAHAM ST   \n",
       "\n",
       "   STOP_SEQUENCE  REVENUE_FLAG                    geometry  \n",
       "0            1.0             1  POINT (-77.03316 38.95572)  \n",
       "1            2.0             1  POINT (-77.03353 38.95546)  \n",
       "2            3.0             1  POINT (-77.03351 38.95431)  "
      ]
     },
     "execution_count": 16,
     "metadata": {},
     "output_type": "execute_result"
    }
   ],
   "source": [
    "stop_seq.head(3)"
   ]
  },
  {
   "cell_type": "markdown",
   "metadata": {},
   "source": [
    "## join edges to stop sequence \n",
    "We're trying to find the stops along each pattern in the bus lane area"
   ]
  },
  {
   "cell_type": "code",
   "execution_count": 17,
   "metadata": {
    "ExecuteTime": {
     "end_time": "2020-09-15T15:15:45.529432Z",
     "start_time": "2020-09-15T15:15:45.435341Z"
    }
   },
   "outputs": [],
   "source": [
    "from_stop_seq_merge = stop_seq.merge(bus_lane_edges[['PATTERN_ID', 'from_geoid']], how='inner'\n",
    "                                     , left_on=['PATTERN_ID', 'GEOID']\n",
    "                                     , right_on=['PATTERN_ID', 'from_geoid'])\n",
    "\n",
    "to_stop_seq_merge = stop_seq.merge(bus_lane_edges[['PATTERN_ID', 'to_geoid']], how='inner'\n",
    "                                     , left_on=['PATTERN_ID', 'GEOID']\n",
    "                                     , right_on=['PATTERN_ID', 'to_geoid'])\n",
    "\n",
    "tofrom_stop_seq_merge = from_stop_seq_merge.append(to_stop_seq_merge)"
   ]
  },
  {
   "cell_type": "code",
   "execution_count": 18,
   "metadata": {
    "ExecuteTime": {
     "end_time": "2020-09-15T15:15:45.712946Z",
     "start_time": "2020-09-15T15:15:45.626569Z"
    }
   },
   "outputs": [],
   "source": [
    "reduced_stop_seq = tofrom_stop_seq_merge[['ROUTE_ID', 'ROUTE_VERSION', 'DIRECTION', 'STOPID', 'GEOID',\n",
    "       'STOPORDER', 'STOPSORTORDER', 'LONGITUDE', 'LATITUDE', 'PATTERN_ID',\n",
    "       'GEODESCRIPTION', 'STOP_SEQUENCE', 'geometry']].drop_duplicates().copy()"
   ]
  },
  {
   "cell_type": "code",
   "execution_count": 19,
   "metadata": {
    "ExecuteTime": {
     "end_time": "2020-09-15T15:15:45.891142Z",
     "start_time": "2020-09-15T15:15:45.810127Z"
    }
   },
   "outputs": [],
   "source": [
    "def get_centroid_gpd(gpd_df):\n",
    "    '''\n",
    "    '''\n",
    "    minx = gpd_df.bounds.mean()['minx']\n",
    "    miny = gpd_df.bounds.mean()['miny']\n",
    "    maxx = gpd_df.bounds.mean()['maxx']\n",
    "    maxy = gpd_df.bounds.mean()['maxy']\n",
    "    avg_x = np.array([minx, maxx]).mean()\n",
    "    avg_y = np.array([miny, maxy]).mean()\n",
    "    #return Lat, Long\n",
    "    return[avg_y, avg_x]"
   ]
  },
  {
   "cell_type": "markdown",
   "metadata": {},
   "source": [
    "### make a line between stop and nearest rawnav point"
   ]
  },
  {
   "cell_type": "code",
   "execution_count": 91,
   "metadata": {
    "ExecuteTime": {
     "end_time": "2020-09-15T19:13:52.368415Z",
     "start_time": "2020-09-15T19:13:52.208357Z"
    }
   },
   "outputs": [
    {
     "data": {
      "text/html": [
       "<div style=\"width:100%;\"><div style=\"position:relative;width:100%;height:0;padding-bottom:60%;\"><span style=\"color:#565656\">Make this Notebook Trusted to load map: File -> Trust Notebook</span><iframe src=\"about:blank\" style=\"position:absolute;width:100%;height:100%;left:0;top:0;border:none !important;\" data-html=PCFET0NUWVBFIGh0bWw+CjxoZWFkPiAgICAKICAgIDxtZXRhIGh0dHAtZXF1aXY9ImNvbnRlbnQtdHlwZSIgY29udGVudD0idGV4dC9odG1sOyBjaGFyc2V0PVVURi04IiAvPgogICAgCiAgICAgICAgPHNjcmlwdD4KICAgICAgICAgICAgTF9OT19UT1VDSCA9IGZhbHNlOwogICAgICAgICAgICBMX0RJU0FCTEVfM0QgPSBmYWxzZTsKICAgICAgICA8L3NjcmlwdD4KICAgIAogICAgPHNjcmlwdCBzcmM9Imh0dHBzOi8vY2RuLmpzZGVsaXZyLm5ldC9ucG0vbGVhZmxldEAxLjYuMC9kaXN0L2xlYWZsZXQuanMiPjwvc2NyaXB0PgogICAgPHNjcmlwdCBzcmM9Imh0dHBzOi8vY29kZS5qcXVlcnkuY29tL2pxdWVyeS0xLjEyLjQubWluLmpzIj48L3NjcmlwdD4KICAgIDxzY3JpcHQgc3JjPSJodHRwczovL21heGNkbi5ib290c3RyYXBjZG4uY29tL2Jvb3RzdHJhcC8zLjIuMC9qcy9ib290c3RyYXAubWluLmpzIj48L3NjcmlwdD4KICAgIDxzY3JpcHQgc3JjPSJodHRwczovL2NkbmpzLmNsb3VkZmxhcmUuY29tL2FqYXgvbGlicy9MZWFmbGV0LmF3ZXNvbWUtbWFya2Vycy8yLjAuMi9sZWFmbGV0LmF3ZXNvbWUtbWFya2Vycy5qcyI+PC9zY3JpcHQ+CiAgICA8bGluayByZWw9InN0eWxlc2hlZXQiIGhyZWY9Imh0dHBzOi8vY2RuLmpzZGVsaXZyLm5ldC9ucG0vbGVhZmxldEAxLjYuMC9kaXN0L2xlYWZsZXQuY3NzIi8+CiAgICA8bGluayByZWw9InN0eWxlc2hlZXQiIGhyZWY9Imh0dHBzOi8vbWF4Y2RuLmJvb3RzdHJhcGNkbi5jb20vYm9vdHN0cmFwLzMuMi4wL2Nzcy9ib290c3RyYXAubWluLmNzcyIvPgogICAgPGxpbmsgcmVsPSJzdHlsZXNoZWV0IiBocmVmPSJodHRwczovL21heGNkbi5ib290c3RyYXBjZG4uY29tL2Jvb3RzdHJhcC8zLjIuMC9jc3MvYm9vdHN0cmFwLXRoZW1lLm1pbi5jc3MiLz4KICAgIDxsaW5rIHJlbD0ic3R5bGVzaGVldCIgaHJlZj0iaHR0cHM6Ly9tYXhjZG4uYm9vdHN0cmFwY2RuLmNvbS9mb250LWF3ZXNvbWUvNC42LjMvY3NzL2ZvbnQtYXdlc29tZS5taW4uY3NzIi8+CiAgICA8bGluayByZWw9InN0eWxlc2hlZXQiIGhyZWY9Imh0dHBzOi8vY2RuanMuY2xvdWRmbGFyZS5jb20vYWpheC9saWJzL0xlYWZsZXQuYXdlc29tZS1tYXJrZXJzLzIuMC4yL2xlYWZsZXQuYXdlc29tZS1tYXJrZXJzLmNzcyIvPgogICAgPGxpbmsgcmVsPSJzdHlsZXNoZWV0IiBocmVmPSJodHRwczovL3Jhd2Nkbi5naXRoYWNrLmNvbS9weXRob24tdmlzdWFsaXphdGlvbi9mb2xpdW0vbWFzdGVyL2ZvbGl1bS90ZW1wbGF0ZXMvbGVhZmxldC5hd2Vzb21lLnJvdGF0ZS5jc3MiLz4KICAgIDxzdHlsZT5odG1sLCBib2R5IHt3aWR0aDogMTAwJTtoZWlnaHQ6IDEwMCU7bWFyZ2luOiAwO3BhZGRpbmc6IDA7fTwvc3R5bGU+CiAgICA8c3R5bGU+I21hcCB7cG9zaXRpb246YWJzb2x1dGU7dG9wOjA7Ym90dG9tOjA7cmlnaHQ6MDtsZWZ0OjA7fTwvc3R5bGU+CiAgICAKICAgICAgICAgICAgPG1ldGEgbmFtZT0idmlld3BvcnQiIGNvbnRlbnQ9IndpZHRoPWRldmljZS13aWR0aCwKICAgICAgICAgICAgICAgIGluaXRpYWwtc2NhbGU9MS4wLCBtYXhpbXVtLXNjYWxlPTEuMCwgdXNlci1zY2FsYWJsZT1ubyIgLz4KICAgICAgICAgICAgPHN0eWxlPgogICAgICAgICAgICAgICAgI21hcF83Yjg5MDU2M2UxNjg0ZjE4OGZiMTM3NTU1NmJjNjg2MSB7CiAgICAgICAgICAgICAgICAgICAgcG9zaXRpb246IHJlbGF0aXZlOwogICAgICAgICAgICAgICAgICAgIHdpZHRoOiAxMDAuMCU7CiAgICAgICAgICAgICAgICAgICAgaGVpZ2h0OiAxMDAuMCU7CiAgICAgICAgICAgICAgICAgICAgbGVmdDogMC4wJTsKICAgICAgICAgICAgICAgICAgICB0b3A6IDAuMCU7CiAgICAgICAgICAgICAgICB9CiAgICAgICAgICAgIDwvc3R5bGU+CiAgICAgICAgCjwvaGVhZD4KPGJvZHk+ICAgIAogICAgCiAgICAgICAgICAgIDxkaXYgY2xhc3M9ImZvbGl1bS1tYXAiIGlkPSJtYXBfN2I4OTA1NjNlMTY4NGYxODhmYjEzNzU1NTZiYzY4NjEiID48L2Rpdj4KICAgICAgICAKPC9ib2R5Pgo8c2NyaXB0PiAgICAKICAgIAogICAgICAgICAgICB2YXIgbWFwXzdiODkwNTYzZTE2ODRmMTg4ZmIxMzc1NTU2YmM2ODYxID0gTC5tYXAoCiAgICAgICAgICAgICAgICAibWFwXzdiODkwNTYzZTE2ODRmMTg4ZmIxMzc1NTU2YmM2ODYxIiwKICAgICAgICAgICAgICAgIHsKICAgICAgICAgICAgICAgICAgICBjZW50ZXI6IFszOC45MjU3NjExLCAtNzcuMDMyMzQ4M10sCiAgICAgICAgICAgICAgICAgICAgY3JzOiBMLkNSUy5FUFNHMzg1NywKICAgICAgICAgICAgICAgICAgICB6b29tOiAxNiwKICAgICAgICAgICAgICAgICAgICB6b29tQ29udHJvbDogdHJ1ZSwKICAgICAgICAgICAgICAgICAgICBwcmVmZXJDYW52YXM6IGZhbHNlLAogICAgICAgICAgICAgICAgfQogICAgICAgICAgICApOwogICAgICAgICAgICBMLmNvbnRyb2wuc2NhbGUoKS5hZGRUbyhtYXBfN2I4OTA1NjNlMTY4NGYxODhmYjEzNzU1NTZiYzY4NjEpOwoKICAgICAgICAgICAgCgogICAgICAgIAogICAgCiAgICAgICAgICAgIHZhciB0aWxlX2xheWVyXzYwMDQ3YjgzM2NhMDQ1YjY5ZmE2NTEwMDI1NzIyNTYwID0gTC50aWxlTGF5ZXIoCiAgICAgICAgICAgICAgICAiaHR0cHM6Ly9jYXJ0b2RiLWJhc2VtYXBzLXtzfS5nbG9iYWwuc3NsLmZhc3RseS5uZXQvZGFya19hbGwve3p9L3t4fS97eX0ucG5nIiwKICAgICAgICAgICAgICAgIHsiYXR0cmlidXRpb24iOiAiXHUwMDI2Y29weTsgXHUwMDNjYSBocmVmPVwiaHR0cDovL3d3dy5vcGVuc3RyZWV0bWFwLm9yZy9jb3B5cmlnaHRcIlx1MDAzZU9wZW5TdHJlZXRNYXBcdTAwM2MvYVx1MDAzZSBjb250cmlidXRvcnMgXHUwMDI2Y29weTsgXHUwMDNjYSBocmVmPVwiaHR0cDovL2NhcnRvZGIuY29tL2F0dHJpYnV0aW9uc1wiXHUwMDNlQ2FydG9EQlx1MDAzYy9hXHUwMDNlLCBDYXJ0b0RCIFx1MDAzY2EgaHJlZiA9XCJodHRwOi8vY2FydG9kYi5jb20vYXR0cmlidXRpb25zXCJcdTAwM2VhdHRyaWJ1dGlvbnNcdTAwM2MvYVx1MDAzZSIsICJkZXRlY3RSZXRpbmEiOiBmYWxzZSwgIm1heE5hdGl2ZVpvb20iOiAyNSwgIm1heFpvb20iOiAyNSwgIm1pblpvb20iOiAwLCAibm9XcmFwIjogZmFsc2UsICJvcGFjaXR5IjogMSwgInN1YmRvbWFpbnMiOiAiYWJjIiwgInRtcyI6IGZhbHNlfQogICAgICAgICAgICApLmFkZFRvKG1hcF83Yjg5MDU2M2UxNjg0ZjE4OGZiMTM3NTU1NmJjNjg2MSk7CiAgICAgICAgCiAgICAKICAgICAgICAgICAgdmFyIHRpbGVfbGF5ZXJfOTQ4MmUyZWE4ODM0NGU5YmEyNzMyZGU4NTJjMjJlNDQgPSBMLnRpbGVMYXllcigKICAgICAgICAgICAgICAgICJodHRwczovL3NlcnZlci5hcmNnaXNvbmxpbmUuY29tL0FyY0dJUy9yZXN0L3NlcnZpY2VzL1dvcmxkX0ltYWdlcnkvTWFwU2VydmVyL3RpbGUve3p9L3t5fS97eH0iLAogICAgICAgICAgICAgICAgeyJhdHRyaWJ1dGlvbiI6ICJUaWxlcyBcdTAwMjZjb3B5OyBFc3JpIFx1MDAyNm1kYXNoOyBTb3VyY2U6IEVzcmksIGktY3ViZWQsIFVTREEsIFVTR1MsIEFFWCwgR2VvRXllLCBHZXRtYXBwaW5nLCBBZXJvZ3JpZCwgSUdOLCBJR1AsIFVQUi1FR1AsIGFuZCB0aGUgR0lTIFVzZXIgQ29tbXVuaXR5IiwgImNvbnRyb2xTY2FsZSI6IHRydWUsICJkZXRlY3RSZXRpbmEiOiBmYWxzZSwgIm1heE5hdGl2ZVpvb20iOiAyNSwgIm1heFpvb20iOiAyNSwgIm1pblpvb20iOiAwLCAibm9XcmFwIjogZmFsc2UsICJvcGFjaXR5IjogMSwgInN1YmRvbWFpbnMiOiAiYWJjIiwgInRtcyI6IGZhbHNlLCAiem9vbVN0YXJ0IjogMTZ9CiAgICAgICAgICAgICkuYWRkVG8obWFwXzdiODkwNTYzZTE2ODRmMTg4ZmIxMzc1NTU2YmM2ODYxKTsKICAgICAgICAKICAgIAogICAgICAgICAgICB2YXIgdGlsZV9sYXllcl81NmU0MWZkMDZjNDc0YzNiYWQwYzliZWFiZWQxY2JhMiA9IEwudGlsZUxheWVyKAogICAgICAgICAgICAgICAgImh0dHBzOi8vY2FydG9kYi1iYXNlbWFwcy17c30uZ2xvYmFsLnNzbC5mYXN0bHkubmV0L2xpZ2h0X2FsbC97en0ve3h9L3t5fS5wbmciLAogICAgICAgICAgICAgICAgeyJhdHRyaWJ1dGlvbiI6ICJcdTAwMjZjb3B5OyBcdTAwM2NhIGhyZWY9XCJodHRwOi8vd3d3Lm9wZW5zdHJlZXRtYXAub3JnL2NvcHlyaWdodFwiXHUwMDNlT3BlblN0cmVldE1hcFx1MDAzYy9hXHUwMDNlIGNvbnRyaWJ1dG9ycyBcdTAwMjZjb3B5OyBcdTAwM2NhIGhyZWY9XCJodHRwOi8vY2FydG9kYi5jb20vYXR0cmlidXRpb25zXCJcdTAwM2VDYXJ0b0RCXHUwMDNjL2FcdTAwM2UsIENhcnRvREIgXHUwMDNjYSBocmVmID1cImh0dHA6Ly9jYXJ0b2RiLmNvbS9hdHRyaWJ1dGlvbnNcIlx1MDAzZWF0dHJpYnV0aW9uc1x1MDAzYy9hXHUwMDNlIiwgImNvbnRyb2xTY2FsZSI6IHRydWUsICJkZXRlY3RSZXRpbmEiOiBmYWxzZSwgIm1heE5hdGl2ZVpvb20iOiAyMCwgIm1heFpvb20iOiAyMCwgIm1pblpvb20iOiAwLCAibm9XcmFwIjogZmFsc2UsICJvcGFjaXR5IjogMSwgInN1YmRvbWFpbnMiOiAiYWJjIiwgInRtcyI6IGZhbHNlLCAiem9vbVN0YXJ0IjogMTZ9CiAgICAgICAgICAgICkuYWRkVG8obWFwXzdiODkwNTYzZTE2ODRmMTg4ZmIxMzc1NTU2YmM2ODYxKTsKICAgICAgICAKICAgIAogICAgICAgICAgICB2YXIgdGlsZV9sYXllcl9hZjkwYmQ4MTdhOWI0MzgwOTNjMjVmNjNlMDljZjQzOSA9IEwudGlsZUxheWVyKAogICAgICAgICAgICAgICAgImh0dHBzOi8ve3N9LnRpbGUub3BlbnN0cmVldG1hcC5vcmcve3p9L3t4fS97eX0ucG5nIiwKICAgICAgICAgICAgICAgIHsiYXR0cmlidXRpb24iOiAiRGF0YSBieSBcdTAwMjZjb3B5OyBcdTAwM2NhIGhyZWY9XCJodHRwOi8vb3BlbnN0cmVldG1hcC5vcmdcIlx1MDAzZU9wZW5TdHJlZXRNYXBcdTAwM2MvYVx1MDAzZSwgdW5kZXIgXHUwMDNjYSBocmVmPVwiaHR0cDovL3d3dy5vcGVuc3RyZWV0bWFwLm9yZy9jb3B5cmlnaHRcIlx1MDAzZU9EYkxcdTAwM2MvYVx1MDAzZS4iLCAiY29udHJvbFNjYWxlIjogdHJ1ZSwgImRldGVjdFJldGluYSI6IGZhbHNlLCAibWF4TmF0aXZlWm9vbSI6IDIwLCAibWF4Wm9vbSI6IDIwLCAibWluWm9vbSI6IDAsICJub1dyYXAiOiBmYWxzZSwgIm9wYWNpdHkiOiAxLCAic3ViZG9tYWlucyI6ICJhYmMiLCAidG1zIjogZmFsc2UsICJ6b29tU3RhcnQiOiAxNn0KICAgICAgICAgICAgKS5hZGRUbyhtYXBfN2I4OTA1NjNlMTY4NGYxODhmYjEzNzU1NTZiYzY4NjEpOwogICAgICAgIAogICAgCiAgICAgICAgICAgIHZhciBjaG9yb3BsZXRoXzNjM2FhMmYxZDlkYzRjMjJhNWJkMGFlMDMxMTA2OGM5ID0gTC5mZWF0dXJlR3JvdXAoCiAgICAgICAgICAgICAgICB7fQogICAgICAgICAgICApLmFkZFRvKG1hcF83Yjg5MDU2M2UxNjg0ZjE4OGZiMTM3NTU1NmJjNjg2MSk7CiAgICAgICAgCiAgICAKICAgICAgICBmdW5jdGlvbiBnZW9fanNvbl82NDI2YWY1YWU5NmQ0ZWEwODA1ZGIxNmE2MmZmYjUxZF9zdHlsZXIoZmVhdHVyZSkgewogICAgICAgICAgICBzd2l0Y2goZmVhdHVyZS5pZCkgewogICAgICAgICAgICAgICAgZGVmYXVsdDoKICAgICAgICAgICAgICAgICAgICByZXR1cm4geyJjb2xvciI6ICJibHVlIiwgImZpbGxDb2xvciI6ICJibHVlIiwgImZpbGxPcGFjaXR5IjogMC42LCAib3BhY2l0eSI6IDEsICJ3ZWlnaHQiOiAzfTsKICAgICAgICAgICAgfQogICAgICAgIH0KICAgICAgICBmdW5jdGlvbiBnZW9fanNvbl82NDI2YWY1YWU5NmQ0ZWEwODA1ZGIxNmE2MmZmYjUxZF9vbkVhY2hGZWF0dXJlKGZlYXR1cmUsIGxheWVyKSB7CiAgICAgICAgICAgIGxheWVyLm9uKHsKICAgICAgICAgICAgICAgIGNsaWNrOiBmdW5jdGlvbihlKSB7CiAgICAgICAgICAgICAgICAgICAgbWFwXzdiODkwNTYzZTE2ODRmMTg4ZmIxMzc1NTU2YmM2ODYxLmZpdEJvdW5kcyhlLnRhcmdldC5nZXRCb3VuZHMoKSk7CiAgICAgICAgICAgICAgICB9CiAgICAgICAgICAgIH0pOwogICAgICAgIH07CiAgICAgICAgdmFyIGdlb19qc29uXzY0MjZhZjVhZTk2ZDRlYTA4MDVkYjE2YTYyZmZiNTFkID0gTC5nZW9Kc29uKG51bGwsIHsKICAgICAgICAgICAgICAgIG9uRWFjaEZlYXR1cmU6IGdlb19qc29uXzY0MjZhZjVhZTk2ZDRlYTA4MDVkYjE2YTYyZmZiNTFkX29uRWFjaEZlYXR1cmUsCiAgICAgICAgICAgIAogICAgICAgICAgICAgICAgc3R5bGU6IGdlb19qc29uXzY0MjZhZjVhZTk2ZDRlYTA4MDVkYjE2YTYyZmZiNTFkX3N0eWxlciwKICAgICAgICB9KS5hZGRUbyhjaG9yb3BsZXRoXzNjM2FhMmYxZDlkYzRjMjJhNWJkMGFlMDMxMTA2OGM5KTsKCiAgICAgICAgZnVuY3Rpb24gZ2VvX2pzb25fNjQyNmFmNWFlOTZkNGVhMDgwNWRiMTZhNjJmZmI1MWRfYWRkIChkYXRhKSB7CiAgICAgICAgICAgIGdlb19qc29uXzY0MjZhZjVhZTk2ZDRlYTA4MDVkYjE2YTYyZmZiNTFkLmFkZERhdGEoZGF0YSk7CiAgICAgICAgfQogICAgICAgICAgICBnZW9fanNvbl82NDI2YWY1YWU5NmQ0ZWEwODA1ZGIxNmE2MmZmYjUxZF9hZGQoeyJiYm94IjogWy03Ny4wMzI2NzA0LCAzOC45MjM3NjMsIC03Ny4wMzIxNDMsIDM4LjkyODc5ODFdLCAiZmVhdHVyZXMiOiBbeyJiYm94IjogWy03Ny4wMzIyMiwgMzguOTI0MDM0NSwgLTc3LjAzMjE2OTEsIDM4LjkyNDU0MV0sICJnZW9tZXRyeSI6IHsiY29vcmRpbmF0ZXMiOiBbWy03Ny4wMzIyMiwgMzguOTI0NTQxXSwgWy03Ny4wMzIyMTI5LCAzOC45MjQ0NzM5XSwgWy03Ny4wMzIxOTMsIDM4LjkyNDI4NF0sIFstNzcuMDMyMTY5MSwgMzguOTI0MDM0NV1dLCAidHlwZSI6ICJMaW5lU3RyaW5nIn0sICJpZCI6ICIwIiwgInByb3BlcnRpZXMiOiB7IlBBVFRFUk5fSUQiOiAiNTIwMSIsICJlZGdlX2NvZGUiOiAiNDk3NDUyOTYtNTQ0NTkwNzU3NCIsICJmcm9tX2dlb2lkIjogNzM1MiwgImZyb21fbm9kZSI6ICI0OTc0NTI5NiIsICJmcm9tX3N0b3Bfc2VxIjogMTgsICJsZW5ndGgiOiA1Ni40OTIsICJsaW5rX2NvZGUiOiAiNzM1Mi03MjQzIiwgInRvX2dlb2lkIjogNzI0MywgInRvX25vZGUiOiAiNTQ0NTkwNzU3NCIsICJ0b19zdG9wX3NlcSI6IDE5fSwgInR5cGUiOiAiRmVhdHVyZSJ9LCB7ImJib3giOiBbLTc3LjAzMjI0MiwgMzguOTI0NTQxLCAtNzcuMDMyMjIsIDM4LjkyNDc1Nl0sICJnZW9tZXRyeSI6IHsiY29vcmRpbmF0ZXMiOiBbWy03Ny4wMzIyNDIsIDM4LjkyNDc1Nl0sIFstNzcuMDMyMjIsIDM4LjkyNDU0MV1dLCAidHlwZSI6ICJMaW5lU3RyaW5nIn0sICJpZCI6ICIxIiwgInByb3BlcnRpZXMiOiB7IlBBVFRFUk5fSUQiOiAiNTIwMSIsICJlZGdlX2NvZGUiOiAiNDk3NDUyOTctNDk3NDUyOTYiLCAiZnJvbV9nZW9pZCI6IDczNTIsICJmcm9tX25vZGUiOiAiNDk3NDUyOTciLCAiZnJvbV9zdG9wX3NlcSI6IDE4LCAibGVuZ3RoIjogMjMuOTgzLCAibGlua19jb2RlIjogIjczNTItNzI0MyIsICJ0b19nZW9pZCI6IDcyNDMsICJ0b19ub2RlIjogIjQ5NzQ1Mjk2IiwgInRvX3N0b3Bfc2VxIjogMTl9LCAidHlwZSI6ICJGZWF0dXJlIn0sIHsiYmJveCI6IFstNzcuMDMyMzE2LCAzOC45MjUyOTY2LCAtNzcuMDMyMjk1NiwgMzguOTI1NTAyXSwgImdlb21ldHJ5IjogeyJjb29yZGluYXRlcyI6IFtbLTc3LjAzMjMxNiwgMzguOTI1NTAyXSwgWy03Ny4wMzIzMDk3LCAzOC45MjU0Mzg3XSwgWy03Ny4wMzIyOTU2LCAzOC45MjUyOTY2XV0sICJ0eXBlIjogIkxpbmVTdHJpbmcifSwgImlkIjogIjIiLCAicHJvcGVydGllcyI6IHsiUEFUVEVSTl9JRCI6ICI1MjAxIiwgImVkZ2VfY29kZSI6ICI0OTc0NTMwMS00ODg3NzMxMTM2IiwgImZyb21fZ2VvaWQiOiA3MzUyLCAiZnJvbV9ub2RlIjogIjQ5NzQ1MzAxIiwgImZyb21fc3RvcF9zZXEiOiAxOCwgImxlbmd0aCI6IDIyLjkwOCwgImxpbmtfY29kZSI6ICI3MzUyLTcyNDMiLCAidG9fZ2VvaWQiOiA3MjQzLCAidG9fbm9kZSI6ICI0ODg3NzMxMTM2IiwgInRvX3N0b3Bfc2VxIjogMTl9LCAidHlwZSI6ICJGZWF0dXJlIn0sIHsiYmJveCI6IFstNzcuMDMyMzM5LCAzOC45MjU1MDIsIC03Ny4wMzIzMTYsIDM4LjkyNTc0Ml0sICJnZW9tZXRyeSI6IHsiY29vcmRpbmF0ZXMiOiBbWy03Ny4wMzIzMzksIDM4LjkyNTc0Ml0sIFstNzcuMDMyMzE2LCAzOC45MjU1MDJdXSwgInR5cGUiOiAiTGluZVN0cmluZyJ9LCAiaWQiOiAiMyIsICJwcm9wZXJ0aWVzIjogeyJQQVRURVJOX0lEIjogIjUyMDEiLCAiZWRnZV9jb2RlIjogIjQ5NzQ1MzA1LTQ5NzQ1MzAxIiwgImZyb21fZ2VvaWQiOiA3MzUyLCAiZnJvbV9ub2RlIjogIjQ5NzQ1MzA1IiwgImZyb21fc3RvcF9zZXEiOiAxOCwgImxlbmd0aCI6IDI2Ljc2MSwgImxpbmtfY29kZSI6ICI3MzUyLTcyNDMiLCAidG9fZ2VvaWQiOiA3MjQzLCAidG9fbm9kZSI6ICI0OTc0NTMwMSIsICJ0b19zdG9wX3NlcSI6IDE5fSwgInR5cGUiOiAiRmVhdHVyZSJ9LCB7ImJib3giOiBbLTc3LjAzMjQzNTgsIDM4LjkyNTc0MiwgLTc3LjAzMjMzOSwgMzguOTI2NTcxMV0sICJnZW9tZXRyeSI6IHsiY29vcmRpbmF0ZXMiOiBbWy03Ny4wMzI0MzU4LCAzOC45MjY1NzExXSwgWy03Ny4wMzI0MjYsIDM4LjkyNjQ4NjldLCBbLTc3LjAzMjM0NTUsIDM4LjkyNTc5NzddLCBbLTc3LjAzMjMzOSwgMzguOTI1NzQyXV0sICJ0eXBlIjogIkxpbmVTdHJpbmcifSwgImlkIjogIjQiLCAicHJvcGVydGllcyI6IHsiUEFUVEVSTl9JRCI6ICI1MjAxIiwgImVkZ2VfY29kZSI6ICI3ODM2MjM1MzUtNDk3NDUzMDUiLCAiZnJvbV9nZW9pZCI6IDE2NjYyLCAiZnJvbV9ub2RlIjogIjc4MzYyMzUzNSIsICJmcm9tX3N0b3Bfc2VxIjogMTcsICJsZW5ndGgiOiA5Mi41NzEsICJsaW5rX2NvZGUiOiAiMTY2NjItNzM1MiIsICJ0b19nZW9pZCI6IDczNTIsICJ0b19ub2RlIjogIjQ5NzQ1MzA1IiwgInRvX3N0b3Bfc2VxIjogMTh9LCAidHlwZSI6ICJGZWF0dXJlIn0sIHsiYmJveCI6IFstNzcuMDMyNTk5NSwgMzguOTI3NTE5LCAtNzcuMDMyNTQxNSwgMzguOTI4MDQ1NV0sICJnZW9tZXRyeSI6IHsiY29vcmRpbmF0ZXMiOiBbWy03Ny4wMzI1OTk1LCAzOC45MjgwNDU1XSwgWy03Ny4wMzI1NDgzLCAzOC45Mjc2MDRdLCBbLTc3LjAzMjU0MTUsIDM4LjkyNzUxOV1dLCAidHlwZSI6ICJMaW5lU3RyaW5nIn0sICJpZCI6ICI1IiwgInByb3BlcnRpZXMiOiB7IlBBVFRFUk5fSUQiOiAiNTIwMSIsICJlZGdlX2NvZGUiOiAiMTMzMzY4NTgzOC0xNDM5NTg0NjUzIiwgImZyb21fZ2VvaWQiOiAxNjIwMywgImZyb21fbm9kZSI6ICIxMzMzNjg1ODM4IiwgImZyb21fc3RvcF9zZXEiOiAxNiwgImxlbmd0aCI6IDU4Ljc2MiwgImxpbmtfY29kZSI6ICIxNjIwMy0xNjY2MiIsICJ0b19nZW9pZCI6IDE2NjYyLCAidG9fbm9kZSI6ICIxNDM5NTg0NjUzIiwgInRvX3N0b3Bfc2VxIjogMTd9LCAidHlwZSI6ICJGZWF0dXJlIn0sIHsiYmJveCI6IFstNzcuMDMyNTQxNSwgMzguOTI2NTcxMSwgLTc3LjAzMjQzNTgsIDM4LjkyNzUxOV0sICJnZW9tZXRyeSI6IHsiY29vcmRpbmF0ZXMiOiBbWy03Ny4wMzI1NDE1LCAzOC45Mjc1MTldLCBbLTc3LjAzMjUzMjcsIDM4LjkyNzQ1MzVdLCBbLTc3LjAzMjQ4OTgsIDM4LjkyNzEyMjJdLCBbLTc3LjAzMjQ3MDcsIDM4LjkyNjk0MzddLCBbLTc3LjAzMjQ0MzcsIDM4LjkyNjY0ODldLCBbLTc3LjAzMjQzNTgsIDM4LjkyNjU3MTFdXSwgInR5cGUiOiAiTGluZVN0cmluZyJ9LCAiaWQiOiAiNiIsICJwcm9wZXJ0aWVzIjogeyJQQVRURVJOX0lEIjogIjUyMDEiLCAiZWRnZV9jb2RlIjogIjE0Mzk1ODQ2NTMtNzgzNjIzNTM1IiwgImZyb21fZ2VvaWQiOiAxNjIwMywgImZyb21fbm9kZSI6ICIxNDM5NTg0NjUzIiwgImZyb21fc3RvcF9zZXEiOiAxNiwgImxlbmd0aCI6IDEwNS44MDYsICJsaW5rX2NvZGUiOiAiMTYyMDMtMTY2NjIiLCAidG9fZ2VvaWQiOiAxNjY2MiwgInRvX25vZGUiOiAiNzgzNjIzNTM1IiwgInRvX3N0b3Bfc2VxIjogMTd9LCAidHlwZSI6ICJGZWF0dXJlIn0sIHsiYmJveCI6IFstNzcuMDMyMjk1NiwgMzguOTI0NzU2LCAtNzcuMDMyMjQyLCAzOC45MjUyOTY2XSwgImdlb21ldHJ5IjogeyJjb29yZGluYXRlcyI6IFtbLTc3LjAzMjI5NTYsIDM4LjkyNTI5NjZdLCBbLTc3LjAzMjI0MiwgMzguOTI0NzU2XV0sICJ0eXBlIjogIkxpbmVTdHJpbmcifSwgImlkIjogIjciLCAicHJvcGVydGllcyI6IHsiUEFUVEVSTl9JRCI6ICI1MjAxIiwgImVkZ2VfY29kZSI6ICI0ODg3NzMxMTM2LTQ5NzQ1Mjk3IiwgImZyb21fZ2VvaWQiOiA3MzUyLCAiZnJvbV9ub2RlIjogIjQ4ODc3MzExMzYiLCAiZnJvbV9zdG9wX3NlcSI6IDE4LCAibGVuZ3RoIjogNjAuMjkxLCAibGlua19jb2RlIjogIjczNTItNzI0MyIsICJ0b19nZW9pZCI6IDcyNDMsICJ0b19ub2RlIjogIjQ5NzQ1Mjk3IiwgInRvX3N0b3Bfc2VxIjogMTl9LCAidHlwZSI6ICJGZWF0dXJlIn0sIHsiYmJveCI6IFstNzcuMDMyMTY5MSwgMzguOTIzNzYzLCAtNzcuMDMyMTQzLCAzOC45MjQwMzQ1XSwgImdlb21ldHJ5IjogeyJjb29yZGluYXRlcyI6IFtbLTc3LjAzMjE2OTEsIDM4LjkyNDAzNDVdLCBbLTc3LjAzMjE0MywgMzguOTIzNzYzXV0sICJ0eXBlIjogIkxpbmVTdHJpbmcifSwgImlkIjogIjgiLCAicHJvcGVydGllcyI6IHsiUEFUVEVSTl9JRCI6ICI1MjAxIiwgImVkZ2VfY29kZSI6ICI1NDQ1OTA3NTc0LTQ5NzQ1Mjk0IiwgImZyb21fZ2VvaWQiOiA3MjQzLCAiZnJvbV9ub2RlIjogIjU0NDU5MDc1NzQiLCAiZnJvbV9zdG9wX3NlcSI6IDE5LCAibGVuZ3RoIjogMzAuMjc0LCAibGlua19jb2RlIjogIjcyNDMtNzExMyIsICJ0b19nZW9pZCI6IDcxMTMsICJ0b19ub2RlIjogIjQ5NzQ1Mjk0IiwgInRvX3N0b3Bfc2VxIjogMjB9LCAidHlwZSI6ICJGZWF0dXJlIn0sIHsiYmJveCI6IFstNzcuMDMyNjcwNCwgMzguOTI4MDQ1NSwgLTc3LjAzMjU5OTUsIDM4LjkyODc5ODFdLCAiZ2VvbWV0cnkiOiB7ImNvb3JkaW5hdGVzIjogW1stNzcuMDMyNjcwNCwgMzguOTI4Nzk4MV0sIFstNzcuMDMyNjY1NiwgMzguOTI4NzA1Nl0sIFstNzcuMDMyNjI4NywgMzguOTI4MzQ2Nl0sIFstNzcuMDMyNTk5NSwgMzguOTI4MDQ1NV1dLCAidHlwZSI6ICJMaW5lU3RyaW5nIn0sICJpZCI6ICI5IiwgInByb3BlcnRpZXMiOiB7IlBBVFRFUk5fSUQiOiAiNTIwMSIsICJlZGdlX2NvZGUiOiAiNTY5ODI1MjE5OS0xMzMzNjg1ODM4IiwgImZyb21fZ2VvaWQiOiAxNjIwMywgImZyb21fbm9kZSI6ICI1Njk4MjUyMTk5IiwgImZyb21fc3RvcF9zZXEiOiAxNiwgImxlbmd0aCI6IDgzLjkxNiwgImxpbmtfY29kZSI6ICIxNjIwMy0xNjY2MiIsICJ0b19nZW9pZCI6IDE2NjYyLCAidG9fbm9kZSI6ICIxMzMzNjg1ODM4IiwgInRvX3N0b3Bfc2VxIjogMTd9LCAidHlwZSI6ICJGZWF0dXJlIn0sIHsiYmJveCI6IFstNzcuMDMyMTY5MSwgMzguOTIzNzYzLCAtNzcuMDMyMTQzLCAzOC45MjQwMzQ1XSwgImdlb21ldHJ5IjogeyJjb29yZGluYXRlcyI6IFtbLTc3LjAzMjE0MywgMzguOTIzNzYzXSwgWy03Ny4wMzIxNjkxLCAzOC45MjQwMzQ1XV0sICJ0eXBlIjogIkxpbmVTdHJpbmcifSwgImlkIjogIjEwIiwgInByb3BlcnRpZXMiOiB7IlBBVFRFUk5fSUQiOiAiNTIwMiIsICJlZGdlX2NvZGUiOiAiNDk3NDUyOTQtNTQ0NTkwNzU3NCIsICJmcm9tX2dlb2lkIjogNzIxNiwgImZyb21fbm9kZSI6ICI0OTc0NTI5NCIsICJmcm9tX3N0b3Bfc2VxIjogMjYsICJsZW5ndGgiOiAzMC4yNzQsICJsaW5rX2NvZGUiOiAiNzIxNi0xNTI0OCIsICJ0b19nZW9pZCI6IDE1MjQ4LCAidG9fbm9kZSI6ICI1NDQ1OTA3NTc0IiwgInRvX3N0b3Bfc2VxIjogMjd9LCAidHlwZSI6ICJGZWF0dXJlIn0sIHsiYmJveCI6IFstNzcuMDMyMjQyLCAzOC45MjQ1NDEsIC03Ny4wMzIyMiwgMzguOTI0NzU2XSwgImdlb21ldHJ5IjogeyJjb29yZGluYXRlcyI6IFtbLTc3LjAzMjIyLCAzOC45MjQ1NDFdLCBbLTc3LjAzMjI0MiwgMzguOTI0NzU2XV0sICJ0eXBlIjogIkxpbmVTdHJpbmcifSwgImlkIjogIjExIiwgInByb3BlcnRpZXMiOiB7IlBBVFRFUk5fSUQiOiAiNTIwMiIsICJlZGdlX2NvZGUiOiAiNDk3NDUyOTYtNDk3NDUyOTciLCAiZnJvbV9nZW9pZCI6IDcyMTYsICJmcm9tX25vZGUiOiAiNDk3NDUyOTYiLCAiZnJvbV9zdG9wX3NlcSI6IDI2LCAibGVuZ3RoIjogMjMuOTgzLCAibGlua19jb2RlIjogIjcyMTYtMTUyNDgiLCAidG9fZ2VvaWQiOiAxNTI0OCwgInRvX25vZGUiOiAiNDk3NDUyOTciLCAidG9fc3RvcF9zZXEiOiAyN30sICJ0eXBlIjogIkZlYXR1cmUifSwgeyJiYm94IjogWy03Ny4wMzIyOTU2LCAzOC45MjQ3NTYsIC03Ny4wMzIyNDIsIDM4LjkyNTI5NjZdLCAiZ2VvbWV0cnkiOiB7ImNvb3JkaW5hdGVzIjogW1stNzcuMDMyMjQyLCAzOC45MjQ3NTZdLCBbLTc3LjAzMjI5NTYsIDM4LjkyNTI5NjZdXSwgInR5cGUiOiAiTGluZVN0cmluZyJ9LCAiaWQiOiAiMTIiLCAicHJvcGVydGllcyI6IHsiUEFUVEVSTl9JRCI6ICI1MjAyIiwgImVkZ2VfY29kZSI6ICI0OTc0NTI5Ny00ODg3NzMxMTM2IiwgImZyb21fZ2VvaWQiOiA3MjE2LCAiZnJvbV9ub2RlIjogIjQ5NzQ1Mjk3IiwgImZyb21fc3RvcF9zZXEiOiAyNiwgImxlbmd0aCI6IDYwLjI5MSwgImxpbmtfY29kZSI6ICI3MjE2LTE1MjQ4IiwgInRvX2dlb2lkIjogMTUyNDgsICJ0b19ub2RlIjogIjQ4ODc3MzExMzYiLCAidG9fc3RvcF9zZXEiOiAyN30sICJ0eXBlIjogIkZlYXR1cmUifSwgeyJiYm94IjogWy03Ny4wMzIzMzksIDM4LjkyNTUwMiwgLTc3LjAzMjMxNiwgMzguOTI1NzQyXSwgImdlb21ldHJ5IjogeyJjb29yZGluYXRlcyI6IFtbLTc3LjAzMjMxNiwgMzguOTI1NTAyXSwgWy03Ny4wMzIzMzksIDM4LjkyNTc0Ml1dLCAidHlwZSI6ICJMaW5lU3RyaW5nIn0sICJpZCI6ICIxMyIsICJwcm9wZXJ0aWVzIjogeyJQQVRURVJOX0lEIjogIjUyMDIiLCAiZWRnZV9jb2RlIjogIjQ5NzQ1MzAxLTQ5NzQ1MzA1IiwgImZyb21fZ2VvaWQiOiAxNTI0OCwgImZyb21fbm9kZSI6ICI0OTc0NTMwMSIsICJmcm9tX3N0b3Bfc2VxIjogMjcsICJsZW5ndGgiOiAyNi43NjEsICJsaW5rX2NvZGUiOiAiMTUyNDgtMTUyNDciLCAidG9fZ2VvaWQiOiAxNTI0NywgInRvX25vZGUiOiAiNDk3NDUzMDUiLCAidG9fc3RvcF9zZXEiOiAyOH0sICJ0eXBlIjogIkZlYXR1cmUifSwgeyJiYm94IjogWy03Ny4wMzI0MzU4LCAzOC45MjU3NDIsIC03Ny4wMzIzMzksIDM4LjkyNjU3MTFdLCAiZ2VvbWV0cnkiOiB7ImNvb3JkaW5hdGVzIjogW1stNzcuMDMyMzM5LCAzOC45MjU3NDJdLCBbLTc3LjAzMjM0NTUsIDM4LjkyNTc5NzddLCBbLTc3LjAzMjQyNiwgMzguOTI2NDg2OV0sIFstNzcuMDMyNDM1OCwgMzguOTI2NTcxMV1dLCAidHlwZSI6ICJMaW5lU3RyaW5nIn0sICJpZCI6ICIxNCIsICJwcm9wZXJ0aWVzIjogeyJQQVRURVJOX0lEIjogIjUyMDIiLCAiZWRnZV9jb2RlIjogIjQ5NzQ1MzA1LTc4MzYyMzUzNSIsICJmcm9tX2dlb2lkIjogMTUyNDgsICJmcm9tX25vZGUiOiAiNDk3NDUzMDUiLCAiZnJvbV9zdG9wX3NlcSI6IDI3LCAibGVuZ3RoIjogOTIuNTcxLCAibGlua19jb2RlIjogIjE1MjQ4LTE1MjQ3IiwgInRvX2dlb2lkIjogMTUyNDcsICJ0b19ub2RlIjogIjc4MzYyMzUzNSIsICJ0b19zdG9wX3NlcSI6IDI4fSwgInR5cGUiOiAiRmVhdHVyZSJ9LCB7ImJib3giOiBbLTc3LjAzMjU0MTUsIDM4LjkyNjU3MTEsIC03Ny4wMzI0MzU4LCAzOC45Mjc1MTldLCAiZ2VvbWV0cnkiOiB7ImNvb3JkaW5hdGVzIjogW1stNzcuMDMyNDM1OCwgMzguOTI2NTcxMV0sIFstNzcuMDMyNDQzNywgMzguOTI2NjQ4OV0sIFstNzcuMDMyNDcwNywgMzguOTI2OTQzN10sIFstNzcuMDMyNDg5OCwgMzguOTI3MTIyMl0sIFstNzcuMDMyNTMyNywgMzguOTI3NDUzNV0sIFstNzcuMDMyNTQxNSwgMzguOTI3NTE5XV0sICJ0eXBlIjogIkxpbmVTdHJpbmcifSwgImlkIjogIjE1IiwgInByb3BlcnRpZXMiOiB7IlBBVFRFUk5fSUQiOiAiNTIwMiIsICJlZGdlX2NvZGUiOiAiNzgzNjIzNTM1LTE0Mzk1ODQ2NTMiLCAiZnJvbV9nZW9pZCI6IDE1MjQ3LCAiZnJvbV9ub2RlIjogIjc4MzYyMzUzNSIsICJmcm9tX3N0b3Bfc2VxIjogMjgsICJsZW5ndGgiOiAxMDUuODA2LCAibGlua19jb2RlIjogIjE1MjQ3LTE1MzcwIiwgInRvX2dlb2lkIjogMTUzNzAsICJ0b19ub2RlIjogIjE0Mzk1ODQ2NTMiLCAidG9fc3RvcF9zZXEiOiAyOX0sICJ0eXBlIjogIkZlYXR1cmUifSwgeyJiYm94IjogWy03Ny4wMzI2NzA0LCAzOC45MjgwNDU1LCAtNzcuMDMyNTk5NSwgMzguOTI4Nzk4MV0sICJnZW9tZXRyeSI6IHsiY29vcmRpbmF0ZXMiOiBbWy03Ny4wMzI1OTk1LCAzOC45MjgwNDU1XSwgWy03Ny4wMzI2Mjg3LCAzOC45MjgzNDY2XSwgWy03Ny4wMzI2NjU2LCAzOC45Mjg3MDU2XSwgWy03Ny4wMzI2NzA0LCAzOC45Mjg3OTgxXV0sICJ0eXBlIjogIkxpbmVTdHJpbmcifSwgImlkIjogIjE2IiwgInByb3BlcnRpZXMiOiB7IlBBVFRFUk5fSUQiOiAiNTIwMiIsICJlZGdlX2NvZGUiOiAiMTMzMzY4NTgzOC01Njk4MjUyMTk5IiwgImZyb21fZ2VvaWQiOiAxNTM3MCwgImZyb21fbm9kZSI6ICIxMzMzNjg1ODM4IiwgImZyb21fc3RvcF9zZXEiOiAyOSwgImxlbmd0aCI6IDgzLjkxNiwgImxpbmtfY29kZSI6ICIxNTM3MC0xODE5NyIsICJ0b19nZW9pZCI6IDE4MTk3LCAidG9fbm9kZSI6ICI1Njk4MjUyMTk5IiwgInRvX3N0b3Bfc2VxIjogMzB9LCAidHlwZSI6ICJGZWF0dXJlIn0sIHsiYmJveCI6IFstNzcuMDMyNTk5NSwgMzguOTI3NTE5LCAtNzcuMDMyNTQxNSwgMzguOTI4MDQ1NV0sICJnZW9tZXRyeSI6IHsiY29vcmRpbmF0ZXMiOiBbWy03Ny4wMzI1NDE1LCAzOC45Mjc1MTldLCBbLTc3LjAzMjU0ODMsIDM4LjkyNzYwNF0sIFstNzcuMDMyNTk5NSwgMzguOTI4MDQ1NV1dLCAidHlwZSI6ICJMaW5lU3RyaW5nIn0sICJpZCI6ICIxNyIsICJwcm9wZXJ0aWVzIjogeyJQQVRURVJOX0lEIjogIjUyMDIiLCAiZWRnZV9jb2RlIjogIjE0Mzk1ODQ2NTMtMTMzMzY4NTgzOCIsICJmcm9tX2dlb2lkIjogMTUzNzAsICJmcm9tX25vZGUiOiAiMTQzOTU4NDY1MyIsICJmcm9tX3N0b3Bfc2VxIjogMjksICJsZW5ndGgiOiA1OC43NjIsICJsaW5rX2NvZGUiOiAiMTUzNzAtMTgxOTciLCAidG9fZ2VvaWQiOiAxODE5NywgInRvX25vZGUiOiAiMTMzMzY4NTgzOCIsICJ0b19zdG9wX3NlcSI6IDMwfSwgInR5cGUiOiAiRmVhdHVyZSJ9LCB7ImJib3giOiBbLTc3LjAzMjMxNiwgMzguOTI1Mjk2NiwgLTc3LjAzMjI5NTYsIDM4LjkyNTUwMl0sICJnZW9tZXRyeSI6IHsiY29vcmRpbmF0ZXMiOiBbWy03Ny4wMzIyOTU2LCAzOC45MjUyOTY2XSwgWy03Ny4wMzIzMDk3LCAzOC45MjU0Mzg3XSwgWy03Ny4wMzIzMTYsIDM4LjkyNTUwMl1dLCAidHlwZSI6ICJMaW5lU3RyaW5nIn0sICJpZCI6ICIxOCIsICJwcm9wZXJ0aWVzIjogeyJQQVRURVJOX0lEIjogIjUyMDIiLCAiZWRnZV9jb2RlIjogIjQ4ODc3MzExMzYtNDk3NDUzMDEiLCAiZnJvbV9nZW9pZCI6IDE1MjQ4LCAiZnJvbV9ub2RlIjogIjQ4ODc3MzExMzYiLCAiZnJvbV9zdG9wX3NlcSI6IDI3LCAibGVuZ3RoIjogMjIuOTA4LCAibGlua19jb2RlIjogIjE1MjQ4LTE1MjQ3IiwgInRvX2dlb2lkIjogMTUyNDcsICJ0b19ub2RlIjogIjQ5NzQ1MzAxIiwgInRvX3N0b3Bfc2VxIjogMjh9LCAidHlwZSI6ICJGZWF0dXJlIn0sIHsiYmJveCI6IFstNzcuMDMyMjIsIDM4LjkyNDAzNDUsIC03Ny4wMzIxNjkxLCAzOC45MjQ1NDFdLCAiZ2VvbWV0cnkiOiB7ImNvb3JkaW5hdGVzIjogW1stNzcuMDMyMTY5MSwgMzguOTI0MDM0NV0sIFstNzcuMDMyMTkzLCAzOC45MjQyODRdLCBbLTc3LjAzMjIxMjksIDM4LjkyNDQ3MzldLCBbLTc3LjAzMjIyLCAzOC45MjQ1NDFdXSwgInR5cGUiOiAiTGluZVN0cmluZyJ9LCAiaWQiOiAiMTkiLCAicHJvcGVydGllcyI6IHsiUEFUVEVSTl9JRCI6ICI1MjAyIiwgImVkZ2VfY29kZSI6ICI1NDQ1OTA3NTc0LTQ5NzQ1Mjk2IiwgImZyb21fZ2VvaWQiOiA3MjE2LCAiZnJvbV9ub2RlIjogIjU0NDU5MDc1NzQiLCAiZnJvbV9zdG9wX3NlcSI6IDI2LCAibGVuZ3RoIjogNTYuNDkyLCAibGlua19jb2RlIjogIjcyMTYtMTUyNDgiLCAidG9fZ2VvaWQiOiAxNTI0OCwgInRvX25vZGUiOiAiNDk3NDUyOTYiLCAidG9fc3RvcF9zZXEiOiAyN30sICJ0eXBlIjogIkZlYXR1cmUifV0sICJ0eXBlIjogIkZlYXR1cmVDb2xsZWN0aW9uIn0pOwogICAgICAgIAogICAgCiAgICAgICAgICAgIHZhciBmZWF0dXJlX2dyb3VwX2E5NmFhZjU4OTViZDRlOGU4ZWQ3OGY2ZjdmNWQ0NDMzID0gTC5mZWF0dXJlR3JvdXAoCiAgICAgICAgICAgICAgICB7fQogICAgICAgICAgICApLmFkZFRvKG1hcF83Yjg5MDU2M2UxNjg0ZjE4OGZiMTM3NTU1NmJjNjg2MSk7CiAgICAgICAgCiAgICAKICAgICAgICAgICAgdmFyIGNpcmNsZV9tYXJrZXJfZDQ2ZjdlNDllNDBjNGY2MGExZDJiNGJjMGYwODAwMzggPSBMLmNpcmNsZU1hcmtlcigKICAgICAgICAgICAgICAgIFszOC45Mjg0NDUsIC03Ny4wMzI2NDVdLAogICAgICAgICAgICAgICAgeyJidWJibGluZ01vdXNlRXZlbnRzIjogdHJ1ZSwgImNvbG9yIjogIiNmNzllMTkiLCAiZGFzaEFycmF5IjogbnVsbCwgImRhc2hPZmZzZXQiOiBudWxsLCAiZmlsbCI6IHRydWUsICJmaWxsQ29sb3IiOiAiI2Y3OWUxOSIsICJmaWxsT3BhY2l0eSI6IDAuMiwgImZpbGxSdWxlIjogImV2ZW5vZGQiLCAibGluZUNhcCI6ICJyb3VuZCIsICJsaW5lSm9pbiI6ICJyb3VuZCIsICJvcGFjaXR5IjogMS4wLCAicmFkaXVzIjogMiwgInN0cm9rZSI6IHRydWUsICJ3ZWlnaHQiOiAzfQogICAgICAgICAgICApLmFkZFRvKGZlYXR1cmVfZ3JvdXBfYTk2YWFmNTg5NWJkNGU4ZThlZDc4ZjZmN2Y1ZDQ0MzMpOwogICAgICAgIAogICAgCiAgICAgICAgdmFyIHBvcHVwXzczZTY3MGU2ZTRjYTQ4YjVhYTVkMDM2ZDM5MWM1ZjFhID0gTC5wb3B1cCh7Im1heFdpZHRoIjogIjIwMCJ9KTsKCiAgICAgICAgCiAgICAgICAgICAgIHZhciBodG1sXzA2ODk1NDc5Mjg4NDQ0N2FiNTRiMDNhMGZmMDM4NWU0ID0gJChgPGRpdiBpZD0iaHRtbF8wNjg5NTQ3OTI4ODQ0NDdhYjU0YjAzYTBmZjAzODVlNCIgc3R5bGU9IndpZHRoOiAxMDAuMCU7IGhlaWdodDogMTAwLjAlOyI+Uk9VVEVfSUQ6IDUyPGJyPlJPVVRFX1ZFUlNJT046IDE8YnI+RElSRUNUSU9OOiBTT1VUSDxicj5TVE9QSUQ6IDIxNjI3PGJyPkdFT0lEOiAxNjIwMzxicj5TVE9QT1JERVI6IDE5PGJyPlNUT1BTT1JUT1JERVI6IDE2PGJyPkxPTkdJVFVERTogLTc3LjAzMjY0NTxicj5MQVRJVFVERTogMzguOTI4NDQ1PGJyPlBBVFRFUk5fSUQ6IDUyMDE8YnI+R0VPREVTQ1JJUFRJT046IDE0VEggU1QgKyBJUlZJTkcgU1Q8YnI+U1RPUF9TRVFVRU5DRTogMTYuMDxicj5nZW9tZXRyeTogUE9JTlQgKC03Ny4wMzI2NDUgMzguOTI4NDQ1KTwvZGl2PmApWzBdOwogICAgICAgICAgICBwb3B1cF83M2U2NzBlNmU0Y2E0OGI1YWE1ZDAzNmQzOTFjNWYxYS5zZXRDb250ZW50KGh0bWxfMDY4OTU0NzkyODg0NDQ3YWI1NGIwM2EwZmYwMzg1ZTQpOwogICAgICAgIAoKICAgICAgICBjaXJjbGVfbWFya2VyX2Q0NmY3ZTQ5ZTQwYzRmNjBhMWQyYjRiYzBmMDgwMDM4LmJpbmRQb3B1cChwb3B1cF83M2U2NzBlNmU0Y2E0OGI1YWE1ZDAzNmQzOTFjNWYxYSkKICAgICAgICA7CgogICAgICAgIAogICAgCiAgICAKICAgICAgICAgICAgdmFyIGNpcmNsZV9tYXJrZXJfMTFjNzI3NGRmYTVjNDRkZjk1ZDBhYzQ4MWZjNmRiMGIgPSBMLmNpcmNsZU1hcmtlcigKICAgICAgICAgICAgICAgIFszOC45MjY3NzcsIC03Ny4wMzI1NDJdLAogICAgICAgICAgICAgICAgeyJidWJibGluZ01vdXNlRXZlbnRzIjogdHJ1ZSwgImNvbG9yIjogIiNmNzllMTkiLCAiZGFzaEFycmF5IjogbnVsbCwgImRhc2hPZmZzZXQiOiBudWxsLCAiZmlsbCI6IHRydWUsICJmaWxsQ29sb3IiOiAiI2Y3OWUxOSIsICJmaWxsT3BhY2l0eSI6IDAuMiwgImZpbGxSdWxlIjogImV2ZW5vZGQiLCAibGluZUNhcCI6ICJyb3VuZCIsICJsaW5lSm9pbiI6ICJyb3VuZCIsICJvcGFjaXR5IjogMS4wLCAicmFkaXVzIjogMiwgInN0cm9rZSI6IHRydWUsICJ3ZWlnaHQiOiAzfQogICAgICAgICAgICApLmFkZFRvKGZlYXR1cmVfZ3JvdXBfYTk2YWFmNTg5NWJkNGU4ZThlZDc4ZjZmN2Y1ZDQ0MzMpOwogICAgICAgIAogICAgCiAgICAgICAgdmFyIHBvcHVwXzQ3YTYyOWU2NzZhODQyZjJhODRjNWNiZTA5ZTZiMTliID0gTC5wb3B1cCh7Im1heFdpZHRoIjogIjIwMCJ9KTsKCiAgICAgICAgCiAgICAgICAgICAgIHZhciBodG1sX2MyMzg1MGViOTE5MTQzNmViNTc4ODZjZGQ2MWI3NDQ3ID0gJChgPGRpdiBpZD0iaHRtbF9jMjM4NTBlYjkxOTE0MzZlYjU3ODg2Y2RkNjFiNzQ0NyIgc3R5bGU9IndpZHRoOiAxMDAuMCU7IGhlaWdodDogMTAwLjAlOyI+Uk9VVEVfSUQ6IDUyPGJyPlJPVVRFX1ZFUlNJT046IDE8YnI+RElSRUNUSU9OOiBTT1VUSDxicj5TVE9QSUQ6IDE5MDY2PGJyPkdFT0lEOiAxNjY2Mjxicj5TVE9QT1JERVI6IDIwPGJyPlNUT1BTT1JUT1JERVI6IDE3PGJyPkxPTkdJVFVERTogLTc3LjAzMjU0Mjxicj5MQVRJVFVERTogMzguOTI2Nzc3PGJyPlBBVFRFUk5fSUQ6IDUyMDE8YnI+R0VPREVTQ1JJUFRJT046IDE0VEggU1QgKyBIQVJWQVJEIFNUPGJyPlNUT1BfU0VRVUVOQ0U6IDE3LjA8YnI+Z2VvbWV0cnk6IFBPSU5UICgtNzcuMDMyNTQyMDAwMDAwMDEgMzguOTI2Nzc3KTwvZGl2PmApWzBdOwogICAgICAgICAgICBwb3B1cF80N2E2MjllNjc2YTg0MmYyYTg0YzVjYmUwOWU2YjE5Yi5zZXRDb250ZW50KGh0bWxfYzIzODUwZWI5MTkxNDM2ZWI1Nzg4NmNkZDYxYjc0NDcpOwogICAgICAgIAoKICAgICAgICBjaXJjbGVfbWFya2VyXzExYzcyNzRkZmE1YzQ0ZGY5NWQwYWM0ODFmYzZkYjBiLmJpbmRQb3B1cChwb3B1cF80N2E2MjllNjc2YTg0MmYyYTg0YzVjYmUwOWU2YjE5YikKICAgICAgICA7CgogICAgICAgIAogICAgCiAgICAKICAgICAgICAgICAgdmFyIGNpcmNsZV9tYXJrZXJfMzJlYTJiMTMyOWU0NDk4OWIyZjZmMDM0NzIxZjg0MDEgPSBMLmNpcmNsZU1hcmtlcigKICAgICAgICAgICAgICAgIFszOC45MjU3ODksIC03Ny4wMzI0NDhdLAogICAgICAgICAgICAgICAgeyJidWJibGluZ01vdXNlRXZlbnRzIjogdHJ1ZSwgImNvbG9yIjogIiNmNzllMTkiLCAiZGFzaEFycmF5IjogbnVsbCwgImRhc2hPZmZzZXQiOiBudWxsLCAiZmlsbCI6IHRydWUsICJmaWxsQ29sb3IiOiAiI2Y3OWUxOSIsICJmaWxsT3BhY2l0eSI6IDAuMiwgImZpbGxSdWxlIjogImV2ZW5vZGQiLCAibGluZUNhcCI6ICJyb3VuZCIsICJsaW5lSm9pbiI6ICJyb3VuZCIsICJvcGFjaXR5IjogMS4wLCAicmFkaXVzIjogMiwgInN0cm9rZSI6IHRydWUsICJ3ZWlnaHQiOiAzfQogICAgICAgICAgICApLmFkZFRvKGZlYXR1cmVfZ3JvdXBfYTk2YWFmNTg5NWJkNGU4ZThlZDc4ZjZmN2Y1ZDQ0MzMpOwogICAgICAgIAogICAgCiAgICAgICAgdmFyIHBvcHVwXzZiY2VjZWNhZDI5MTQ2NWU5NWM3OTAxNWRmNTM1NDkxID0gTC5wb3B1cCh7Im1heFdpZHRoIjogIjIwMCJ9KTsKCiAgICAgICAgCiAgICAgICAgICAgIHZhciBodG1sXzMzZjE4OWJmNDAyMTQ2NGY4MzkyMDBhMjMwMDA4YWE5ID0gJChgPGRpdiBpZD0iaHRtbF8zM2YxODliZjQwMjE0NjRmODM5MjAwYTIzMDAwOGFhOSIgc3R5bGU9IndpZHRoOiAxMDAuMCU7IGhlaWdodDogMTAwLjAlOyI+Uk9VVEVfSUQ6IDUyPGJyPlJPVVRFX1ZFUlNJT046IDE8YnI+RElSRUNUSU9OOiBTT1VUSDxicj5TVE9QSUQ6IDE0MDgzPGJyPkdFT0lEOiA3MzUyPGJyPlNUT1BPUkRFUjogMjE8YnI+U1RPUFNPUlRPUkRFUjogMTg8YnI+TE9OR0lUVURFOiAtNzcuMDMyNDQ4PGJyPkxBVElUVURFOiAzOC45MjU3ODk8YnI+UEFUVEVSTl9JRDogNTIwMTxicj5HRU9ERVNDUklQVElPTjogMTRUSCBTVCBOVyArIEdJUkFSRCBTVCBOVzxicj5TVE9QX1NFUVVFTkNFOiAxOC4wPGJyPmdlb21ldHJ5OiBQT0lOVCAoLTc3LjAzMjQ0OCAzOC45MjU3ODkpPC9kaXY+YClbMF07CiAgICAgICAgICAgIHBvcHVwXzZiY2VjZWNhZDI5MTQ2NWU5NWM3OTAxNWRmNTM1NDkxLnNldENvbnRlbnQoaHRtbF8zM2YxODliZjQwMjE0NjRmODM5MjAwYTIzMDAwOGFhOSk7CiAgICAgICAgCgogICAgICAgIGNpcmNsZV9tYXJrZXJfMzJlYTJiMTMyOWU0NDk4OWIyZjZmMDM0NzIxZjg0MDEuYmluZFBvcHVwKHBvcHVwXzZiY2VjZWNhZDI5MTQ2NWU5NWM3OTAxNWRmNTM1NDkxKQogICAgICAgIDsKCiAgICAgICAgCiAgICAKICAgIAogICAgICAgICAgICB2YXIgY2lyY2xlX21hcmtlcl85ZTM4OGI5YTQxZGM0YTNiYTBmZTYwMDQ2OGEzNTRjNSA9IEwuY2lyY2xlTWFya2VyKAogICAgICAgICAgICAgICAgWzM4LjkyNDA2NSwgLTc3LjAzMjMzM10sCiAgICAgICAgICAgICAgICB7ImJ1YmJsaW5nTW91c2VFdmVudHMiOiB0cnVlLCAiY29sb3IiOiAiI2Y3OWUxOSIsICJkYXNoQXJyYXkiOiBudWxsLCAiZGFzaE9mZnNldCI6IG51bGwsICJmaWxsIjogdHJ1ZSwgImZpbGxDb2xvciI6ICIjZjc5ZTE5IiwgImZpbGxPcGFjaXR5IjogMC4yLCAiZmlsbFJ1bGUiOiAiZXZlbm9kZCIsICJsaW5lQ2FwIjogInJvdW5kIiwgImxpbmVKb2luIjogInJvdW5kIiwgIm9wYWNpdHkiOiAxLjAsICJyYWRpdXMiOiAyLCAic3Ryb2tlIjogdHJ1ZSwgIndlaWdodCI6IDN9CiAgICAgICAgICAgICkuYWRkVG8oZmVhdHVyZV9ncm91cF9hOTZhYWY1ODk1YmQ0ZThlOGVkNzhmNmY3ZjVkNDQzMyk7CiAgICAgICAgCiAgICAKICAgICAgICB2YXIgcG9wdXBfNWZmZTNkM2ZmODAzNDE3ZDllYWU3MGQ3MjEwZWZjZWUgPSBMLnBvcHVwKHsibWF4V2lkdGgiOiAiMjAwIn0pOwoKICAgICAgICAKICAgICAgICAgICAgdmFyIGh0bWxfZmVmMzZlYWVlMDU0NDc0ZWJiMDhkNzZjODZkZmU2NjMgPSAkKGA8ZGl2IGlkPSJodG1sX2ZlZjM2ZWFlZTA1NDQ3NGViYjA4ZDc2Yzg2ZGZlNjYzIiBzdHlsZT0id2lkdGg6IDEwMC4wJTsgaGVpZ2h0OiAxMDAuMCU7Ij5ST1VURV9JRDogNTI8YnI+Uk9VVEVfVkVSU0lPTjogMTxicj5ESVJFQ1RJT046IFNPVVRIPGJyPlNUT1BJRDogMTkxNDM8YnI+R0VPSUQ6IDcyNDM8YnI+U1RPUE9SREVSOiAyMjxicj5TVE9QU09SVE9SREVSOiAxOTxicj5MT05HSVRVREU6IC03Ny4wMzIzMzM8YnI+TEFUSVRVREU6IDM4LjkyNDA2NTxicj5QQVRURVJOX0lEOiA1MjAxPGJyPkdFT0RFU0NSSVBUSU9OOiAxNFRIIFNUICsgRkFJUk1PTlQgU1Q8YnI+U1RPUF9TRVFVRU5DRTogMTkuMDxicj5nZW9tZXRyeTogUE9JTlQgKC03Ny4wMzIzMzI5OTk5OTk5OSAzOC45MjQwNjUpPC9kaXY+YClbMF07CiAgICAgICAgICAgIHBvcHVwXzVmZmUzZDNmZjgwMzQxN2Q5ZWFlNzBkNzIxMGVmY2VlLnNldENvbnRlbnQoaHRtbF9mZWYzNmVhZWUwNTQ0NzRlYmIwOGQ3NmM4NmRmZTY2Myk7CiAgICAgICAgCgogICAgICAgIGNpcmNsZV9tYXJrZXJfOWUzODhiOWE0MWRjNGEzYmEwZmU2MDA0NjhhMzU0YzUuYmluZFBvcHVwKHBvcHVwXzVmZmUzZDNmZjgwMzQxN2Q5ZWFlNzBkNzIxMGVmY2VlKQogICAgICAgIDsKCiAgICAgICAgCiAgICAKICAgIAogICAgICAgICAgICB2YXIgY2lyY2xlX21hcmtlcl8zNGQ0MWMyY2I0MzI0MDk3YWI4MWY4NTVkNTA1NGVhYyA9IEwuY2lyY2xlTWFya2VyKAogICAgICAgICAgICAgICAgWzM4LjkyMzUwNCwgLTc3LjAzMjAyOF0sCiAgICAgICAgICAgICAgICB7ImJ1YmJsaW5nTW91c2VFdmVudHMiOiB0cnVlLCAiY29sb3IiOiAiI2Y3OWUxOSIsICJkYXNoQXJyYXkiOiBudWxsLCAiZGFzaE9mZnNldCI6IG51bGwsICJmaWxsIjogdHJ1ZSwgImZpbGxDb2xvciI6ICIjZjc5ZTE5IiwgImZpbGxPcGFjaXR5IjogMC4yLCAiZmlsbFJ1bGUiOiAiZXZlbm9kZCIsICJsaW5lQ2FwIjogInJvdW5kIiwgImxpbmVKb2luIjogInJvdW5kIiwgIm9wYWNpdHkiOiAxLjAsICJyYWRpdXMiOiAyLCAic3Ryb2tlIjogdHJ1ZSwgIndlaWdodCI6IDN9CiAgICAgICAgICAgICkuYWRkVG8oZmVhdHVyZV9ncm91cF9hOTZhYWY1ODk1YmQ0ZThlOGVkNzhmNmY3ZjVkNDQzMyk7CiAgICAgICAgCiAgICAKICAgICAgICB2YXIgcG9wdXBfMmRlNGIyMTFkNzI0NDFhODk4MTNmMjdkY2NiNWM5YWMgPSBMLnBvcHVwKHsibWF4V2lkdGgiOiAiMjAwIn0pOwoKICAgICAgICAKICAgICAgICAgICAgdmFyIGh0bWxfZjgyNTMyNGZjMjhiNGUzMjllZDMyZWFiODQ4OGM3ZWUgPSAkKGA8ZGl2IGlkPSJodG1sX2Y4MjUzMjRmYzI4YjRlMzI5ZWQzMmVhYjg0ODhjN2VlIiBzdHlsZT0id2lkdGg6IDEwMC4wJTsgaGVpZ2h0OiAxMDAuMCU7Ij5ST1VURV9JRDogNTI8YnI+Uk9VVEVfVkVSU0lPTjogMjxicj5ESVJFQ1RJT046IE5PUlRIPGJyPlNUT1BJRDogNjI0Mzxicj5HRU9JRDogNzIxNjxicj5TVE9QT1JERVI6IDMxPGJyPlNUT1BTT1JUT1JERVI6IDI2PGJyPkxPTkdJVFVERTogLTc3LjAzMjAyODxicj5MQVRJVFVERTogMzguOTIzNTA0PGJyPlBBVFRFUk5fSUQ6IDUyMDI8YnI+R0VPREVTQ1JJUFRJT046IDE0VEggU1QgKyBFVUNMSUQgU1Q8YnI+U1RPUF9TRVFVRU5DRTogMjYuMDxicj5nZW9tZXRyeTogUE9JTlQgKC03Ny4wMzIwMjggMzguOTIzNTA0KTwvZGl2PmApWzBdOwogICAgICAgICAgICBwb3B1cF8yZGU0YjIxMWQ3MjQ0MWE4OTgxM2YyN2RjY2I1YzlhYy5zZXRDb250ZW50KGh0bWxfZjgyNTMyNGZjMjhiNGUzMjllZDMyZWFiODQ4OGM3ZWUpOwogICAgICAgIAoKICAgICAgICBjaXJjbGVfbWFya2VyXzM0ZDQxYzJjYjQzMjQwOTdhYjgxZjg1NWQ1MDU0ZWFjLmJpbmRQb3B1cChwb3B1cF8yZGU0YjIxMWQ3MjQ0MWE4OTgxM2YyN2RjY2I1YzlhYykKICAgICAgICA7CgogICAgICAgIAogICAgCiAgICAKICAgICAgICAgICAgdmFyIGNpcmNsZV9tYXJrZXJfNTJjYWIyZDc5MWRkNDVlOGEzYmFiZjg0OWI0N2EzODAgPSBMLmNpcmNsZU1hcmtlcigKICAgICAgICAgICAgICAgIFszOC45MjUxMjMsIC03Ny4wMzIxOTJdLAogICAgICAgICAgICAgICAgeyJidWJibGluZ01vdXNlRXZlbnRzIjogdHJ1ZSwgImNvbG9yIjogIiNmNzllMTkiLCAiZGFzaEFycmF5IjogbnVsbCwgImRhc2hPZmZzZXQiOiBudWxsLCAiZmlsbCI6IHRydWUsICJmaWxsQ29sb3IiOiAiI2Y3OWUxOSIsICJmaWxsT3BhY2l0eSI6IDAuMiwgImZpbGxSdWxlIjogImV2ZW5vZGQiLCAibGluZUNhcCI6ICJyb3VuZCIsICJsaW5lSm9pbiI6ICJyb3VuZCIsICJvcGFjaXR5IjogMS4wLCAicmFkaXVzIjogMiwgInN0cm9rZSI6IHRydWUsICJ3ZWlnaHQiOiAzfQogICAgICAgICAgICApLmFkZFRvKGZlYXR1cmVfZ3JvdXBfYTk2YWFmNTg5NWJkNGU4ZThlZDc4ZjZmN2Y1ZDQ0MzMpOwogICAgICAgIAogICAgCiAgICAgICAgdmFyIHBvcHVwXzVkN2E2ZTZlNzA5MDQzYjI5MmFjNzQzMjgzMTQ2MmIyID0gTC5wb3B1cCh7Im1heFdpZHRoIjogIjIwMCJ9KTsKCiAgICAgICAgCiAgICAgICAgICAgIHZhciBodG1sX2M4NWJhNjNkYTk2YzQ2OTk4NGYyZWU4Y2NhYWVmNWYzID0gJChgPGRpdiBpZD0iaHRtbF9jODViYTYzZGE5NmM0Njk5ODRmMmVlOGNjYWFlZjVmMyIgc3R5bGU9IndpZHRoOiAxMDAuMCU7IGhlaWdodDogMTAwLjAlOyI+Uk9VVEVfSUQ6IDUyPGJyPlJPVVRFX1ZFUlNJT046IDI8YnI+RElSRUNUSU9OOiBOT1JUSDxicj5TVE9QSUQ6IDI3MTkwPGJyPkdFT0lEOiAxNTI0ODxicj5TVE9QT1JERVI6IDMyPGJyPlNUT1BTT1JUT1JERVI6IDI3PGJyPkxPTkdJVFVERTogLTc3LjAzMjE5Mjxicj5MQVRJVFVERTogMzguOTI1MTIzPGJyPlBBVFRFUk5fSUQ6IDUyMDI8YnI+R0VPREVTQ1JJUFRJT046IDE0VEggU1QgKyBGQUlSTU9OVCBTVDxicj5TVE9QX1NFUVVFTkNFOiAyNy4wPGJyPmdlb21ldHJ5OiBQT0lOVCAoLTc3LjAzMjE5MTk5OTk5OTk5IDM4LjkyNTEyMyk8L2Rpdj5gKVswXTsKICAgICAgICAgICAgcG9wdXBfNWQ3YTZlNmU3MDkwNDNiMjkyYWM3NDMyODMxNDYyYjIuc2V0Q29udGVudChodG1sX2M4NWJhNjNkYTk2YzQ2OTk4NGYyZWU4Y2NhYWVmNWYzKTsKICAgICAgICAKCiAgICAgICAgY2lyY2xlX21hcmtlcl81MmNhYjJkNzkxZGQ0NWU4YTNiYWJmODQ5YjQ3YTM4MC5iaW5kUG9wdXAocG9wdXBfNWQ3YTZlNmU3MDkwNDNiMjkyYWM3NDMyODMxNDYyYjIpCiAgICAgICAgOwoKICAgICAgICAKICAgIAogICAgCiAgICAgICAgICAgIHZhciBjaXJjbGVfbWFya2VyXzk3YzEwYzA2YjA2MDRmYWFhYjBhMzdlM2JlZTllYTAxID0gTC5jaXJjbGVNYXJrZXIoCiAgICAgICAgICAgICAgICBbMzguOTI2Mjk4LCAtNzcuMDMyMzM1XSwKICAgICAgICAgICAgICAgIHsiYnViYmxpbmdNb3VzZUV2ZW50cyI6IHRydWUsICJjb2xvciI6ICIjZjc5ZTE5IiwgImRhc2hBcnJheSI6IG51bGwsICJkYXNoT2Zmc2V0IjogbnVsbCwgImZpbGwiOiB0cnVlLCAiZmlsbENvbG9yIjogIiNmNzllMTkiLCAiZmlsbE9wYWNpdHkiOiAwLjIsICJmaWxsUnVsZSI6ICJldmVub2RkIiwgImxpbmVDYXAiOiAicm91bmQiLCAibGluZUpvaW4iOiAicm91bmQiLCAib3BhY2l0eSI6IDEuMCwgInJhZGl1cyI6IDIsICJzdHJva2UiOiB0cnVlLCAid2VpZ2h0IjogM30KICAgICAgICAgICAgKS5hZGRUbyhmZWF0dXJlX2dyb3VwX2E5NmFhZjU4OTViZDRlOGU4ZWQ3OGY2ZjdmNWQ0NDMzKTsKICAgICAgICAKICAgIAogICAgICAgIHZhciBwb3B1cF84MmEyNzZlZWQ2NGI0NDM1OWRlYzliYjVlZDBiNGJkNSA9IEwucG9wdXAoeyJtYXhXaWR0aCI6ICIyMDAifSk7CgogICAgICAgIAogICAgICAgICAgICB2YXIgaHRtbF80NmM5OWY0MThjNzk0NjA2YmNkNGU4Y2M4NjFhY2Y0NSA9ICQoYDxkaXYgaWQ9Imh0bWxfNDZjOTlmNDE4Yzc5NDYwNmJjZDRlOGNjODYxYWNmNDUiIHN0eWxlPSJ3aWR0aDogMTAwLjAlOyBoZWlnaHQ6IDEwMC4wJTsiPlJPVVRFX0lEOiA1Mjxicj5ST1VURV9WRVJTSU9OOiAyPGJyPkRJUkVDVElPTjogTk9SVEg8YnI+U1RPUElEOiAxODI4Njxicj5HRU9JRDogMTUyNDc8YnI+U1RPUE9SREVSOiAzMzxicj5TVE9QU09SVE9SREVSOiAyODxicj5MT05HSVRVREU6IC03Ny4wMzIzMzU8YnI+TEFUSVRVREU6IDM4LjkyNjI5ODxicj5QQVRURVJOX0lEOiA1MjAyPGJyPkdFT0RFU0NSSVBUSU9OOiAxNFRIIFNUICsgSEFSVkFSRCBTVDxicj5TVE9QX1NFUVVFTkNFOiAyOC4wPGJyPmdlb21ldHJ5OiBQT0lOVCAoLTc3LjAzMjMzNSAzOC45MjYyOTgpPC9kaXY+YClbMF07CiAgICAgICAgICAgIHBvcHVwXzgyYTI3NmVlZDY0YjQ0MzU5ZGVjOWJiNWVkMGI0YmQ1LnNldENvbnRlbnQoaHRtbF80NmM5OWY0MThjNzk0NjA2YmNkNGU4Y2M4NjFhY2Y0NSk7CiAgICAgICAgCgogICAgICAgIGNpcmNsZV9tYXJrZXJfOTdjMTBjMDZiMDYwNGZhYWFiMGEzN2UzYmVlOWVhMDEuYmluZFBvcHVwKHBvcHVwXzgyYTI3NmVlZDY0YjQ0MzU5ZGVjOWJiNWVkMGI0YmQ1KQogICAgICAgIDsKCiAgICAgICAgCiAgICAKICAgIAogICAgICAgICAgICB2YXIgY2lyY2xlX21hcmtlcl85NmIzNWZlMzk1YWQ0YzYxODJmOWM5MDgzMTYwYWVkMiA9IEwuY2lyY2xlTWFya2VyKAogICAgICAgICAgICAgICAgWzM4LjkyNzI3NywgLTc3LjAzMjQzXSwKICAgICAgICAgICAgICAgIHsiYnViYmxpbmdNb3VzZUV2ZW50cyI6IHRydWUsICJjb2xvciI6ICIjZjc5ZTE5IiwgImRhc2hBcnJheSI6IG51bGwsICJkYXNoT2Zmc2V0IjogbnVsbCwgImZpbGwiOiB0cnVlLCAiZmlsbENvbG9yIjogIiNmNzllMTkiLCAiZmlsbE9wYWNpdHkiOiAwLjIsICJmaWxsUnVsZSI6ICJldmVub2RkIiwgImxpbmVDYXAiOiAicm91bmQiLCAibGluZUpvaW4iOiAicm91bmQiLCAib3BhY2l0eSI6IDEuMCwgInJhZGl1cyI6IDIsICJzdHJva2UiOiB0cnVlLCAid2VpZ2h0IjogM30KICAgICAgICAgICAgKS5hZGRUbyhmZWF0dXJlX2dyb3VwX2E5NmFhZjU4OTViZDRlOGU4ZWQ3OGY2ZjdmNWQ0NDMzKTsKICAgICAgICAKICAgIAogICAgICAgIHZhciBwb3B1cF8xOTc1MTMwMzVmZmE0YWY2YjQ2NjM0ZmNhOTI0ODZmNCA9IEwucG9wdXAoeyJtYXhXaWR0aCI6ICIyMDAifSk7CgogICAgICAgIAogICAgICAgICAgICB2YXIgaHRtbF9hZmU2OWEwNDI3OGE0OGZmYTc2ZThiOTg5ZWZkYWI3YiA9ICQoYDxkaXYgaWQ9Imh0bWxfYWZlNjlhMDQyNzhhNDhmZmE3NmU4Yjk4OWVmZGFiN2IiIHN0eWxlPSJ3aWR0aDogMTAwLjAlOyBoZWlnaHQ6IDEwMC4wJTsiPlJPVVRFX0lEOiA1Mjxicj5ST1VURV9WRVJTSU9OOiAyPGJyPkRJUkVDVElPTjogTk9SVEg8YnI+U1RPUElEOiA2MjA4PGJyPkdFT0lEOiAxNTM3MDxicj5TVE9QT1JERVI6IDM0PGJyPlNUT1BTT1JUT1JERVI6IDI5PGJyPkxPTkdJVFVERTogLTc3LjAzMjQzPGJyPkxBVElUVURFOiAzOC45MjcyNzc8YnI+UEFUVEVSTl9JRDogNTIwMjxicj5HRU9ERVNDUklQVElPTjogMTRUSCBTVCArIENPTFVNQklBIFJEPGJyPlNUT1BfU0VRVUVOQ0U6IDI5LjA8YnI+Z2VvbWV0cnk6IFBPSU5UICgtNzcuMDMyNDMwMDAwMDAwMDEgMzguOTI3Mjc3KTwvZGl2PmApWzBdOwogICAgICAgICAgICBwb3B1cF8xOTc1MTMwMzVmZmE0YWY2YjQ2NjM0ZmNhOTI0ODZmNC5zZXRDb250ZW50KGh0bWxfYWZlNjlhMDQyNzhhNDhmZmE3NmU4Yjk4OWVmZGFiN2IpOwogICAgICAgIAoKICAgICAgICBjaXJjbGVfbWFya2VyXzk2YjM1ZmUzOTVhZDRjNjE4MmY5YzkwODMxNjBhZWQyLmJpbmRQb3B1cChwb3B1cF8xOTc1MTMwMzVmZmE0YWY2YjQ2NjM0ZmNhOTI0ODZmNCkKICAgICAgICA7CgogICAgICAgIAogICAgCiAgICAKICAgICAgICAgICAgdmFyIGNpcmNsZV9tYXJrZXJfYTNhMGZiNGI1ZjVkNGQxYzgxYzlmMzk5OGI3YjllYmUgPSBMLmNpcmNsZU1hcmtlcigKICAgICAgICAgICAgICAgIFszOC45MjEyLCAtNzcuMDMyMDEzXSwKICAgICAgICAgICAgICAgIHsiYnViYmxpbmdNb3VzZUV2ZW50cyI6IHRydWUsICJjb2xvciI6ICIjZjc5ZTE5IiwgImRhc2hBcnJheSI6IG51bGwsICJkYXNoT2Zmc2V0IjogbnVsbCwgImZpbGwiOiB0cnVlLCAiZmlsbENvbG9yIjogIiNmNzllMTkiLCAiZmlsbE9wYWNpdHkiOiAwLjIsICJmaWxsUnVsZSI6ICJldmVub2RkIiwgImxpbmVDYXAiOiAicm91bmQiLCAibGluZUpvaW4iOiAicm91bmQiLCAib3BhY2l0eSI6IDEuMCwgInJhZGl1cyI6IDIsICJzdHJva2UiOiB0cnVlLCAid2VpZ2h0IjogM30KICAgICAgICAgICAgKS5hZGRUbyhmZWF0dXJlX2dyb3VwX2E5NmFhZjU4OTViZDRlOGU4ZWQ3OGY2ZjdmNWQ0NDMzKTsKICAgICAgICAKICAgIAogICAgICAgIHZhciBwb3B1cF9lMzU2NGYxZWZmZDM0ZTFmOWYzNzhkMTllNzhiNzM4ZSA9IEwucG9wdXAoeyJtYXhXaWR0aCI6ICIyMDAifSk7CgogICAgICAgIAogICAgICAgICAgICB2YXIgaHRtbF8zYjczZjhkODM2Mjg0MzU1YjVjZDNmYTBjYzE3ZGQ4OCA9ICQoYDxkaXYgaWQ9Imh0bWxfM2I3M2Y4ZDgzNjI4NDM1NWI1Y2QzZmEwY2MxN2RkODgiIHN0eWxlPSJ3aWR0aDogMTAwLjAlOyBoZWlnaHQ6IDEwMC4wJTsiPlJPVVRFX0lEOiA1Mjxicj5ST1VURV9WRVJTSU9OOiAxPGJyPkRJUkVDVElPTjogU09VVEg8YnI+U1RPUElEOiAyMTE4MDxicj5HRU9JRDogNzExMzxicj5TVE9QT1JERVI6IDIzPGJyPlNUT1BTT1JUT1JERVI6IDIwPGJyPkxPTkdJVFVERTogLTc3LjAzMjAxMzxicj5MQVRJVFVERTogMzguOTIxMjxicj5QQVRURVJOX0lEOiA1MjAxPGJyPkdFT0RFU0NSSVBUSU9OOiAxNFRIIFNUIE5XICsgQ0hBUElOIFNUIE5XPGJyPlNUT1BfU0VRVUVOQ0U6IDIwLjA8YnI+Z2VvbWV0cnk6IFBPSU5UICgtNzcuMDMyMDEzMDAwMDAwMDEgMzguOTIxMik8L2Rpdj5gKVswXTsKICAgICAgICAgICAgcG9wdXBfZTM1NjRmMWVmZmQzNGUxZjlmMzc4ZDE5ZTc4YjczOGUuc2V0Q29udGVudChodG1sXzNiNzNmOGQ4MzYyODQzNTViNWNkM2ZhMGNjMTdkZDg4KTsKICAgICAgICAKCiAgICAgICAgY2lyY2xlX21hcmtlcl9hM2EwZmI0YjVmNWQ0ZDFjODFjOWYzOTk4YjdiOWViZS5iaW5kUG9wdXAocG9wdXBfZTM1NjRmMWVmZmQzNGUxZjlmMzc4ZDE5ZTc4YjczOGUpCiAgICAgICAgOwoKICAgICAgICAKICAgIAogICAgCiAgICAgICAgICAgIHZhciBjaXJjbGVfbWFya2VyXzE4ZWU5ODFiZTI2ODQyNDg4YmNhOWViMWM4MjJlNTQ4ID0gTC5jaXJjbGVNYXJrZXIoCiAgICAgICAgICAgICAgICBbMzguOTI5MTMzLCAtNzcuMDMyNTE3XSwKICAgICAgICAgICAgICAgIHsiYnViYmxpbmdNb3VzZUV2ZW50cyI6IHRydWUsICJjb2xvciI6ICIjZjc5ZTE5IiwgImRhc2hBcnJheSI6IG51bGwsICJkYXNoT2Zmc2V0IjogbnVsbCwgImZpbGwiOiB0cnVlLCAiZmlsbENvbG9yIjogIiNmNzllMTkiLCAiZmlsbE9wYWNpdHkiOiAwLjIsICJmaWxsUnVsZSI6ICJldmVub2RkIiwgImxpbmVDYXAiOiAicm91bmQiLCAibGluZUpvaW4iOiAicm91bmQiLCAib3BhY2l0eSI6IDEuMCwgInJhZGl1cyI6IDIsICJzdHJva2UiOiB0cnVlLCAid2VpZ2h0IjogM30KICAgICAgICAgICAgKS5hZGRUbyhmZWF0dXJlX2dyb3VwX2E5NmFhZjU4OTViZDRlOGU4ZWQ3OGY2ZjdmNWQ0NDMzKTsKICAgICAgICAKICAgIAogICAgICAgIHZhciBwb3B1cF85ZThkYzEzYjcxMjQ0ZWNiODcxNDQ3Mjc0YzI1ZGE2MCA9IEwucG9wdXAoeyJtYXhXaWR0aCI6ICIyMDAifSk7CgogICAgICAgIAogICAgICAgICAgICB2YXIgaHRtbF8wNTYwMTFiMjM1ZjM0YzIxYTQ1M2VlOGYyYThiN2VmYSA9ICQoYDxkaXYgaWQ9Imh0bWxfMDU2MDExYjIzNWYzNGMyMWE0NTNlZThmMmE4YjdlZmEiIHN0eWxlPSJ3aWR0aDogMTAwLjAlOyBoZWlnaHQ6IDEwMC4wJTsiPlJPVVRFX0lEOiA1Mjxicj5ST1VURV9WRVJTSU9OOiAyPGJyPkRJUkVDVElPTjogTk9SVEg8YnI+U1RPUElEOiAyMzQwMTxicj5HRU9JRDogMTgxOTc8YnI+U1RPUE9SREVSOiAzNjxicj5TVE9QU09SVE9SREVSOiAzMDxicj5MT05HSVRVREU6IC03Ny4wMzI1MTc8YnI+TEFUSVRVREU6IDM4LjkyOTEzMzxicj5QQVRURVJOX0lEOiA1MjAyPGJyPkdFT0RFU0NSSVBUSU9OOiAxNFRIIFNUIE5XICsgSVJWSU5HIFNUIE5XPGJyPlNUT1BfU0VRVUVOQ0U6IDMwLjA8YnI+Z2VvbWV0cnk6IFBPSU5UICgtNzcuMDMyNTE3IDM4LjkyOTEzMyk8L2Rpdj5gKVswXTsKICAgICAgICAgICAgcG9wdXBfOWU4ZGMxM2I3MTI0NGVjYjg3MTQ0NzI3NGMyNWRhNjAuc2V0Q29udGVudChodG1sXzA1NjAxMWIyMzVmMzRjMjFhNDUzZWU4ZjJhOGI3ZWZhKTsKICAgICAgICAKCiAgICAgICAgY2lyY2xlX21hcmtlcl8xOGVlOTgxYmUyNjg0MjQ4OGJjYTllYjFjODIyZTU0OC5iaW5kUG9wdXAocG9wdXBfOWU4ZGMxM2I3MTI0NGVjYjg3MTQ0NzI3NGMyNWRhNjApCiAgICAgICAgOwoKICAgICAgICAKICAgIAo8L3NjcmlwdD4= onload=\"this.contentDocument.open();this.contentDocument.write(atob(this.getAttribute('data-html')));this.contentDocument.close();\" allowfullscreen webkitallowfullscreen mozallowfullscreen></iframe></div></div>"
      ],
      "text/plain": [
       "<folium.folium.Map at 0x1bf19095520>"
      ]
     },
     "execution_count": 91,
     "metadata": {},
     "output_type": "execute_result"
    }
   ],
   "source": [
    "esri_imagery = \"https://server.arcgisonline.com/ArcGIS/rest/services/World_Imagery/MapServer/tile/{z}/{y}/{x}\"\n",
    "esri_attribution = \\\n",
    "    \"Tiles &copy; Esri &mdash; Source: Esri, i-cubed, USDA, USGS, AEX, GeoEye, Getmapping, Aerogrid, IGN, IGP, \" \\\n",
    "    \"UPR-EGP, and the GIS User Community\"\n",
    "this_map = folium.Map(location=get_centroid_gpd(reduced_stop_seq),\n",
    "                       tiles='cartodbdark_matter', zoom_start=16, max_zoom=25, control_scale=True)\n",
    "folium.TileLayer(name=\"EsriImagery\", tiles=esri_imagery, attr=esri_attribution,\n",
    "                 zoom_start=16, max_zoom=25, control_scale=True).add_to(this_map)\n",
    "folium.TileLayer('cartodbpositron', zoom_start=16, max_zoom=20, control_scale=True).add_to(this_map)\n",
    "folium.TileLayer('openstreetmap', zoom_start=16, max_zoom=20, control_scale=True).add_to(this_map)\n",
    "\n",
    "folium.Choropleth(\n",
    "    bus_lane_edges,\n",
    "    line_weight=3,\n",
    "    line_color='blue'\n",
    ").add_to(this_map)\n",
    "\n",
    "h = folium.FeatureGroup(name='stop locations')\n",
    "\n",
    "wr.plot_marker_clusters(this_map, reduced_stop_seq, \"LATITUDE\",\"LONGITUDE\",h, fill_color='#f79e19')\n",
    "\n",
    "this_map.add_children(h)"
   ]
  },
  {
   "cell_type": "code",
   "execution_count": 21,
   "metadata": {
    "ExecuteTime": {
     "end_time": "2020-09-15T15:15:47.196969Z",
     "start_time": "2020-09-15T15:15:47.107451Z"
    }
   },
   "outputs": [
    {
     "data": {
      "text/html": [
       "<div>\n",
       "<style scoped>\n",
       "    .dataframe tbody tr th:only-of-type {\n",
       "        vertical-align: middle;\n",
       "    }\n",
       "\n",
       "    .dataframe tbody tr th {\n",
       "        vertical-align: top;\n",
       "    }\n",
       "\n",
       "    .dataframe thead th {\n",
       "        text-align: right;\n",
       "    }\n",
       "</style>\n",
       "<table border=\"1\" class=\"dataframe\">\n",
       "  <thead>\n",
       "    <tr style=\"text-align: right;\">\n",
       "      <th></th>\n",
       "      <th>ROUTE_ID</th>\n",
       "      <th>ROUTE_VERSION</th>\n",
       "      <th>DIRECTION</th>\n",
       "      <th>STOPID</th>\n",
       "      <th>GEOID</th>\n",
       "      <th>STOPORDER</th>\n",
       "      <th>STOPSORTORDER</th>\n",
       "      <th>LONGITUDE</th>\n",
       "      <th>LATITUDE</th>\n",
       "      <th>PATTERN_ID</th>\n",
       "      <th>GEODESCRIPTION</th>\n",
       "      <th>STOP_SEQUENCE</th>\n",
       "      <th>geometry</th>\n",
       "    </tr>\n",
       "  </thead>\n",
       "  <tbody>\n",
       "    <tr>\n",
       "      <th>0</th>\n",
       "      <td>52</td>\n",
       "      <td>1</td>\n",
       "      <td>SOUTH</td>\n",
       "      <td>21627</td>\n",
       "      <td>16203</td>\n",
       "      <td>19</td>\n",
       "      <td>16</td>\n",
       "      <td>-77.032645</td>\n",
       "      <td>38.928445</td>\n",
       "      <td>5201</td>\n",
       "      <td>14TH ST + IRVING ST</td>\n",
       "      <td>16.0</td>\n",
       "      <td>POINT (-77.03265 38.92845)</td>\n",
       "    </tr>\n",
       "    <tr>\n",
       "      <th>3</th>\n",
       "      <td>52</td>\n",
       "      <td>1</td>\n",
       "      <td>SOUTH</td>\n",
       "      <td>19066</td>\n",
       "      <td>16662</td>\n",
       "      <td>20</td>\n",
       "      <td>17</td>\n",
       "      <td>-77.032542</td>\n",
       "      <td>38.926777</td>\n",
       "      <td>5201</td>\n",
       "      <td>14TH ST + HARVARD ST</td>\n",
       "      <td>17.0</td>\n",
       "      <td>POINT (-77.03254 38.92678)</td>\n",
       "    </tr>\n",
       "    <tr>\n",
       "      <th>4</th>\n",
       "      <td>52</td>\n",
       "      <td>1</td>\n",
       "      <td>SOUTH</td>\n",
       "      <td>14083</td>\n",
       "      <td>7352</td>\n",
       "      <td>21</td>\n",
       "      <td>18</td>\n",
       "      <td>-77.032448</td>\n",
       "      <td>38.925789</td>\n",
       "      <td>5201</td>\n",
       "      <td>14TH ST NW + GIRARD ST NW</td>\n",
       "      <td>18.0</td>\n",
       "      <td>POINT (-77.03245 38.92579)</td>\n",
       "    </tr>\n",
       "  </tbody>\n",
       "</table>\n",
       "</div>"
      ],
      "text/plain": [
       "  ROUTE_ID  ROUTE_VERSION DIRECTION  STOPID  GEOID  STOPORDER  STOPSORTORDER  \\\n",
       "0       52              1     SOUTH   21627  16203         19             16   \n",
       "3       52              1     SOUTH   19066  16662         20             17   \n",
       "4       52              1     SOUTH   14083   7352         21             18   \n",
       "\n",
       "   LONGITUDE   LATITUDE PATTERN_ID             GEODESCRIPTION  STOP_SEQUENCE  \\\n",
       "0 -77.032645  38.928445       5201        14TH ST + IRVING ST           16.0   \n",
       "3 -77.032542  38.926777       5201       14TH ST + HARVARD ST           17.0   \n",
       "4 -77.032448  38.925789       5201  14TH ST NW + GIRARD ST NW           18.0   \n",
       "\n",
       "                     geometry  \n",
       "0  POINT (-77.03265 38.92845)  \n",
       "3  POINT (-77.03254 38.92678)  \n",
       "4  POINT (-77.03245 38.92579)  "
      ]
     },
     "execution_count": 21,
     "metadata": {},
     "output_type": "execute_result"
    }
   ],
   "source": [
    "reduced_stop_seq.head(3)"
   ]
  },
  {
   "cell_type": "code",
   "execution_count": 22,
   "metadata": {
    "ExecuteTime": {
     "end_time": "2020-09-15T15:15:47.724761Z",
     "start_time": "2020-09-15T15:15:47.643750Z"
    }
   },
   "outputs": [],
   "source": [
    "# remove two geoids outside the bus lane boundary - 7216 & 18197\n",
    "# doing this visually but should be able to do with a script later\n",
    "filtered_stop_seq = (reduced_stop_seq[(reduced_stop_seq.loc[:,'GEOID']!=7216)&\n",
    "                    (reduced_stop_seq.loc[:,'GEOID']!=7216)]).copy()"
   ]
  },
  {
   "cell_type": "markdown",
   "metadata": {},
   "source": [
    "## test 1 geoid\n"
   ]
  },
  {
   "cell_type": "code",
   "execution_count": 35,
   "metadata": {
    "ExecuteTime": {
     "end_time": "2020-09-15T15:22:48.386589Z",
     "start_time": "2020-09-15T15:22:48.265545Z"
    }
   },
   "outputs": [
    {
     "data": {
      "application/vnd.jupyter.widget-view+json": {
       "model_id": "947b52a174b74acaba6fc45e88a0ae5c",
       "version_major": 2,
       "version_minor": 0
      },
      "text/plain": [
       "interactive(children=(Dropdown(description='geoid_of_interest', options=(16203, 16662, 7352, 7243, 15248, 1524…"
      ]
     },
     "metadata": {},
     "output_type": "display_data"
    }
   ],
   "source": [
    "@interact(geoid_of_interest=filtered_stop_seq.loc[:,'GEOID'].unique())\n",
    "def plot_stop_with_link(geoid_of_interest):\n",
    "    one_stop_seq = filtered_stop_seq[filtered_stop_seq.loc[:,'GEOID']==geoid_of_interest].copy()\n",
    "    one_link = bus_lane_edges[bus_lane_edges.loc[:,'to_geoid']==geoid_of_interest].copy()\n",
    "\n",
    "    esri_imagery = \"https://server.arcgisonline.com/ArcGIS/rest/services/World_Imagery/MapServer/tile/{z}/{y}/{x}\"\n",
    "    esri_attribution = \\\n",
    "        \"Tiles &copy; Esri &mdash; Source: Esri, i-cubed, USDA, USGS, AEX, GeoEye, Getmapping, Aerogrid, IGN, IGP, \" \\\n",
    "        \"UPR-EGP, and the GIS User Community\"\n",
    "    this_map = folium.Map(location=get_centroid_gpd(one_link),\n",
    "                           tiles='cartodbdark_matter', zoom_start=16, max_zoom=25, control_scale=True)\n",
    "    folium.TileLayer(name=\"EsriImagery\", tiles=esri_imagery, attr=esri_attribution,\n",
    "                     zoom_start=16, max_zoom=25, control_scale=True).add_to(this_map)\n",
    "    folium.TileLayer('cartodbpositron', zoom_start=16, max_zoom=20, control_scale=True).add_to(this_map)\n",
    "    folium.TileLayer('openstreetmap', zoom_start=16, max_zoom=20, control_scale=True).add_to(this_map)\n",
    "\n",
    "    folium.Choropleth(\n",
    "        one_link,\n",
    "        line_weight=3,\n",
    "        line_color='blue'\n",
    "    ).add_to(this_map)\n",
    "\n",
    "    h = folium.FeatureGroup(name='stop location')\n",
    "\n",
    "    wr.plot_marker_clusters(this_map, one_stop_seq, \"LATITUDE\",\"LONGITUDE\",h, fill_color='#f79e19')\n",
    "    return this_map.add_children(h)"
   ]
  },
  {
   "cell_type": "code",
   "execution_count": 36,
   "metadata": {
    "ExecuteTime": {
     "end_time": "2020-09-15T15:24:58.356654Z",
     "start_time": "2020-09-15T15:24:58.270486Z"
    }
   },
   "outputs": [],
   "source": [
    "geoid_of_interest=16662\n",
    "one_stop_seq = filtered_stop_seq[filtered_stop_seq.loc[:,'GEOID']==geoid_of_interest].copy()\n",
    "one_link = bus_lane_edges[bus_lane_edges.loc[:,'to_geoid']==geoid_of_interest].copy()"
   ]
  },
  {
   "cell_type": "code",
   "execution_count": 63,
   "metadata": {
    "ExecuteTime": {
     "end_time": "2020-09-15T16:13:49.960368Z",
     "start_time": "2020-09-15T16:13:49.874346Z"
    }
   },
   "outputs": [
    {
     "data": {
      "text/html": [
       "<div>\n",
       "<style scoped>\n",
       "    .dataframe tbody tr th:only-of-type {\n",
       "        vertical-align: middle;\n",
       "    }\n",
       "\n",
       "    .dataframe tbody tr th {\n",
       "        vertical-align: top;\n",
       "    }\n",
       "\n",
       "    .dataframe thead th {\n",
       "        text-align: right;\n",
       "    }\n",
       "</style>\n",
       "<table border=\"1\" class=\"dataframe\">\n",
       "  <thead>\n",
       "    <tr style=\"text-align: right;\">\n",
       "      <th></th>\n",
       "      <th>ROUTE_ID</th>\n",
       "      <th>ROUTE_VERSION</th>\n",
       "      <th>DIRECTION</th>\n",
       "      <th>STOPID</th>\n",
       "      <th>GEOID</th>\n",
       "      <th>STOPORDER</th>\n",
       "      <th>STOPSORTORDER</th>\n",
       "      <th>LONGITUDE</th>\n",
       "      <th>LATITUDE</th>\n",
       "      <th>PATTERN_ID</th>\n",
       "      <th>GEODESCRIPTION</th>\n",
       "      <th>STOP_SEQUENCE</th>\n",
       "      <th>geometry</th>\n",
       "    </tr>\n",
       "  </thead>\n",
       "  <tbody>\n",
       "    <tr>\n",
       "      <th>3</th>\n",
       "      <td>52</td>\n",
       "      <td>1</td>\n",
       "      <td>SOUTH</td>\n",
       "      <td>19066</td>\n",
       "      <td>16662</td>\n",
       "      <td>20</td>\n",
       "      <td>17</td>\n",
       "      <td>-77.032542</td>\n",
       "      <td>38.926777</td>\n",
       "      <td>5201</td>\n",
       "      <td>14TH ST + HARVARD ST</td>\n",
       "      <td>17.0</td>\n",
       "      <td>POINT (-77.03254 38.92678)</td>\n",
       "    </tr>\n",
       "  </tbody>\n",
       "</table>\n",
       "</div>"
      ],
      "text/plain": [
       "  ROUTE_ID  ROUTE_VERSION DIRECTION  STOPID  GEOID  STOPORDER  STOPSORTORDER  \\\n",
       "3       52              1     SOUTH   19066  16662         20             17   \n",
       "\n",
       "   LONGITUDE   LATITUDE PATTERN_ID        GEODESCRIPTION  STOP_SEQUENCE  \\\n",
       "3 -77.032542  38.926777       5201  14TH ST + HARVARD ST           17.0   \n",
       "\n",
       "                     geometry  \n",
       "3  POINT (-77.03254 38.92678)  "
      ]
     },
     "execution_count": 63,
     "metadata": {},
     "output_type": "execute_result"
    }
   ],
   "source": [
    "one_stop_seq"
   ]
  },
  {
   "cell_type": "code",
   "execution_count": 79,
   "metadata": {
    "ExecuteTime": {
     "end_time": "2020-09-15T16:27:11.886088Z",
     "start_time": "2020-09-15T16:27:11.801088Z"
    }
   },
   "outputs": [],
   "source": [
    "one_link_w_stopid = (one_link.merge(one_stop_seq[['GEOID','STOPID','ROUTE_ID','ROUTE_VERSION','DIRECTION']]\n",
    "                                    ,how='left', left_on='to_geoid',right_on='GEOID')\n",
    "                     .rename(columns={'STOPID':'stop_id','ROUTE_ID':'route', 'ROUTE_VERSION':'pattern',\n",
    "                                     'DIRECTION':'direction'})\n",
    "                     .copy())"
   ]
  },
  {
   "cell_type": "code",
   "execution_count": 92,
   "metadata": {
    "ExecuteTime": {
     "end_time": "2020-09-15T19:18:30.746048Z",
     "start_time": "2020-09-15T19:18:30.650982Z"
    }
   },
   "outputs": [
    {
     "data": {
      "text/html": [
       "<div>\n",
       "<style scoped>\n",
       "    .dataframe tbody tr th:only-of-type {\n",
       "        vertical-align: middle;\n",
       "    }\n",
       "\n",
       "    .dataframe tbody tr th {\n",
       "        vertical-align: top;\n",
       "    }\n",
       "\n",
       "    .dataframe thead th {\n",
       "        text-align: right;\n",
       "    }\n",
       "</style>\n",
       "<table border=\"1\" class=\"dataframe\">\n",
       "  <thead>\n",
       "    <tr style=\"text-align: right;\">\n",
       "      <th></th>\n",
       "      <th>PATTERN_ID</th>\n",
       "      <th>from_geoid</th>\n",
       "      <th>from_stop_seq</th>\n",
       "      <th>to_stop_seq</th>\n",
       "      <th>to_geoid</th>\n",
       "      <th>from_node</th>\n",
       "      <th>to_node</th>\n",
       "      <th>link_code</th>\n",
       "      <th>edge_code</th>\n",
       "      <th>length</th>\n",
       "      <th>geometry</th>\n",
       "      <th>GEOID</th>\n",
       "      <th>stop_id</th>\n",
       "      <th>route</th>\n",
       "      <th>pattern</th>\n",
       "      <th>direction</th>\n",
       "    </tr>\n",
       "  </thead>\n",
       "  <tbody>\n",
       "    <tr>\n",
       "      <th>0</th>\n",
       "      <td>5201</td>\n",
       "      <td>16203</td>\n",
       "      <td>16</td>\n",
       "      <td>17</td>\n",
       "      <td>16662</td>\n",
       "      <td>1333685838</td>\n",
       "      <td>1439584653</td>\n",
       "      <td>16203-16662</td>\n",
       "      <td>1333685838-1439584653</td>\n",
       "      <td>58.762</td>\n",
       "      <td>LINESTRING (-77.03260 38.92805, -77.03255 38.9...</td>\n",
       "      <td>16662</td>\n",
       "      <td>19066</td>\n",
       "      <td>52</td>\n",
       "      <td>1</td>\n",
       "      <td>SOUTH</td>\n",
       "    </tr>\n",
       "    <tr>\n",
       "      <th>1</th>\n",
       "      <td>5201</td>\n",
       "      <td>16203</td>\n",
       "      <td>16</td>\n",
       "      <td>17</td>\n",
       "      <td>16662</td>\n",
       "      <td>1439584653</td>\n",
       "      <td>783623535</td>\n",
       "      <td>16203-16662</td>\n",
       "      <td>1439584653-783623535</td>\n",
       "      <td>105.806</td>\n",
       "      <td>LINESTRING (-77.03254 38.92752, -77.03253 38.9...</td>\n",
       "      <td>16662</td>\n",
       "      <td>19066</td>\n",
       "      <td>52</td>\n",
       "      <td>1</td>\n",
       "      <td>SOUTH</td>\n",
       "    </tr>\n",
       "    <tr>\n",
       "      <th>2</th>\n",
       "      <td>5201</td>\n",
       "      <td>16203</td>\n",
       "      <td>16</td>\n",
       "      <td>17</td>\n",
       "      <td>16662</td>\n",
       "      <td>5698252199</td>\n",
       "      <td>1333685838</td>\n",
       "      <td>16203-16662</td>\n",
       "      <td>5698252199-1333685838</td>\n",
       "      <td>83.916</td>\n",
       "      <td>LINESTRING (-77.03267 38.92880, -77.03267 38.9...</td>\n",
       "      <td>16662</td>\n",
       "      <td>19066</td>\n",
       "      <td>52</td>\n",
       "      <td>1</td>\n",
       "      <td>SOUTH</td>\n",
       "    </tr>\n",
       "  </tbody>\n",
       "</table>\n",
       "</div>"
      ],
      "text/plain": [
       "  PATTERN_ID  from_geoid  from_stop_seq  to_stop_seq  to_geoid   from_node  \\\n",
       "0       5201       16203             16           17     16662  1333685838   \n",
       "1       5201       16203             16           17     16662  1439584653   \n",
       "2       5201       16203             16           17     16662  5698252199   \n",
       "\n",
       "      to_node    link_code              edge_code   length  \\\n",
       "0  1439584653  16203-16662  1333685838-1439584653   58.762   \n",
       "1   783623535  16203-16662   1439584653-783623535  105.806   \n",
       "2  1333685838  16203-16662  5698252199-1333685838   83.916   \n",
       "\n",
       "                                            geometry  GEOID  stop_id route  \\\n",
       "0  LINESTRING (-77.03260 38.92805, -77.03255 38.9...  16662    19066    52   \n",
       "1  LINESTRING (-77.03254 38.92752, -77.03253 38.9...  16662    19066    52   \n",
       "2  LINESTRING (-77.03267 38.92880, -77.03267 38.9...  16662    19066    52   \n",
       "\n",
       "   pattern direction  \n",
       "0        1     SOUTH  \n",
       "1        1     SOUTH  \n",
       "2        1     SOUTH  "
      ]
     },
     "execution_count": 92,
     "metadata": {},
     "output_type": "execute_result"
    }
   ],
   "source": [
    "one_link_w_stopid"
   ]
  },
  {
   "cell_type": "code",
   "execution_count": 88,
   "metadata": {
    "ExecuteTime": {
     "end_time": "2020-09-15T17:21:01.222877Z",
     "start_time": "2020-09-15T17:21:01.112613Z"
    }
   },
   "outputs": [],
   "source": [
    "consolidated_link_df = one_link_w_stopid.groupby(['PATTERN_ID','route','pattern', 'direction','from_geoid', 'from_stop_seq'\n",
    "                           , 'to_stop_seq', 'to_geoid','stop_id', 'link_code']).agg({'length':sum}).reset_index().copy()\n",
    "consolidated_link_geom = linemerge(cascaded_union(one_link_w_stopid.geometry.values))\n",
    "\n",
    "consolidated_link_gdf = gpd.GeoDataFrame(consolidated_link_df, crs=\"EPSG:4326\", geometry=[consolidated_link_geom])"
   ]
  },
  {
   "cell_type": "code",
   "execution_count": 89,
   "metadata": {
    "ExecuteTime": {
     "end_time": "2020-09-15T17:21:03.098606Z",
     "start_time": "2020-09-15T17:21:03.018603Z"
    }
   },
   "outputs": [],
   "source": [
    "consolidated_link_gdf.loc[:,'seg_name_id'] = consolidated_link_gdf.loc[:,'link_code'].copy()\n",
    "segment_export = consolidated_link_gdf[['seg_name_id', 'length', 'geometry']].copy()"
   ]
  },
  {
   "cell_type": "code",
   "execution_count": 94,
   "metadata": {
    "ExecuteTime": {
     "end_time": "2020-09-15T19:20:03.940186Z",
     "start_time": "2020-09-15T19:20:03.856155Z"
    }
   },
   "outputs": [
    {
     "data": {
      "text/html": [
       "<div>\n",
       "<style scoped>\n",
       "    .dataframe tbody tr th:only-of-type {\n",
       "        vertical-align: middle;\n",
       "    }\n",
       "\n",
       "    .dataframe tbody tr th {\n",
       "        vertical-align: top;\n",
       "    }\n",
       "\n",
       "    .dataframe thead th {\n",
       "        text-align: right;\n",
       "    }\n",
       "</style>\n",
       "<table border=\"1\" class=\"dataframe\">\n",
       "  <thead>\n",
       "    <tr style=\"text-align: right;\">\n",
       "      <th></th>\n",
       "      <th>seg_name_id</th>\n",
       "      <th>length</th>\n",
       "      <th>geometry</th>\n",
       "    </tr>\n",
       "  </thead>\n",
       "  <tbody>\n",
       "    <tr>\n",
       "      <th>0</th>\n",
       "      <td>16203-16662</td>\n",
       "      <td>248.484</td>\n",
       "      <td>LINESTRING (-77.03267 38.92880, -77.03267 38.9...</td>\n",
       "    </tr>\n",
       "  </tbody>\n",
       "</table>\n",
       "</div>"
      ],
      "text/plain": [
       "   seg_name_id   length                                           geometry\n",
       "0  16203-16662  248.484  LINESTRING (-77.03267 38.92880, -77.03267 38.9..."
      ]
     },
     "execution_count": 94,
     "metadata": {},
     "output_type": "execute_result"
    }
   ],
   "source": [
    "segment_export"
   ]
  },
  {
   "cell_type": "code",
   "execution_count": 90,
   "metadata": {
    "ExecuteTime": {
     "end_time": "2020-09-15T17:21:03.367315Z",
     "start_time": "2020-09-15T17:21:03.275249Z"
    }
   },
   "outputs": [],
   "source": [
    "file_name = \"pattern_5201_segment.geojson\"\n",
    "file_loc = f\"C:\\\\Users\\\\E048374\\\\OneDrive - WMATA\\\\rawnav_rachel_fork\\\\WMATA_AVL\\\\data\\\\02-processed\\\\{file_name}\"\n",
    "segment_export.to_file(file_loc, driver=\"GeoJSON\")"
   ]
  },
  {
   "cell_type": "code",
   "execution_count": 83,
   "metadata": {
    "ExecuteTime": {
     "end_time": "2020-09-15T16:27:23.375489Z",
     "start_time": "2020-09-15T16:27:23.295888Z"
    }
   },
   "outputs": [],
   "source": [
    "seg_pattern = consolidated_link_gdf[['seg_name_id','PATTERN_ID', 'route', 'pattern','direction', 'from_geoid', 'from_stop_seq',\n",
    "       'to_stop_seq', 'to_geoid', 'stop_id']].copy()"
   ]
  },
  {
   "cell_type": "code",
   "execution_count": 86,
   "metadata": {
    "ExecuteTime": {
     "end_time": "2020-09-15T17:12:45.190798Z",
     "start_time": "2020-09-15T17:12:45.105802Z"
    }
   },
   "outputs": [
    {
     "data": {
      "text/html": [
       "<div>\n",
       "<style scoped>\n",
       "    .dataframe tbody tr th:only-of-type {\n",
       "        vertical-align: middle;\n",
       "    }\n",
       "\n",
       "    .dataframe tbody tr th {\n",
       "        vertical-align: top;\n",
       "    }\n",
       "\n",
       "    .dataframe thead th {\n",
       "        text-align: right;\n",
       "    }\n",
       "</style>\n",
       "<table border=\"1\" class=\"dataframe\">\n",
       "  <thead>\n",
       "    <tr style=\"text-align: right;\">\n",
       "      <th></th>\n",
       "      <th>seg_name_id</th>\n",
       "      <th>PATTERN_ID</th>\n",
       "      <th>route</th>\n",
       "      <th>pattern</th>\n",
       "      <th>direction</th>\n",
       "      <th>from_geoid</th>\n",
       "      <th>from_stop_seq</th>\n",
       "      <th>to_stop_seq</th>\n",
       "      <th>to_geoid</th>\n",
       "      <th>stop_id</th>\n",
       "    </tr>\n",
       "  </thead>\n",
       "  <tbody>\n",
       "    <tr>\n",
       "      <th>0</th>\n",
       "      <td>16203-16662</td>\n",
       "      <td>5201</td>\n",
       "      <td>52</td>\n",
       "      <td>1</td>\n",
       "      <td>SOUTH</td>\n",
       "      <td>16203</td>\n",
       "      <td>16</td>\n",
       "      <td>17</td>\n",
       "      <td>16662</td>\n",
       "      <td>19066</td>\n",
       "    </tr>\n",
       "  </tbody>\n",
       "</table>\n",
       "</div>"
      ],
      "text/plain": [
       "   seg_name_id PATTERN_ID route  pattern direction  from_geoid  from_stop_seq  \\\n",
       "0  16203-16662       5201    52        1     SOUTH       16203             16   \n",
       "\n",
       "   to_stop_seq  to_geoid  stop_id  \n",
       "0           17     16662    19066  "
      ]
     },
     "execution_count": 86,
     "metadata": {},
     "output_type": "execute_result"
    }
   ],
   "source": [
    "seg_pattern"
   ]
  },
  {
   "cell_type": "code",
   "execution_count": 85,
   "metadata": {
    "ExecuteTime": {
     "end_time": "2020-09-15T17:12:27.335675Z",
     "start_time": "2020-09-15T17:12:27.254573Z"
    }
   },
   "outputs": [],
   "source": [
    "file_name = \"test_seg_pattern_5201.csv\"\n",
    "file_loc = f\"C:\\\\Users\\\\E048374\\\\OneDrive - WMATA\\\\rawnav_rachel_fork\\\\WMATA_AVL\\\\data\\\\02-processed\\\\{file_name}\"\n",
    "seg_pattern.to_csv(file_loc, index=False)"
   ]
  },
  {
   "cell_type": "code",
   "execution_count": null,
   "metadata": {},
   "outputs": [],
   "source": []
  }
 ],
 "metadata": {
  "kernelspec": {
   "display_name": "Python (rawnav)",
   "language": "python",
   "name": "rawnav"
  },
  "language_info": {
   "codemirror_mode": {
    "name": "ipython",
    "version": 3
   },
   "file_extension": ".py",
   "mimetype": "text/x-python",
   "name": "python",
   "nbconvert_exporter": "python",
   "pygments_lexer": "ipython3",
   "version": "3.8.5"
  },
  "toc": {
   "base_numbering": 1,
   "nav_menu": {},
   "number_sections": true,
   "sideBar": true,
   "skip_h1_title": false,
   "title_cell": "Table of Contents",
   "title_sidebar": "Contents",
   "toc_cell": false,
   "toc_position": {},
   "toc_section_display": true,
   "toc_window_display": false
  }
 },
 "nbformat": 4,
 "nbformat_minor": 4
}
