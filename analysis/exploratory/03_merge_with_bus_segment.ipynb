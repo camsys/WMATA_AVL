{
 "cells": [
  {
   "cell_type": "code",
   "execution_count": 1,
   "metadata": {
    "ExecuteTime": {
     "end_time": "2020-09-18T15:29:10.975434Z",
     "start_time": "2020-09-18T15:29:10.903279Z"
    }
   },
   "outputs": [],
   "source": [
    "# 0 Housekeeping. Clear variable space\n",
    "########################################################################################################################\n",
    "from IPython import get_ipython  # run magic commands\n",
    "\n",
    "ipython = get_ipython()\n",
    "ipython.magic(\"reset -f\")\n",
    "ipython = get_ipython()\n",
    "ipython.magic(\"load_ext autoreload\")\n",
    "ipython.magic(\"autoreload 2\")"
   ]
  },
  {
   "cell_type": "code",
   "execution_count": 2,
   "metadata": {
    "ExecuteTime": {
     "end_time": "2020-09-18T15:29:11.744736Z",
     "start_time": "2020-09-18T15:29:11.133753Z"
    }
   },
   "outputs": [],
   "source": [
    "# 1 Import Libraries and Set Global Parameters\n",
    "####################################################################################################\n",
    "# 1.1 Import Python Libraries\n",
    "############################################\n",
    "from datetime import datetime\n",
    "import os, sys, shutil\n",
    "import pandas as pd\n",
    "import geopandas as gpd\n",
    "import pyarrow as pa\n",
    "import pyarrow.parquet as pq"
   ]
  },
  {
   "cell_type": "code",
   "execution_count": 8,
   "metadata": {
    "ExecuteTime": {
     "end_time": "2020-09-18T15:29:35.800125Z",
     "start_time": "2020-09-18T15:29:35.717039Z"
    }
   },
   "outputs": [],
   "source": [
    "# 1.2 Set Global Parameters\n",
    "############################################\n",
    "if os.getlogin() == \"WylieTimmerman\":\n",
    "    path_working = r\"C:\\OD\\OneDrive - Foursquare ITP\\Projects\\WMATA_AVL\"\n",
    "    os.chdir(os.path.join(path_working))\n",
    "    sys.path.append(r\"C:\\OD\\OneDrive - Foursquare ITP\\Projects\\WMATA_AVL\")\n",
    "    path_sp = r\"C:\\Users\\WylieTimmerman\\Documents\\projects_local\\wmata_avl_local\"\n",
    "    path_source_data = os.path.join(path_sp,\"data\",\"00-raw\")\n",
    "    path_processed_data = os.path.join(path_sp, \"data\",\"02-processed\")\n",
    "    path_segments = os.path.join(path_working,\"data\",\"02-processed\")\n",
    "elif os.getlogin() == \"abibeka\":\n",
    "    path_working = r\"C:\\Users\\abibeka\\OneDrive - Kittelson & Associates, Inc\\Documents\\Github\\WMATA_AVL\"\n",
    "    os.chdir(os.path.join(path_working))\n",
    "    sys.path.append(path_working)\n",
    "    path_source_data = r\"C:\\Users\\abibeka\\OneDrive - Kittelson & Associates, Inc\\Documents\\WMATA-AVL\\Data\"\n",
    "    path_processed_data = os.path.join(path_source_data, \"ProcessedData\")\n",
    "    path_segments = path_processed_data\n",
    "elif os.getlogin() == \"E048374\":\n",
    "    # Working Paths\n",
    "    path_working = r\"C:\\Users\\E048374\\OneDrive - WMATA\\rawnav_rachel_fork\\WMATA_AVL\"\n",
    "    os.chdir(os.path.join(path_working))\n",
    "    sys.path.append(r\"C:\\Users\\E048374\\OneDrive - WMATA\\rawnav_rachel_fork\\WMATA_AVL\")\n",
    "    path_source_data = r\"\\\\l-600730\\RawNavArchive\"\n",
    "    path_sp = r\"C:\\Users\\E048374\\Documents\\RawNav\"\n",
    "    path_processed_data = os.path.join(path_sp, \"data\", \"02-processed\")\n",
    "    path_segments = path_processed_data\n",
    "#     path_segments = os.path.join(path_working, \"data\", \"02-processed\")\n",
    "    \n",
    "else:\n",
    "    raise FileNotFoundError(\"Define the path_working, path_source_data, gtfs_dir, \\\n",
    "                            ZippedFilesloc, and path_processed_data in a new elif block\")"
   ]
  },
  {
   "cell_type": "code",
   "execution_count": 275,
   "metadata": {
    "ExecuteTime": {
     "end_time": "2020-09-18T17:08:55.302546Z",
     "start_time": "2020-09-18T17:08:55.220386Z"
    }
   },
   "outputs": [],
   "source": [
    "# Globals\n",
    "q_jump_route_list = ['52']\n",
    "analysis_routes = q_jump_route_list\n",
    "# analysis_routes = ['S1']\n",
    "# analysis_routes = ['S1', 'S9', 'H4', 'G8', '64']\n",
    "# analysis_routes = ['S2','S4','H1','H2','H3','79','W47']\n",
    "# took out Sunday bc doesn't exist in my test data (BAM)\n",
    "analysis_days = ['Monday', 'Tuesday', 'Wednesday', 'Thursday', 'Friday', 'Saturday']\n",
    "# analysis_days = ['Wednesday','Thursday','Friday']"
   ]
  },
  {
   "cell_type": "code",
   "execution_count": 5,
   "metadata": {
    "ExecuteTime": {
     "end_time": "2020-09-18T15:29:13.342033Z",
     "start_time": "2020-09-18T15:29:12.588998Z"
    }
   },
   "outputs": [],
   "source": [
    "# EPSG code for WMATA-area work\n",
    "wmata_crs = 2248\n",
    "# 1.3 Import User-Defined Package\n",
    "############################################\n",
    "import wmatarawnav as wr"
   ]
  },
  {
   "cell_type": "code",
   "execution_count": 293,
   "metadata": {
    "ExecuteTime": {
     "end_time": "2020-09-18T17:10:49.722524Z",
     "start_time": "2020-09-18T17:10:49.486214Z"
    }
   },
   "outputs": [],
   "source": [
    "\n",
    "segments = (\n",
    "    gpd.read_file(os.path.join(path_segments,\"pattern_5201_segment.geojson\"))\n",
    "    .to_crs(wmata_crs)\n",
    ")"
   ]
  },
  {
   "cell_type": "code",
   "execution_count": 277,
   "metadata": {
    "ExecuteTime": {
     "end_time": "2020-09-18T17:09:14.972981Z",
     "start_time": "2020-09-18T17:09:14.884957Z"
    },
    "scrolled": true
   },
   "outputs": [
    {
     "data": {
      "text/html": [
       "<div>\n",
       "<style scoped>\n",
       "    .dataframe tbody tr th:only-of-type {\n",
       "        vertical-align: middle;\n",
       "    }\n",
       "\n",
       "    .dataframe tbody tr th {\n",
       "        vertical-align: top;\n",
       "    }\n",
       "\n",
       "    .dataframe thead th {\n",
       "        text-align: right;\n",
       "    }\n",
       "</style>\n",
       "<table border=\"1\" class=\"dataframe\">\n",
       "  <thead>\n",
       "    <tr style=\"text-align: right;\">\n",
       "      <th></th>\n",
       "      <th>seg_name_id</th>\n",
       "      <th>name_str</th>\n",
       "      <th>geoid</th>\n",
       "      <th>stop_id</th>\n",
       "      <th>length</th>\n",
       "      <th>geometry</th>\n",
       "    </tr>\n",
       "  </thead>\n",
       "  <tbody>\n",
       "    <tr>\n",
       "      <th>0</th>\n",
       "      <td>14th_22</td>\n",
       "      <td>14th Street Northwest</td>\n",
       "      <td>0</td>\n",
       "      <td>0</td>\n",
       "      <td>272.507588</td>\n",
       "      <td>LINESTRING (1303138.895 458452.856, 1303140.67...</td>\n",
       "    </tr>\n",
       "    <tr>\n",
       "      <th>1</th>\n",
       "      <td>14th_24</td>\n",
       "      <td>14th Street Northwest</td>\n",
       "      <td>0</td>\n",
       "      <td>0</td>\n",
       "      <td>78.552727</td>\n",
       "      <td>LINESTRING (1303159.851 458181.155, 1303166.08...</td>\n",
       "    </tr>\n",
       "    <tr>\n",
       "      <th>2</th>\n",
       "      <td>14th_25</td>\n",
       "      <td>14th Street Northwest</td>\n",
       "      <td>7243</td>\n",
       "      <td>19143</td>\n",
       "      <td>284.194639</td>\n",
       "      <td>LINESTRING (1303166.082 458102.850, 1303168.09...</td>\n",
       "    </tr>\n",
       "  </tbody>\n",
       "</table>\n",
       "</div>"
      ],
      "text/plain": [
       "  seg_name_id               name_str  geoid  stop_id      length  \\\n",
       "0     14th_22  14th Street Northwest      0        0  272.507588   \n",
       "1     14th_24  14th Street Northwest      0        0   78.552727   \n",
       "2     14th_25  14th Street Northwest   7243    19143  284.194639   \n",
       "\n",
       "                                            geometry  \n",
       "0  LINESTRING (1303138.895 458452.856, 1303140.67...  \n",
       "1  LINESTRING (1303159.851 458181.155, 1303166.08...  \n",
       "2  LINESTRING (1303166.082 458102.850, 1303168.09...  "
      ]
     },
     "execution_count": 277,
     "metadata": {},
     "output_type": "execute_result"
    }
   ],
   "source": [
    "segments"
   ]
  },
  {
   "cell_type": "code",
   "execution_count": 292,
   "metadata": {
    "ExecuteTime": {
     "end_time": "2020-09-18T17:10:42.996411Z",
     "start_time": "2020-09-18T17:10:42.901410Z"
    }
   },
   "outputs": [
    {
     "data": {
      "text/html": [
       "<div>\n",
       "<style scoped>\n",
       "    .dataframe tbody tr th:only-of-type {\n",
       "        vertical-align: middle;\n",
       "    }\n",
       "\n",
       "    .dataframe tbody tr th {\n",
       "        vertical-align: top;\n",
       "    }\n",
       "\n",
       "    .dataframe thead th {\n",
       "        text-align: right;\n",
       "    }\n",
       "</style>\n",
       "<table border=\"1\" class=\"dataframe\">\n",
       "  <thead>\n",
       "    <tr style=\"text-align: right;\">\n",
       "      <th></th>\n",
       "      <th>seg_name_id</th>\n",
       "      <th>PATTERN_ID</th>\n",
       "      <th>route</th>\n",
       "      <th>pattern</th>\n",
       "      <th>direction</th>\n",
       "      <th>from_geoid</th>\n",
       "      <th>from_stop_seq</th>\n",
       "      <th>to_stop_seq</th>\n",
       "      <th>to_geoid</th>\n",
       "      <th>stop_id</th>\n",
       "    </tr>\n",
       "  </thead>\n",
       "  <tbody>\n",
       "    <tr>\n",
       "      <th>0</th>\n",
       "      <td>16203-16662</td>\n",
       "      <td>5201</td>\n",
       "      <td>52</td>\n",
       "      <td>1</td>\n",
       "      <td>SOUTH</td>\n",
       "      <td>16203</td>\n",
       "      <td>16</td>\n",
       "      <td>17</td>\n",
       "      <td>16662</td>\n",
       "      <td>19066</td>\n",
       "    </tr>\n",
       "  </tbody>\n",
       "</table>\n",
       "</div>"
      ],
      "text/plain": [
       "   seg_name_id PATTERN_ID route  pattern direction  from_geoid  from_stop_seq  \\\n",
       "0  16203-16662       5201    52        1     SOUTH       16203             16   \n",
       "\n",
       "   to_stop_seq  to_geoid  stop_id  \n",
       "0           17     16662    19066  "
      ]
     },
     "execution_count": 292,
     "metadata": {},
     "output_type": "execute_result"
    }
   ],
   "source": [
    "\n",
    "seg_pattern = pd.read_csv(os.path.join(path_segments,\"test_seg_pattern_5201.csv\"),\n",
    "                         dtype={'route':str, 'PATTERN_ID':str})\n",
    "seg_pattern"
   ]
  },
  {
   "cell_type": "code",
   "execution_count": 279,
   "metadata": {
    "ExecuteTime": {
     "end_time": "2020-09-18T17:09:25.412855Z",
     "start_time": "2020-09-18T17:09:25.313779Z"
    }
   },
   "outputs": [],
   "source": [
    "wmata_schedule_dat = (\n",
    "    pd.read_csv(\n",
    "        os.path.join(path_sp, \"wmata_schedule_data_q_jump_routes.csv\"),\n",
    "        index_col = 0\n",
    "    )\n",
    "    .reset_index(drop=True)\n",
    ")"
   ]
  },
  {
   "cell_type": "code",
   "execution_count": 280,
   "metadata": {
    "ExecuteTime": {
     "end_time": "2020-09-18T17:09:26.052125Z",
     "start_time": "2020-09-18T17:09:25.966087Z"
    }
   },
   "outputs": [],
   "source": [
    "# 3 Merge Additional Geometry\n",
    "####################################################################################################\n",
    "\n",
    "# 3.1 Rawnav-Segment ########################\n",
    "\n",
    "# Make Output Directory\n",
    "path_seg_summary = os.path.join(path_processed_data, \"segment_summary.parquet\")\n",
    "shutil.rmtree(path_seg_summary, ignore_errors=True) \n",
    "os.mkdir(path_seg_summary)\n",
    "\n",
    "path_seg_index = os.path.join(path_processed_data, \"segment_index.parquet\")\n",
    "shutil.rmtree(path_seg_index, ignore_errors=True) \n",
    "os.mkdir(path_seg_index)"
   ]
  },
  {
   "cell_type": "markdown",
   "metadata": {},
   "source": [
    "# issues with the script below - try one combination step by step"
   ]
  },
  {
   "cell_type": "code",
   "execution_count": 281,
   "metadata": {
    "ExecuteTime": {
     "end_time": "2020-09-18T17:09:26.701681Z",
     "start_time": "2020-09-18T17:09:26.588109Z"
    }
   },
   "outputs": [],
   "source": [
    "analysis_route = '52'\n",
    "analysis_day = 'Monday'\n",
    "try:\n",
    "    rawnav_dat = (\n",
    "        wr.read_cleaned_rawnav(\n",
    "           analysis_routes_ = analysis_route,\n",
    "           analysis_days_ = analysis_day,\n",
    "           path = os.path.join(path_processed_data, \"rawnav_data.parquet\"))\n",
    "        .drop(columns=['blank', 'lat_raw', 'long_raw', 'sat_cnt'])\n",
    "        )\n",
    "except:\n",
    "    print(f'No data on analysis route {analysis_route} for {analysis_day}')"
   ]
  },
  {
   "cell_type": "code",
   "execution_count": 282,
   "metadata": {
    "ExecuteTime": {
     "end_time": "2020-09-18T17:09:26.881773Z",
     "start_time": "2020-09-18T17:09:26.782827Z"
    }
   },
   "outputs": [
    {
     "data": {
      "text/html": [
       "<div>\n",
       "<style scoped>\n",
       "    .dataframe tbody tr th:only-of-type {\n",
       "        vertical-align: middle;\n",
       "    }\n",
       "\n",
       "    .dataframe tbody tr th {\n",
       "        vertical-align: top;\n",
       "    }\n",
       "\n",
       "    .dataframe thead th {\n",
       "        text-align: right;\n",
       "    }\n",
       "</style>\n",
       "<table border=\"1\" class=\"dataframe\">\n",
       "  <thead>\n",
       "    <tr style=\"text-align: right;\">\n",
       "      <th></th>\n",
       "      <th>index_loc</th>\n",
       "      <th>lat</th>\n",
       "      <th>long</th>\n",
       "      <th>heading</th>\n",
       "      <th>door_state</th>\n",
       "      <th>veh_state</th>\n",
       "      <th>odom_ft</th>\n",
       "      <th>sec_past_st</th>\n",
       "      <th>stop_window</th>\n",
       "      <th>row_before_apc</th>\n",
       "      <th>route_pattern</th>\n",
       "      <th>pattern</th>\n",
       "      <th>index_run_start</th>\n",
       "      <th>index_run_end</th>\n",
       "      <th>filename</th>\n",
       "      <th>start_date_time</th>\n",
       "      <th>route</th>\n",
       "      <th>wday</th>\n",
       "    </tr>\n",
       "  </thead>\n",
       "  <tbody>\n",
       "    <tr>\n",
       "      <th>0</th>\n",
       "      <td>3801.0</td>\n",
       "      <td>38.955658</td>\n",
       "      <td>-77.033155</td>\n",
       "      <td>257.0</td>\n",
       "      <td>O</td>\n",
       "      <td>S</td>\n",
       "      <td>0.0</td>\n",
       "      <td>0.0</td>\n",
       "      <td></td>\n",
       "      <td>0.0</td>\n",
       "      <td>5201</td>\n",
       "      <td>1</td>\n",
       "      <td>3801.0</td>\n",
       "      <td>5405.0</td>\n",
       "      <td>rawnav07164191119.txt</td>\n",
       "      <td>2019-11-18 18:41:00</td>\n",
       "      <td>52</td>\n",
       "      <td>Monday</td>\n",
       "    </tr>\n",
       "    <tr>\n",
       "      <th>1</th>\n",
       "      <td>3802.0</td>\n",
       "      <td>38.955658</td>\n",
       "      <td>-77.033155</td>\n",
       "      <td>257.0</td>\n",
       "      <td>O</td>\n",
       "      <td>S</td>\n",
       "      <td>0.0</td>\n",
       "      <td>1.0</td>\n",
       "      <td>X-1</td>\n",
       "      <td>0.0</td>\n",
       "      <td>5201</td>\n",
       "      <td>1</td>\n",
       "      <td>3801.0</td>\n",
       "      <td>5405.0</td>\n",
       "      <td>rawnav07164191119.txt</td>\n",
       "      <td>2019-11-18 18:41:00</td>\n",
       "      <td>52</td>\n",
       "      <td>Monday</td>\n",
       "    </tr>\n",
       "    <tr>\n",
       "      <th>2</th>\n",
       "      <td>3803.0</td>\n",
       "      <td>38.955658</td>\n",
       "      <td>-77.033155</td>\n",
       "      <td>257.0</td>\n",
       "      <td>O</td>\n",
       "      <td>S</td>\n",
       "      <td>0.0</td>\n",
       "      <td>1.0</td>\n",
       "      <td>E00</td>\n",
       "      <td>1.0</td>\n",
       "      <td>5201</td>\n",
       "      <td>1</td>\n",
       "      <td>3801.0</td>\n",
       "      <td>5405.0</td>\n",
       "      <td>rawnav07164191119.txt</td>\n",
       "      <td>2019-11-18 18:41:00</td>\n",
       "      <td>52</td>\n",
       "      <td>Monday</td>\n",
       "    </tr>\n",
       "    <tr>\n",
       "      <th>3</th>\n",
       "      <td>3805.0</td>\n",
       "      <td>38.955655</td>\n",
       "      <td>-77.033183</td>\n",
       "      <td>257.0</td>\n",
       "      <td>C</td>\n",
       "      <td>S</td>\n",
       "      <td>8.0</td>\n",
       "      <td>32.0</td>\n",
       "      <td></td>\n",
       "      <td>0.0</td>\n",
       "      <td>5201</td>\n",
       "      <td>1</td>\n",
       "      <td>3801.0</td>\n",
       "      <td>5405.0</td>\n",
       "      <td>rawnav07164191119.txt</td>\n",
       "      <td>2019-11-18 18:41:00</td>\n",
       "      <td>52</td>\n",
       "      <td>Monday</td>\n",
       "    </tr>\n",
       "    <tr>\n",
       "      <th>4</th>\n",
       "      <td>3806.0</td>\n",
       "      <td>38.955655</td>\n",
       "      <td>-77.033210</td>\n",
       "      <td>277.0</td>\n",
       "      <td>C</td>\n",
       "      <td>M</td>\n",
       "      <td>18.0</td>\n",
       "      <td>188.0</td>\n",
       "      <td></td>\n",
       "      <td>0.0</td>\n",
       "      <td>5201</td>\n",
       "      <td>1</td>\n",
       "      <td>3801.0</td>\n",
       "      <td>5405.0</td>\n",
       "      <td>rawnav07164191119.txt</td>\n",
       "      <td>2019-11-18 18:41:00</td>\n",
       "      <td>52</td>\n",
       "      <td>Monday</td>\n",
       "    </tr>\n",
       "  </tbody>\n",
       "</table>\n",
       "</div>"
      ],
      "text/plain": [
       "   index_loc        lat       long  heading door_state veh_state  odom_ft  \\\n",
       "0     3801.0  38.955658 -77.033155    257.0          O         S      0.0   \n",
       "1     3802.0  38.955658 -77.033155    257.0          O         S      0.0   \n",
       "2     3803.0  38.955658 -77.033155    257.0          O         S      0.0   \n",
       "3     3805.0  38.955655 -77.033183    257.0          C         S      8.0   \n",
       "4     3806.0  38.955655 -77.033210    277.0          C         M     18.0   \n",
       "\n",
       "   sec_past_st stop_window  row_before_apc route_pattern  pattern  \\\n",
       "0          0.0                         0.0          5201        1   \n",
       "1          1.0         X-1             0.0          5201        1   \n",
       "2          1.0         E00             1.0          5201        1   \n",
       "3         32.0                         0.0          5201        1   \n",
       "4        188.0                         0.0          5201        1   \n",
       "\n",
       "   index_run_start  index_run_end               filename     start_date_time  \\\n",
       "0           3801.0         5405.0  rawnav07164191119.txt 2019-11-18 18:41:00   \n",
       "1           3801.0         5405.0  rawnav07164191119.txt 2019-11-18 18:41:00   \n",
       "2           3801.0         5405.0  rawnav07164191119.txt 2019-11-18 18:41:00   \n",
       "3           3801.0         5405.0  rawnav07164191119.txt 2019-11-18 18:41:00   \n",
       "4           3801.0         5405.0  rawnav07164191119.txt 2019-11-18 18:41:00   \n",
       "\n",
       "  route    wday  \n",
       "0    52  Monday  \n",
       "1    52  Monday  \n",
       "2    52  Monday  \n",
       "3    52  Monday  \n",
       "4    52  Monday  "
      ]
     },
     "execution_count": 282,
     "metadata": {},
     "output_type": "execute_result"
    }
   ],
   "source": [
    "rawnav_dat.head()"
   ]
  },
  {
   "cell_type": "code",
   "execution_count": 283,
   "metadata": {
    "ExecuteTime": {
     "end_time": "2020-09-18T17:09:27.293694Z",
     "start_time": "2020-09-18T17:09:27.172950Z"
    }
   },
   "outputs": [],
   "source": [
    "rawnav_summary_dat = (\n",
    "                wr.read_cleaned_rawnav(\n",
    "                    analysis_routes_ = analysis_route,\n",
    "                    analysis_days_ = analysis_day,\n",
    "                    path = os.path.join(path_processed_data, \"rawnav_summary.parquet\")\n",
    "                )\n",
    "            )\n",
    "\n",
    "# Subset Rawnav Data to Records Desired\n",
    "rawnav_summary_dat = rawnav_summary_dat.query('not (run_duration_from_sec < 600 | dist_odom_mi < 2)')\n",
    "\n",
    "rawnav_qjump_dat = rawnav_dat.merge(rawnav_summary_dat[['filename', 'index_run_start']], \n",
    "                                    on=['filename', 'index_run_start'],\n",
    "                                    how='right')"
   ]
  },
  {
   "cell_type": "code",
   "execution_count": 284,
   "metadata": {
    "ExecuteTime": {
     "end_time": "2020-09-18T17:09:28.003564Z",
     "start_time": "2020-09-18T17:09:27.428336Z"
    }
   },
   "outputs": [],
   "source": [
    "# Address Remaining Col Format issues\n",
    "rawnav_qjump_gdf = (\n",
    "gpd.GeoDataFrame(\n",
    "    rawnav_qjump_dat, \n",
    "    geometry = gpd.points_from_xy(\n",
    "        rawnav_qjump_dat.long,\n",
    "        rawnav_qjump_dat.lat\n",
    "    ),\n",
    "    crs='EPSG:4326')\n",
    ".to_crs(epsg=wmata_crs)\n",
    ")"
   ]
  },
  {
   "cell_type": "code",
   "execution_count": 285,
   "metadata": {
    "ExecuteTime": {
     "end_time": "2020-09-18T17:09:28.087532Z",
     "start_time": "2020-09-18T17:09:28.005350Z"
    }
   },
   "outputs": [],
   "source": [
    "# Iterate on over Pattern-Segments Combinations Applicable to Route\n",
    "xwalk_seg_pattern_subset = seg_pattern[['route','pattern','seg_name_id']].copy()"
   ]
  },
  {
   "cell_type": "code",
   "execution_count": 286,
   "metadata": {
    "ExecuteTime": {
     "end_time": "2020-09-18T17:09:28.320674Z",
     "start_time": "2020-09-18T17:09:28.232707Z"
    }
   },
   "outputs": [
    {
     "data": {
      "text/html": [
       "<div>\n",
       "<style scoped>\n",
       "    .dataframe tbody tr th:only-of-type {\n",
       "        vertical-align: middle;\n",
       "    }\n",
       "\n",
       "    .dataframe tbody tr th {\n",
       "        vertical-align: top;\n",
       "    }\n",
       "\n",
       "    .dataframe thead th {\n",
       "        text-align: right;\n",
       "    }\n",
       "</style>\n",
       "<table border=\"1\" class=\"dataframe\">\n",
       "  <thead>\n",
       "    <tr style=\"text-align: right;\">\n",
       "      <th></th>\n",
       "      <th>route</th>\n",
       "      <th>pattern</th>\n",
       "      <th>seg_name_id</th>\n",
       "    </tr>\n",
       "  </thead>\n",
       "  <tbody>\n",
       "    <tr>\n",
       "      <th>0</th>\n",
       "      <td>52</td>\n",
       "      <td>1</td>\n",
       "      <td>14th_22</td>\n",
       "    </tr>\n",
       "    <tr>\n",
       "      <th>1</th>\n",
       "      <td>52</td>\n",
       "      <td>1</td>\n",
       "      <td>14th_24</td>\n",
       "    </tr>\n",
       "    <tr>\n",
       "      <th>2</th>\n",
       "      <td>52</td>\n",
       "      <td>1</td>\n",
       "      <td>14th_25</td>\n",
       "    </tr>\n",
       "  </tbody>\n",
       "</table>\n",
       "</div>"
      ],
      "text/plain": [
       "  route  pattern seg_name_id\n",
       "0    52        1     14th_22\n",
       "1    52        1     14th_24\n",
       "2    52        1     14th_25"
      ]
     },
     "execution_count": 286,
     "metadata": {},
     "output_type": "execute_result"
    }
   ],
   "source": [
    "xwalk_seg_pattern_subset"
   ]
  },
  {
   "cell_type": "code",
   "execution_count": 287,
   "metadata": {
    "ExecuteTime": {
     "end_time": "2020-09-18T17:09:29.447129Z",
     "start_time": "2020-09-18T17:09:29.365130Z"
    }
   },
   "outputs": [
    {
     "data": {
      "text/plain": [
       "'14th_22'"
      ]
     },
     "execution_count": 287,
     "metadata": {},
     "output_type": "execute_result"
    }
   ],
   "source": [
    "seg = xwalk_seg_pattern_subset.loc[:,'seg_name_id'].values[0]\n",
    "seg"
   ]
  },
  {
   "cell_type": "code",
   "execution_count": 288,
   "metadata": {
    "ExecuteTime": {
     "end_time": "2020-09-18T17:09:30.799300Z",
     "start_time": "2020-09-18T17:09:30.711288Z"
    }
   },
   "outputs": [
    {
     "data": {
      "text/html": [
       "<div>\n",
       "<style scoped>\n",
       "    .dataframe tbody tr th:only-of-type {\n",
       "        vertical-align: middle;\n",
       "    }\n",
       "\n",
       "    .dataframe tbody tr th {\n",
       "        vertical-align: top;\n",
       "    }\n",
       "\n",
       "    .dataframe thead th {\n",
       "        text-align: right;\n",
       "    }\n",
       "</style>\n",
       "<table border=\"1\" class=\"dataframe\">\n",
       "  <thead>\n",
       "    <tr style=\"text-align: right;\">\n",
       "      <th></th>\n",
       "      <th>seg_name_id</th>\n",
       "      <th>name_str</th>\n",
       "      <th>geoid</th>\n",
       "      <th>stop_id</th>\n",
       "      <th>length</th>\n",
       "      <th>geometry</th>\n",
       "    </tr>\n",
       "  </thead>\n",
       "  <tbody>\n",
       "    <tr>\n",
       "      <th>0</th>\n",
       "      <td>14th_22</td>\n",
       "      <td>14th Street Northwest</td>\n",
       "      <td>0</td>\n",
       "      <td>0</td>\n",
       "      <td>272.507588</td>\n",
       "      <td>LINESTRING (1303138.895 458452.856, 1303140.67...</td>\n",
       "    </tr>\n",
       "  </tbody>\n",
       "</table>\n",
       "</div>"
      ],
      "text/plain": [
       "  seg_name_id               name_str  geoid  stop_id      length  \\\n",
       "0     14th_22  14th Street Northwest      0        0  272.507588   \n",
       "\n",
       "                                            geometry  \n",
       "0  LINESTRING (1303138.895 458452.856, 1303140.67...  "
      ]
     },
     "execution_count": 288,
     "metadata": {},
     "output_type": "execute_result"
    }
   ],
   "source": [
    "segments.loc[segments.seg_name_id == seg]"
   ]
  },
  {
   "cell_type": "code",
   "execution_count": 289,
   "metadata": {
    "ExecuteTime": {
     "end_time": "2020-09-18T17:09:31.019860Z",
     "start_time": "2020-09-18T17:09:30.933640Z"
    }
   },
   "outputs": [
    {
     "data": {
      "text/html": [
       "<div>\n",
       "<style scoped>\n",
       "    .dataframe tbody tr th:only-of-type {\n",
       "        vertical-align: middle;\n",
       "    }\n",
       "\n",
       "    .dataframe tbody tr th {\n",
       "        vertical-align: top;\n",
       "    }\n",
       "\n",
       "    .dataframe thead th {\n",
       "        text-align: right;\n",
       "    }\n",
       "</style>\n",
       "<table border=\"1\" class=\"dataframe\">\n",
       "  <thead>\n",
       "    <tr style=\"text-align: right;\">\n",
       "      <th></th>\n",
       "      <th>route</th>\n",
       "      <th>pattern</th>\n",
       "      <th>seg_name_id</th>\n",
       "    </tr>\n",
       "  </thead>\n",
       "  <tbody>\n",
       "    <tr>\n",
       "      <th>0</th>\n",
       "      <td>52</td>\n",
       "      <td>1</td>\n",
       "      <td>14th_22</td>\n",
       "    </tr>\n",
       "  </tbody>\n",
       "</table>\n",
       "</div>"
      ],
      "text/plain": [
       "  route  pattern seg_name_id\n",
       "0    52        1     14th_22"
      ]
     },
     "execution_count": 289,
     "metadata": {},
     "output_type": "execute_result"
    }
   ],
   "source": [
    "xwalk_seg_pattern_subset.loc[xwalk_seg_pattern_subset.seg_name_id == seg]"
   ]
  },
  {
   "cell_type": "code",
   "execution_count": 290,
   "metadata": {
    "ExecuteTime": {
     "end_time": "2020-09-18T17:09:32.157378Z",
     "start_time": "2020-09-18T17:09:32.061860Z"
    }
   },
   "outputs": [
    {
     "data": {
      "text/html": [
       "<div>\n",
       "<style scoped>\n",
       "    .dataframe tbody tr th:only-of-type {\n",
       "        vertical-align: middle;\n",
       "    }\n",
       "\n",
       "    .dataframe tbody tr th {\n",
       "        vertical-align: top;\n",
       "    }\n",
       "\n",
       "    .dataframe thead th {\n",
       "        text-align: right;\n",
       "    }\n",
       "</style>\n",
       "<table border=\"1\" class=\"dataframe\">\n",
       "  <thead>\n",
       "    <tr style=\"text-align: right;\">\n",
       "      <th></th>\n",
       "      <th>index_loc</th>\n",
       "      <th>lat</th>\n",
       "      <th>long</th>\n",
       "      <th>heading</th>\n",
       "      <th>door_state</th>\n",
       "      <th>veh_state</th>\n",
       "      <th>odom_ft</th>\n",
       "      <th>sec_past_st</th>\n",
       "      <th>stop_window</th>\n",
       "      <th>row_before_apc</th>\n",
       "      <th>route_pattern</th>\n",
       "      <th>pattern</th>\n",
       "      <th>index_run_start</th>\n",
       "      <th>index_run_end</th>\n",
       "      <th>filename</th>\n",
       "      <th>start_date_time</th>\n",
       "      <th>route</th>\n",
       "      <th>wday</th>\n",
       "      <th>geometry</th>\n",
       "    </tr>\n",
       "  </thead>\n",
       "  <tbody>\n",
       "    <tr>\n",
       "      <th>0</th>\n",
       "      <td>3801.0</td>\n",
       "      <td>38.955658</td>\n",
       "      <td>-77.033155</td>\n",
       "      <td>257.0</td>\n",
       "      <td>O</td>\n",
       "      <td>S</td>\n",
       "      <td>0.0</td>\n",
       "      <td>0.0</td>\n",
       "      <td></td>\n",
       "      <td>0.0</td>\n",
       "      <td>5201</td>\n",
       "      <td>1</td>\n",
       "      <td>3801.0</td>\n",
       "      <td>5405.0</td>\n",
       "      <td>rawnav07164191119.txt</td>\n",
       "      <td>2019-11-18 18:41:00</td>\n",
       "      <td>52</td>\n",
       "      <td>Monday</td>\n",
       "      <td>POINT (1302904.219 469435.789)</td>\n",
       "    </tr>\n",
       "    <tr>\n",
       "      <th>1</th>\n",
       "      <td>3802.0</td>\n",
       "      <td>38.955658</td>\n",
       "      <td>-77.033155</td>\n",
       "      <td>257.0</td>\n",
       "      <td>O</td>\n",
       "      <td>S</td>\n",
       "      <td>0.0</td>\n",
       "      <td>1.0</td>\n",
       "      <td>X-1</td>\n",
       "      <td>0.0</td>\n",
       "      <td>5201</td>\n",
       "      <td>1</td>\n",
       "      <td>3801.0</td>\n",
       "      <td>5405.0</td>\n",
       "      <td>rawnav07164191119.txt</td>\n",
       "      <td>2019-11-18 18:41:00</td>\n",
       "      <td>52</td>\n",
       "      <td>Monday</td>\n",
       "      <td>POINT (1302904.219 469435.789)</td>\n",
       "    </tr>\n",
       "    <tr>\n",
       "      <th>2</th>\n",
       "      <td>3803.0</td>\n",
       "      <td>38.955658</td>\n",
       "      <td>-77.033155</td>\n",
       "      <td>257.0</td>\n",
       "      <td>O</td>\n",
       "      <td>S</td>\n",
       "      <td>0.0</td>\n",
       "      <td>1.0</td>\n",
       "      <td>E00</td>\n",
       "      <td>1.0</td>\n",
       "      <td>5201</td>\n",
       "      <td>1</td>\n",
       "      <td>3801.0</td>\n",
       "      <td>5405.0</td>\n",
       "      <td>rawnav07164191119.txt</td>\n",
       "      <td>2019-11-18 18:41:00</td>\n",
       "      <td>52</td>\n",
       "      <td>Monday</td>\n",
       "      <td>POINT (1302904.219 469435.789)</td>\n",
       "    </tr>\n",
       "  </tbody>\n",
       "</table>\n",
       "</div>"
      ],
      "text/plain": [
       "   index_loc        lat       long  heading door_state veh_state  odom_ft  \\\n",
       "0     3801.0  38.955658 -77.033155    257.0          O         S      0.0   \n",
       "1     3802.0  38.955658 -77.033155    257.0          O         S      0.0   \n",
       "2     3803.0  38.955658 -77.033155    257.0          O         S      0.0   \n",
       "\n",
       "   sec_past_st stop_window  row_before_apc route_pattern  pattern  \\\n",
       "0          0.0                         0.0          5201        1   \n",
       "1          1.0         X-1             0.0          5201        1   \n",
       "2          1.0         E00             1.0          5201        1   \n",
       "\n",
       "   index_run_start  index_run_end               filename     start_date_time  \\\n",
       "0           3801.0         5405.0  rawnav07164191119.txt 2019-11-18 18:41:00   \n",
       "1           3801.0         5405.0  rawnav07164191119.txt 2019-11-18 18:41:00   \n",
       "2           3801.0         5405.0  rawnav07164191119.txt 2019-11-18 18:41:00   \n",
       "\n",
       "  route    wday                        geometry  \n",
       "0    52  Monday  POINT (1302904.219 469435.789)  \n",
       "1    52  Monday  POINT (1302904.219 469435.789)  \n",
       "2    52  Monday  POINT (1302904.219 469435.789)  "
      ]
     },
     "execution_count": 290,
     "metadata": {},
     "output_type": "execute_result"
    }
   ],
   "source": [
    "rawnav_qjump_gdf.head(3)"
   ]
  },
  {
   "cell_type": "code",
   "execution_count": 254,
   "metadata": {
    "ExecuteTime": {
     "end_time": "2020-09-18T17:04:03.268942Z",
     "start_time": "2020-09-18T17:04:03.182250Z"
    }
   },
   "outputs": [],
   "source": [
    "rawnav_gdf_ = rawnav_qjump_gdf\n",
    "rawnav_sum_dat_ = rawnav_summary_dat\n",
    "target_ = segments.loc[segments.seg_name_id == seg]\n",
    "patterns_by_seg_ = xwalk_seg_pattern_subset.loc[xwalk_seg_pattern_subset.seg_name_id == seg]"
   ]
  },
  {
   "cell_type": "code",
   "execution_count": 255,
   "metadata": {
    "ExecuteTime": {
     "end_time": "2020-09-18T17:04:03.497456Z",
     "start_time": "2020-09-18T17:04:03.400291Z"
    }
   },
   "outputs": [],
   "source": [
    "seg_length = (\n",
    "        target_\n",
    "        .to_crs(2248)\n",
    "        .geometry\n",
    "        .length\n",
    "        .iloc[0] #return a float\n",
    "    )\n",
    "    \n",
    "# Subset segment shapes to current segment and add route identifier\n",
    "seg_pattern_shape = (\n",
    "target_\n",
    "# Add route and pattern identifier\n",
    ".merge(\n",
    "    patterns_by_seg_,\n",
    "    on = ['seg_name_id'],\n",
    "    how = \"left\")\n",
    ")"
   ]
  },
  {
   "cell_type": "code",
   "execution_count": 256,
   "metadata": {
    "ExecuteTime": {
     "end_time": "2020-09-18T17:04:03.795720Z",
     "start_time": "2020-09-18T17:04:03.705643Z"
    }
   },
   "outputs": [],
   "source": [
    "# Prepare segment shape for merge    \n",
    "seg_pattern_first_last = wr.explode_first_last(seg_pattern_shape)"
   ]
  },
  {
   "cell_type": "code",
   "execution_count": 257,
   "metadata": {
    "ExecuteTime": {
     "end_time": "2020-09-18T17:04:04.000267Z",
     "start_time": "2020-09-18T17:04:03.913272Z"
    }
   },
   "outputs": [
    {
     "data": {
      "text/html": [
       "<div>\n",
       "<style scoped>\n",
       "    .dataframe tbody tr th:only-of-type {\n",
       "        vertical-align: middle;\n",
       "    }\n",
       "\n",
       "    .dataframe tbody tr th {\n",
       "        vertical-align: top;\n",
       "    }\n",
       "\n",
       "    .dataframe thead th {\n",
       "        text-align: right;\n",
       "    }\n",
       "</style>\n",
       "<table border=\"1\" class=\"dataframe\">\n",
       "  <thead>\n",
       "    <tr style=\"text-align: right;\">\n",
       "      <th></th>\n",
       "      <th>seg_name_id</th>\n",
       "      <th>length</th>\n",
       "      <th>route</th>\n",
       "      <th>pattern</th>\n",
       "      <th>location</th>\n",
       "      <th>geometry</th>\n",
       "    </tr>\n",
       "  </thead>\n",
       "  <tbody>\n",
       "    <tr>\n",
       "      <th>0</th>\n",
       "      <td>16203-16662</td>\n",
       "      <td>248.484</td>\n",
       "      <td>52</td>\n",
       "      <td>1</td>\n",
       "      <td>first</td>\n",
       "      <td>POINT (1303038.504 459653.332)</td>\n",
       "    </tr>\n",
       "    <tr>\n",
       "      <th>1</th>\n",
       "      <td>16203-16662</td>\n",
       "      <td>248.484</td>\n",
       "      <td>52</td>\n",
       "      <td>1</td>\n",
       "      <td>last</td>\n",
       "      <td>POINT (1303104.952 458842.234)</td>\n",
       "    </tr>\n",
       "  </tbody>\n",
       "</table>\n",
       "</div>"
      ],
      "text/plain": [
       "   seg_name_id   length route pattern location                        geometry\n",
       "0  16203-16662  248.484    52       1    first  POINT (1303038.504 459653.332)\n",
       "1  16203-16662  248.484    52       1     last  POINT (1303104.952 458842.234)"
      ]
     },
     "execution_count": 257,
     "metadata": {},
     "output_type": "execute_result"
    }
   ],
   "source": [
    "seg_pattern_first_last"
   ]
  },
  {
   "cell_type": "code",
   "execution_count": 258,
   "metadata": {
    "ExecuteTime": {
     "end_time": "2020-09-18T17:04:04.243070Z",
     "start_time": "2020-09-18T17:04:04.154492Z"
    }
   },
   "outputs": [],
   "source": [
    "target_dat = seg_pattern_first_last\n",
    "rawnav_dat = rawnav_gdf_\n",
    "quiet = True"
   ]
  },
  {
   "cell_type": "code",
   "execution_count": 259,
   "metadata": {
    "ExecuteTime": {
     "end_time": "2020-09-18T17:04:04.485430Z",
     "start_time": "2020-09-18T17:04:04.392798Z"
    }
   },
   "outputs": [],
   "source": [
    "target_groups = target_dat.groupby(['route', 'pattern'])\n",
    "rawnav_groups = rawnav_dat.groupby(\n",
    "    ['route', 'pattern', 'filename', 'index_run_start'])"
   ]
  },
  {
   "cell_type": "code",
   "execution_count": 260,
   "metadata": {
    "ExecuteTime": {
     "end_time": "2020-09-18T17:04:04.688366Z",
     "start_time": "2020-09-18T17:04:04.600816Z"
    }
   },
   "outputs": [
    {
     "data": {
      "text/html": [
       "<div>\n",
       "<style scoped>\n",
       "    .dataframe tbody tr th:only-of-type {\n",
       "        vertical-align: middle;\n",
       "    }\n",
       "\n",
       "    .dataframe tbody tr th {\n",
       "        vertical-align: top;\n",
       "    }\n",
       "\n",
       "    .dataframe thead th {\n",
       "        text-align: right;\n",
       "    }\n",
       "</style>\n",
       "<table border=\"1\" class=\"dataframe\">\n",
       "  <thead>\n",
       "    <tr style=\"text-align: right;\">\n",
       "      <th></th>\n",
       "      <th>seg_name_id</th>\n",
       "      <th>length</th>\n",
       "      <th>route</th>\n",
       "      <th>pattern</th>\n",
       "      <th>location</th>\n",
       "      <th>geometry</th>\n",
       "    </tr>\n",
       "  </thead>\n",
       "  <tbody>\n",
       "    <tr>\n",
       "      <th>0</th>\n",
       "      <td>16203-16662</td>\n",
       "      <td>248.484</td>\n",
       "      <td>52</td>\n",
       "      <td>1</td>\n",
       "      <td>first</td>\n",
       "      <td>POINT (1303038.504 459653.332)</td>\n",
       "    </tr>\n",
       "    <tr>\n",
       "      <th>1</th>\n",
       "      <td>16203-16662</td>\n",
       "      <td>248.484</td>\n",
       "      <td>52</td>\n",
       "      <td>1</td>\n",
       "      <td>last</td>\n",
       "      <td>POINT (1303104.952 458842.234)</td>\n",
       "    </tr>\n",
       "  </tbody>\n",
       "</table>\n",
       "</div>"
      ],
      "text/plain": [
       "   seg_name_id   length route pattern location                        geometry\n",
       "0  16203-16662  248.484    52       1    first  POINT (1303038.504 459653.332)\n",
       "1  16203-16662  248.484    52       1     last  POINT (1303104.952 458842.234)"
      ]
     },
     "execution_count": 260,
     "metadata": {},
     "output_type": "execute_result"
    }
   ],
   "source": [
    "target_dat"
   ]
  },
  {
   "cell_type": "code",
   "execution_count": 261,
   "metadata": {
    "ExecuteTime": {
     "end_time": "2020-09-18T17:04:04.925806Z",
     "start_time": "2020-09-18T17:04:04.842778Z"
    }
   },
   "outputs": [
    {
     "data": {
      "text/plain": [
       "seg_name_id      object\n",
       "length           object\n",
       "route            object\n",
       "pattern          object\n",
       "location         object\n",
       "geometry       geometry\n",
       "dtype: object"
      ]
     },
     "execution_count": 261,
     "metadata": {},
     "output_type": "execute_result"
    }
   ],
   "source": [
    "target_dat.dtypes"
   ]
  },
  {
   "cell_type": "code",
   "execution_count": 262,
   "metadata": {
    "ExecuteTime": {
     "end_time": "2020-09-18T17:04:05.149539Z",
     "start_time": "2020-09-18T17:04:05.065030Z"
    }
   },
   "outputs": [
    {
     "data": {
      "text/plain": [
       "index_loc                 float64\n",
       "lat                       float64\n",
       "long                      float64\n",
       "heading                   float64\n",
       "door_state                 object\n",
       "veh_state                  object\n",
       "odom_ft                   float64\n",
       "sec_past_st               float64\n",
       "stop_window                object\n",
       "row_before_apc            float64\n",
       "route_pattern              object\n",
       "pattern                     int32\n",
       "index_run_start           float64\n",
       "index_run_end             float64\n",
       "filename                   object\n",
       "start_date_time    datetime64[ns]\n",
       "route                      object\n",
       "wday                       object\n",
       "geometry                 geometry\n",
       "dtype: object"
      ]
     },
     "execution_count": 262,
     "metadata": {},
     "output_type": "execute_result"
    }
   ],
   "source": [
    "rawnav_dat.dtypes"
   ]
  },
  {
   "cell_type": "code",
   "execution_count": 263,
   "metadata": {
    "ExecuteTime": {
     "end_time": "2020-09-18T17:04:05.451740Z",
     "start_time": "2020-09-18T17:04:05.369189Z"
    }
   },
   "outputs": [],
   "source": [
    "nearest_rawnav_point_to_target_dat = pd.DataFrame()"
   ]
  },
  {
   "cell_type": "code",
   "execution_count": 270,
   "metadata": {
    "ExecuteTime": {
     "end_time": "2020-09-18T17:07:27.120235Z",
     "start_time": "2020-09-18T17:07:27.028306Z"
    }
   },
   "outputs": [
    {
     "name": "stdout",
     "output_type": "stream",
     "text": [
      "('52', 1, 'rawnav07164191119.txt', 3801.0)\n",
      "('52', 1, 'rawnav07164191119.txt', 8170.0)\n",
      "('52', 1, 'rawnav07164191126.txt', 601.0)\n",
      "('52', 2, 'rawnav07164191126.txt', 2098.0)\n",
      "('52', 4, 'rawnav07164191119.txt', 5409.0)\n"
     ]
    }
   ],
   "source": [
    "for name, rawnav_group in rawnav_groups:\n",
    "    print(name)\n",
    "    try:\n",
    "        target_dat_relevant = \\\n",
    "            target_groups.get_group(\n",
    "                (name[0], name[1]))\n",
    "        nearest_rawnav_point_to_target_dat = \\\n",
    "            pd.concat([nearest_rawnav_point_to_target_dat,\n",
    "                       ll.ckdnearest(target_dat_relevant, rawnav_group)])\n",
    "    except:\n",
    "        if (quiet == False):\n",
    "            print(\"No target geometry found for {} - {}\".format(name[0],name[1]))"
   ]
  },
  {
   "cell_type": "code",
   "execution_count": 272,
   "metadata": {
    "ExecuteTime": {
     "end_time": "2020-09-18T17:07:44.749170Z",
     "start_time": "2020-09-18T17:07:44.664424Z"
    }
   },
   "outputs": [],
   "source": [
    "rawnav_group = rawnav_groups.get_group(('52', 1, 'rawnav07164191119.txt', 3801.0))"
   ]
  },
  {
   "cell_type": "code",
   "execution_count": 269,
   "metadata": {
    "ExecuteTime": {
     "end_time": "2020-09-18T17:06:24.444673Z",
     "start_time": "2020-09-18T17:06:24.347634Z"
    }
   },
   "outputs": [],
   "source": [
    "target_dat_relevant = target_groups.get_group(('52',1))"
   ]
  },
  {
   "cell_type": "code",
   "execution_count": 273,
   "metadata": {
    "ExecuteTime": {
     "end_time": "2020-09-18T17:07:50.471579Z",
     "start_time": "2020-09-18T17:07:50.341573Z"
    }
   },
   "outputs": [
    {
     "data": {
      "text/html": [
       "<div>\n",
       "<style scoped>\n",
       "    .dataframe tbody tr th:only-of-type {\n",
       "        vertical-align: middle;\n",
       "    }\n",
       "\n",
       "    .dataframe tbody tr th {\n",
       "        vertical-align: top;\n",
       "    }\n",
       "\n",
       "    .dataframe thead th {\n",
       "        text-align: right;\n",
       "    }\n",
       "</style>\n",
       "<table border=\"1\" class=\"dataframe\">\n",
       "  <thead>\n",
       "    <tr style=\"text-align: right;\">\n",
       "      <th></th>\n",
       "      <th>seg_name_id</th>\n",
       "      <th>length</th>\n",
       "      <th>route</th>\n",
       "      <th>pattern</th>\n",
       "      <th>location</th>\n",
       "      <th>geometry</th>\n",
       "      <th>filename</th>\n",
       "      <th>index_run_start</th>\n",
       "      <th>index_loc</th>\n",
       "      <th>odom_ft</th>\n",
       "      <th>sec_past_st</th>\n",
       "      <th>lat</th>\n",
       "      <th>long</th>\n",
       "      <th>dist_to_nearest_point</th>\n",
       "    </tr>\n",
       "  </thead>\n",
       "  <tbody>\n",
       "    <tr>\n",
       "      <th>0</th>\n",
       "      <td>16203-16662</td>\n",
       "      <td>248.484</td>\n",
       "      <td>52</td>\n",
       "      <td>1</td>\n",
       "      <td>first</td>\n",
       "      <td>POINT (1303038.504 459653.332)</td>\n",
       "      <td>rawnav07164191119.txt</td>\n",
       "      <td>3801.0</td>\n",
       "      <td>4274.0</td>\n",
       "      <td>10147.0</td>\n",
       "      <td>974.0</td>\n",
       "      <td>38.928787</td>\n",
       "      <td>-77.032615</td>\n",
       "      <td>16.270241</td>\n",
       "    </tr>\n",
       "    <tr>\n",
       "      <th>1</th>\n",
       "      <td>16203-16662</td>\n",
       "      <td>248.484</td>\n",
       "      <td>52</td>\n",
       "      <td>1</td>\n",
       "      <td>last</td>\n",
       "      <td>POINT (1303104.952 458842.234)</td>\n",
       "      <td>rawnav07164191119.txt</td>\n",
       "      <td>3801.0</td>\n",
       "      <td>4324.0</td>\n",
       "      <td>10982.0</td>\n",
       "      <td>1102.0</td>\n",
       "      <td>38.926582</td>\n",
       "      <td>-77.032422</td>\n",
       "      <td>5.583182</td>\n",
       "    </tr>\n",
       "  </tbody>\n",
       "</table>\n",
       "</div>"
      ],
      "text/plain": [
       "   seg_name_id   length route pattern location  \\\n",
       "0  16203-16662  248.484    52       1    first   \n",
       "1  16203-16662  248.484    52       1     last   \n",
       "\n",
       "                         geometry               filename  index_run_start  \\\n",
       "0  POINT (1303038.504 459653.332)  rawnav07164191119.txt           3801.0   \n",
       "1  POINT (1303104.952 458842.234)  rawnav07164191119.txt           3801.0   \n",
       "\n",
       "   index_loc  odom_ft  sec_past_st        lat       long  \\\n",
       "0     4274.0  10147.0        974.0  38.928787 -77.032615   \n",
       "1     4324.0  10982.0       1102.0  38.926582 -77.032422   \n",
       "\n",
       "   dist_to_nearest_point  \n",
       "0              16.270241  \n",
       "1               5.583182  "
      ]
     },
     "execution_count": 273,
     "metadata": {},
     "output_type": "execute_result"
    }
   ],
   "source": [
    "wr.ckdnearest(target_dat_relevant, rawnav_group)"
   ]
  },
  {
   "cell_type": "code",
   "execution_count": 265,
   "metadata": {
    "ExecuteTime": {
     "end_time": "2020-09-18T17:04:08.053166Z",
     "start_time": "2020-09-18T17:04:07.969157Z"
    }
   },
   "outputs": [
    {
     "data": {
      "text/html": [
       "<div>\n",
       "<style scoped>\n",
       "    .dataframe tbody tr th:only-of-type {\n",
       "        vertical-align: middle;\n",
       "    }\n",
       "\n",
       "    .dataframe tbody tr th {\n",
       "        vertical-align: top;\n",
       "    }\n",
       "\n",
       "    .dataframe thead th {\n",
       "        text-align: right;\n",
       "    }\n",
       "</style>\n",
       "<table border=\"1\" class=\"dataframe\">\n",
       "  <thead>\n",
       "    <tr style=\"text-align: right;\">\n",
       "      <th></th>\n",
       "    </tr>\n",
       "  </thead>\n",
       "  <tbody>\n",
       "  </tbody>\n",
       "</table>\n",
       "</div>"
      ],
      "text/plain": [
       "Empty DataFrame\n",
       "Columns: []\n",
       "Index: []"
      ]
     },
     "execution_count": 265,
     "metadata": {},
     "output_type": "execute_result"
    }
   ],
   "source": [
    "nearest_rawnav_point_to_target_dat"
   ]
  },
  {
   "cell_type": "code",
   "execution_count": 291,
   "metadata": {
    "ExecuteTime": {
     "end_time": "2020-09-18T17:09:54.141990Z",
     "start_time": "2020-09-18T17:09:41.822471Z"
    }
   },
   "outputs": [
    {
     "name": "stdout",
     "output_type": "stream",
     "text": [
      "****************************************************************************************************\n",
      "Processing analysis route 52\n",
      "Processing analysis route 52 for Monday...\n",
      "Processing segment 14th_22 ...\n",
      "Processing segment 14th_24 ...\n",
      "Processing segment 14th_25 ...\n",
      "Processing analysis route 52 for Tuesday...\n",
      "Processing segment 14th_22 ...\n",
      "Processing segment 14th_24 ...\n",
      "Processing segment 14th_25 ...\n",
      "Processing analysis route 52 for Wednesday...\n",
      "Processing segment 14th_22 ...\n",
      "Processing segment 14th_24 ...\n",
      "Processing segment 14th_25 ...\n",
      "Processing analysis route 52 for Thursday...\n",
      "Processing segment 14th_22 ...\n",
      "Processing segment 14th_24 ...\n",
      "Processing segment 14th_25 ...\n",
      "Processing analysis route 52 for Friday...\n",
      "Processing segment 14th_22 ...\n",
      "Processing segment 14th_24 ...\n",
      "Processing segment 14th_25 ...\n",
      "Processing analysis route 52 for Saturday...\n",
      "Processing segment 14th_22 ...\n",
      "Processing segment 14th_24 ...\n",
      "Processing segment 14th_25 ...\n"
     ]
    }
   ],
   "source": [
    "# Iterate\n",
    "for analysis_route in analysis_routes:\n",
    "    print(\"*\" * 100)\n",
    "    print(f'Processing analysis route {analysis_route}')\n",
    "    for analysis_day in analysis_days:\n",
    "        print(f'Processing analysis route {analysis_route} for {analysis_day}...')\n",
    "        \n",
    "        # Reload data\n",
    "        try:\n",
    "            rawnav_dat = (\n",
    "                wr.read_cleaned_rawnav(\n",
    "                   analysis_routes_ = analysis_route,\n",
    "                   analysis_days_ = analysis_day,\n",
    "                   path = os.path.join(path_processed_data, \"rawnav_data.parquet\"))\n",
    "                .drop(columns=['blank', 'lat_raw', 'long_raw', 'sat_cnt'])\n",
    "                )\n",
    "        except:\n",
    "            print(f'No data on analysis route {analysis_route} for {analysis_day}')\n",
    "            continue\n",
    "        else:\n",
    "   \n",
    "            # Reload Data\n",
    "            rawnav_summary_dat = (\n",
    "                wr.read_cleaned_rawnav(\n",
    "                    analysis_routes_ = analysis_route,\n",
    "                    analysis_days_ = analysis_day,\n",
    "                    path = os.path.join(path_processed_data, \"rawnav_summary.parquet\")\n",
    "                )\n",
    "            )\n",
    "\n",
    "            # Subset Rawnav Data to Records Desired\n",
    "            rawnav_summary_dat = rawnav_summary_dat.query('not (run_duration_from_sec < 600 | dist_odom_mi < 2)')\n",
    "            \n",
    "            rawnav_qjump_dat = rawnav_dat.merge(rawnav_summary_dat[['filename', 'index_run_start']], \n",
    "                                                on=['filename', 'index_run_start'],\n",
    "                                                how='right')\n",
    "            \n",
    "            # Address Remaining Col Format issues\n",
    "            rawnav_qjump_gdf = (\n",
    "                gpd.GeoDataFrame(\n",
    "                    rawnav_qjump_dat, \n",
    "                    geometry = gpd.points_from_xy(\n",
    "                        rawnav_qjump_dat.long,\n",
    "                        rawnav_qjump_dat.lat\n",
    "                    ),\n",
    "                    crs='EPSG:4326')\n",
    "                .to_crs(epsg=wmata_crs)\n",
    "            )\n",
    "    \n",
    "            # Iterate on over Pattern-Segments Combinations Applicable to Route\n",
    "            xwalk_seg_pattern_subset = seg_pattern[['route','pattern','seg_name_id']].copy()\n",
    "                        \n",
    "            for seg in xwalk_seg_pattern_subset.seg_name_id.unique():\n",
    "                print('Processing segment {} ...'.format(seg))\n",
    "\n",
    "                # We pass the rawnav data and summary tables, check against a segment,\n",
    "                # and use the patterns_by_seg to indicate which patterns should be examined\n",
    "                index_run_segment_start_end, summary_run_segment = (\n",
    "                    wr.merge_rawnav_segment(\n",
    "                        rawnav_gdf_=rawnav_qjump_gdf,\n",
    "                        rawnav_sum_dat_=rawnav_summary_dat,\n",
    "                        target_=segments.loc[segments.seg_name_id == seg],\n",
    "                        patterns_by_seg_=xwalk_seg_pattern_subset.loc[xwalk_seg_pattern_subset.seg_name_id == seg]\n",
    "                    )\n",
    "                )\n",
    "                # Note that because seg_pattern_first_last is defined for route and pattern,\n",
    "                # our summary will implicitly drop any runs that are on 'wrong' pattern(s) for \n",
    "                # a route. \n",
    "                \n",
    "                index_run_segment_start_end['wday'] = analysis_day\n",
    "                summary_run_segment['wday'] = analysis_day\n",
    "                \n",
    "                # The additional partitioning here is excessive, but if fits better in the \n",
    "                # iterative/chunking process above\n",
    "                pq.write_to_dataset(\n",
    "                    table = pa.Table.from_pandas(summary_run_segment),\n",
    "                    root_path = path_seg_summary,\n",
    "                    partition_cols = ['route','wday','seg_name_id']\n",
    "                )\n",
    "                \n",
    "                pq.write_to_dataset(\n",
    "                    table = pa.Table.from_pandas(index_run_segment_start_end),\n",
    "                    root_path = path_seg_index,\n",
    "                    partition_cols = ['route','wday','seg_name_id']\n",
    "                )"
   ]
  },
  {
   "cell_type": "code",
   "execution_count": null,
   "metadata": {},
   "outputs": [],
   "source": []
  },
  {
   "cell_type": "code",
   "execution_count": null,
   "metadata": {},
   "outputs": [],
   "source": []
  }
 ],
 "metadata": {
  "kernelspec": {
   "display_name": "Python (rawnav)",
   "language": "python",
   "name": "rawnav"
  },
  "language_info": {
   "codemirror_mode": {
    "name": "ipython",
    "version": 3
   },
   "file_extension": ".py",
   "mimetype": "text/x-python",
   "name": "python",
   "nbconvert_exporter": "python",
   "pygments_lexer": "ipython3",
   "version": "3.8.5"
  },
  "toc": {
   "base_numbering": 1,
   "nav_menu": {},
   "number_sections": true,
   "sideBar": true,
   "skip_h1_title": false,
   "title_cell": "Table of Contents",
   "title_sidebar": "Contents",
   "toc_cell": false,
   "toc_position": {},
   "toc_section_display": true,
   "toc_window_display": false
  }
 },
 "nbformat": 4,
 "nbformat_minor": 4
}
