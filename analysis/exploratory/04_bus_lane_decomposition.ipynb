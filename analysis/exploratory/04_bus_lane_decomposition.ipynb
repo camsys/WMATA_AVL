{
 "cells": [
  {
   "cell_type": "code",
   "execution_count": 1,
   "metadata": {
    "ExecuteTime": {
     "end_time": "2020-09-15T17:47:40.249784Z",
     "start_time": "2020-09-15T17:47:40.169257Z"
    }
   },
   "outputs": [],
   "source": [
    "# 0 Housekeeping. Clear variable space\n",
    "######################################\n",
    "from IPython import get_ipython  \n",
    "\n",
    "ipython = get_ipython()\n",
    "ipython.magic(\"reset -f\")\n",
    "ipython = get_ipython()\n",
    "ipython.magic(\"load_ext autoreload\")\n",
    "ipython.magic(\"autoreload 2\")"
   ]
  },
  {
   "cell_type": "code",
   "execution_count": 2,
   "metadata": {
    "ExecuteTime": {
     "end_time": "2020-09-15T17:47:41.111796Z",
     "start_time": "2020-09-15T17:47:40.503785Z"
    }
   },
   "outputs": [
    {
     "name": "stdout",
     "output_type": "stream",
     "text": [
      "Run Section 1 Import Libraries and Set Global Parameters...\n"
     ]
    }
   ],
   "source": [
    "# 1 Import Libraries and Set Global Parameters\n",
    "##############################################\n",
    "# 1.1 Import Python Libraries\n",
    "#############################\n",
    "from datetime import datetime\n",
    "print(\"Run Section 1 Import Libraries and Set Global Parameters...\")\n",
    "begin_time = datetime.now()\n",
    "\n",
    "import os, sys\n",
    "import pandas as pd\n",
    "import geopandas as gpd\n",
    "import pyarrow.parquet as pq"
   ]
  },
  {
   "cell_type": "code",
   "execution_count": 3,
   "metadata": {
    "ExecuteTime": {
     "end_time": "2020-09-15T17:47:44.110852Z",
     "start_time": "2020-09-15T17:47:44.046122Z"
    }
   },
   "outputs": [],
   "source": [
    "# 1.2 Set Global Parameters\n",
    "###########################\n",
    "\n",
    "if os.getlogin() == \"WylieTimmerman\":\n",
    "    path_working = r\"C:\\OD\\OneDrive - Foursquare ITP\\Projects\\WMATA_AVL\"\n",
    "    os.chdir(os.path.join(path_working))\n",
    "    sys.path.append(r\"C:\\OD\\OneDrive - Foursquare ITP\\Projects\\WMATA_AVL\")\n",
    "    path_sp = r\"C:\\Users\\WylieTimmerman\\Documents\\projects_local\\wmata_avl_local\"\n",
    "    path_source_data = os.path.join(path_sp,\"data\",\"00-raw\")\n",
    "    path_processed_data = os.path.join(path_sp, \"data\",\"02-processed\")\n",
    "\n",
    "elif os.getlogin() == \"abibeka\":\n",
    "    path_working = r\"C:\\Users\\abibeka\\OneDrive - Kittelson & Associates, Inc\\Documents\\Github\\WMATA_AVL\"\n",
    "    os.chdir(os.path.join(path_working))\n",
    "    sys.path.append(path_working)\n",
    "    path_source_data = r\"C:\\Users\\abibeka\\OneDrive - Kittelson & Associates, Inc\\Documents\\WMATA-AVL\\Data\"\n",
    "    path_processed_data = os.path.join(path_source_data, \"ProcessedData\")\n",
    "    \n",
    "elif os.getlogin() == \"E048374\":\n",
    "    # Working Paths\n",
    "    path_working = r\"C:\\Users\\E048374\\OneDrive - WMATA\\rawnav_rachel_fork\\WMATA_AVL\"\n",
    "    os.chdir(os.path.join(path_working))\n",
    "    sys.path.append(r\"C:\\Users\\E048374\\OneDrive - WMATA\\rawnav_rachel_fork\\WMATA_AVL\")\n",
    "    path_source_data = r\"\\\\l-600730\\RawNavArchive\"\n",
    "    path_sp = r\"C:\\Users\\E048374\\Documents\\RawNav\"\n",
    "    path_processed_data = os.path.join(path_sp, \"data\", \"02-processed\")\n",
    "    path_segments = path_processed_data\n",
    "\n",
    "else:\n",
    "    raise FileNotFoundError(\"Define the path_working, path_source_data, gtfs_dir, \\\n",
    "                            ZippedFilesloc, and path_processed_data in a new elif block\")"
   ]
  },
  {
   "cell_type": "code",
   "execution_count": 4,
   "metadata": {
    "ExecuteTime": {
     "end_time": "2020-09-15T17:47:51.858188Z",
     "start_time": "2020-09-15T17:47:51.126065Z"
    }
   },
   "outputs": [],
   "source": [
    "# Globals\n",
    "# Queue Jump Routes\n",
    "q_jump_route_list = ['52']\n",
    "analysis_routes = q_jump_route_list\n",
    "# EPSG code for WMATA-area work\n",
    "wmata_crs = 2248\n",
    "     \n",
    "# 1.3 Import User-Defined Package\n",
    "#################################\n",
    "import wmatarawnav as wr"
   ]
  },
  {
   "cell_type": "code",
   "execution_count": 5,
   "metadata": {
    "ExecuteTime": {
     "end_time": "2020-09-15T17:48:33.222782Z",
     "start_time": "2020-09-15T17:48:33.132783Z"
    }
   },
   "outputs": [
    {
     "data": {
      "text/html": [
       "<div>\n",
       "<style scoped>\n",
       "    .dataframe tbody tr th:only-of-type {\n",
       "        vertical-align: middle;\n",
       "    }\n",
       "\n",
       "    .dataframe tbody tr th {\n",
       "        vertical-align: top;\n",
       "    }\n",
       "\n",
       "    .dataframe thead th {\n",
       "        text-align: right;\n",
       "    }\n",
       "</style>\n",
       "<table border=\"1\" class=\"dataframe\">\n",
       "  <thead>\n",
       "    <tr style=\"text-align: right;\">\n",
       "      <th></th>\n",
       "      <th>seg_name_id</th>\n",
       "      <th>PATTERN_ID</th>\n",
       "      <th>route</th>\n",
       "      <th>pattern</th>\n",
       "      <th>direction</th>\n",
       "      <th>from_geoid</th>\n",
       "      <th>from_stop_seq</th>\n",
       "      <th>to_stop_seq</th>\n",
       "      <th>to_geoid</th>\n",
       "      <th>stop_id</th>\n",
       "    </tr>\n",
       "  </thead>\n",
       "  <tbody>\n",
       "    <tr>\n",
       "      <th>0</th>\n",
       "      <td>16203-16662</td>\n",
       "      <td>5201</td>\n",
       "      <td>52</td>\n",
       "      <td>1</td>\n",
       "      <td>SOUTH</td>\n",
       "      <td>16203</td>\n",
       "      <td>16</td>\n",
       "      <td>17</td>\n",
       "      <td>16662</td>\n",
       "      <td>19066</td>\n",
       "    </tr>\n",
       "  </tbody>\n",
       "</table>\n",
       "</div>"
      ],
      "text/plain": [
       "   seg_name_id PATTERN_ID route  pattern direction  from_geoid  from_stop_seq  \\\n",
       "0  16203-16662       5201    52        1     SOUTH       16203             16   \n",
       "\n",
       "   to_stop_seq  to_geoid  stop_id  \n",
       "0           17     16662    19066  "
      ]
     },
     "execution_count": 5,
     "metadata": {},
     "output_type": "execute_result"
    }
   ],
   "source": [
    "seg_pattern = pd.read_csv(os.path.join(path_segments,\"test_seg_pattern_5201.csv\"),\n",
    "                         dtype={'route':str, 'PATTERN_ID':str})\n",
    "seg_pattern"
   ]
  },
  {
   "cell_type": "code",
   "execution_count": 6,
   "metadata": {
    "ExecuteTime": {
     "end_time": "2020-09-15T17:49:08.210777Z",
     "start_time": "2020-09-15T17:49:08.126781Z"
    }
   },
   "outputs": [
    {
     "data": {
      "text/html": [
       "<div>\n",
       "<style scoped>\n",
       "    .dataframe tbody tr th:only-of-type {\n",
       "        vertical-align: middle;\n",
       "    }\n",
       "\n",
       "    .dataframe tbody tr th {\n",
       "        vertical-align: top;\n",
       "    }\n",
       "\n",
       "    .dataframe thead th {\n",
       "        text-align: right;\n",
       "    }\n",
       "</style>\n",
       "<table border=\"1\" class=\"dataframe\">\n",
       "  <thead>\n",
       "    <tr style=\"text-align: right;\">\n",
       "      <th></th>\n",
       "      <th>route</th>\n",
       "      <th>pattern</th>\n",
       "      <th>seg_name_id</th>\n",
       "      <th>stop_id</th>\n",
       "    </tr>\n",
       "  </thead>\n",
       "  <tbody>\n",
       "    <tr>\n",
       "      <th>0</th>\n",
       "      <td>52</td>\n",
       "      <td>1</td>\n",
       "      <td>16203-16662</td>\n",
       "      <td>19066</td>\n",
       "    </tr>\n",
       "  </tbody>\n",
       "</table>\n",
       "</div>"
      ],
      "text/plain": [
       "  route  pattern  seg_name_id  stop_id\n",
       "0    52        1  16203-16662    19066"
      ]
     },
     "execution_count": 6,
     "metadata": {},
     "output_type": "execute_result"
    }
   ],
   "source": [
    "xwalk_seg_pattern_stop = seg_pattern[['route','pattern','seg_name_id','stop_id']].copy()\n",
    "xwalk_seg_pattern_stop"
   ]
  },
  {
   "cell_type": "code",
   "execution_count": 7,
   "metadata": {
    "ExecuteTime": {
     "end_time": "2020-09-15T17:49:15.083264Z",
     "start_time": "2020-09-15T17:49:15.005334Z"
    }
   },
   "outputs": [],
   "source": [
    "# 2. Decompose Travel Time\n",
    "##########################\n",
    "\n",
    "# 2.0 Setup exports\n",
    "###################\n",
    "freeflow_list = []\n",
    "stop_area_decomp_list = []\n",
    "traveltime_decomp_list = []\n",
    "\n",
    "path_exports = (\n",
    "    os.path.join(\n",
    "        path_processed_data,\n",
    "        \"exports_{}\".format(datetime.now().strftime(\"%Y%m%d\"))\n",
    "    )\n",
    ")\n",
    "if not os.path.isdir(path_exports):\n",
    "    os.mkdir(path_exports)"
   ]
  },
  {
   "cell_type": "code",
   "execution_count": 8,
   "metadata": {
    "ExecuteTime": {
     "end_time": "2020-09-15T17:49:21.447414Z",
     "start_time": "2020-09-15T17:49:21.367415Z"
    }
   },
   "outputs": [
    {
     "data": {
      "text/plain": [
       "'16203-16662'"
      ]
     },
     "execution_count": 8,
     "metadata": {},
     "output_type": "execute_result"
    }
   ],
   "source": [
    "# 1 segment\n",
    "seg = xwalk_seg_pattern_stop.loc[:,'seg_name_id'].values[0]\n",
    "seg"
   ]
  },
  {
   "cell_type": "code",
   "execution_count": 12,
   "metadata": {
    "ExecuteTime": {
     "end_time": "2020-09-15T17:50:13.839344Z",
     "start_time": "2020-09-15T17:50:13.549196Z"
    }
   },
   "outputs": [
    {
     "name": "stdout",
     "output_type": "stream",
     "text": [
      "now on 16203-16662\n"
     ]
    }
   ],
   "source": [
    "print('now on {}'.format(seg))\n",
    "# 2.1. Read-in Data \n",
    "###################\n",
    "# Reduce rawnav data to runs present in the summary file after filtering.\n",
    "\n",
    "xwalk_seg_pattern_stop_fil = xwalk_seg_pattern_stop.query('seg_name_id == @seg')\n",
    "\n",
    "seg_routes = list(xwalk_seg_pattern_stop_fil.route.drop_duplicates())\n",
    "\n",
    "rawnav_dat = (\n",
    "    wr.read_cleaned_rawnav(\n",
    "       analysis_routes_ = seg_routes,\n",
    "       path = os.path.join(path_processed_data, \"rawnav_data.parquet\")\n",
    "    )\n",
    "    .drop(columns=['blank', 'lat_raw', 'long_raw', 'sat_cnt'])\n",
    ")\n",
    "\n",
    "segment_summary = (\n",
    "    pq.read_table(\n",
    "        source = os.path.join(path_processed_data,\"segment_summary.parquet\"),\n",
    "        filters = [['seg_name_id', \"=\", seg]],\n",
    "        use_pandas_metadata = True\n",
    "    )\n",
    "    .to_pandas()\n",
    ")\n",
    "\n",
    "segment_summary_fil = (\n",
    "    segment_summary\n",
    "    .query('~(flag_too_far_any\\\n",
    "              | flag_wrong_order_any\\\n",
    "              | flag_too_long_odom\\\n",
    "              | flag_secs_total_mismatch\\\n",
    "              | flag_odom_total_mismatch)'\n",
    "    )\n",
    ")"
   ]
  },
  {
   "cell_type": "code",
   "execution_count": 13,
   "metadata": {
    "ExecuteTime": {
     "end_time": "2020-09-15T17:50:25.809920Z",
     "start_time": "2020-09-15T17:50:25.683646Z"
    }
   },
   "outputs": [],
   "source": [
    "#first import stop_index -- then join seg_name_id\n",
    "stop_index = ( pq.read_table(source=os.path.join(path_processed_data,\"stop_index.parquet\"),\n",
    "                  filters=[[('route','=',route)] for route in seg_routes],\n",
    "                    columns = [ 'route',\n",
    "                                'pattern',\n",
    "                                'stop_id',\n",
    "                                'filename',\n",
    "                                'index_run_start',\n",
    "                                'index_loc',\n",
    "                                'odom_ft',\n",
    "                                'sec_past_st',\n",
    "                                'geo_description'],\n",
    "                  use_pandas_metadata = True\n",
    "    )\n",
    "    .to_pandas())"
   ]
  },
  {
   "cell_type": "code",
   "execution_count": 14,
   "metadata": {
    "ExecuteTime": {
     "end_time": "2020-09-15T17:50:26.462713Z",
     "start_time": "2020-09-15T17:50:26.378630Z"
    }
   },
   "outputs": [
    {
     "data": {
      "text/html": [
       "<div>\n",
       "<style scoped>\n",
       "    .dataframe tbody tr th:only-of-type {\n",
       "        vertical-align: middle;\n",
       "    }\n",
       "\n",
       "    .dataframe tbody tr th {\n",
       "        vertical-align: top;\n",
       "    }\n",
       "\n",
       "    .dataframe thead th {\n",
       "        text-align: right;\n",
       "    }\n",
       "</style>\n",
       "<table border=\"1\" class=\"dataframe\">\n",
       "  <thead>\n",
       "    <tr style=\"text-align: right;\">\n",
       "      <th></th>\n",
       "      <th>route</th>\n",
       "      <th>pattern</th>\n",
       "      <th>stop_id</th>\n",
       "      <th>filename</th>\n",
       "      <th>index_run_start</th>\n",
       "      <th>index_loc</th>\n",
       "      <th>odom_ft</th>\n",
       "      <th>sec_past_st</th>\n",
       "      <th>geo_description</th>\n",
       "    </tr>\n",
       "  </thead>\n",
       "  <tbody>\n",
       "    <tr>\n",
       "      <th>0</th>\n",
       "      <td>52</td>\n",
       "      <td>1</td>\n",
       "      <td>6192</td>\n",
       "      <td>rawnav07164191116.txt</td>\n",
       "      <td>544.0</td>\n",
       "      <td>544.0</td>\n",
       "      <td>0.0</td>\n",
       "      <td>0.0</td>\n",
       "      <td>COLORADO AVE NW + 14TH ST NW</td>\n",
       "    </tr>\n",
       "    <tr>\n",
       "      <th>1</th>\n",
       "      <td>52</td>\n",
       "      <td>1</td>\n",
       "      <td>25231</td>\n",
       "      <td>rawnav07164191116.txt</td>\n",
       "      <td>544.0</td>\n",
       "      <td>560.0</td>\n",
       "      <td>162.0</td>\n",
       "      <td>143.0</td>\n",
       "      <td>14TH ST + JEFFERSON DR</td>\n",
       "    </tr>\n",
       "    <tr>\n",
       "      <th>2</th>\n",
       "      <td>52</td>\n",
       "      <td>1</td>\n",
       "      <td>21857</td>\n",
       "      <td>rawnav07164191116.txt</td>\n",
       "      <td>544.0</td>\n",
       "      <td>578.0</td>\n",
       "      <td>596.0</td>\n",
       "      <td>162.0</td>\n",
       "      <td>14TH ST + INGRAHAM ST</td>\n",
       "    </tr>\n",
       "  </tbody>\n",
       "</table>\n",
       "</div>"
      ],
      "text/plain": [
       "  route  pattern  stop_id               filename  index_run_start  index_loc  \\\n",
       "0    52        1     6192  rawnav07164191116.txt            544.0      544.0   \n",
       "1    52        1    25231  rawnav07164191116.txt            544.0      560.0   \n",
       "2    52        1    21857  rawnav07164191116.txt            544.0      578.0   \n",
       "\n",
       "   odom_ft  sec_past_st               geo_description  \n",
       "0      0.0          0.0  COLORADO AVE NW + 14TH ST NW  \n",
       "1    162.0        143.0        14TH ST + JEFFERSON DR  \n",
       "2    596.0        162.0         14TH ST + INGRAHAM ST  "
      ]
     },
     "execution_count": 14,
     "metadata": {},
     "output_type": "execute_result"
    }
   ],
   "source": [
    "stop_index.head(3)"
   ]
  },
  {
   "cell_type": "code",
   "execution_count": 36,
   "metadata": {},
   "outputs": [],
   "source": [
    "# stop_index_w_segid = stop_index.merge(xwalk_seg_pattern_stop_in, how='left', on=['route','stop_id']).copy()"
   ]
  },
  {
   "cell_type": "code",
   "execution_count": 15,
   "metadata": {
    "ExecuteTime": {
     "end_time": "2020-09-15T17:50:51.429157Z",
     "start_time": "2020-09-15T17:50:51.348811Z"
    }
   },
   "outputs": [],
   "source": [
    "stop_index.loc[:,'pattern'] = stop_index.loc[:,'pattern'].astype('int32').copy()\n",
    "stop_index.rename(columns={'odom_ft' : 'odom_ft_qj_stop'}, inplace=True)"
   ]
  },
  {
   "cell_type": "code",
   "execution_count": 16,
   "metadata": {
    "ExecuteTime": {
     "end_time": "2020-09-15T17:50:52.797588Z",
     "start_time": "2020-09-15T17:50:52.716587Z"
    }
   },
   "outputs": [],
   "source": [
    "# Filter Stop index to the relevant QJ stops\n",
    "stop_index_fil = (\n",
    "    stop_index\n",
    "    .merge(xwalk_seg_pattern_stop_fil,\n",
    "           on = ['route','pattern','stop_id'],\n",
    "           how = 'inner')   \n",
    ")"
   ]
  },
  {
   "cell_type": "code",
   "execution_count": 18,
   "metadata": {
    "ExecuteTime": {
     "end_time": "2020-09-15T17:51:04.846220Z",
     "start_time": "2020-09-15T17:51:04.754075Z"
    }
   },
   "outputs": [
    {
     "data": {
      "text/html": [
       "<div>\n",
       "<style scoped>\n",
       "    .dataframe tbody tr th:only-of-type {\n",
       "        vertical-align: middle;\n",
       "    }\n",
       "\n",
       "    .dataframe tbody tr th {\n",
       "        vertical-align: top;\n",
       "    }\n",
       "\n",
       "    .dataframe thead th {\n",
       "        text-align: right;\n",
       "    }\n",
       "</style>\n",
       "<table border=\"1\" class=\"dataframe\">\n",
       "  <thead>\n",
       "    <tr style=\"text-align: right;\">\n",
       "      <th></th>\n",
       "      <th>route</th>\n",
       "      <th>pattern</th>\n",
       "      <th>stop_id</th>\n",
       "      <th>filename</th>\n",
       "      <th>index_run_start</th>\n",
       "      <th>index_loc</th>\n",
       "      <th>odom_ft_qj_stop</th>\n",
       "      <th>sec_past_st</th>\n",
       "      <th>geo_description</th>\n",
       "      <th>seg_name_id</th>\n",
       "    </tr>\n",
       "  </thead>\n",
       "  <tbody>\n",
       "    <tr>\n",
       "      <th>0</th>\n",
       "      <td>52</td>\n",
       "      <td>1</td>\n",
       "      <td>19066</td>\n",
       "      <td>rawnav07164191116.txt</td>\n",
       "      <td>544.0</td>\n",
       "      <td>990.0</td>\n",
       "      <td>11096.0</td>\n",
       "      <td>856.0</td>\n",
       "      <td>14TH ST + HARVARD ST</td>\n",
       "      <td>16203-16662</td>\n",
       "    </tr>\n",
       "    <tr>\n",
       "      <th>1</th>\n",
       "      <td>52</td>\n",
       "      <td>1</td>\n",
       "      <td>19066</td>\n",
       "      <td>rawnav07164191116.txt</td>\n",
       "      <td>6398.0</td>\n",
       "      <td>6997.0</td>\n",
       "      <td>11086.0</td>\n",
       "      <td>1304.0</td>\n",
       "      <td>14TH ST + HARVARD ST</td>\n",
       "      <td>16203-16662</td>\n",
       "    </tr>\n",
       "    <tr>\n",
       "      <th>2</th>\n",
       "      <td>52</td>\n",
       "      <td>1</td>\n",
       "      <td>19066</td>\n",
       "      <td>rawnav07164191116.txt</td>\n",
       "      <td>9762.0</td>\n",
       "      <td>10342.0</td>\n",
       "      <td>11170.0</td>\n",
       "      <td>1131.0</td>\n",
       "      <td>14TH ST + HARVARD ST</td>\n",
       "      <td>16203-16662</td>\n",
       "    </tr>\n",
       "  </tbody>\n",
       "</table>\n",
       "</div>"
      ],
      "text/plain": [
       "  route  pattern  stop_id               filename  index_run_start  index_loc  \\\n",
       "0    52        1    19066  rawnav07164191116.txt            544.0      990.0   \n",
       "1    52        1    19066  rawnav07164191116.txt           6398.0     6997.0   \n",
       "2    52        1    19066  rawnav07164191116.txt           9762.0    10342.0   \n",
       "\n",
       "   odom_ft_qj_stop  sec_past_st       geo_description  seg_name_id  \n",
       "0          11096.0        856.0  14TH ST + HARVARD ST  16203-16662  \n",
       "1          11086.0       1304.0  14TH ST + HARVARD ST  16203-16662  \n",
       "2          11170.0       1131.0  14TH ST + HARVARD ST  16203-16662  "
      ]
     },
     "execution_count": 18,
     "metadata": {},
     "output_type": "execute_result"
    }
   ],
   "source": [
    "stop_index_fil.head(3)"
   ]
  },
  {
   "cell_type": "code",
   "execution_count": 19,
   "metadata": {
    "ExecuteTime": {
     "end_time": "2020-09-15T17:51:07.700575Z",
     "start_time": "2020-09-15T17:51:07.620576Z"
    }
   },
   "outputs": [
    {
     "data": {
      "text/plain": [
       "filename                                                     rawnav07164191116.txt\n",
       "index_run_start                                                                544\n",
       "pattern                                                                          1\n",
       "start_date_time                                                2019-11-15 05:05:00\n",
       "flag_too_far_any                                                             False\n",
       "flag_wrong_order_any                                                         False\n",
       "flag_too_long_odom                                                           False\n",
       "flag_secs_total_mismatch                                                     False\n",
       "flag_odom_total_mismatch                                                     False\n",
       "start_odom_ft_segment                                                        10363\n",
       "end_odom_ft_segment                                                          11208\n",
       "trip_dist_mi_odom_and_segment                                                 0.16\n",
       "start_sec_segment                                                              809\n",
       "end_sec_segment                                                                874\n",
       "trip_dur_sec_segment                                                            65\n",
       "start_lat_segment                                                          38.9287\n",
       "end_lat_segment                                                            38.9266\n",
       "start_long_segment                                                        -77.0327\n",
       "end_long_segment                                                          -77.0324\n",
       "dist_first_stop_segment                                                      20.64\n",
       "start_index_loc_segment                                                        958\n",
       "end_index_loc_segment                                                          999\n",
       "trip_speed_mph_segment                                                        8.86\n",
       "fullpath                         \\\\l-600730\\RawNavArchive\\112019\\rawnav07164191...\n",
       "file_busid                                                                    7164\n",
       "file_id                                                                07164191116\n",
       "taglist                             549,   5201,7164,11/15/19,05:05:00,37067,05280\n",
       "route_pattern                                                                 5201\n",
       "tag_busid                                                                     7164\n",
       "end_date_time                                                  2019-11-15 05:43:38\n",
       "index_run_start_original                                                       543\n",
       "index_run_end_original                                                        1809\n",
       "index_run_end                                                                 1808\n",
       "sec_start                                                                        0\n",
       "odom_ft_start                                                                    0\n",
       "sec_end                                                                       2318\n",
       "odom_ft_end                                                                  34566\n",
       "run_duration_from_sec                                                         2318\n",
       "run_duration_from_tags                                             0 days 00:38:38\n",
       "dist_odom_mi                                                               6.54659\n",
       "mph_odom                                                                   10.1673\n",
       "mph_run_tag                                                                  10.17\n",
       "dist_crow_fly_mi                                                           4.93554\n",
       "lat_start                                                                  38.9557\n",
       "long_start                                                                -77.0332\n",
       "lat_end                                                                    38.8849\n",
       "long_end                                                                  -77.0213\n",
       "route                                                                           52\n",
       "wday                                                                        Friday\n",
       "seg_name_id                                                            16203-16662\n",
       "Name: 0, dtype: object"
      ]
     },
     "execution_count": 19,
     "metadata": {},
     "output_type": "execute_result"
    }
   ],
   "source": [
    "segment_summary_fil.iloc[0]"
   ]
  },
  {
   "cell_type": "code",
   "execution_count": 20,
   "metadata": {
    "ExecuteTime": {
     "end_time": "2020-09-15T17:51:13.537310Z",
     "start_time": "2020-09-15T17:51:13.323271Z"
    }
   },
   "outputs": [],
   "source": [
    "# 2.2 Run Decomposition Functions\n",
    "#################################\n",
    "# These functions could be further nested within one another, but are kept separate to support\n",
    "# easier review of intermediate outputs and to allow them to be used independently if needed.\n",
    "# As a result, data is in some cases filtered several times, but the overall time loss is \n",
    "# small enough to be immaterial.\n",
    "\n",
    "# Calculate Free Flow Travel Time through Entire Segment\n",
    "segment_ff = (\n",
    "    wr.decompose_segment_ff(\n",
    "        rawnav_dat,\n",
    "        segment_summary_fil,\n",
    "        max_fps = 73.3\n",
    "    )\n",
    "    .assign(seg_name_id = seg)\n",
    ")\n",
    "\n",
    "freeflow_list.append(segment_ff)"
   ]
  },
  {
   "cell_type": "code",
   "execution_count": 21,
   "metadata": {
    "ExecuteTime": {
     "end_time": "2020-09-15T17:51:15.167466Z",
     "start_time": "2020-09-15T17:51:15.087430Z"
    }
   },
   "outputs": [
    {
     "data": {
      "text/plain": [
       "[      fps_next3        mph  seg_name_id\n",
       " 0.01   0.433474   0.295483  16203-16662\n",
       " 0.05   1.303030   0.888228  16203-16662\n",
       " 0.10   4.333333   2.953874  16203-16662\n",
       " 0.15   9.000000   6.134969  16203-16662\n",
       " 0.25  14.333333   9.770507  16203-16662\n",
       " 0.50  23.000000  15.678255  16203-16662\n",
       " 0.75  30.333333  20.677119  16203-16662\n",
       " 0.85  33.666667  22.949330  16203-16662\n",
       " 0.90  36.000000  24.539877  16203-16662\n",
       " 0.95  39.666667  27.039309  16203-16662\n",
       " 0.99  47.500000  32.379005  16203-16662]"
      ]
     },
     "execution_count": 21,
     "metadata": {},
     "output_type": "execute_result"
    }
   ],
   "source": [
    "freeflow_list"
   ]
  },
  {
   "cell_type": "code",
   "execution_count": 22,
   "metadata": {
    "ExecuteTime": {
     "end_time": "2020-09-15T17:51:24.480192Z",
     "start_time": "2020-09-15T17:51:24.148236Z"
    }
   },
   "outputs": [],
   "source": [
    "# Calculate Stop-Area Decomposition\n",
    "stop_area_decomp = (\n",
    "    wr.decompose_stop_area(\n",
    "        rawnav_dat,\n",
    "        segment_summary_fil,\n",
    "        stop_index_fil\n",
    "    )\n",
    "    .assign(seg_name_id = seg)\n",
    ")\n",
    "\n",
    "stop_area_decomp_list.append(stop_area_decomp)"
   ]
  },
  {
   "cell_type": "code",
   "execution_count": 23,
   "metadata": {
    "ExecuteTime": {
     "end_time": "2020-09-15T17:51:25.148967Z",
     "start_time": "2020-09-15T17:51:25.069945Z"
    }
   },
   "outputs": [
    {
     "data": {
      "text/plain": [
       "index                                          24\n",
       "index_loc                                     983\n",
       "lat                                       38.9272\n",
       "long                                     -77.0325\n",
       "heading                                       176\n",
       "door_state                                      C\n",
       "veh_state                                       M\n",
       "odom_ft                                     10976\n",
       "sec_past_st                                   850\n",
       "stop_window                                      \n",
       "row_before_apc                                  0\n",
       "route_pattern                                5201\n",
       "pattern                                         1\n",
       "index_run_start                               544\n",
       "index_run_end                                1808\n",
       "filename                    rawnav07164191116.txt\n",
       "start_date_time               2019-11-15 05:05:00\n",
       "route                                          52\n",
       "wday                                       Friday\n",
       "odom_ft_next                                11005\n",
       "sec_past_st_next                              851\n",
       "odom_ft_next3                               11030\n",
       "sec_past_st_next3                             852\n",
       "odom_ft_qj_stop                             11096\n",
       "stop_id                                     19066\n",
       "secs_marg                                       1\n",
       "odom_ft_marg                                   29\n",
       "fps_next                                       29\n",
       "fps_next3                                      27\n",
       "door_state_closed                            True\n",
       "veh_state_moving                             True\n",
       "door_state_changes                              1\n",
       "veh_state_changes                               1\n",
       "door_state_changes_min                          2\n",
       "door_state_changes_max                          2\n",
       "veh_stopped_min                                 2\n",
       "veh_stopped_max                                 2\n",
       "any_door_open                                True\n",
       "any_veh_stopped                              True\n",
       "rough_phase_by_door                 t_decel_phase\n",
       "rough_phase_by_veh_state            t_decel_phase\n",
       "at_stop                                     False\n",
       "at_stop_phase                                  NA\n",
       "stop_area_phase                     t_decel_phase\n",
       "seg_name_id                           16203-16662\n",
       "Name: 0, dtype: object"
      ]
     },
     "execution_count": 23,
     "metadata": {},
     "output_type": "execute_result"
    }
   ],
   "source": [
    "stop_area_decomp_list[0].iloc[0]"
   ]
  },
  {
   "cell_type": "code",
   "execution_count": 24,
   "metadata": {
    "ExecuteTime": {
     "end_time": "2020-09-15T17:51:30.795603Z",
     "start_time": "2020-09-15T17:51:30.500261Z"
    }
   },
   "outputs": [],
   "source": [
    "segment_ff_val = (\n",
    "    segment_ff\n",
    "    .loc[0.95]\n",
    "    .loc[\"fps_next3\"]\n",
    ")\n",
    "\n",
    "# Run decomposition\n",
    "traveltime_decomp = (\n",
    "    wr.decompose_traveltime(\n",
    "        rawnav_dat,\n",
    "        segment_summary_fil,\n",
    "        stop_area_decomp,\n",
    "        segment_ff_val\n",
    "    )\n",
    ")\n",
    "traveltime_decomp_list.append(traveltime_decomp)"
   ]
  },
  {
   "cell_type": "code",
   "execution_count": 25,
   "metadata": {
    "ExecuteTime": {
     "end_time": "2020-09-15T17:51:31.346240Z",
     "start_time": "2020-09-15T17:51:31.266243Z"
    }
   },
   "outputs": [
    {
     "data": {
      "text/plain": [
       "filename             rawnav07164191116.txt\n",
       "index_run_start                        544\n",
       "seg_name_id                    16203-16662\n",
       "route                                   52\n",
       "pattern                                  1\n",
       "                             ...          \n",
       "lat_start                          38.9557\n",
       "long_start                        -77.0332\n",
       "lat_end                            38.8849\n",
       "long_end                          -77.0213\n",
       "odom_ft_seg_total                      845\n",
       "Name: 0, Length: 61, dtype: object"
      ]
     },
     "execution_count": 25,
     "metadata": {},
     "output_type": "execute_result"
    }
   ],
   "source": [
    "traveltime_decomp_list[0].iloc[0]"
   ]
  },
  {
   "cell_type": "code",
   "execution_count": 26,
   "metadata": {
    "ExecuteTime": {
     "end_time": "2020-09-15T17:51:34.835063Z",
     "start_time": "2020-09-15T17:51:34.749066Z"
    }
   },
   "outputs": [],
   "source": [
    "# 3. Export\n",
    "###########\n",
    "\n",
    "# 3.1 Combine results by segment into tables   \n",
    "########################################\n",
    "freeflow = (\n",
    "    pd.concat(freeflow_list)\n",
    "    .rename_axis('ntile')\n",
    "    .reset_index()\n",
    ")\n",
    "\n",
    "basic_decomp = (\n",
    "    pd.concat(stop_area_decomp_list)\n",
    "    .reset_index() \n",
    ")\n",
    "\n",
    "traveltime_decomp = (\n",
    "    pd.concat(traveltime_decomp_list)\n",
    "    .reset_index()\n",
    ")"
   ]
  },
  {
   "cell_type": "code",
   "execution_count": 27,
   "metadata": {
    "ExecuteTime": {
     "end_time": "2020-09-15T17:51:36.808832Z",
     "start_time": "2020-09-15T17:51:36.708858Z"
    }
   },
   "outputs": [],
   "source": [
    "# 3.2 Export Values\n",
    "###################\n",
    "\n",
    "freeflow.to_csv(os.path.join(path_exports,\"freeflow.csv\"))\n",
    "\n",
    "basic_decomp.to_csv(os.path.join(path_exports,\"basic_decomp.csv\"))\n",
    "\n",
    "traveltime_decomp.to_csv(os.path.join(path_exports,\"traveltime_decomp.csv\"))"
   ]
  },
  {
   "cell_type": "code",
   "execution_count": null,
   "metadata": {},
   "outputs": [],
   "source": []
  }
 ],
 "metadata": {
  "kernelspec": {
   "display_name": "Python (rawnav)",
   "language": "python",
   "name": "rawnav"
  },
  "language_info": {
   "codemirror_mode": {
    "name": "ipython",
    "version": 3
   },
   "file_extension": ".py",
   "mimetype": "text/x-python",
   "name": "python",
   "nbconvert_exporter": "python",
   "pygments_lexer": "ipython3",
   "version": "3.8.5"
  },
  "toc": {
   "base_numbering": 1,
   "nav_menu": {},
   "number_sections": true,
   "sideBar": true,
   "skip_h1_title": false,
   "title_cell": "Table of Contents",
   "title_sidebar": "Contents",
   "toc_cell": false,
   "toc_position": {},
   "toc_section_display": true,
   "toc_window_display": false
  }
 },
 "nbformat": 4,
 "nbformat_minor": 4
}
