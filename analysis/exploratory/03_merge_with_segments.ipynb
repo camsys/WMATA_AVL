{
 "cells": [
  {
   "cell_type": "code",
   "execution_count": 1,
   "metadata": {
    "ExecuteTime": {
     "end_time": "2020-09-15T16:12:40.787236Z",
     "start_time": "2020-09-15T16:12:40.714171Z"
    }
   },
   "outputs": [],
   "source": [
    "# 0 Housekeeping. Clear variable space\n",
    "########################################################################################################################\n",
    "from IPython import get_ipython  # run magic commands\n",
    "\n",
    "ipython = get_ipython()\n",
    "ipython.magic(\"reset -f\")\n",
    "ipython = get_ipython()\n",
    "ipython.magic(\"load_ext autoreload\")\n",
    "ipython.magic(\"autoreload 2\")"
   ]
  },
  {
   "cell_type": "code",
   "execution_count": 2,
   "metadata": {
    "ExecuteTime": {
     "end_time": "2020-09-15T16:12:41.468783Z",
     "start_time": "2020-09-15T16:12:40.859235Z"
    }
   },
   "outputs": [],
   "source": [
    "# 1 Import Libraries and Set Global Parameters\n",
    "####################################################################################################\n",
    "# 1.1 Import Python Libraries\n",
    "############################################\n",
    "from datetime import datetime\n",
    "import os, sys, shutil\n",
    "import pandas as pd\n",
    "import geopandas as gpd\n",
    "import pyarrow as pa\n",
    "import pyarrow.parquet as pq"
   ]
  },
  {
   "cell_type": "code",
   "execution_count": 3,
   "metadata": {
    "ExecuteTime": {
     "end_time": "2020-09-15T16:12:41.541758Z",
     "start_time": "2020-09-15T16:12:41.469757Z"
    }
   },
   "outputs": [],
   "source": [
    "# 1.2 Set Global Parameters\n",
    "############################################\n",
    "if os.getlogin() == \"WylieTimmerman\":\n",
    "    path_working = r\"C:\\OD\\OneDrive - Foursquare ITP\\Projects\\WMATA_AVL\"\n",
    "    os.chdir(os.path.join(path_working))\n",
    "    sys.path.append(r\"C:\\OD\\OneDrive - Foursquare ITP\\Projects\\WMATA_AVL\")\n",
    "    path_sp = r\"C:\\Users\\WylieTimmerman\\Documents\\projects_local\\wmata_avl_local\"\n",
    "    path_source_data = os.path.join(path_sp,\"data\",\"00-raw\")\n",
    "    path_processed_data = os.path.join(path_sp, \"data\",\"02-processed\")\n",
    "    path_segments = os.path.join(path_working,\"data\",\"02-processed\")\n",
    "elif os.getlogin() == \"abibeka\":\n",
    "    path_working = r\"C:\\Users\\abibeka\\OneDrive - Kittelson & Associates, Inc\\Documents\\Github\\WMATA_AVL\"\n",
    "    os.chdir(os.path.join(path_working))\n",
    "    sys.path.append(path_working)\n",
    "    path_source_data = r\"C:\\Users\\abibeka\\OneDrive - Kittelson & Associates, Inc\\Documents\\WMATA-AVL\\Data\"\n",
    "    path_processed_data = os.path.join(path_source_data, \"ProcessedData\")\n",
    "    path_segments = path_processed_data\n",
    "elif os.getlogin() == \"E048374\":\n",
    "    # Working Paths\n",
    "    path_working = r\"C:\\Users\\E048374\\OneDrive - WMATA\\rawnav_rachel_fork\\WMATA_AVL\"\n",
    "    os.chdir(os.path.join(path_working))\n",
    "    sys.path.append(r\"C:\\Users\\E048374\\OneDrive - WMATA\\rawnav_rachel_fork\\WMATA_AVL\")\n",
    "    path_source_data = r\"\\\\l-600730\\RawNavArchive\"\n",
    "    path_sp = r\"C:\\Users\\E048374\\Documents\\RawNav\"\n",
    "    path_processed_data = os.path.join(path_sp, \"data\", \"02-processed\")\n",
    "    path_segments = path_processed_data\n",
    "    \n",
    "else:\n",
    "    raise FileNotFoundError(\"Define the path_working, path_source_data, gtfs_dir, \\\n",
    "                            ZippedFilesloc, and path_processed_data in a new elif block\")"
   ]
  },
  {
   "cell_type": "code",
   "execution_count": 4,
   "metadata": {
    "ExecuteTime": {
     "end_time": "2020-09-15T16:12:41.604760Z",
     "start_time": "2020-09-15T16:12:41.542757Z"
    }
   },
   "outputs": [],
   "source": [
    "# Globals\n",
    "q_jump_route_list = ['S4']\n",
    "analysis_routes = q_jump_route_list\n",
    "# analysis_routes = ['S1']\n",
    "# analysis_routes = ['S1', 'S9', 'H4', 'G8', '64']\n",
    "# analysis_routes = ['S2','S4','H1','H2','H3','79','W47']\n",
    "analysis_days = ['Monday', 'Tuesday', 'Wednesday', 'Thursday', 'Friday', 'Saturday', 'Sunday']\n",
    "# analysis_days = ['Wednesday','Thursday','Friday']"
   ]
  },
  {
   "cell_type": "code",
   "execution_count": 5,
   "metadata": {
    "ExecuteTime": {
     "end_time": "2020-09-15T16:12:42.782766Z",
     "start_time": "2020-09-15T16:12:42.034776Z"
    }
   },
   "outputs": [],
   "source": [
    "# EPSG code for WMATA-area work\n",
    "wmata_crs = 2248\n",
    "# 1.3 Import User-Defined Package\n",
    "############################################\n",
    "import wmatarawnav as wr"
   ]
  },
  {
   "cell_type": "code",
   "execution_count": 33,
   "metadata": {
    "ExecuteTime": {
     "end_time": "2020-09-15T16:48:03.755062Z",
     "start_time": "2020-09-15T16:48:03.655062Z"
    }
   },
   "outputs": [
    {
     "data": {
      "text/html": [
       "<div>\n",
       "<style scoped>\n",
       "    .dataframe tbody tr th:only-of-type {\n",
       "        vertical-align: middle;\n",
       "    }\n",
       "\n",
       "    .dataframe tbody tr th {\n",
       "        vertical-align: top;\n",
       "    }\n",
       "\n",
       "    .dataframe thead th {\n",
       "        text-align: right;\n",
       "    }\n",
       "</style>\n",
       "<table border=\"1\" class=\"dataframe\">\n",
       "  <thead>\n",
       "    <tr style=\"text-align: right;\">\n",
       "      <th></th>\n",
       "      <th>route</th>\n",
       "      <th>direction</th>\n",
       "      <th>seg_name_id</th>\n",
       "      <th>stop_id</th>\n",
       "    </tr>\n",
       "  </thead>\n",
       "  <tbody>\n",
       "    <tr>\n",
       "      <th>0</th>\n",
       "      <td>79</td>\n",
       "      <td>SOUTH</td>\n",
       "      <td>georgia_columbia_stub</td>\n",
       "      <td>10981</td>\n",
       "    </tr>\n",
       "    <tr>\n",
       "      <th>1</th>\n",
       "      <td>79</td>\n",
       "      <td>SOUTH</td>\n",
       "      <td>georgia_piney_branch_stub</td>\n",
       "      <td>4217</td>\n",
       "    </tr>\n",
       "  </tbody>\n",
       "</table>\n",
       "</div>"
      ],
      "text/plain": [
       "    route direction                seg_name_id  stop_id\n",
       "0      79     SOUTH      georgia_columbia_stub    10981\n",
       "1      79     SOUTH  georgia_piney_branch_stub     4217"
      ]
     },
     "execution_count": 33,
     "metadata": {},
     "output_type": "execute_result"
    }
   ],
   "source": [
    "from io import StringIO\n",
    "csv_string = ''' route,direction,seg_name_id,stop_id\n",
    "                 79,SOUTH,georgia_columbia_stub,10981\n",
    "                 79,SOUTH,georgia_piney_branch_stub,4217'''\n",
    "df = pd.read_csv(StringIO(csv_string))\n",
    "df"
   ]
  },
  {
   "cell_type": "code",
   "execution_count": 6,
   "metadata": {
    "ExecuteTime": {
     "end_time": "2020-09-15T16:12:42.862805Z",
     "start_time": "2020-09-15T16:12:42.783766Z"
    }
   },
   "outputs": [],
   "source": [
    "# 2 Load Relevant Static Files \n",
    "####################################################################################################\n",
    "\n",
    "# 2.1. Load segment-pattern-stop crosswalk \n",
    "# This crosswalk is used to connect segment shapes to rawnav data. The 'route' field must \n",
    "# match the same string used in the rawnav data. 'direction' will be looked up in a moment\n",
    "# against the wmata schedule database\n",
    "# and replaced with a pattern code as an int32 value. 'seg_name_id' is also found in the segment\n",
    "# geometry file. 'stop_id' matches the stop identifier in the WMATA schedule database.\n",
    "xwalk_seg_pattern_stop_in = wr.tribble(\n",
    "             ['route',        'direction',                        'seg_name_id','stop_id'], \n",
    "                 \"79\",            \"SOUTH\",               \"georgia_columbia_stub\",   10981, \n",
    "                 \"79\",            \"SOUTH\",           \"georgia_piney_branch_stub\",    4217, \n",
    "                 \"70\",            \"SOUTH\",                 \"georgia_irving_stub\",   19186, #irving stop\n",
    "                 \"70\",            \"SOUTH\",               \"georgia_columbia_stub\",   10981, #columbia stop \n",
    "                 \"70\",            \"SOUTH\",           \"georgia_piney_branch_stub\",    4217,\n",
    "                 \"S1\",            \"NORTH\",                    \"sixteenth_u_stub\",   18042,\n",
    "                 \"S2\",            \"NORTH\",                    \"sixteenth_u_stub\",   18042,\n",
    "                 \"S4\",            \"NORTH\",                    \"sixteenth_u_stub\",   18042,\n",
    "                 \"S9\",            \"NORTH\",                    \"sixteenth_u_stub\",   18042,\n",
    "                 \"64\",            \"NORTH\",            \"eleventh_i_new_york_stub\",   16490,\n",
    "                 \"G8\",             \"EAST\",            \"eleventh_i_new_york_stub\",   16490,\n",
    "                \"D32\",             \"EAST\",     \"irving_fifteenth_sixteenth_stub\",    2368,\n",
    "                 \"H1\",            \"NORTH\",     \"irving_fifteenth_sixteenth_stub\",    2368,\n",
    "                 \"H2\",             \"EAST\",     \"irving_fifteenth_sixteenth_stub\",    2368,\n",
    "                 \"H3\",             \"EAST\",     \"irving_fifteenth_sixteenth_stub\",    2368,\n",
    "                 \"H4\",             \"EAST\",     \"irving_fifteenth_sixteenth_stub\",    2368,\n",
    "                 \"H8\",             \"EAST\",     \"irving_fifteenth_sixteenth_stub\",    2368,\n",
    "                \"W47\",             \"EAST\",     \"irving_fifteenth_sixteenth_stub\",    2368\n",
    "  )"
   ]
  },
  {
   "cell_type": "code",
   "execution_count": 7,
   "metadata": {
    "ExecuteTime": {
     "end_time": "2020-09-15T16:12:43.203484Z",
     "start_time": "2020-09-15T16:12:43.108514Z"
    }
   },
   "outputs": [
    {
     "data": {
      "text/html": [
       "<div>\n",
       "<style scoped>\n",
       "    .dataframe tbody tr th:only-of-type {\n",
       "        vertical-align: middle;\n",
       "    }\n",
       "\n",
       "    .dataframe tbody tr th {\n",
       "        vertical-align: top;\n",
       "    }\n",
       "\n",
       "    .dataframe thead th {\n",
       "        text-align: right;\n",
       "    }\n",
       "</style>\n",
       "<table border=\"1\" class=\"dataframe\">\n",
       "  <thead>\n",
       "    <tr style=\"text-align: right;\">\n",
       "      <th></th>\n",
       "      <th>route</th>\n",
       "      <th>direction</th>\n",
       "      <th>seg_name_id</th>\n",
       "      <th>stop_id</th>\n",
       "    </tr>\n",
       "  </thead>\n",
       "  <tbody>\n",
       "    <tr>\n",
       "      <th>0</th>\n",
       "      <td>79</td>\n",
       "      <td>SOUTH</td>\n",
       "      <td>georgia_columbia_stub</td>\n",
       "      <td>10981</td>\n",
       "    </tr>\n",
       "    <tr>\n",
       "      <th>1</th>\n",
       "      <td>79</td>\n",
       "      <td>SOUTH</td>\n",
       "      <td>georgia_piney_branch_stub</td>\n",
       "      <td>4217</td>\n",
       "    </tr>\n",
       "    <tr>\n",
       "      <th>2</th>\n",
       "      <td>70</td>\n",
       "      <td>SOUTH</td>\n",
       "      <td>georgia_irving_stub</td>\n",
       "      <td>19186</td>\n",
       "    </tr>\n",
       "  </tbody>\n",
       "</table>\n",
       "</div>"
      ],
      "text/plain": [
       "  route direction                seg_name_id  stop_id\n",
       "0    79     SOUTH      georgia_columbia_stub    10981\n",
       "1    79     SOUTH  georgia_piney_branch_stub     4217\n",
       "2    70     SOUTH        georgia_irving_stub    19186"
      ]
     },
     "execution_count": 7,
     "metadata": {},
     "output_type": "execute_result"
    }
   ],
   "source": [
    "xwalk_seg_pattern_stop_in.head(3)"
   ]
  },
  {
   "cell_type": "code",
   "execution_count": 8,
   "metadata": {
    "ExecuteTime": {
     "end_time": "2020-09-15T16:12:43.587874Z",
     "start_time": "2020-09-15T16:12:43.491643Z"
    }
   },
   "outputs": [],
   "source": [
    "wmata_schedule_dat = (\n",
    "    pd.read_csv(\n",
    "        os.path.join(path_sp, \"wmata_schedule_data_q_jump_routes.csv\"),\n",
    "        index_col = 0\n",
    "    )\n",
    "    .reset_index(drop=True)\n",
    ")"
   ]
  },
  {
   "cell_type": "code",
   "execution_count": 9,
   "metadata": {
    "ExecuteTime": {
     "end_time": "2020-09-15T16:12:44.050310Z",
     "start_time": "2020-09-15T16:12:43.954315Z"
    }
   },
   "outputs": [
    {
     "data": {
      "text/html": [
       "<div>\n",
       "<style scoped>\n",
       "    .dataframe tbody tr th:only-of-type {\n",
       "        vertical-align: middle;\n",
       "    }\n",
       "\n",
       "    .dataframe tbody tr th {\n",
       "        vertical-align: top;\n",
       "    }\n",
       "\n",
       "    .dataframe thead th {\n",
       "        text-align: right;\n",
       "    }\n",
       "</style>\n",
       "<table border=\"1\" class=\"dataframe\">\n",
       "  <thead>\n",
       "    <tr style=\"text-align: right;\">\n",
       "      <th></th>\n",
       "      <th>direction</th>\n",
       "      <th>route</th>\n",
       "      <th>pattern</th>\n",
       "    </tr>\n",
       "  </thead>\n",
       "  <tbody>\n",
       "    <tr>\n",
       "      <th>0</th>\n",
       "      <td>SOUTH</td>\n",
       "      <td>52</td>\n",
       "      <td>1</td>\n",
       "    </tr>\n",
       "    <tr>\n",
       "      <th>42</th>\n",
       "      <td>NORTH</td>\n",
       "      <td>52</td>\n",
       "      <td>2</td>\n",
       "    </tr>\n",
       "    <tr>\n",
       "      <th>104</th>\n",
       "      <td>SOUTH</td>\n",
       "      <td>52</td>\n",
       "      <td>3</td>\n",
       "    </tr>\n",
       "    <tr>\n",
       "      <th>163</th>\n",
       "      <td>NORTH</td>\n",
       "      <td>52</td>\n",
       "      <td>4</td>\n",
       "    </tr>\n",
       "    <tr>\n",
       "      <th>208</th>\n",
       "      <td>SOUTH</td>\n",
       "      <td>S4</td>\n",
       "      <td>1</td>\n",
       "    </tr>\n",
       "    <tr>\n",
       "      <th>262</th>\n",
       "      <td>NORTH</td>\n",
       "      <td>S4</td>\n",
       "      <td>2</td>\n",
       "    </tr>\n",
       "  </tbody>\n",
       "</table>\n",
       "</div>"
      ],
      "text/plain": [
       "    direction route  pattern\n",
       "0       SOUTH    52        1\n",
       "42      NORTH    52        2\n",
       "104     SOUTH    52        3\n",
       "163     NORTH    52        4\n",
       "208     SOUTH    S4        1\n",
       "262     NORTH    S4        2"
      ]
     },
     "execution_count": 9,
     "metadata": {},
     "output_type": "execute_result"
    }
   ],
   "source": [
    "xwalk_wmata_route_dir_pattern = wmata_schedule_dat.filter(items = ['direction', 'route','pattern']).drop_duplicates()\n",
    "xwalk_wmata_route_dir_pattern"
   ]
  },
  {
   "cell_type": "code",
   "execution_count": 10,
   "metadata": {
    "ExecuteTime": {
     "end_time": "2020-09-15T16:12:44.287302Z",
     "start_time": "2020-09-15T16:12:44.203280Z"
    }
   },
   "outputs": [],
   "source": [
    "xwalk_seg_pattern_stop = (\n",
    "    xwalk_seg_pattern_stop_in\n",
    "    .merge(\n",
    "        xwalk_wmata_route_dir_pattern, \n",
    "        on = ['route','direction']\n",
    "    )\n",
    "    .drop('direction', 1)\n",
    "    .reindex(columns = ['route','pattern','seg_name_id','stop_id'])\n",
    ")"
   ]
  },
  {
   "cell_type": "code",
   "execution_count": 11,
   "metadata": {
    "ExecuteTime": {
     "end_time": "2020-09-15T16:12:44.894966Z",
     "start_time": "2020-09-15T16:12:44.810966Z"
    }
   },
   "outputs": [
    {
     "data": {
      "text/html": [
       "<div>\n",
       "<style scoped>\n",
       "    .dataframe tbody tr th:only-of-type {\n",
       "        vertical-align: middle;\n",
       "    }\n",
       "\n",
       "    .dataframe tbody tr th {\n",
       "        vertical-align: top;\n",
       "    }\n",
       "\n",
       "    .dataframe thead th {\n",
       "        text-align: right;\n",
       "    }\n",
       "</style>\n",
       "<table border=\"1\" class=\"dataframe\">\n",
       "  <thead>\n",
       "    <tr style=\"text-align: right;\">\n",
       "      <th></th>\n",
       "      <th>route</th>\n",
       "      <th>pattern</th>\n",
       "      <th>seg_name_id</th>\n",
       "      <th>stop_id</th>\n",
       "    </tr>\n",
       "  </thead>\n",
       "  <tbody>\n",
       "    <tr>\n",
       "      <th>0</th>\n",
       "      <td>S4</td>\n",
       "      <td>2</td>\n",
       "      <td>sixteenth_u_stub</td>\n",
       "      <td>18042</td>\n",
       "    </tr>\n",
       "  </tbody>\n",
       "</table>\n",
       "</div>"
      ],
      "text/plain": [
       "  route  pattern       seg_name_id  stop_id\n",
       "0    S4        2  sixteenth_u_stub    18042"
      ]
     },
     "execution_count": 11,
     "metadata": {},
     "output_type": "execute_result"
    }
   ],
   "source": [
    "xwalk_seg_pattern_stop"
   ]
  },
  {
   "cell_type": "code",
   "execution_count": 12,
   "metadata": {
    "ExecuteTime": {
     "end_time": "2020-09-15T16:12:45.170479Z",
     "start_time": "2020-09-15T16:12:45.091313Z"
    }
   },
   "outputs": [],
   "source": [
    "del xwalk_seg_pattern_stop_in"
   ]
  },
  {
   "cell_type": "code",
   "execution_count": 13,
   "metadata": {
    "ExecuteTime": {
     "end_time": "2020-09-15T16:12:45.830960Z",
     "start_time": "2020-09-15T16:12:45.749963Z"
    }
   },
   "outputs": [
    {
     "data": {
      "text/html": [
       "<div>\n",
       "<style scoped>\n",
       "    .dataframe tbody tr th:only-of-type {\n",
       "        vertical-align: middle;\n",
       "    }\n",
       "\n",
       "    .dataframe tbody tr th {\n",
       "        vertical-align: top;\n",
       "    }\n",
       "\n",
       "    .dataframe thead th {\n",
       "        text-align: right;\n",
       "    }\n",
       "</style>\n",
       "<table border=\"1\" class=\"dataframe\">\n",
       "  <thead>\n",
       "    <tr style=\"text-align: right;\">\n",
       "      <th></th>\n",
       "      <th>route</th>\n",
       "      <th>pattern</th>\n",
       "      <th>seg_name_id</th>\n",
       "    </tr>\n",
       "  </thead>\n",
       "  <tbody>\n",
       "    <tr>\n",
       "      <th>0</th>\n",
       "      <td>S4</td>\n",
       "      <td>2</td>\n",
       "      <td>sixteenth_u_stub</td>\n",
       "    </tr>\n",
       "  </tbody>\n",
       "</table>\n",
       "</div>"
      ],
      "text/plain": [
       "  route  pattern       seg_name_id\n",
       "0    S4        2  sixteenth_u_stub"
      ]
     },
     "execution_count": 13,
     "metadata": {},
     "output_type": "execute_result"
    }
   ],
   "source": [
    "xwalk_seg_pattern = (\n",
    "    xwalk_seg_pattern_stop\n",
    "    .drop('stop_id', 1)\n",
    "    .drop_duplicates()\n",
    ")\n",
    "xwalk_seg_pattern"
   ]
  },
  {
   "cell_type": "code",
   "execution_count": 14,
   "metadata": {
    "ExecuteTime": {
     "end_time": "2020-09-15T16:12:47.054283Z",
     "start_time": "2020-09-15T16:12:46.252221Z"
    }
   },
   "outputs": [],
   "source": [
    "# 3. load shapes\n",
    "# Segments\n",
    "# Note unique identifier seg_name_id. Other fields are optional\n",
    "# Note that these are not yet updated to reflect the extension of the 11th street segment \n",
    "# further south to give the stop more breathing room.\n",
    "segments = (\n",
    "    gpd.read_file(os.path.join(path_segments,\"segments.geojson\"))\n",
    "    .to_crs(wmata_crs)\n",
    ")"
   ]
  },
  {
   "cell_type": "code",
   "execution_count": 15,
   "metadata": {
    "ExecuteTime": {
     "end_time": "2020-09-15T16:12:47.144250Z",
     "start_time": "2020-09-15T16:12:47.056286Z"
    }
   },
   "outputs": [],
   "source": [
    "# 3 Merge Additional Geometry\n",
    "####################################################################################################\n",
    "\n",
    "# 3.1 Rawnav-Segment ########################\n",
    "\n",
    "# Make Output Directory\n",
    "path_seg_summary = os.path.join(path_processed_data, \"segment_summary.parquet\")\n",
    "shutil.rmtree(path_seg_summary, ignore_errors=True) \n",
    "os.mkdir(path_seg_summary)\n",
    "\n",
    "path_seg_index = os.path.join(path_processed_data, \"segment_index.parquet\")\n",
    "shutil.rmtree(path_seg_index, ignore_errors=True) \n",
    "os.mkdir(path_seg_index)"
   ]
  },
  {
   "cell_type": "markdown",
   "metadata": {},
   "source": [
    "# issues with the script below - try one combination step by step"
   ]
  },
  {
   "cell_type": "code",
   "execution_count": 16,
   "metadata": {
    "ExecuteTime": {
     "end_time": "2020-09-15T16:12:50.756241Z",
     "start_time": "2020-09-15T16:12:50.117465Z"
    }
   },
   "outputs": [],
   "source": [
    "analysis_route = 'S4'\n",
    "analysis_day = 'Monday'\n",
    "try:\n",
    "    rawnav_dat = (\n",
    "        wr.read_cleaned_rawnav(\n",
    "           analysis_routes_ = analysis_route,\n",
    "           analysis_days_ = analysis_day,\n",
    "           path = os.path.join(path_processed_data, \"rawnav_data.parquet\"))\n",
    "        .drop(columns=['blank', 'lat_raw', 'long_raw', 'sat_cnt'])\n",
    "        )\n",
    "except:\n",
    "    print(f'No data on analysis route {analysis_route} for {analysis_day}')"
   ]
  },
  {
   "cell_type": "code",
   "execution_count": 17,
   "metadata": {
    "ExecuteTime": {
     "end_time": "2020-09-15T16:12:52.224554Z",
     "start_time": "2020-09-15T16:12:52.131584Z"
    }
   },
   "outputs": [
    {
     "data": {
      "text/html": [
       "<div>\n",
       "<style scoped>\n",
       "    .dataframe tbody tr th:only-of-type {\n",
       "        vertical-align: middle;\n",
       "    }\n",
       "\n",
       "    .dataframe tbody tr th {\n",
       "        vertical-align: top;\n",
       "    }\n",
       "\n",
       "    .dataframe thead th {\n",
       "        text-align: right;\n",
       "    }\n",
       "</style>\n",
       "<table border=\"1\" class=\"dataframe\">\n",
       "  <thead>\n",
       "    <tr style=\"text-align: right;\">\n",
       "      <th></th>\n",
       "      <th>index_loc</th>\n",
       "      <th>lat</th>\n",
       "      <th>long</th>\n",
       "      <th>heading</th>\n",
       "      <th>door_state</th>\n",
       "      <th>veh_state</th>\n",
       "      <th>odom_ft</th>\n",
       "      <th>sec_past_st</th>\n",
       "      <th>stop_window</th>\n",
       "      <th>row_before_apc</th>\n",
       "      <th>route_pattern</th>\n",
       "      <th>pattern</th>\n",
       "      <th>index_run_start</th>\n",
       "      <th>index_run_end</th>\n",
       "      <th>filename</th>\n",
       "      <th>start_date_time</th>\n",
       "      <th>route</th>\n",
       "      <th>wday</th>\n",
       "    </tr>\n",
       "  </thead>\n",
       "  <tbody>\n",
       "    <tr>\n",
       "      <th>0</th>\n",
       "      <td>0.0</td>\n",
       "      <td>38.993700</td>\n",
       "      <td>-77.030458</td>\n",
       "      <td>245.0</td>\n",
       "      <td>C</td>\n",
       "      <td>S</td>\n",
       "      <td>0.0</td>\n",
       "      <td>0.0</td>\n",
       "      <td></td>\n",
       "      <td>0.0</td>\n",
       "      <td>S401</td>\n",
       "      <td>1</td>\n",
       "      <td>0.0</td>\n",
       "      <td>1584.0</td>\n",
       "      <td>rawnav04463200707.txt</td>\n",
       "      <td>2020-07-06 09:04:36</td>\n",
       "      <td>S4</td>\n",
       "      <td>Monday</td>\n",
       "    </tr>\n",
       "    <tr>\n",
       "      <th>1</th>\n",
       "      <td>1.0</td>\n",
       "      <td>38.993700</td>\n",
       "      <td>-77.030458</td>\n",
       "      <td>252.0</td>\n",
       "      <td>C</td>\n",
       "      <td>S</td>\n",
       "      <td>0.0</td>\n",
       "      <td>1.0</td>\n",
       "      <td>X-1</td>\n",
       "      <td>0.0</td>\n",
       "      <td>S401</td>\n",
       "      <td>1</td>\n",
       "      <td>0.0</td>\n",
       "      <td>1584.0</td>\n",
       "      <td>rawnav04463200707.txt</td>\n",
       "      <td>2020-07-06 09:04:36</td>\n",
       "      <td>S4</td>\n",
       "      <td>Monday</td>\n",
       "    </tr>\n",
       "    <tr>\n",
       "      <th>2</th>\n",
       "      <td>2.0</td>\n",
       "      <td>38.993697</td>\n",
       "      <td>-77.030457</td>\n",
       "      <td>198.0</td>\n",
       "      <td>C</td>\n",
       "      <td>M</td>\n",
       "      <td>2.0</td>\n",
       "      <td>34.0</td>\n",
       "      <td>E00</td>\n",
       "      <td>0.0</td>\n",
       "      <td>S401</td>\n",
       "      <td>1</td>\n",
       "      <td>0.0</td>\n",
       "      <td>1584.0</td>\n",
       "      <td>rawnav04463200707.txt</td>\n",
       "      <td>2020-07-06 09:04:36</td>\n",
       "      <td>S4</td>\n",
       "      <td>Monday</td>\n",
       "    </tr>\n",
       "    <tr>\n",
       "      <th>3</th>\n",
       "      <td>3.0</td>\n",
       "      <td>38.993697</td>\n",
       "      <td>-77.030457</td>\n",
       "      <td>179.0</td>\n",
       "      <td>C</td>\n",
       "      <td>M</td>\n",
       "      <td>21.0</td>\n",
       "      <td>36.0</td>\n",
       "      <td></td>\n",
       "      <td>0.0</td>\n",
       "      <td>S401</td>\n",
       "      <td>1</td>\n",
       "      <td>0.0</td>\n",
       "      <td>1584.0</td>\n",
       "      <td>rawnav04463200707.txt</td>\n",
       "      <td>2020-07-06 09:04:36</td>\n",
       "      <td>S4</td>\n",
       "      <td>Monday</td>\n",
       "    </tr>\n",
       "    <tr>\n",
       "      <th>4</th>\n",
       "      <td>4.0</td>\n",
       "      <td>38.993697</td>\n",
       "      <td>-77.030457</td>\n",
       "      <td>179.0</td>\n",
       "      <td>C</td>\n",
       "      <td>M</td>\n",
       "      <td>23.0</td>\n",
       "      <td>36.0</td>\n",
       "      <td>X-1</td>\n",
       "      <td>0.0</td>\n",
       "      <td>S401</td>\n",
       "      <td>1</td>\n",
       "      <td>0.0</td>\n",
       "      <td>1584.0</td>\n",
       "      <td>rawnav04463200707.txt</td>\n",
       "      <td>2020-07-06 09:04:36</td>\n",
       "      <td>S4</td>\n",
       "      <td>Monday</td>\n",
       "    </tr>\n",
       "  </tbody>\n",
       "</table>\n",
       "</div>"
      ],
      "text/plain": [
       "   index_loc        lat       long  heading door_state veh_state  odom_ft  \\\n",
       "0        0.0  38.993700 -77.030458    245.0          C         S      0.0   \n",
       "1        1.0  38.993700 -77.030458    252.0          C         S      0.0   \n",
       "2        2.0  38.993697 -77.030457    198.0          C         M      2.0   \n",
       "3        3.0  38.993697 -77.030457    179.0          C         M     21.0   \n",
       "4        4.0  38.993697 -77.030457    179.0          C         M     23.0   \n",
       "\n",
       "   sec_past_st stop_window  row_before_apc route_pattern  pattern  \\\n",
       "0          0.0                         0.0          S401        1   \n",
       "1          1.0         X-1             0.0          S401        1   \n",
       "2         34.0         E00             0.0          S401        1   \n",
       "3         36.0                         0.0          S401        1   \n",
       "4         36.0         X-1             0.0          S401        1   \n",
       "\n",
       "   index_run_start  index_run_end               filename     start_date_time  \\\n",
       "0              0.0         1584.0  rawnav04463200707.txt 2020-07-06 09:04:36   \n",
       "1              0.0         1584.0  rawnav04463200707.txt 2020-07-06 09:04:36   \n",
       "2              0.0         1584.0  rawnav04463200707.txt 2020-07-06 09:04:36   \n",
       "3              0.0         1584.0  rawnav04463200707.txt 2020-07-06 09:04:36   \n",
       "4              0.0         1584.0  rawnav04463200707.txt 2020-07-06 09:04:36   \n",
       "\n",
       "  route    wday  \n",
       "0    S4  Monday  \n",
       "1    S4  Monday  \n",
       "2    S4  Monday  \n",
       "3    S4  Monday  \n",
       "4    S4  Monday  "
      ]
     },
     "execution_count": 17,
     "metadata": {},
     "output_type": "execute_result"
    }
   ],
   "source": [
    "rawnav_dat.head()"
   ]
  },
  {
   "cell_type": "code",
   "execution_count": 18,
   "metadata": {
    "ExecuteTime": {
     "end_time": "2020-09-15T16:12:55.279637Z",
     "start_time": "2020-09-15T16:12:54.923480Z"
    }
   },
   "outputs": [],
   "source": [
    "rawnav_summary_dat = (\n",
    "                wr.read_cleaned_rawnav(\n",
    "                    analysis_routes_ = analysis_route,\n",
    "                    analysis_days_ = analysis_day,\n",
    "                    path = os.path.join(path_processed_data, \"rawnav_summary.parquet\")\n",
    "                )\n",
    "            )\n",
    "\n",
    "# Subset Rawnav Data to Records Desired\n",
    "rawnav_summary_dat = rawnav_summary_dat.query('not (run_duration_from_sec < 600 | dist_odom_mi < 2)')\n",
    "\n",
    "rawnav_qjump_dat = rawnav_dat.merge(rawnav_summary_dat[['filename', 'index_run_start']], \n",
    "                                    on=['filename', 'index_run_start'],\n",
    "                                    how='right')"
   ]
  },
  {
   "cell_type": "code",
   "execution_count": 19,
   "metadata": {
    "ExecuteTime": {
     "end_time": "2020-09-15T16:13:11.245554Z",
     "start_time": "2020-09-15T16:12:58.004194Z"
    }
   },
   "outputs": [],
   "source": [
    "# Address Remaining Col Format issues\n",
    "rawnav_qjump_gdf = (\n",
    "gpd.GeoDataFrame(\n",
    "    rawnav_qjump_dat, \n",
    "    geometry = gpd.points_from_xy(\n",
    "        rawnav_qjump_dat.long,\n",
    "        rawnav_qjump_dat.lat\n",
    "    ),\n",
    "    crs='EPSG:4326')\n",
    ".to_crs(epsg=wmata_crs)\n",
    ")"
   ]
  },
  {
   "cell_type": "code",
   "execution_count": 20,
   "metadata": {
    "ExecuteTime": {
     "end_time": "2020-09-15T16:13:11.323368Z",
     "start_time": "2020-09-15T16:13:11.246369Z"
    }
   },
   "outputs": [],
   "source": [
    "# Iterate on over Pattern-Segments Combinations Applicable to Route\n",
    "xwalk_seg_pattern_subset = xwalk_seg_pattern.query('route == @analysis_route')"
   ]
  },
  {
   "cell_type": "code",
   "execution_count": 21,
   "metadata": {
    "ExecuteTime": {
     "end_time": "2020-09-15T16:13:11.407396Z",
     "start_time": "2020-09-15T16:13:11.324373Z"
    }
   },
   "outputs": [
    {
     "data": {
      "text/html": [
       "<div>\n",
       "<style scoped>\n",
       "    .dataframe tbody tr th:only-of-type {\n",
       "        vertical-align: middle;\n",
       "    }\n",
       "\n",
       "    .dataframe tbody tr th {\n",
       "        vertical-align: top;\n",
       "    }\n",
       "\n",
       "    .dataframe thead th {\n",
       "        text-align: right;\n",
       "    }\n",
       "</style>\n",
       "<table border=\"1\" class=\"dataframe\">\n",
       "  <thead>\n",
       "    <tr style=\"text-align: right;\">\n",
       "      <th></th>\n",
       "      <th>route</th>\n",
       "      <th>pattern</th>\n",
       "      <th>seg_name_id</th>\n",
       "    </tr>\n",
       "  </thead>\n",
       "  <tbody>\n",
       "    <tr>\n",
       "      <th>0</th>\n",
       "      <td>S4</td>\n",
       "      <td>2</td>\n",
       "      <td>sixteenth_u_stub</td>\n",
       "    </tr>\n",
       "  </tbody>\n",
       "</table>\n",
       "</div>"
      ],
      "text/plain": [
       "  route  pattern       seg_name_id\n",
       "0    S4        2  sixteenth_u_stub"
      ]
     },
     "execution_count": 21,
     "metadata": {},
     "output_type": "execute_result"
    }
   ],
   "source": [
    "xwalk_seg_pattern_subset"
   ]
  },
  {
   "cell_type": "code",
   "execution_count": 22,
   "metadata": {
    "ExecuteTime": {
     "end_time": "2020-09-15T16:13:11.493371Z",
     "start_time": "2020-09-15T16:13:11.408370Z"
    }
   },
   "outputs": [
    {
     "data": {
      "text/plain": [
       "'sixteenth_u_stub'"
      ]
     },
     "execution_count": 22,
     "metadata": {},
     "output_type": "execute_result"
    }
   ],
   "source": [
    "seg = xwalk_seg_pattern_subset.loc[:,'seg_name_id'].values[0]\n",
    "seg"
   ]
  },
  {
   "cell_type": "code",
   "execution_count": 23,
   "metadata": {
    "ExecuteTime": {
     "end_time": "2020-09-15T16:13:24.437170Z",
     "start_time": "2020-09-15T16:13:24.350130Z"
    }
   },
   "outputs": [
    {
     "data": {
      "text/html": [
       "<div>\n",
       "<style scoped>\n",
       "    .dataframe tbody tr th:only-of-type {\n",
       "        vertical-align: middle;\n",
       "    }\n",
       "\n",
       "    .dataframe tbody tr th {\n",
       "        vertical-align: top;\n",
       "    }\n",
       "\n",
       "    .dataframe thead th {\n",
       "        text-align: right;\n",
       "    }\n",
       "</style>\n",
       "<table border=\"1\" class=\"dataframe\">\n",
       "  <thead>\n",
       "    <tr style=\"text-align: right;\">\n",
       "      <th></th>\n",
       "      <th>OBJECTID</th>\n",
       "      <th>Shape_Length</th>\n",
       "      <th>nicename</th>\n",
       "      <th>seg_name_id</th>\n",
       "      <th>sort_order</th>\n",
       "      <th>RT_D</th>\n",
       "      <th>Note</th>\n",
       "      <th>geometry</th>\n",
       "    </tr>\n",
       "  </thead>\n",
       "  <tbody>\n",
       "    <tr>\n",
       "      <th>4</th>\n",
       "      <td>20</td>\n",
       "      <td>687.439976</td>\n",
       "      <td>16th &amp; U St NW (S1, S2, S4)</td>\n",
       "      <td>sixteenth_u_stub</td>\n",
       "      <td>7</td>\n",
       "      <td>None</td>\n",
       "      <td>Applies to S1, S2, and S4 only.</td>\n",
       "      <td>LINESTRING (1301947.256 454915.428, 1301949.43...</td>\n",
       "    </tr>\n",
       "  </tbody>\n",
       "</table>\n",
       "</div>"
      ],
      "text/plain": [
       "   OBJECTID  Shape_Length                     nicename       seg_name_id  \\\n",
       "4        20    687.439976  16th & U St NW (S1, S2, S4)  sixteenth_u_stub   \n",
       "\n",
       "   sort_order  RT_D                             Note  \\\n",
       "4           7  None  Applies to S1, S2, and S4 only.   \n",
       "\n",
       "                                            geometry  \n",
       "4  LINESTRING (1301947.256 454915.428, 1301949.43...  "
      ]
     },
     "execution_count": 23,
     "metadata": {},
     "output_type": "execute_result"
    }
   ],
   "source": [
    "segments.loc[segments.seg_name_id == seg]"
   ]
  },
  {
   "cell_type": "code",
   "execution_count": 24,
   "metadata": {
    "ExecuteTime": {
     "end_time": "2020-09-15T16:13:33.074435Z",
     "start_time": "2020-09-15T16:13:32.989596Z"
    }
   },
   "outputs": [
    {
     "data": {
      "text/html": [
       "<div>\n",
       "<style scoped>\n",
       "    .dataframe tbody tr th:only-of-type {\n",
       "        vertical-align: middle;\n",
       "    }\n",
       "\n",
       "    .dataframe tbody tr th {\n",
       "        vertical-align: top;\n",
       "    }\n",
       "\n",
       "    .dataframe thead th {\n",
       "        text-align: right;\n",
       "    }\n",
       "</style>\n",
       "<table border=\"1\" class=\"dataframe\">\n",
       "  <thead>\n",
       "    <tr style=\"text-align: right;\">\n",
       "      <th></th>\n",
       "      <th>route</th>\n",
       "      <th>pattern</th>\n",
       "      <th>seg_name_id</th>\n",
       "    </tr>\n",
       "  </thead>\n",
       "  <tbody>\n",
       "    <tr>\n",
       "      <th>0</th>\n",
       "      <td>S4</td>\n",
       "      <td>2</td>\n",
       "      <td>sixteenth_u_stub</td>\n",
       "    </tr>\n",
       "  </tbody>\n",
       "</table>\n",
       "</div>"
      ],
      "text/plain": [
       "  route  pattern       seg_name_id\n",
       "0    S4        2  sixteenth_u_stub"
      ]
     },
     "execution_count": 24,
     "metadata": {},
     "output_type": "execute_result"
    }
   ],
   "source": [
    "xwalk_seg_pattern_subset.loc[xwalk_seg_pattern_subset.seg_name_id == seg]"
   ]
  },
  {
   "cell_type": "code",
   "execution_count": 112,
   "metadata": {},
   "outputs": [],
   "source": [
    "# We pass the rawnav data and summary tables, check against a segment,\n",
    "# and use the patterns_by_seg to indicate which patterns should be examined\n",
    "## below function is not working - break it down further in cells below\n",
    "## updated function to reset_index(drop=True) on index_run_segment_start_end_1\n",
    "index_run_segment_start_end, summary_run_segment = (\n",
    "    wr.merge_rawnav_segment(\n",
    "        rawnav_gdf_=rawnav_qjump_gdf,\n",
    "        rawnav_sum_dat_=rawnav_summary_dat,\n",
    "        target_=segments.loc[segments.seg_name_id == seg],\n",
    "        patterns_by_seg_=xwalk_seg_pattern_subset.loc[xwalk_seg_pattern_subset.seg_name_id == seg]\n",
    "    )\n",
    ")"
   ]
  },
  {
   "cell_type": "code",
   "execution_count": 115,
   "metadata": {},
   "outputs": [
    {
     "data": {
      "text/plain": [
       "filename                           rawnav04465200713.txt\n",
       "index_run_start                                      137\n",
       "index_loc                                            470\n",
       "OBJECTID                                              20\n",
       "Shape_Length                                      687.44\n",
       "nicename                     16th & U St NW (S1, S2, S4)\n",
       "seg_name_id                             sixteenth_u_stub\n",
       "sort_order                                             7\n",
       "RT_D                                                None\n",
       "Note                     Applies to S1, S2, and S4 only.\n",
       "route                                                 S4\n",
       "pattern                                                2\n",
       "location                                           first\n",
       "odom_ft                                             9306\n",
       "sec_past_st                                          485\n",
       "lat                                              38.9158\n",
       "long                                            -77.0365\n",
       "dist_to_nearest_point                            3.06293\n",
       "flag_too_far                                       False\n",
       "flag_wrong_order                                   False\n",
       "wday                                              Sunday\n",
       "Name: 0, dtype: object"
      ]
     },
     "execution_count": 115,
     "metadata": {},
     "output_type": "execute_result"
    }
   ],
   "source": [
    "index_run_segment_start_end.iloc[0]"
   ]
  },
  {
   "cell_type": "code",
   "execution_count": 116,
   "metadata": {},
   "outputs": [
    {
     "data": {
      "text/plain": [
       "filename                                                     rawnav04465200713.txt\n",
       "index_run_start                                                                137\n",
       "seg_name_id                                                       sixteenth_u_stub\n",
       "route                                                                           S4\n",
       "pattern                                                                          2\n",
       "start_date_time                                                2020-07-12 09:26:01\n",
       "wday                                                                        Sunday\n",
       "flag_too_far_any                                                             False\n",
       "flag_wrong_order_any                                                         False\n",
       "flag_too_long_odom                                                           False\n",
       "flag_secs_total_mismatch                                                     False\n",
       "flag_odom_total_mismatch                                                     False\n",
       "start_odom_ft_segment                                                         9306\n",
       "end_odom_ft_segment                                                          10028\n",
       "trip_dist_mi_odom_and_segment                                                 0.14\n",
       "start_sec_segment                                                              485\n",
       "end_sec_segment                                                                527\n",
       "trip_dur_sec_segment                                                            42\n",
       "start_lat_segment                                                          38.9158\n",
       "end_lat_segment                                                            38.9177\n",
       "start_long_segment                                                        -77.0365\n",
       "end_long_segment                                                          -77.0365\n",
       "dist_first_stop_segment                                                       3.06\n",
       "start_index_loc_segment                                                        470\n",
       "end_index_loc_segment                                                          507\n",
       "trip_speed_mph_segment                                                       11.72\n",
       "fullpath                         \\\\l-600730\\RawNavArchive\\072020\\rawnav04465200...\n",
       "file_busid                                                                    4465\n",
       "file_id                                                                04465200713\n",
       "taglist                             142,   S402,4465,07/12/20,09:26:01,37085,05280\n",
       "route_pattern                                                                 S402\n",
       "tag_busid                                                                     4465\n",
       "end_date_time                                                  2020-07-12 09:54:04\n",
       "index_run_start_original                                                       136\n",
       "index_run_end_original                                                        1492\n",
       "index_run_end                                                                 1491\n",
       "sec_start                                                                        0\n",
       "odom_ft_start                                                                    0\n",
       "sec_end                                                                       1683\n",
       "odom_ft_end                                                                  40689\n",
       "run_duration_from_sec                                                         1683\n",
       "run_duration_from_tags                                             0 days 00:28:03\n",
       "dist_odom_mi                                                               7.70625\n",
       "mph_odom                                                                    16.484\n",
       "mph_run_tag                                                                  16.48\n",
       "dist_crow_fly_mi                                                           6.59823\n",
       "lat_start                                                                   38.898\n",
       "long_start                                                                 -77.027\n",
       "lat_end                                                                    38.9935\n",
       "long_end                                                                  -77.0302\n",
       "Name: 0, dtype: object"
      ]
     },
     "execution_count": 116,
     "metadata": {},
     "output_type": "execute_result"
    }
   ],
   "source": [
    "summary_run_segment.iloc[0]"
   ]
  },
  {
   "cell_type": "markdown",
   "metadata": {},
   "source": [
    "## debug cells below"
   ]
  },
  {
   "cell_type": "code",
   "execution_count": 111,
   "metadata": {},
   "outputs": [
    {
     "data": {
      "text/html": [
       "<div>\n",
       "<style scoped>\n",
       "    .dataframe tbody tr th:only-of-type {\n",
       "        vertical-align: middle;\n",
       "    }\n",
       "\n",
       "    .dataframe tbody tr th {\n",
       "        vertical-align: top;\n",
       "    }\n",
       "\n",
       "    .dataframe thead th {\n",
       "        text-align: right;\n",
       "    }\n",
       "</style>\n",
       "<table border=\"1\" class=\"dataframe\">\n",
       "  <thead>\n",
       "    <tr style=\"text-align: right;\">\n",
       "      <th></th>\n",
       "      <th>OBJECTID</th>\n",
       "      <th>Shape_Length</th>\n",
       "      <th>nicename</th>\n",
       "      <th>seg_name_id</th>\n",
       "      <th>sort_order</th>\n",
       "      <th>RT_D</th>\n",
       "      <th>Note</th>\n",
       "      <th>geometry</th>\n",
       "    </tr>\n",
       "  </thead>\n",
       "  <tbody>\n",
       "    <tr>\n",
       "      <th>4</th>\n",
       "      <td>20</td>\n",
       "      <td>687.439976</td>\n",
       "      <td>16th &amp; U St NW (S1, S2, S4)</td>\n",
       "      <td>sixteenth_u_stub</td>\n",
       "      <td>7</td>\n",
       "      <td>None</td>\n",
       "      <td>Applies to S1, S2, and S4 only.</td>\n",
       "      <td>LINESTRING (1301947.256 454915.428, 1301949.43...</td>\n",
       "    </tr>\n",
       "  </tbody>\n",
       "</table>\n",
       "</div>"
      ],
      "text/plain": [
       "   OBJECTID  Shape_Length                     nicename       seg_name_id  \\\n",
       "4        20    687.439976  16th & U St NW (S1, S2, S4)  sixteenth_u_stub   \n",
       "\n",
       "   sort_order  RT_D                             Note  \\\n",
       "4           7  None  Applies to S1, S2, and S4 only.   \n",
       "\n",
       "                                            geometry  \n",
       "4  LINESTRING (1301947.256 454915.428, 1301949.43...  "
      ]
     },
     "execution_count": 111,
     "metadata": {},
     "output_type": "execute_result"
    }
   ],
   "source": [
    "target_ = segments.loc[segments.seg_name_id == seg]\n",
    "target_"
   ]
  },
  {
   "cell_type": "code",
   "execution_count": 52,
   "metadata": {},
   "outputs": [],
   "source": [
    "assert(len(target_)==1), print(\"Function expects a segments file with one record\")"
   ]
  },
  {
   "cell_type": "code",
   "execution_count": 54,
   "metadata": {},
   "outputs": [
    {
     "data": {
      "text/plain": [
       "687.4392398036563"
      ]
     },
     "execution_count": 54,
     "metadata": {},
     "output_type": "execute_result"
    }
   ],
   "source": [
    "# why not use \"shape_length\" field?\n",
    "seg_length = (\n",
    "        target_\n",
    "        .to_crs(2248)\n",
    "        .geometry\n",
    "        .length\n",
    "        .iloc[0] #return a float\n",
    "    )\n",
    "seg_length"
   ]
  },
  {
   "cell_type": "code",
   "execution_count": 55,
   "metadata": {},
   "outputs": [
    {
     "data": {
      "text/html": [
       "<div>\n",
       "<style scoped>\n",
       "    .dataframe tbody tr th:only-of-type {\n",
       "        vertical-align: middle;\n",
       "    }\n",
       "\n",
       "    .dataframe tbody tr th {\n",
       "        vertical-align: top;\n",
       "    }\n",
       "\n",
       "    .dataframe thead th {\n",
       "        text-align: right;\n",
       "    }\n",
       "</style>\n",
       "<table border=\"1\" class=\"dataframe\">\n",
       "  <thead>\n",
       "    <tr style=\"text-align: right;\">\n",
       "      <th></th>\n",
       "      <th>OBJECTID</th>\n",
       "      <th>Shape_Length</th>\n",
       "      <th>nicename</th>\n",
       "      <th>seg_name_id</th>\n",
       "      <th>sort_order</th>\n",
       "      <th>RT_D</th>\n",
       "      <th>Note</th>\n",
       "      <th>geometry</th>\n",
       "      <th>route</th>\n",
       "      <th>pattern</th>\n",
       "    </tr>\n",
       "  </thead>\n",
       "  <tbody>\n",
       "    <tr>\n",
       "      <th>0</th>\n",
       "      <td>20</td>\n",
       "      <td>687.439976</td>\n",
       "      <td>16th &amp; U St NW (S1, S2, S4)</td>\n",
       "      <td>sixteenth_u_stub</td>\n",
       "      <td>7</td>\n",
       "      <td>None</td>\n",
       "      <td>Applies to S1, S2, and S4 only.</td>\n",
       "      <td>LINESTRING (1301947.256 454915.428, 1301949.43...</td>\n",
       "      <td>S4</td>\n",
       "      <td>2</td>\n",
       "    </tr>\n",
       "  </tbody>\n",
       "</table>\n",
       "</div>"
      ],
      "text/plain": [
       "   OBJECTID  Shape_Length                     nicename       seg_name_id  \\\n",
       "0        20    687.439976  16th & U St NW (S1, S2, S4)  sixteenth_u_stub   \n",
       "\n",
       "   sort_order  RT_D                             Note  \\\n",
       "0           7  None  Applies to S1, S2, and S4 only.   \n",
       "\n",
       "                                            geometry route  pattern  \n",
       "0  LINESTRING (1301947.256 454915.428, 1301949.43...    S4        2  "
      ]
     },
     "execution_count": 55,
     "metadata": {},
     "output_type": "execute_result"
    }
   ],
   "source": [
    "patterns_by_seg_ = xwalk_seg_pattern_subset.loc[xwalk_seg_pattern_subset.seg_name_id == seg]\n",
    "# Subset segment shapes to current segment and add route identifier\n",
    "seg_pattern_shape = (\n",
    "    target_\n",
    "    # Add route and pattern identifier\n",
    "    .merge(\n",
    "        patterns_by_seg_,\n",
    "        on = ['seg_name_id'],\n",
    "        how = \"left\")\n",
    ")\n",
    "seg_pattern_shape"
   ]
  },
  {
   "cell_type": "code",
   "execution_count": 57,
   "metadata": {},
   "outputs": [
    {
     "data": {
      "text/html": [
       "<div>\n",
       "<style scoped>\n",
       "    .dataframe tbody tr th:only-of-type {\n",
       "        vertical-align: middle;\n",
       "    }\n",
       "\n",
       "    .dataframe tbody tr th {\n",
       "        vertical-align: top;\n",
       "    }\n",
       "\n",
       "    .dataframe thead th {\n",
       "        text-align: right;\n",
       "    }\n",
       "</style>\n",
       "<table border=\"1\" class=\"dataframe\">\n",
       "  <thead>\n",
       "    <tr style=\"text-align: right;\">\n",
       "      <th></th>\n",
       "      <th>OBJECTID</th>\n",
       "      <th>Shape_Length</th>\n",
       "      <th>nicename</th>\n",
       "      <th>seg_name_id</th>\n",
       "      <th>sort_order</th>\n",
       "      <th>RT_D</th>\n",
       "      <th>Note</th>\n",
       "      <th>route</th>\n",
       "      <th>pattern</th>\n",
       "      <th>location</th>\n",
       "      <th>geometry</th>\n",
       "    </tr>\n",
       "  </thead>\n",
       "  <tbody>\n",
       "    <tr>\n",
       "      <th>0</th>\n",
       "      <td>20</td>\n",
       "      <td>687.44</td>\n",
       "      <td>16th &amp; U St NW (S1, S2, S4)</td>\n",
       "      <td>sixteenth_u_stub</td>\n",
       "      <td>7</td>\n",
       "      <td>None</td>\n",
       "      <td>Applies to S1, S2, and S4 only.</td>\n",
       "      <td>S4</td>\n",
       "      <td>2</td>\n",
       "      <td>first</td>\n",
       "      <td>POINT (1301947.256 454915.428)</td>\n",
       "    </tr>\n",
       "    <tr>\n",
       "      <th>1</th>\n",
       "      <td>20</td>\n",
       "      <td>687.44</td>\n",
       "      <td>16th &amp; U St NW (S1, S2, S4)</td>\n",
       "      <td>sixteenth_u_stub</td>\n",
       "      <td>7</td>\n",
       "      <td>None</td>\n",
       "      <td>Applies to S1, S2, and S4 only.</td>\n",
       "      <td>S4</td>\n",
       "      <td>2</td>\n",
       "      <td>last</td>\n",
       "      <td>POINT (1301947.448 455602.820)</td>\n",
       "    </tr>\n",
       "  </tbody>\n",
       "</table>\n",
       "</div>"
      ],
      "text/plain": [
       "  OBJECTID Shape_Length                     nicename       seg_name_id  \\\n",
       "0       20       687.44  16th & U St NW (S1, S2, S4)  sixteenth_u_stub   \n",
       "1       20       687.44  16th & U St NW (S1, S2, S4)  sixteenth_u_stub   \n",
       "\n",
       "  sort_order  RT_D                             Note route pattern location  \\\n",
       "0          7  None  Applies to S1, S2, and S4 only.    S4       2    first   \n",
       "1          7  None  Applies to S1, S2, and S4 only.    S4       2     last   \n",
       "\n",
       "                         geometry  \n",
       "0  POINT (1301947.256 454915.428)  \n",
       "1  POINT (1301947.448 455602.820)  "
      ]
     },
     "execution_count": 57,
     "metadata": {},
     "output_type": "execute_result"
    }
   ],
   "source": [
    "# Prepare segment shape for merge    \n",
    "seg_pattern_first_last = wr.explode_first_last(seg_pattern_shape)\n",
    "seg_pattern_first_last"
   ]
  },
  {
   "cell_type": "code",
   "execution_count": 77,
   "metadata": {},
   "outputs": [
    {
     "data": {
      "text/html": [
       "<div>\n",
       "<style scoped>\n",
       "    .dataframe tbody tr th:only-of-type {\n",
       "        vertical-align: middle;\n",
       "    }\n",
       "\n",
       "    .dataframe tbody tr th {\n",
       "        vertical-align: top;\n",
       "    }\n",
       "\n",
       "    .dataframe thead th {\n",
       "        text-align: right;\n",
       "    }\n",
       "</style>\n",
       "<table border=\"1\" class=\"dataframe\">\n",
       "  <thead>\n",
       "    <tr style=\"text-align: right;\">\n",
       "      <th></th>\n",
       "      <th>filename</th>\n",
       "      <th>index_run_start</th>\n",
       "      <th>index_loc</th>\n",
       "      <th>OBJECTID</th>\n",
       "      <th>Shape_Length</th>\n",
       "      <th>nicename</th>\n",
       "      <th>seg_name_id</th>\n",
       "      <th>sort_order</th>\n",
       "      <th>RT_D</th>\n",
       "      <th>Note</th>\n",
       "      <th>route</th>\n",
       "      <th>pattern</th>\n",
       "      <th>location</th>\n",
       "      <th>geometry</th>\n",
       "      <th>odom_ft</th>\n",
       "      <th>sec_past_st</th>\n",
       "      <th>lat</th>\n",
       "      <th>long</th>\n",
       "      <th>dist_to_nearest_point</th>\n",
       "    </tr>\n",
       "  </thead>\n",
       "  <tbody>\n",
       "    <tr>\n",
       "      <th>0</th>\n",
       "      <td>rawnav04468200721.txt</td>\n",
       "      <td>2307.0</td>\n",
       "      <td>2307.0</td>\n",
       "      <td>20</td>\n",
       "      <td>687.44</td>\n",
       "      <td>16th &amp; U St NW (S1, S2, S4)</td>\n",
       "      <td>sixteenth_u_stub</td>\n",
       "      <td>7</td>\n",
       "      <td>None</td>\n",
       "      <td>Applies to S1, S2, and S4 only.</td>\n",
       "      <td>S4</td>\n",
       "      <td>2</td>\n",
       "      <td>first</td>\n",
       "      <td>POINT (1301947.256 454915.428)</td>\n",
       "      <td>0.0</td>\n",
       "      <td>0.0</td>\n",
       "      <td>39.047118</td>\n",
       "      <td>-77.108382</td>\n",
       "      <td>52012.887472</td>\n",
       "    </tr>\n",
       "    <tr>\n",
       "      <th>1</th>\n",
       "      <td>rawnav04468200721.txt</td>\n",
       "      <td>2307.0</td>\n",
       "      <td>2307.0</td>\n",
       "      <td>20</td>\n",
       "      <td>687.44</td>\n",
       "      <td>16th &amp; U St NW (S1, S2, S4)</td>\n",
       "      <td>sixteenth_u_stub</td>\n",
       "      <td>7</td>\n",
       "      <td>None</td>\n",
       "      <td>Applies to S1, S2, and S4 only.</td>\n",
       "      <td>S4</td>\n",
       "      <td>2</td>\n",
       "      <td>last</td>\n",
       "      <td>POINT (1301947.448 455602.820)</td>\n",
       "      <td>0.0</td>\n",
       "      <td>0.0</td>\n",
       "      <td>39.047118</td>\n",
       "      <td>-77.108382</td>\n",
       "      <td>51381.331772</td>\n",
       "    </tr>\n",
       "    <tr>\n",
       "      <th>2</th>\n",
       "      <td>rawnav04468200721.txt</td>\n",
       "      <td>5489.0</td>\n",
       "      <td>5489.0</td>\n",
       "      <td>20</td>\n",
       "      <td>687.44</td>\n",
       "      <td>16th &amp; U St NW (S1, S2, S4)</td>\n",
       "      <td>sixteenth_u_stub</td>\n",
       "      <td>7</td>\n",
       "      <td>None</td>\n",
       "      <td>Applies to S1, S2, and S4 only.</td>\n",
       "      <td>S4</td>\n",
       "      <td>2</td>\n",
       "      <td>first</td>\n",
       "      <td>POINT (1301947.256 454915.428)</td>\n",
       "      <td>0.0</td>\n",
       "      <td>0.0</td>\n",
       "      <td>39.047118</td>\n",
       "      <td>-77.108382</td>\n",
       "      <td>52012.887472</td>\n",
       "    </tr>\n",
       "    <tr>\n",
       "      <th>3</th>\n",
       "      <td>rawnav04468200721.txt</td>\n",
       "      <td>5489.0</td>\n",
       "      <td>5489.0</td>\n",
       "      <td>20</td>\n",
       "      <td>687.44</td>\n",
       "      <td>16th &amp; U St NW (S1, S2, S4)</td>\n",
       "      <td>sixteenth_u_stub</td>\n",
       "      <td>7</td>\n",
       "      <td>None</td>\n",
       "      <td>Applies to S1, S2, and S4 only.</td>\n",
       "      <td>S4</td>\n",
       "      <td>2</td>\n",
       "      <td>last</td>\n",
       "      <td>POINT (1301947.448 455602.820)</td>\n",
       "      <td>0.0</td>\n",
       "      <td>0.0</td>\n",
       "      <td>39.047118</td>\n",
       "      <td>-77.108382</td>\n",
       "      <td>51381.331772</td>\n",
       "    </tr>\n",
       "    <tr>\n",
       "      <th>4</th>\n",
       "      <td>rawnav04470200707.txt</td>\n",
       "      <td>2738.0</td>\n",
       "      <td>3321.0</td>\n",
       "      <td>20</td>\n",
       "      <td>687.44</td>\n",
       "      <td>16th &amp; U St NW (S1, S2, S4)</td>\n",
       "      <td>sixteenth_u_stub</td>\n",
       "      <td>7</td>\n",
       "      <td>None</td>\n",
       "      <td>Applies to S1, S2, and S4 only.</td>\n",
       "      <td>S4</td>\n",
       "      <td>2</td>\n",
       "      <td>first</td>\n",
       "      <td>POINT (1301947.256 454915.428)</td>\n",
       "      <td>12897.0</td>\n",
       "      <td>1256.0</td>\n",
       "      <td>38.915792</td>\n",
       "      <td>-77.036527</td>\n",
       "      <td>7.913626</td>\n",
       "    </tr>\n",
       "  </tbody>\n",
       "</table>\n",
       "</div>"
      ],
      "text/plain": [
       "                filename  index_run_start  index_loc OBJECTID Shape_Length  \\\n",
       "0  rawnav04468200721.txt           2307.0     2307.0       20       687.44   \n",
       "1  rawnav04468200721.txt           2307.0     2307.0       20       687.44   \n",
       "2  rawnav04468200721.txt           5489.0     5489.0       20       687.44   \n",
       "3  rawnav04468200721.txt           5489.0     5489.0       20       687.44   \n",
       "4  rawnav04470200707.txt           2738.0     3321.0       20       687.44   \n",
       "\n",
       "                      nicename       seg_name_id sort_order  RT_D  \\\n",
       "0  16th & U St NW (S1, S2, S4)  sixteenth_u_stub          7  None   \n",
       "1  16th & U St NW (S1, S2, S4)  sixteenth_u_stub          7  None   \n",
       "2  16th & U St NW (S1, S2, S4)  sixteenth_u_stub          7  None   \n",
       "3  16th & U St NW (S1, S2, S4)  sixteenth_u_stub          7  None   \n",
       "4  16th & U St NW (S1, S2, S4)  sixteenth_u_stub          7  None   \n",
       "\n",
       "                              Note route pattern location  \\\n",
       "0  Applies to S1, S2, and S4 only.    S4       2    first   \n",
       "1  Applies to S1, S2, and S4 only.    S4       2     last   \n",
       "2  Applies to S1, S2, and S4 only.    S4       2    first   \n",
       "3  Applies to S1, S2, and S4 only.    S4       2     last   \n",
       "4  Applies to S1, S2, and S4 only.    S4       2    first   \n",
       "\n",
       "                         geometry  odom_ft  sec_past_st        lat       long  \\\n",
       "0  POINT (1301947.256 454915.428)      0.0          0.0  39.047118 -77.108382   \n",
       "1  POINT (1301947.448 455602.820)      0.0          0.0  39.047118 -77.108382   \n",
       "2  POINT (1301947.256 454915.428)      0.0          0.0  39.047118 -77.108382   \n",
       "3  POINT (1301947.448 455602.820)      0.0          0.0  39.047118 -77.108382   \n",
       "4  POINT (1301947.256 454915.428)  12897.0       1256.0  38.915792 -77.036527   \n",
       "\n",
       "   dist_to_nearest_point  \n",
       "0           52012.887472  \n",
       "1           51381.331772  \n",
       "2           52012.887472  \n",
       "3           51381.331772  \n",
       "4               7.913626  "
      ]
     },
     "execution_count": 77,
     "metadata": {},
     "output_type": "execute_result"
    }
   ],
   "source": [
    "rawnav_gdf_ = rawnav_qjump_gdf\n",
    "# Find rawnav point nearest each segment\n",
    "index_run_segment_start_end_1 = (\n",
    "    wr.merge_rawnav_target(\n",
    "        target_dat = seg_pattern_first_last,\n",
    "        rawnav_dat = rawnav_gdf_\n",
    "    )\n",
    ").reset_index(drop=True)\n",
    "index_run_segment_start_end_1.head()"
   ]
  },
  {
   "cell_type": "code",
   "execution_count": 78,
   "metadata": {},
   "outputs": [
    {
     "data": {
      "text/html": [
       "<div>\n",
       "<style scoped>\n",
       "    .dataframe tbody tr th:only-of-type {\n",
       "        vertical-align: middle;\n",
       "    }\n",
       "\n",
       "    .dataframe tbody tr th {\n",
       "        vertical-align: top;\n",
       "    }\n",
       "\n",
       "    .dataframe thead th {\n",
       "        text-align: right;\n",
       "    }\n",
       "</style>\n",
       "<table border=\"1\" class=\"dataframe\">\n",
       "  <thead>\n",
       "    <tr style=\"text-align: right;\">\n",
       "      <th></th>\n",
       "      <th>filename</th>\n",
       "      <th>index_run_start</th>\n",
       "      <th>index_loc</th>\n",
       "      <th>OBJECTID</th>\n",
       "      <th>Shape_Length</th>\n",
       "      <th>nicename</th>\n",
       "      <th>seg_name_id</th>\n",
       "      <th>sort_order</th>\n",
       "      <th>RT_D</th>\n",
       "      <th>Note</th>\n",
       "      <th>route</th>\n",
       "      <th>pattern</th>\n",
       "      <th>location</th>\n",
       "      <th>geometry</th>\n",
       "      <th>odom_ft</th>\n",
       "      <th>sec_past_st</th>\n",
       "      <th>lat</th>\n",
       "      <th>long</th>\n",
       "      <th>dist_to_nearest_point</th>\n",
       "      <th>flag_too_far</th>\n",
       "    </tr>\n",
       "  </thead>\n",
       "  <tbody>\n",
       "    <tr>\n",
       "      <th>0</th>\n",
       "      <td>rawnav04468200721.txt</td>\n",
       "      <td>2307.0</td>\n",
       "      <td>2307.0</td>\n",
       "      <td>20</td>\n",
       "      <td>687.44</td>\n",
       "      <td>16th &amp; U St NW (S1, S2, S4)</td>\n",
       "      <td>sixteenth_u_stub</td>\n",
       "      <td>7</td>\n",
       "      <td>None</td>\n",
       "      <td>Applies to S1, S2, and S4 only.</td>\n",
       "      <td>S4</td>\n",
       "      <td>2</td>\n",
       "      <td>first</td>\n",
       "      <td>POINT (1301947.256 454915.428)</td>\n",
       "      <td>0.0</td>\n",
       "      <td>0.0</td>\n",
       "      <td>39.047118</td>\n",
       "      <td>-77.108382</td>\n",
       "      <td>52012.887472</td>\n",
       "      <td>True</td>\n",
       "    </tr>\n",
       "    <tr>\n",
       "      <th>1</th>\n",
       "      <td>rawnav04468200721.txt</td>\n",
       "      <td>2307.0</td>\n",
       "      <td>2307.0</td>\n",
       "      <td>20</td>\n",
       "      <td>687.44</td>\n",
       "      <td>16th &amp; U St NW (S1, S2, S4)</td>\n",
       "      <td>sixteenth_u_stub</td>\n",
       "      <td>7</td>\n",
       "      <td>None</td>\n",
       "      <td>Applies to S1, S2, and S4 only.</td>\n",
       "      <td>S4</td>\n",
       "      <td>2</td>\n",
       "      <td>last</td>\n",
       "      <td>POINT (1301947.448 455602.820)</td>\n",
       "      <td>0.0</td>\n",
       "      <td>0.0</td>\n",
       "      <td>39.047118</td>\n",
       "      <td>-77.108382</td>\n",
       "      <td>51381.331772</td>\n",
       "      <td>True</td>\n",
       "    </tr>\n",
       "    <tr>\n",
       "      <th>2</th>\n",
       "      <td>rawnav04468200721.txt</td>\n",
       "      <td>5489.0</td>\n",
       "      <td>5489.0</td>\n",
       "      <td>20</td>\n",
       "      <td>687.44</td>\n",
       "      <td>16th &amp; U St NW (S1, S2, S4)</td>\n",
       "      <td>sixteenth_u_stub</td>\n",
       "      <td>7</td>\n",
       "      <td>None</td>\n",
       "      <td>Applies to S1, S2, and S4 only.</td>\n",
       "      <td>S4</td>\n",
       "      <td>2</td>\n",
       "      <td>first</td>\n",
       "      <td>POINT (1301947.256 454915.428)</td>\n",
       "      <td>0.0</td>\n",
       "      <td>0.0</td>\n",
       "      <td>39.047118</td>\n",
       "      <td>-77.108382</td>\n",
       "      <td>52012.887472</td>\n",
       "      <td>True</td>\n",
       "    </tr>\n",
       "  </tbody>\n",
       "</table>\n",
       "</div>"
      ],
      "text/plain": [
       "                filename  index_run_start  index_loc OBJECTID Shape_Length  \\\n",
       "0  rawnav04468200721.txt           2307.0     2307.0       20       687.44   \n",
       "1  rawnav04468200721.txt           2307.0     2307.0       20       687.44   \n",
       "2  rawnav04468200721.txt           5489.0     5489.0       20       687.44   \n",
       "\n",
       "                      nicename       seg_name_id sort_order  RT_D  \\\n",
       "0  16th & U St NW (S1, S2, S4)  sixteenth_u_stub          7  None   \n",
       "1  16th & U St NW (S1, S2, S4)  sixteenth_u_stub          7  None   \n",
       "2  16th & U St NW (S1, S2, S4)  sixteenth_u_stub          7  None   \n",
       "\n",
       "                              Note route pattern location  \\\n",
       "0  Applies to S1, S2, and S4 only.    S4       2    first   \n",
       "1  Applies to S1, S2, and S4 only.    S4       2     last   \n",
       "2  Applies to S1, S2, and S4 only.    S4       2    first   \n",
       "\n",
       "                         geometry  odom_ft  sec_past_st        lat       long  \\\n",
       "0  POINT (1301947.256 454915.428)      0.0          0.0  39.047118 -77.108382   \n",
       "1  POINT (1301947.448 455602.820)      0.0          0.0  39.047118 -77.108382   \n",
       "2  POINT (1301947.256 454915.428)      0.0          0.0  39.047118 -77.108382   \n",
       "\n",
       "   dist_to_nearest_point  flag_too_far  \n",
       "0           52012.887472          True  \n",
       "1           51381.331772          True  \n",
       "2           52012.887472          True  "
      ]
     },
     "execution_count": 78,
     "metadata": {},
     "output_type": "execute_result"
    }
   ],
   "source": [
    "index_run_segment_start_end_1.loc[:,'flag_too_far'] = (index_run_segment_start_end_1\n",
    "                                                       .loc[:,'dist_to_nearest_point']\n",
    "                                                      .apply(lambda x: x > 50))\n",
    "index_run_segment_start_end_1.head(3)"
   ]
  },
  {
   "cell_type": "code",
   "execution_count": 80,
   "metadata": {},
   "outputs": [],
   "source": [
    "index_run_segment_start_end_1.loc[:,'flag_wrong_order'] = (index_run_segment_start_end_1\n",
    "                                                         .groupby(['filename','index_run_start']\n",
    "                                                                  , sort = False)\n",
    "                                                     .index_loc\n",
    "                                                     .diff()\n",
    "                                                     .fillna(0)\n",
    "                                                     .lt(0))"
   ]
  },
  {
   "cell_type": "code",
   "execution_count": 84,
   "metadata": {},
   "outputs": [],
   "source": [
    "rawnav_sum_dat_ = rawnav_summary_dat\n",
    "# Generate Summary\n",
    "summary_run_segment = (\n",
    "    wr.include_segment_summary(\n",
    "        rawnav_q_dat = rawnav_gdf_,\n",
    "        rawnav_sum_dat = rawnav_sum_dat_,\n",
    "        nearest_seg_boundary_dat = index_run_segment_start_end_1,\n",
    "        seg_length_ = seg_length\n",
    "    )\n",
    ")"
   ]
  },
  {
   "cell_type": "code",
   "execution_count": 85,
   "metadata": {},
   "outputs": [],
   "source": [
    "# Could do this earlier, but need to remove geometry reference in get_first_last_stop_rawnav if so\n",
    "index_run_segment_start_end = wr.drop_geometry(index_run_segment_start_end_1)"
   ]
  },
  {
   "cell_type": "code",
   "execution_count": null,
   "metadata": {},
   "outputs": [],
   "source": []
  },
  {
   "cell_type": "code",
   "execution_count": 113,
   "metadata": {},
   "outputs": [
    {
     "name": "stdout",
     "output_type": "stream",
     "text": [
      "****************************************************************************************************\n",
      "Processing analysis route S4\n",
      "Processing analysis route S4 for Monday...\n",
      "Processing segment sixteenth_u_stub ...\n",
      "Processing analysis route S4 for Tuesday...\n",
      "Processing segment sixteenth_u_stub ...\n",
      "Processing analysis route S4 for Wednesday...\n",
      "Processing segment sixteenth_u_stub ...\n",
      "Processing analysis route S4 for Thursday...\n",
      "Processing segment sixteenth_u_stub ...\n",
      "Processing analysis route S4 for Friday...\n",
      "Processing segment sixteenth_u_stub ...\n",
      "Processing analysis route S4 for Saturday...\n",
      "Processing segment sixteenth_u_stub ...\n",
      "Processing analysis route S4 for Sunday...\n",
      "Processing segment sixteenth_u_stub ...\n"
     ]
    }
   ],
   "source": [
    "# Iterate\n",
    "for analysis_route in analysis_routes:\n",
    "    print(\"*\" * 100)\n",
    "    print(f'Processing analysis route {analysis_route}')\n",
    "    for analysis_day in analysis_days:\n",
    "        print(f'Processing analysis route {analysis_route} for {analysis_day}...')\n",
    "        \n",
    "        # Reload data\n",
    "        try:\n",
    "            rawnav_dat = (\n",
    "                wr.read_cleaned_rawnav(\n",
    "                   analysis_routes_ = analysis_route,\n",
    "                   analysis_days_ = analysis_day,\n",
    "                   path = os.path.join(path_processed_data, \"rawnav_data.parquet\"))\n",
    "                .drop(columns=['blank', 'lat_raw', 'long_raw', 'sat_cnt'])\n",
    "                )\n",
    "        except:\n",
    "            print(f'No data on analysis route {analysis_route} for {analysis_day}')\n",
    "            continue\n",
    "        else:\n",
    "   \n",
    "            # Reload Data\n",
    "            rawnav_summary_dat = (\n",
    "                wr.read_cleaned_rawnav(\n",
    "                    analysis_routes_ = analysis_route,\n",
    "                    analysis_days_ = analysis_day,\n",
    "                    path = os.path.join(path_processed_data, \"rawnav_summary.parquet\")\n",
    "                )\n",
    "            )\n",
    "\n",
    "            # Subset Rawnav Data to Records Desired\n",
    "            rawnav_summary_dat = rawnav_summary_dat.query('not (run_duration_from_sec < 600 | dist_odom_mi < 2)')\n",
    "            \n",
    "            rawnav_qjump_dat = rawnav_dat.merge(rawnav_summary_dat[['filename', 'index_run_start']], \n",
    "                                                on=['filename', 'index_run_start'],\n",
    "                                                how='right')\n",
    "            \n",
    "            # Address Remaining Col Format issues\n",
    "            rawnav_qjump_gdf = (\n",
    "                gpd.GeoDataFrame(\n",
    "                    rawnav_qjump_dat, \n",
    "                    geometry = gpd.points_from_xy(\n",
    "                        rawnav_qjump_dat.long,\n",
    "                        rawnav_qjump_dat.lat\n",
    "                    ),\n",
    "                    crs='EPSG:4326')\n",
    "                .to_crs(epsg=wmata_crs)\n",
    "            )\n",
    "    \n",
    "            # Iterate on over Pattern-Segments Combinations Applicable to Route\n",
    "            xwalk_seg_pattern_subset = xwalk_seg_pattern.query('route == @analysis_route')\n",
    "                        \n",
    "            for seg in xwalk_seg_pattern_subset.seg_name_id.unique():\n",
    "                print('Processing segment {} ...'.format(seg))\n",
    "\n",
    "                # We pass the rawnav data and summary tables, check against a segment,\n",
    "                # and use the patterns_by_seg to indicate which patterns should be examined\n",
    "                index_run_segment_start_end, summary_run_segment = (\n",
    "                    wr.merge_rawnav_segment(\n",
    "                        rawnav_gdf_=rawnav_qjump_gdf,\n",
    "                        rawnav_sum_dat_=rawnav_summary_dat,\n",
    "                        target_=segments.loc[segments.seg_name_id == seg],\n",
    "                        patterns_by_seg_=xwalk_seg_pattern_subset.loc[xwalk_seg_pattern_subset.seg_name_id == seg]\n",
    "                    )\n",
    "                )\n",
    "                # Note that because seg_pattern_first_last is defined for route and pattern,\n",
    "                # our summary will implicitly drop any runs that are on 'wrong' pattern(s) for \n",
    "                # a route. \n",
    "                \n",
    "                index_run_segment_start_end['wday'] = analysis_day\n",
    "                summary_run_segment['wday'] = analysis_day\n",
    "                \n",
    "                # The additional partitioning here is excessive, but if fits better in the \n",
    "                # iterative/chunking process above\n",
    "                pq.write_to_dataset(\n",
    "                    table = pa.Table.from_pandas(summary_run_segment),\n",
    "                    root_path = path_seg_summary,\n",
    "                    partition_cols = ['route','wday','seg_name_id']\n",
    "                )\n",
    "                \n",
    "                pq.write_to_dataset(\n",
    "                    table = pa.Table.from_pandas(index_run_segment_start_end),\n",
    "                    root_path = path_seg_index,\n",
    "                    partition_cols = ['route','wday','seg_name_id']\n",
    "                )"
   ]
  },
  {
   "cell_type": "code",
   "execution_count": null,
   "metadata": {},
   "outputs": [],
   "source": []
  }
 ],
 "metadata": {
  "kernelspec": {
   "display_name": "Python (rawnav)",
   "language": "python",
   "name": "rawnav"
  },
  "language_info": {
   "codemirror_mode": {
    "name": "ipython",
    "version": 3
   },
   "file_extension": ".py",
   "mimetype": "text/x-python",
   "name": "python",
   "nbconvert_exporter": "python",
   "pygments_lexer": "ipython3",
   "version": "3.8.5"
  },
  "toc": {
   "base_numbering": 1,
   "nav_menu": {},
   "number_sections": true,
   "sideBar": true,
   "skip_h1_title": false,
   "title_cell": "Table of Contents",
   "title_sidebar": "Contents",
   "toc_cell": false,
   "toc_position": {},
   "toc_section_display": true,
   "toc_window_display": false
  }
 },
 "nbformat": 4,
 "nbformat_minor": 4
}
