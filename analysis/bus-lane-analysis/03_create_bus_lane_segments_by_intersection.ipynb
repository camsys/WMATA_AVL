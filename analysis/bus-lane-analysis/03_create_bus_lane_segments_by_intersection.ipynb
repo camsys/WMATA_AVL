{
 "cells": [
  {
   "cell_type": "markdown",
   "metadata": {},
   "source": [
    "# copied from a previous rawnav repo - needs to be updated for the new workflow"
   ]
  },
  {
   "cell_type": "code",
   "execution_count": 12,
   "metadata": {
    "ExecuteTime": {
     "end_time": "2020-09-25T17:48:38.439600Z",
     "start_time": "2020-09-25T17:48:38.329602Z"
    }
   },
   "outputs": [
    {
     "name": "stdout",
     "output_type": "stream",
     "text": [
      "The autoreload extension is already loaded. To reload it, use:\n",
      "  %reload_ext autoreload\n"
     ]
    }
   ],
   "source": [
    "import os, sys, glob, pandas as pd, geopandas as gpd\n",
    "import pyarrow as pa, pyarrow.parquet as pq\n",
    "import folium\n",
    "from folium.plugins import MarkerCluster\n",
    "from folium import CircleMarker\n",
    "from IPython.display import IFrame\n",
    "\n",
    "#### ben imports\n",
    "import json\n",
    "import numpy as np\n",
    "from scipy.spatial import cKDTree\n",
    "from shapely.geometry import LineString, Point\n",
    "\n",
    "\n",
    "pd.set_option('display.max_columns', None)\n",
    "if not sys.warnoptions:\n",
    "    import warnings\n",
    "    warnings.simplefilter(\"ignore\")\n",
    "%load_ext autoreload\n",
    "%autoreload 2\n",
    "\n",
    "#NAD83 Maryland (ft)\n",
    "wmata_crs = 2248"
   ]
  },
  {
   "cell_type": "code",
   "execution_count": 13,
   "metadata": {
    "ExecuteTime": {
     "end_time": "2020-09-25T17:48:38.707628Z",
     "start_time": "2020-09-25T17:48:38.594586Z"
    }
   },
   "outputs": [],
   "source": [
    "from ipywidgets import interact\n",
    "from shapely.ops import cascaded_union, linemerge"
   ]
  },
  {
   "cell_type": "code",
   "execution_count": 14,
   "metadata": {
    "ExecuteTime": {
     "end_time": "2020-09-25T17:48:39.528375Z",
     "start_time": "2020-09-25T17:48:39.424371Z"
    }
   },
   "outputs": [],
   "source": [
    "#os.path.pardir is equivalent to \"..\"\n",
    "#need to append folder 2 levels up in order to load wmatarawnav\n",
    "sys.path.append(os.path.join( os.path.pardir,os.path.pardir))\n",
    "import wmatarawnav as wr"
   ]
  },
  {
   "cell_type": "code",
   "execution_count": 19,
   "metadata": {
    "ExecuteTime": {
     "end_time": "2020-09-25T17:49:38.958817Z",
     "start_time": "2020-09-25T17:49:38.857817Z"
    }
   },
   "outputs": [],
   "source": [
    "# 1.2 Set Global Parameters\n",
    "############################################\n",
    "if os.getlogin() == \"WylieTimmerman\":\n",
    "    path_working = r\"C:\\OD\\OneDrive - Foursquare ITP\\Projects\\WMATA_AVL\"\n",
    "    os.chdir(os.path.join(path_working))\n",
    "    sys.path.append(r\"C:\\OD\\OneDrive - Foursquare ITP\\Projects\\WMATA_AVL\")\n",
    "    path_sp = r\"C:\\Users\\WylieTimmerman\\Documents\\projects_local\\wmata_avl_local\"\n",
    "    path_source_data = os.path.join(path_sp,\"data\",\"00-raw\")\n",
    "    path_processed_data = os.path.join(path_sp, \"data\",\"02-processed\")\n",
    "    path_segments = os.path.join(path_working,\"data\",\"02-processed\")\n",
    "elif os.getlogin() == \"abibeka\":\n",
    "    path_working = r\"C:\\Users\\abibeka\\OneDrive - Kittelson & Associates, Inc\\Documents\\Github\\WMATA_AVL\"\n",
    "    os.chdir(os.path.join(path_working))\n",
    "    sys.path.append(path_working)\n",
    "    path_source_data = r\"C:\\Users\\abibeka\\OneDrive - Kittelson & Associates, Inc\\Documents\\WMATA-AVL\\Data\"\n",
    "    path_processed_data = os.path.join(path_source_data, \"ProcessedData\")\n",
    "    path_segments = path_processed_data\n",
    "elif os.getlogin() == \"E048374\":\n",
    "    # Working Paths\n",
    "    path_working = r\"C:\\Users\\E048374\\OneDrive - WMATA\\rawnav_rachel_fork\\WMATA_AVL\"\n",
    "    os.chdir(os.path.join(path_working))\n",
    "    sys.path.append(r\"C:\\Users\\E048374\\OneDrive - WMATA\\rawnav_rachel_fork\\WMATA_AVL\")\n",
    "    path_source_data = r\"\\\\l-600730\\RawNavArchive\"\n",
    "    path_sp = r\"C:\\Users\\E048374\\Documents\\RawNav\"\n",
    "    path_processed_data = os.path.join(path_sp, \"data\", \"02-processed\")\n",
    "    path_segments = path_processed_data\n",
    "    path_sched_data = os.path.join(path_working, \"data\", \"02-processed\")\n",
    "    \n",
    "else:\n",
    "    raise FileNotFoundError(\"Define the path_working, path_source_data, gtfs_dir, \\\n",
    "                            ZippedFilesloc, and path_processed_data in a new elif block\")"
   ]
  },
  {
   "cell_type": "markdown",
   "metadata": {},
   "source": [
    "## load segments for visualization"
   ]
  },
  {
   "cell_type": "code",
   "execution_count": 16,
   "metadata": {
    "ExecuteTime": {
     "end_time": "2020-09-25T17:48:41.763861Z",
     "start_time": "2020-09-25T17:48:41.647863Z"
    }
   },
   "outputs": [],
   "source": [
    "segments_loc = \"C:\\\\Users\\\\E048374\\\\OneDrive - WMATA\\\\rawnav_rachel_fork\\\\WMATA_AVL\\\\data\\\\02-processed\\\\2020-09-08-segments_14th_only.geojson\"\n",
    "segments = gpd.read_file(segments_loc)"
   ]
  },
  {
   "cell_type": "markdown",
   "metadata": {},
   "source": [
    "## load bus stops on south west side of 14th for southbound route"
   ]
  },
  {
   "cell_type": "code",
   "execution_count": 33,
   "metadata": {
    "ExecuteTime": {
     "end_time": "2020-09-25T17:51:35.979582Z",
     "start_time": "2020-09-25T17:51:35.890054Z"
    }
   },
   "outputs": [],
   "source": [
    "pattern_id = '5201'\n",
    "bus_sched_df = (\n",
    "    pd.read_csv(\n",
    "        os.path.join(path_sched_data, f\"bus_sched_{pattern_id}.csv\")\n",
    "        ,dtype={'pattern':'int32','route':str,'pattern_id':str}\n",
    "    )\n",
    ")"
   ]
  },
  {
   "cell_type": "code",
   "execution_count": 34,
   "metadata": {
    "ExecuteTime": {
     "end_time": "2020-09-25T17:51:36.690364Z",
     "start_time": "2020-09-25T17:51:36.584946Z"
    }
   },
   "outputs": [],
   "source": [
    "stop_seq = gpd.GeoDataFrame(\n",
    "                    bus_sched_df, \n",
    "                    geometry = gpd.points_from_xy(\n",
    "                        bus_sched_df.stop_lon,\n",
    "                        bus_sched_df.stop_lat\n",
    "                    ),\n",
    "    crs='EPSG:4326'\n",
    ")"
   ]
  },
  {
   "cell_type": "code",
   "execution_count": 35,
   "metadata": {
    "ExecuteTime": {
     "end_time": "2020-09-25T17:51:37.703683Z",
     "start_time": "2020-09-25T17:51:37.616681Z"
    }
   },
   "outputs": [
    {
     "data": {
      "text/plain": [
       "route                    object\n",
       "pattern                   int32\n",
       "pattern_id               object\n",
       "direction                object\n",
       "route_text               object\n",
       "pattern_name             object\n",
       "geoid                     int64\n",
       "stop_id                   int64\n",
       "direction_id              int64\n",
       "pattern_destination      object\n",
       "geo_description          object\n",
       "stop_lat                float64\n",
       "stop_lon                float64\n",
       "stop_sequence             int64\n",
       "trip_length               int64\n",
       "geometry               geometry\n",
       "dtype: object"
      ]
     },
     "execution_count": 35,
     "metadata": {},
     "output_type": "execute_result"
    }
   ],
   "source": [
    "stop_seq.dtypes"
   ]
  },
  {
   "cell_type": "code",
   "execution_count": 36,
   "metadata": {
    "ExecuteTime": {
     "end_time": "2020-09-25T17:51:39.656220Z",
     "start_time": "2020-09-25T17:51:39.569216Z"
    }
   },
   "outputs": [
    {
     "data": {
      "text/plain": [
       "array(['5201'], dtype=object)"
      ]
     },
     "execution_count": 36,
     "metadata": {},
     "output_type": "execute_result"
    }
   ],
   "source": [
    "#need to change datatype for merge with stop sequence below\n",
    "stop_seq.loc[:,'pattern_id'].unique()"
   ]
  },
  {
   "cell_type": "code",
   "execution_count": 37,
   "metadata": {
    "ExecuteTime": {
     "end_time": "2020-09-25T17:51:40.161028Z",
     "start_time": "2020-09-25T17:51:40.058027Z"
    }
   },
   "outputs": [],
   "source": [
    "stop_seq_subset = stop_seq[stop_seq.loc[:,'pattern_id']=='5201'].copy()"
   ]
  },
  {
   "cell_type": "code",
   "execution_count": 39,
   "metadata": {
    "ExecuteTime": {
     "end_time": "2020-09-25T17:51:43.812828Z",
     "start_time": "2020-09-25T17:51:43.712826Z"
    }
   },
   "outputs": [],
   "source": [
    "def get_centroid_gpd(gpd_df):\n",
    "    '''\n",
    "    '''\n",
    "    minx = gpd_df.bounds.mean()['minx']\n",
    "    miny = gpd_df.bounds.mean()['miny']\n",
    "    maxx = gpd_df.bounds.mean()['maxx']\n",
    "    maxy = gpd_df.bounds.mean()['maxy']\n",
    "    avg_x = np.array([minx, maxx]).mean()\n",
    "    avg_y = np.array([miny, maxy]).mean()\n",
    "    #return Lat, Long\n",
    "    return[avg_y, avg_x]"
   ]
  },
  {
   "cell_type": "code",
   "execution_count": 40,
   "metadata": {
    "ExecuteTime": {
     "end_time": "2020-09-25T17:51:44.156487Z",
     "start_time": "2020-09-25T17:51:43.913836Z"
    }
   },
   "outputs": [
    {
     "data": {
      "text/html": [
       "<div style=\"width:100%;\"><div style=\"position:relative;width:100%;height:0;padding-bottom:60%;\"><span style=\"color:#565656\">Make this Notebook Trusted to load map: File -> Trust Notebook</span><iframe src=\"about:blank\" style=\"position:absolute;width:100%;height:100%;left:0;top:0;border:none !important;\" data-html=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 onload=\"this.contentDocument.open();this.contentDocument.write(atob(this.getAttribute('data-html')));this.contentDocument.close();\" allowfullscreen webkitallowfullscreen mozallowfullscreen></iframe></div></div>"
      ],
      "text/plain": [
       "<folium.folium.Map at 0x254c6bbb730>"
      ]
     },
     "execution_count": 40,
     "metadata": {},
     "output_type": "execute_result"
    }
   ],
   "source": [
    "esri_imagery = \"https://server.arcgisonline.com/ArcGIS/rest/services/World_Imagery/MapServer/tile/{z}/{y}/{x}\"\n",
    "esri_attribution = \\\n",
    "    \"Tiles &copy; Esri &mdash; Source: Esri, i-cubed, USDA, USGS, AEX, GeoEye, Getmapping, Aerogrid, IGN, IGP, \" \\\n",
    "    \"UPR-EGP, and the GIS User Community\"\n",
    "this_map = folium.Map(location=get_centroid_gpd(stop_seq_subset),\n",
    "                       tiles='cartodbdark_matter', zoom_start=16, max_zoom=25, control_scale=True)\n",
    "folium.TileLayer(name=\"EsriImagery\", tiles=esri_imagery, attr=esri_attribution,\n",
    "                 zoom_start=16, max_zoom=25, control_scale=True).add_to(this_map)\n",
    "folium.TileLayer('cartodbpositron', zoom_start=16, max_zoom=20, control_scale=True).add_to(this_map)\n",
    "folium.TileLayer('openstreetmap', zoom_start=16, max_zoom=20, control_scale=True).add_to(this_map)\n",
    "\n",
    "folium.Choropleth(\n",
    "    segments,\n",
    "    line_weight=3,\n",
    "    line_color='blue'\n",
    ").add_to(this_map)\n",
    "\n",
    "h = folium.FeatureGroup(name='stop locations')\n",
    "\n",
    "wr.plot_marker_clusters(this_map, stop_seq_subset, \"stop_lat\",\"stop_lon\",h, fill_color='#f79e19')\n",
    "\n",
    "this_map.add_children(h)"
   ]
  },
  {
   "cell_type": "markdown",
   "metadata": {},
   "source": [
    "# select closest stops to bus lane\n",
    "there's a better, programmatic, way to do this but I just looked at the map, clicked on the close stops and I'm filtering for them below :)"
   ]
  },
  {
   "cell_type": "code",
   "execution_count": 46,
   "metadata": {
    "ExecuteTime": {
     "end_time": "2020-09-25T17:53:43.000639Z",
     "start_time": "2020-09-25T17:53:42.900638Z"
    }
   },
   "outputs": [],
   "source": [
    "geoid_list = [16203, 16662, 7243]\n",
    "stop_seq_bus_lane = stop_seq_subset[stop_seq_subset.loc[:,'geoid'].isin(geoid_list)].copy()"
   ]
  },
  {
   "cell_type": "code",
   "execution_count": 47,
   "metadata": {
    "ExecuteTime": {
     "end_time": "2020-09-25T17:53:43.581207Z",
     "start_time": "2020-09-25T17:53:43.475609Z"
    }
   },
   "outputs": [],
   "source": [
    "geoid_segment_dict = {16203:'14th_12', 16662:'14th_14', 7243:'14th_25'}"
   ]
  },
  {
   "cell_type": "code",
   "execution_count": 48,
   "metadata": {
    "ExecuteTime": {
     "end_time": "2020-09-25T17:53:45.630328Z",
     "start_time": "2020-09-25T17:53:45.537330Z"
    }
   },
   "outputs": [],
   "source": [
    "segment_geoid_dict = dict()\n",
    "for keys, values in geoid_segment_dict.items():\n",
    "    segment_geoid_dict[values] = keys"
   ]
  },
  {
   "cell_type": "code",
   "execution_count": 50,
   "metadata": {
    "ExecuteTime": {
     "end_time": "2020-09-25T17:54:30.057559Z",
     "start_time": "2020-09-25T17:54:29.948553Z"
    }
   },
   "outputs": [],
   "source": [
    "stop_seq_bus_lane.loc[:,'seg_name_id'] = stop_seq_bus_lane.loc[:,'geoid'].apply(lambda x: geoid_segment_dict[x])"
   ]
  },
  {
   "cell_type": "code",
   "execution_count": 51,
   "metadata": {
    "ExecuteTime": {
     "end_time": "2020-09-25T17:54:35.647172Z",
     "start_time": "2020-09-25T17:54:35.547170Z"
    }
   },
   "outputs": [],
   "source": [
    "segments_w_stops = segments.merge(stop_seq_bus_lane[['seg_name_id','geoid','stop_id','route','pattern']]\n",
    "               , how='left'\n",
    "              ,on='seg_name_id').copy()"
   ]
  },
  {
   "cell_type": "code",
   "execution_count": 52,
   "metadata": {
    "ExecuteTime": {
     "end_time": "2020-09-25T17:54:37.043650Z",
     "start_time": "2020-09-25T17:54:36.939648Z"
    }
   },
   "outputs": [
    {
     "data": {
      "text/html": [
       "<div>\n",
       "<style scoped>\n",
       "    .dataframe tbody tr th:only-of-type {\n",
       "        vertical-align: middle;\n",
       "    }\n",
       "\n",
       "    .dataframe tbody tr th {\n",
       "        vertical-align: top;\n",
       "    }\n",
       "\n",
       "    .dataframe thead th {\n",
       "        text-align: right;\n",
       "    }\n",
       "</style>\n",
       "<table border=\"1\" class=\"dataframe\">\n",
       "  <thead>\n",
       "    <tr style=\"text-align: right;\">\n",
       "      <th></th>\n",
       "      <th>seg_name_id</th>\n",
       "      <th>name_str</th>\n",
       "      <th>geometry</th>\n",
       "      <th>geoid</th>\n",
       "      <th>stop_id</th>\n",
       "      <th>route</th>\n",
       "      <th>pattern</th>\n",
       "    </tr>\n",
       "  </thead>\n",
       "  <tbody>\n",
       "    <tr>\n",
       "      <th>0</th>\n",
       "      <td>14th_12</td>\n",
       "      <td>14th Street Northwest</td>\n",
       "      <td>LINESTRING (-77.03254 38.92752, -77.03255 38.9...</td>\n",
       "      <td>16203</td>\n",
       "      <td>21627</td>\n",
       "      <td>52</td>\n",
       "      <td>1</td>\n",
       "    </tr>\n",
       "    <tr>\n",
       "      <th>1</th>\n",
       "      <td>14th_14</td>\n",
       "      <td>14th Street Northwest</td>\n",
       "      <td>LINESTRING (-77.03254 38.92752, -77.03253 38.9...</td>\n",
       "      <td>16662</td>\n",
       "      <td>19066</td>\n",
       "      <td>52</td>\n",
       "      <td>1</td>\n",
       "    </tr>\n",
       "    <tr>\n",
       "      <th>2</th>\n",
       "      <td>14th_17</td>\n",
       "      <td>14th Street Northwest</td>\n",
       "      <td>LINESTRING (-77.03234 38.92574, -77.03235 38.9...</td>\n",
       "      <td>0</td>\n",
       "      <td>0</td>\n",
       "      <td>52</td>\n",
       "      <td>1</td>\n",
       "    </tr>\n",
       "    <tr>\n",
       "      <th>3</th>\n",
       "      <td>14th_21</td>\n",
       "      <td>14th Street Northwest</td>\n",
       "      <td>LINESTRING (-77.03234 38.92574, -77.03232 38.9...</td>\n",
       "      <td>0</td>\n",
       "      <td>0</td>\n",
       "      <td>52</td>\n",
       "      <td>1</td>\n",
       "    </tr>\n",
       "    <tr>\n",
       "      <th>4</th>\n",
       "      <td>14th_22</td>\n",
       "      <td>14th Street Northwest</td>\n",
       "      <td>LINESTRING (-77.03232 38.92550, -77.03231 38.9...</td>\n",
       "      <td>0</td>\n",
       "      <td>0</td>\n",
       "      <td>52</td>\n",
       "      <td>1</td>\n",
       "    </tr>\n",
       "    <tr>\n",
       "      <th>5</th>\n",
       "      <td>14th_24</td>\n",
       "      <td>14th Street Northwest</td>\n",
       "      <td>LINESTRING (-77.03224 38.92476, -77.03222 38.9...</td>\n",
       "      <td>0</td>\n",
       "      <td>0</td>\n",
       "      <td>52</td>\n",
       "      <td>1</td>\n",
       "    </tr>\n",
       "    <tr>\n",
       "      <th>6</th>\n",
       "      <td>14th_25</td>\n",
       "      <td>14th Street Northwest</td>\n",
       "      <td>LINESTRING (-77.03222 38.92454, -77.03221 38.9...</td>\n",
       "      <td>7243</td>\n",
       "      <td>19143</td>\n",
       "      <td>52</td>\n",
       "      <td>1</td>\n",
       "    </tr>\n",
       "  </tbody>\n",
       "</table>\n",
       "</div>"
      ],
      "text/plain": [
       "  seg_name_id               name_str  \\\n",
       "0     14th_12  14th Street Northwest   \n",
       "1     14th_14  14th Street Northwest   \n",
       "2     14th_17  14th Street Northwest   \n",
       "3     14th_21  14th Street Northwest   \n",
       "4     14th_22  14th Street Northwest   \n",
       "5     14th_24  14th Street Northwest   \n",
       "6     14th_25  14th Street Northwest   \n",
       "\n",
       "                                            geometry  geoid  stop_id route  \\\n",
       "0  LINESTRING (-77.03254 38.92752, -77.03255 38.9...  16203    21627    52   \n",
       "1  LINESTRING (-77.03254 38.92752, -77.03253 38.9...  16662    19066    52   \n",
       "2  LINESTRING (-77.03234 38.92574, -77.03235 38.9...      0        0    52   \n",
       "3  LINESTRING (-77.03234 38.92574, -77.03232 38.9...      0        0    52   \n",
       "4  LINESTRING (-77.03232 38.92550, -77.03231 38.9...      0        0    52   \n",
       "5  LINESTRING (-77.03224 38.92476, -77.03222 38.9...      0        0    52   \n",
       "6  LINESTRING (-77.03222 38.92454, -77.03221 38.9...   7243    19143    52   \n",
       "\n",
       "   pattern  \n",
       "0        1  \n",
       "1        1  \n",
       "2        1  \n",
       "3        1  \n",
       "4        1  \n",
       "5        1  \n",
       "6        1  "
      ]
     },
     "execution_count": 52,
     "metadata": {},
     "output_type": "execute_result"
    }
   ],
   "source": [
    "segments_w_stops.loc[:,'geoid'] = segments_w_stops.loc[:,'geoid'].apply(lambda x: int(x) if x==x else 0).copy()\n",
    "segments_w_stops.loc[:,'stop_id'] = segments_w_stops.loc[:,'stop_id'].apply(lambda x: int(x) if x==x else 0).copy()\n",
    "segments_w_stops.loc[:,'route'] = '52'\n",
    "segments_w_stops.loc[:,'pattern'] = 1\n",
    "segments_w_stops"
   ]
  },
  {
   "cell_type": "code",
   "execution_count": 53,
   "metadata": {
    "ExecuteTime": {
     "end_time": "2020-09-25T17:54:43.710117Z",
     "start_time": "2020-09-25T17:54:43.403172Z"
    }
   },
   "outputs": [],
   "source": [
    "segments_w_stops.to_crs(2248, inplace=True)\n",
    "segments_w_stops.loc[:,'length'] = segments_w_stops.loc[:,'geometry'].apply(lambda x: x.length)"
   ]
  },
  {
   "cell_type": "code",
   "execution_count": 54,
   "metadata": {
    "ExecuteTime": {
     "end_time": "2020-09-25T17:54:45.082043Z",
     "start_time": "2020-09-25T17:54:44.994042Z"
    }
   },
   "outputs": [],
   "source": [
    "# segments_test = segments_w_stops[segments_w_stops.loc[:,'seg_name_id'].isin(['14th_22','14th_24','14th_25'])].copy()\n",
    "# segments_test.to_crs(2248, inplace=True)\n",
    "# segments_test.loc[:,'length'] = segments_test.loc[:,'geometry'].apply(lambda x: x.length)"
   ]
  },
  {
   "cell_type": "code",
   "execution_count": 55,
   "metadata": {
    "ExecuteTime": {
     "end_time": "2020-09-25T17:54:45.880134Z",
     "start_time": "2020-09-25T17:54:45.620133Z"
    }
   },
   "outputs": [],
   "source": [
    "segments_w_stops.to_crs(\"EPSG:4326\", inplace=True)\n",
    "segments_w_stops.reset_index(inplace=True, drop=True)"
   ]
  },
  {
   "cell_type": "code",
   "execution_count": 56,
   "metadata": {
    "ExecuteTime": {
     "end_time": "2020-09-25T17:54:47.755541Z",
     "start_time": "2020-09-25T17:54:47.619280Z"
    }
   },
   "outputs": [],
   "source": [
    "file_name = \"seg_5201_by_intersection.geojson\"\n",
    "file_loc = f\"C:\\\\Users\\\\E048374\\\\OneDrive - WMATA\\\\rawnav_rachel_fork\\\\WMATA_AVL\\\\data\\\\02-processed\\\\{file_name}\"\n",
    "segments_w_stops.to_file(file_loc, driver='GeoJSON')"
   ]
  },
  {
   "cell_type": "code",
   "execution_count": 57,
   "metadata": {
    "ExecuteTime": {
     "end_time": "2020-09-25T17:54:48.735451Z",
     "start_time": "2020-09-25T17:54:48.597450Z"
    }
   },
   "outputs": [
    {
     "data": {
      "text/html": [
       "<div>\n",
       "<style scoped>\n",
       "    .dataframe tbody tr th:only-of-type {\n",
       "        vertical-align: middle;\n",
       "    }\n",
       "\n",
       "    .dataframe tbody tr th {\n",
       "        vertical-align: top;\n",
       "    }\n",
       "\n",
       "    .dataframe thead th {\n",
       "        text-align: right;\n",
       "    }\n",
       "</style>\n",
       "<table border=\"1\" class=\"dataframe\">\n",
       "  <thead>\n",
       "    <tr style=\"text-align: right;\">\n",
       "      <th></th>\n",
       "      <th>seg_name_id</th>\n",
       "      <th>name_str</th>\n",
       "      <th>geometry</th>\n",
       "      <th>geoid</th>\n",
       "      <th>stop_id</th>\n",
       "      <th>route</th>\n",
       "      <th>pattern</th>\n",
       "      <th>length</th>\n",
       "    </tr>\n",
       "  </thead>\n",
       "  <tbody>\n",
       "    <tr>\n",
       "      <th>0</th>\n",
       "      <td>14th_12</td>\n",
       "      <td>14th Street Northwest</td>\n",
       "      <td>LINESTRING (-77.03254 38.92752, -77.03255 38.9...</td>\n",
       "      <td>16203</td>\n",
       "      <td>21627</td>\n",
       "      <td>52</td>\n",
       "      <td>1</td>\n",
       "      <td>467.329723</td>\n",
       "    </tr>\n",
       "    <tr>\n",
       "      <th>1</th>\n",
       "      <td>14th_14</td>\n",
       "      <td>14th Street Northwest</td>\n",
       "      <td>LINESTRING (-77.03254 38.92752, -77.03253 38.9...</td>\n",
       "      <td>16662</td>\n",
       "      <td>19066</td>\n",
       "      <td>52</td>\n",
       "      <td>1</td>\n",
       "      <td>346.561992</td>\n",
       "    </tr>\n",
       "    <tr>\n",
       "      <th>2</th>\n",
       "      <td>14th_17</td>\n",
       "      <td>14th Street Northwest</td>\n",
       "      <td>LINESTRING (-77.03234 38.92574, -77.03235 38.9...</td>\n",
       "      <td>0</td>\n",
       "      <td>0</td>\n",
       "      <td>52</td>\n",
       "      <td>1</td>\n",
       "      <td>303.211388</td>\n",
       "    </tr>\n",
       "    <tr>\n",
       "      <th>3</th>\n",
       "      <td>14th_21</td>\n",
       "      <td>14th Street Northwest</td>\n",
       "      <td>LINESTRING (-77.03234 38.92574, -77.03232 38.9...</td>\n",
       "      <td>0</td>\n",
       "      <td>0</td>\n",
       "      <td>52</td>\n",
       "      <td>1</td>\n",
       "      <td>87.652569</td>\n",
       "    </tr>\n",
       "    <tr>\n",
       "      <th>4</th>\n",
       "      <td>14th_22</td>\n",
       "      <td>14th Street Northwest</td>\n",
       "      <td>LINESTRING (-77.03232 38.92550, -77.03231 38.9...</td>\n",
       "      <td>0</td>\n",
       "      <td>0</td>\n",
       "      <td>52</td>\n",
       "      <td>1</td>\n",
       "      <td>272.507588</td>\n",
       "    </tr>\n",
       "    <tr>\n",
       "      <th>5</th>\n",
       "      <td>14th_24</td>\n",
       "      <td>14th Street Northwest</td>\n",
       "      <td>LINESTRING (-77.03224 38.92476, -77.03222 38.9...</td>\n",
       "      <td>0</td>\n",
       "      <td>0</td>\n",
       "      <td>52</td>\n",
       "      <td>1</td>\n",
       "      <td>78.552727</td>\n",
       "    </tr>\n",
       "    <tr>\n",
       "      <th>6</th>\n",
       "      <td>14th_25</td>\n",
       "      <td>14th Street Northwest</td>\n",
       "      <td>LINESTRING (-77.03222 38.92454, -77.03221 38.9...</td>\n",
       "      <td>7243</td>\n",
       "      <td>19143</td>\n",
       "      <td>52</td>\n",
       "      <td>1</td>\n",
       "      <td>284.194639</td>\n",
       "    </tr>\n",
       "  </tbody>\n",
       "</table>\n",
       "</div>"
      ],
      "text/plain": [
       "  seg_name_id               name_str  \\\n",
       "0     14th_12  14th Street Northwest   \n",
       "1     14th_14  14th Street Northwest   \n",
       "2     14th_17  14th Street Northwest   \n",
       "3     14th_21  14th Street Northwest   \n",
       "4     14th_22  14th Street Northwest   \n",
       "5     14th_24  14th Street Northwest   \n",
       "6     14th_25  14th Street Northwest   \n",
       "\n",
       "                                            geometry  geoid  stop_id route  \\\n",
       "0  LINESTRING (-77.03254 38.92752, -77.03255 38.9...  16203    21627    52   \n",
       "1  LINESTRING (-77.03254 38.92752, -77.03253 38.9...  16662    19066    52   \n",
       "2  LINESTRING (-77.03234 38.92574, -77.03235 38.9...      0        0    52   \n",
       "3  LINESTRING (-77.03234 38.92574, -77.03232 38.9...      0        0    52   \n",
       "4  LINESTRING (-77.03232 38.92550, -77.03231 38.9...      0        0    52   \n",
       "5  LINESTRING (-77.03224 38.92476, -77.03222 38.9...      0        0    52   \n",
       "6  LINESTRING (-77.03222 38.92454, -77.03221 38.9...   7243    19143    52   \n",
       "\n",
       "   pattern      length  \n",
       "0        1  467.329723  \n",
       "1        1  346.561992  \n",
       "2        1  303.211388  \n",
       "3        1   87.652569  \n",
       "4        1  272.507588  \n",
       "5        1   78.552727  \n",
       "6        1  284.194639  "
      ]
     },
     "execution_count": 57,
     "metadata": {},
     "output_type": "execute_result"
    }
   ],
   "source": [
    "segments_w_stops"
   ]
  },
  {
   "cell_type": "code",
   "execution_count": 58,
   "metadata": {
    "ExecuteTime": {
     "end_time": "2020-09-25T17:54:51.315762Z",
     "start_time": "2020-09-25T17:54:51.191191Z"
    }
   },
   "outputs": [
    {
     "data": {
      "text/html": [
       "<div>\n",
       "<style scoped>\n",
       "    .dataframe tbody tr th:only-of-type {\n",
       "        vertical-align: middle;\n",
       "    }\n",
       "\n",
       "    .dataframe tbody tr th {\n",
       "        vertical-align: top;\n",
       "    }\n",
       "\n",
       "    .dataframe thead th {\n",
       "        text-align: right;\n",
       "    }\n",
       "</style>\n",
       "<table border=\"1\" class=\"dataframe\">\n",
       "  <thead>\n",
       "    <tr style=\"text-align: right;\">\n",
       "      <th></th>\n",
       "      <th>seg_name_id</th>\n",
       "      <th>geoid</th>\n",
       "      <th>stop_id</th>\n",
       "      <th>route</th>\n",
       "      <th>pattern</th>\n",
       "    </tr>\n",
       "  </thead>\n",
       "  <tbody>\n",
       "    <tr>\n",
       "      <th>0</th>\n",
       "      <td>14th_12</td>\n",
       "      <td>16203</td>\n",
       "      <td>21627</td>\n",
       "      <td>52</td>\n",
       "      <td>1</td>\n",
       "    </tr>\n",
       "    <tr>\n",
       "      <th>1</th>\n",
       "      <td>14th_14</td>\n",
       "      <td>16662</td>\n",
       "      <td>19066</td>\n",
       "      <td>52</td>\n",
       "      <td>1</td>\n",
       "    </tr>\n",
       "    <tr>\n",
       "      <th>2</th>\n",
       "      <td>14th_17</td>\n",
       "      <td>0</td>\n",
       "      <td>0</td>\n",
       "      <td>52</td>\n",
       "      <td>1</td>\n",
       "    </tr>\n",
       "    <tr>\n",
       "      <th>3</th>\n",
       "      <td>14th_21</td>\n",
       "      <td>0</td>\n",
       "      <td>0</td>\n",
       "      <td>52</td>\n",
       "      <td>1</td>\n",
       "    </tr>\n",
       "    <tr>\n",
       "      <th>4</th>\n",
       "      <td>14th_22</td>\n",
       "      <td>0</td>\n",
       "      <td>0</td>\n",
       "      <td>52</td>\n",
       "      <td>1</td>\n",
       "    </tr>\n",
       "    <tr>\n",
       "      <th>5</th>\n",
       "      <td>14th_24</td>\n",
       "      <td>0</td>\n",
       "      <td>0</td>\n",
       "      <td>52</td>\n",
       "      <td>1</td>\n",
       "    </tr>\n",
       "    <tr>\n",
       "      <th>6</th>\n",
       "      <td>14th_25</td>\n",
       "      <td>7243</td>\n",
       "      <td>19143</td>\n",
       "      <td>52</td>\n",
       "      <td>1</td>\n",
       "    </tr>\n",
       "  </tbody>\n",
       "</table>\n",
       "</div>"
      ],
      "text/plain": [
       "  seg_name_id  geoid  stop_id route  pattern\n",
       "0     14th_12  16203    21627    52        1\n",
       "1     14th_14  16662    19066    52        1\n",
       "2     14th_17      0        0    52        1\n",
       "3     14th_21      0        0    52        1\n",
       "4     14th_22      0        0    52        1\n",
       "5     14th_24      0        0    52        1\n",
       "6     14th_25   7243    19143    52        1"
      ]
     },
     "execution_count": 58,
     "metadata": {},
     "output_type": "execute_result"
    }
   ],
   "source": [
    "stop_seq_pattern_seg = segments_w_stops[['seg_name_id','geoid','stop_id','route','pattern']].copy()\n",
    "stop_seq_pattern_seg"
   ]
  },
  {
   "cell_type": "code",
   "execution_count": 59,
   "metadata": {
    "ExecuteTime": {
     "end_time": "2020-09-25T17:54:52.329313Z",
     "start_time": "2020-09-25T17:54:52.211317Z"
    }
   },
   "outputs": [],
   "source": [
    "file_name = \"stop_seq_pattern_5201_by_intersection.csv\"\n",
    "file_loc = f\"C:\\\\Users\\\\E048374\\\\OneDrive - WMATA\\\\rawnav_rachel_fork\\\\WMATA_AVL\\\\data\\\\02-processed\\\\{file_name}\"\n",
    "stop_seq_pattern_seg.to_csv(file_loc, index=False)"
   ]
  },
  {
   "cell_type": "code",
   "execution_count": null,
   "metadata": {},
   "outputs": [],
   "source": []
  },
  {
   "cell_type": "code",
   "execution_count": null,
   "metadata": {},
   "outputs": [],
   "source": []
  },
  {
   "cell_type": "markdown",
   "metadata": {},
   "source": [
    "## Old consolidation method"
   ]
  },
  {
   "cell_type": "code",
   "execution_count": 248,
   "metadata": {
    "ExecuteTime": {
     "end_time": "2020-09-18T16:46:11.734036Z",
     "start_time": "2020-09-18T16:46:11.649998Z"
    }
   },
   "outputs": [],
   "source": [
    "consolidated_segments_df = segments_test[segments_test.loc[:,'seg_name_id']=='14th_25'][['seg_name_id'\n",
    "                                                                                         ,'name_str'\n",
    "                                                                                        ,'geoid', 'stop_id']].copy()"
   ]
  },
  {
   "cell_type": "code",
   "execution_count": 249,
   "metadata": {
    "ExecuteTime": {
     "end_time": "2020-09-18T16:46:11.956309Z",
     "start_time": "2020-09-18T16:46:11.868918Z"
    }
   },
   "outputs": [
    {
     "data": {
      "text/html": [
       "<div>\n",
       "<style scoped>\n",
       "    .dataframe tbody tr th:only-of-type {\n",
       "        vertical-align: middle;\n",
       "    }\n",
       "\n",
       "    .dataframe tbody tr th {\n",
       "        vertical-align: top;\n",
       "    }\n",
       "\n",
       "    .dataframe thead th {\n",
       "        text-align: right;\n",
       "    }\n",
       "</style>\n",
       "<table border=\"1\" class=\"dataframe\">\n",
       "  <thead>\n",
       "    <tr style=\"text-align: right;\">\n",
       "      <th></th>\n",
       "      <th>seg_name_id</th>\n",
       "      <th>name_str</th>\n",
       "      <th>geometry</th>\n",
       "      <th>geoid</th>\n",
       "      <th>stop_id</th>\n",
       "      <th>route</th>\n",
       "      <th>pattern</th>\n",
       "      <th>length</th>\n",
       "    </tr>\n",
       "  </thead>\n",
       "  <tbody>\n",
       "    <tr>\n",
       "      <th>0</th>\n",
       "      <td>14th_22</td>\n",
       "      <td>14th Street Northwest</td>\n",
       "      <td>LINESTRING (-77.03232 38.92550, -77.03231 38.9...</td>\n",
       "      <td>0</td>\n",
       "      <td>0</td>\n",
       "      <td>52</td>\n",
       "      <td>1</td>\n",
       "      <td>272.507588</td>\n",
       "    </tr>\n",
       "    <tr>\n",
       "      <th>1</th>\n",
       "      <td>14th_24</td>\n",
       "      <td>14th Street Northwest</td>\n",
       "      <td>LINESTRING (-77.03224 38.92476, -77.03222 38.9...</td>\n",
       "      <td>0</td>\n",
       "      <td>0</td>\n",
       "      <td>52</td>\n",
       "      <td>1</td>\n",
       "      <td>78.552727</td>\n",
       "    </tr>\n",
       "    <tr>\n",
       "      <th>2</th>\n",
       "      <td>14th_25</td>\n",
       "      <td>14th Street Northwest</td>\n",
       "      <td>LINESTRING (-77.03222 38.92454, -77.03221 38.9...</td>\n",
       "      <td>7243</td>\n",
       "      <td>19143</td>\n",
       "      <td>52</td>\n",
       "      <td>1</td>\n",
       "      <td>284.194639</td>\n",
       "    </tr>\n",
       "  </tbody>\n",
       "</table>\n",
       "</div>"
      ],
      "text/plain": [
       "  seg_name_id               name_str  \\\n",
       "0     14th_22  14th Street Northwest   \n",
       "1     14th_24  14th Street Northwest   \n",
       "2     14th_25  14th Street Northwest   \n",
       "\n",
       "                                            geometry  geoid  stop_id route  \\\n",
       "0  LINESTRING (-77.03232 38.92550, -77.03231 38.9...      0        0    52   \n",
       "1  LINESTRING (-77.03224 38.92476, -77.03222 38.9...      0        0    52   \n",
       "2  LINESTRING (-77.03222 38.92454, -77.03221 38.9...   7243    19143    52   \n",
       "\n",
       "   pattern      length  \n",
       "0        1  272.507588  \n",
       "1        1   78.552727  \n",
       "2        1  284.194639  "
      ]
     },
     "execution_count": 249,
     "metadata": {},
     "output_type": "execute_result"
    }
   ],
   "source": [
    "segments_test"
   ]
  },
  {
   "cell_type": "code",
   "execution_count": 250,
   "metadata": {
    "ExecuteTime": {
     "end_time": "2020-09-18T16:46:13.069184Z",
     "start_time": "2020-09-18T16:46:12.954059Z"
    }
   },
   "outputs": [],
   "source": [
    "consolidated_len = segments_test.loc[:,'length'].sum()\n",
    "consolidated_geom = linemerge(cascaded_union(segments_test.geometry.values))\n",
    "\n",
    "consolidated_seg_gdf = gpd.GeoDataFrame(consolidated_segments_df, crs=\"EPSG:4326\", geometry=[consolidated_geom])\n",
    "consolidated_seg_gdf.loc[:,'length'] = consolidated_len"
   ]
  },
  {
   "cell_type": "code",
   "execution_count": 252,
   "metadata": {
    "ExecuteTime": {
     "end_time": "2020-09-18T16:46:32.465369Z",
     "start_time": "2020-09-18T16:46:32.380686Z"
    }
   },
   "outputs": [],
   "source": [
    "consolidated_seg_gdf.reset_index(inplace=True, drop=True)"
   ]
  },
  {
   "cell_type": "code",
   "execution_count": 253,
   "metadata": {
    "ExecuteTime": {
     "end_time": "2020-09-18T16:46:33.919911Z",
     "start_time": "2020-09-18T16:46:33.830853Z"
    }
   },
   "outputs": [],
   "source": [
    "file_name = \"seg_5201_by_stop.geojson\"\n",
    "file_loc = f\"C:\\\\Users\\\\E048374\\\\OneDrive - WMATA\\\\rawnav_rachel_fork\\\\WMATA_AVL\\\\data\\\\02-processed\\\\{file_name}\"\n",
    "consolidated_seg_gdf.to_file(file_loc, driver='GeoJSON')"
   ]
  },
  {
   "cell_type": "code",
   "execution_count": 254,
   "metadata": {
    "ExecuteTime": {
     "end_time": "2020-09-18T16:46:35.845719Z",
     "start_time": "2020-09-18T16:46:35.765747Z"
    }
   },
   "outputs": [],
   "source": [
    "stop_seq_pattern = stop_seq_pattern_seg[stop_seq_pattern_seg.loc[:,'geoid']==7243].copy()"
   ]
  },
  {
   "cell_type": "code",
   "execution_count": 255,
   "metadata": {
    "ExecuteTime": {
     "end_time": "2020-09-18T16:46:47.522959Z",
     "start_time": "2020-09-18T16:46:47.440959Z"
    }
   },
   "outputs": [],
   "source": [
    "stop_seq_pattern.reset_index(inplace=True, drop=True)"
   ]
  },
  {
   "cell_type": "code",
   "execution_count": 256,
   "metadata": {
    "ExecuteTime": {
     "end_time": "2020-09-18T16:46:47.975679Z",
     "start_time": "2020-09-18T16:46:47.893721Z"
    }
   },
   "outputs": [],
   "source": [
    "file_name = \"stop_seq_pattern_5201_by_stop.csv\"\n",
    "file_loc = f\"C:\\\\Users\\\\E048374\\\\OneDrive - WMATA\\\\rawnav_rachel_fork\\\\WMATA_AVL\\\\data\\\\02-processed\\\\{file_name}\"\n",
    "stop_seq_pattern.to_csv(file_loc, index=False)"
   ]
  },
  {
   "cell_type": "code",
   "execution_count": null,
   "metadata": {},
   "outputs": [],
   "source": []
  }
 ],
 "metadata": {
  "kernelspec": {
   "display_name": "Python (rawnav)",
   "language": "python",
   "name": "rawnav"
  },
  "language_info": {
   "codemirror_mode": {
    "name": "ipython",
    "version": 3
   },
   "file_extension": ".py",
   "mimetype": "text/x-python",
   "name": "python",
   "nbconvert_exporter": "python",
   "pygments_lexer": "ipython3",
   "version": "3.8.5"
  },
  "toc": {
   "base_numbering": 1,
   "nav_menu": {},
   "number_sections": true,
   "sideBar": true,
   "skip_h1_title": false,
   "title_cell": "Table of Contents",
   "title_sidebar": "Contents",
   "toc_cell": false,
   "toc_position": {},
   "toc_section_display": true,
   "toc_window_display": false
  }
 },
 "nbformat": 4,
 "nbformat_minor": 4
}
