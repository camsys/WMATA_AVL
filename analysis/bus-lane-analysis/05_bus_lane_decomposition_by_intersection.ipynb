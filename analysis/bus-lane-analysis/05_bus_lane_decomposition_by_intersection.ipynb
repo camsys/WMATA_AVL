{
 "cells": [
  {
   "cell_type": "code",
   "execution_count": 1,
   "metadata": {
    "ExecuteTime": {
     "end_time": "2020-09-18T17:46:42.467769Z",
     "start_time": "2020-09-18T17:46:42.393763Z"
    }
   },
   "outputs": [],
   "source": [
    "# 0 Housekeeping. Clear variable space\n",
    "######################################\n",
    "from IPython import get_ipython  \n",
    "\n",
    "ipython = get_ipython()\n",
    "ipython.magic(\"reset -f\")\n",
    "ipython = get_ipython()\n",
    "ipython.magic(\"load_ext autoreload\")\n",
    "ipython.magic(\"autoreload 2\")"
   ]
  },
  {
   "cell_type": "code",
   "execution_count": 2,
   "metadata": {
    "ExecuteTime": {
     "end_time": "2020-09-18T17:46:43.174874Z",
     "start_time": "2020-09-18T17:46:42.542654Z"
    }
   },
   "outputs": [
    {
     "name": "stdout",
     "output_type": "stream",
     "text": [
      "Run Section 1 Import Libraries and Set Global Parameters...\n"
     ]
    }
   ],
   "source": [
    "# 1 Import Libraries and Set Global Parameters\n",
    "##############################################\n",
    "# 1.1 Import Python Libraries\n",
    "#############################\n",
    "from datetime import datetime\n",
    "print(\"Run Section 1 Import Libraries and Set Global Parameters...\")\n",
    "begin_time = datetime.now()\n",
    "\n",
    "import os, sys\n",
    "import pandas as pd\n",
    "import geopandas as gpd\n",
    "import pyarrow.parquet as pq"
   ]
  },
  {
   "cell_type": "code",
   "execution_count": 3,
   "metadata": {
    "ExecuteTime": {
     "end_time": "2020-09-18T17:46:43.260355Z",
     "start_time": "2020-09-18T17:46:43.189773Z"
    }
   },
   "outputs": [],
   "source": [
    "# 1.2 Set Global Parameters\n",
    "###########################\n",
    "\n",
    "if os.getlogin() == \"WylieTimmerman\":\n",
    "    path_working = r\"C:\\OD\\OneDrive - Foursquare ITP\\Projects\\WMATA_AVL\"\n",
    "    os.chdir(os.path.join(path_working))\n",
    "    sys.path.append(r\"C:\\OD\\OneDrive - Foursquare ITP\\Projects\\WMATA_AVL\")\n",
    "    path_sp = r\"C:\\Users\\WylieTimmerman\\Documents\\projects_local\\wmata_avl_local\"\n",
    "    path_source_data = os.path.join(path_sp,\"data\",\"00-raw\")\n",
    "    path_processed_data = os.path.join(path_sp, \"data\",\"02-processed\")\n",
    "\n",
    "elif os.getlogin() == \"abibeka\":\n",
    "    path_working = r\"C:\\Users\\abibeka\\OneDrive - Kittelson & Associates, Inc\\Documents\\Github\\WMATA_AVL\"\n",
    "    os.chdir(os.path.join(path_working))\n",
    "    sys.path.append(path_working)\n",
    "    path_source_data = r\"C:\\Users\\abibeka\\OneDrive - Kittelson & Associates, Inc\\Documents\\WMATA-AVL\\Data\"\n",
    "    path_processed_data = os.path.join(path_source_data, \"ProcessedData\")\n",
    "    \n",
    "elif os.getlogin() == \"E048374\":\n",
    "    # Working Paths\n",
    "    path_working = r\"C:\\Users\\E048374\\OneDrive - WMATA\\rawnav_rachel_fork\\WMATA_AVL\"\n",
    "    os.chdir(os.path.join(path_working))\n",
    "    sys.path.append(r\"C:\\Users\\E048374\\OneDrive - WMATA\\rawnav_rachel_fork\\WMATA_AVL\")\n",
    "    path_source_data = r\"\\\\l-600730\\RawNavArchive\"\n",
    "    path_sp = r\"C:\\Users\\E048374\\Documents\\RawNav\"\n",
    "    path_processed_data = os.path.join(path_sp, \"data\", \"02-processed\")\n",
    "    path_segments = os.path.join(path_working, \"data\", \"02-processed\")\n",
    "\n",
    "else:\n",
    "    raise FileNotFoundError(\"Define the path_working, path_source_data, gtfs_dir, \\\n",
    "                            ZippedFilesloc, and path_processed_data in a new elif block\")"
   ]
  },
  {
   "cell_type": "code",
   "execution_count": 4,
   "metadata": {
    "ExecuteTime": {
     "end_time": "2020-09-18T17:46:44.715416Z",
     "start_time": "2020-09-18T17:46:43.979325Z"
    }
   },
   "outputs": [],
   "source": [
    "# Globals\n",
    "# Queue Jump Routes\n",
    "q_jump_route_list = ['52']\n",
    "analysis_routes = q_jump_route_list\n",
    "# EPSG code for WMATA-area work\n",
    "wmata_crs = 2248\n",
    "     \n",
    "# 1.3 Import User-Defined Package\n",
    "#################################\n",
    "import wmatarawnav as wr"
   ]
  },
  {
   "cell_type": "code",
   "execution_count": 5,
   "metadata": {
    "ExecuteTime": {
     "end_time": "2020-09-18T17:46:45.308566Z",
     "start_time": "2020-09-18T17:46:45.216539Z"
    }
   },
   "outputs": [
    {
     "data": {
      "text/html": [
       "<div>\n",
       "<style scoped>\n",
       "    .dataframe tbody tr th:only-of-type {\n",
       "        vertical-align: middle;\n",
       "    }\n",
       "\n",
       "    .dataframe tbody tr th {\n",
       "        vertical-align: top;\n",
       "    }\n",
       "\n",
       "    .dataframe thead th {\n",
       "        text-align: right;\n",
       "    }\n",
       "</style>\n",
       "<table border=\"1\" class=\"dataframe\">\n",
       "  <thead>\n",
       "    <tr style=\"text-align: right;\">\n",
       "      <th></th>\n",
       "      <th>seg_name_id</th>\n",
       "      <th>geoid</th>\n",
       "      <th>stop_id</th>\n",
       "      <th>route</th>\n",
       "      <th>pattern</th>\n",
       "    </tr>\n",
       "  </thead>\n",
       "  <tbody>\n",
       "    <tr>\n",
       "      <th>0</th>\n",
       "      <td>14th_22</td>\n",
       "      <td>0</td>\n",
       "      <td>0</td>\n",
       "      <td>52</td>\n",
       "      <td>1</td>\n",
       "    </tr>\n",
       "    <tr>\n",
       "      <th>1</th>\n",
       "      <td>14th_24</td>\n",
       "      <td>0</td>\n",
       "      <td>0</td>\n",
       "      <td>52</td>\n",
       "      <td>1</td>\n",
       "    </tr>\n",
       "    <tr>\n",
       "      <th>2</th>\n",
       "      <td>14th_25</td>\n",
       "      <td>7243</td>\n",
       "      <td>19143</td>\n",
       "      <td>52</td>\n",
       "      <td>1</td>\n",
       "    </tr>\n",
       "  </tbody>\n",
       "</table>\n",
       "</div>"
      ],
      "text/plain": [
       "  seg_name_id  geoid  stop_id route  pattern\n",
       "0     14th_22      0        0    52        1\n",
       "1     14th_24      0        0    52        1\n",
       "2     14th_25   7243    19143    52        1"
      ]
     },
     "execution_count": 5,
     "metadata": {},
     "output_type": "execute_result"
    }
   ],
   "source": [
    "seg_pattern = pd.read_csv(os.path.join(path_segments,\"stop_seq_pattern_5201_by_intersection.csv\"),\n",
    "                         dtype={'route':str, 'PATTERN_ID':str, 'pattern':'int32'})\n",
    "seg_pattern"
   ]
  },
  {
   "cell_type": "code",
   "execution_count": 6,
   "metadata": {
    "ExecuteTime": {
     "end_time": "2020-09-18T17:46:47.975215Z",
     "start_time": "2020-09-18T17:46:47.888217Z"
    }
   },
   "outputs": [
    {
     "data": {
      "text/html": [
       "<div>\n",
       "<style scoped>\n",
       "    .dataframe tbody tr th:only-of-type {\n",
       "        vertical-align: middle;\n",
       "    }\n",
       "\n",
       "    .dataframe tbody tr th {\n",
       "        vertical-align: top;\n",
       "    }\n",
       "\n",
       "    .dataframe thead th {\n",
       "        text-align: right;\n",
       "    }\n",
       "</style>\n",
       "<table border=\"1\" class=\"dataframe\">\n",
       "  <thead>\n",
       "    <tr style=\"text-align: right;\">\n",
       "      <th></th>\n",
       "      <th>route</th>\n",
       "      <th>pattern</th>\n",
       "      <th>seg_name_id</th>\n",
       "      <th>stop_id</th>\n",
       "    </tr>\n",
       "  </thead>\n",
       "  <tbody>\n",
       "    <tr>\n",
       "      <th>0</th>\n",
       "      <td>52</td>\n",
       "      <td>1</td>\n",
       "      <td>14th_22</td>\n",
       "      <td>0</td>\n",
       "    </tr>\n",
       "    <tr>\n",
       "      <th>1</th>\n",
       "      <td>52</td>\n",
       "      <td>1</td>\n",
       "      <td>14th_24</td>\n",
       "      <td>0</td>\n",
       "    </tr>\n",
       "    <tr>\n",
       "      <th>2</th>\n",
       "      <td>52</td>\n",
       "      <td>1</td>\n",
       "      <td>14th_25</td>\n",
       "      <td>19143</td>\n",
       "    </tr>\n",
       "  </tbody>\n",
       "</table>\n",
       "</div>"
      ],
      "text/plain": [
       "  route  pattern seg_name_id  stop_id\n",
       "0    52        1     14th_22        0\n",
       "1    52        1     14th_24        0\n",
       "2    52        1     14th_25    19143"
      ]
     },
     "execution_count": 6,
     "metadata": {},
     "output_type": "execute_result"
    }
   ],
   "source": [
    "xwalk_seg_pattern_stop = seg_pattern[['route','pattern','seg_name_id','stop_id']].copy()\n",
    "xwalk_seg_pattern_stop"
   ]
  },
  {
   "cell_type": "code",
   "execution_count": 7,
   "metadata": {
    "ExecuteTime": {
     "end_time": "2020-09-18T17:46:56.213331Z",
     "start_time": "2020-09-18T17:46:56.135780Z"
    }
   },
   "outputs": [],
   "source": [
    "# 2. Decompose Travel Time\n",
    "##########################\n",
    "\n",
    "# 2.0 Setup exports\n",
    "###################\n",
    "freeflow_list = []\n",
    "stop_area_decomp_list = []\n",
    "traveltime_decomp_list = []\n",
    "\n",
    "path_exports = (\n",
    "    os.path.join(\n",
    "        path_processed_data,\n",
    "        \"exports_{}\".format(datetime.now().strftime(\"%Y%m%d\"))\n",
    "    )\n",
    ")\n",
    "if not os.path.isdir(path_exports):\n",
    "    os.mkdir(path_exports)"
   ]
  },
  {
   "cell_type": "code",
   "execution_count": 8,
   "metadata": {
    "ExecuteTime": {
     "end_time": "2020-09-18T17:46:59.698053Z",
     "start_time": "2020-09-18T17:46:59.616083Z"
    }
   },
   "outputs": [
    {
     "data": {
      "text/plain": [
       "'14th_22'"
      ]
     },
     "execution_count": 8,
     "metadata": {},
     "output_type": "execute_result"
    }
   ],
   "source": [
    "# 1 segment\n",
    "seg = xwalk_seg_pattern_stop.loc[:,'seg_name_id'].values[0]\n",
    "seg"
   ]
  },
  {
   "cell_type": "code",
   "execution_count": 9,
   "metadata": {
    "ExecuteTime": {
     "end_time": "2020-09-18T17:47:00.236969Z",
     "start_time": "2020-09-18T17:46:59.897058Z"
    }
   },
   "outputs": [
    {
     "name": "stdout",
     "output_type": "stream",
     "text": [
      "now on 14th_22\n"
     ]
    }
   ],
   "source": [
    "print('now on {}'.format(seg))\n",
    "# 2.1. Read-in Data \n",
    "###################\n",
    "# Reduce rawnav data to runs present in the summary file after filtering.\n",
    "\n",
    "xwalk_seg_pattern_stop_fil = xwalk_seg_pattern_stop.query('seg_name_id == @seg')\n",
    "\n",
    "seg_routes = list(xwalk_seg_pattern_stop_fil.route.drop_duplicates())\n",
    "\n",
    "rawnav_dat = (\n",
    "    wr.read_cleaned_rawnav(\n",
    "       analysis_routes_ = seg_routes,\n",
    "       path = os.path.join(path_processed_data, \"rawnav_data.parquet\")\n",
    "    )\n",
    "    .drop(columns=['blank', 'lat_raw', 'long_raw', 'sat_cnt'])\n",
    ")\n",
    "\n",
    "segment_summary = (\n",
    "    pq.read_table(\n",
    "        source = os.path.join(path_processed_data,\"segment_summary.parquet\"),\n",
    "        filters = [['seg_name_id', \"=\", seg]],\n",
    "        use_pandas_metadata = True\n",
    "    )\n",
    "    .to_pandas()\n",
    ")\n",
    "\n",
    "segment_summary_fil = (\n",
    "    segment_summary\n",
    "    .query('~(flag_too_far_any\\\n",
    "              | flag_wrong_order_any\\\n",
    "              | flag_too_long_odom\\\n",
    "              | flag_secs_total_mismatch\\\n",
    "              | flag_odom_total_mismatch)'\n",
    "    )\n",
    ")"
   ]
  },
  {
   "cell_type": "markdown",
   "metadata": {},
   "source": [
    "## methodology for segment without a stop"
   ]
  },
  {
   "cell_type": "code",
   "execution_count": 10,
   "metadata": {
    "ExecuteTime": {
     "end_time": "2020-09-18T17:47:08.567917Z",
     "start_time": "2020-09-18T17:47:08.407897Z"
    }
   },
   "outputs": [
    {
     "data": {
      "text/html": [
       "<div>\n",
       "<style scoped>\n",
       "    .dataframe tbody tr th:only-of-type {\n",
       "        vertical-align: middle;\n",
       "    }\n",
       "\n",
       "    .dataframe tbody tr th {\n",
       "        vertical-align: top;\n",
       "    }\n",
       "\n",
       "    .dataframe thead th {\n",
       "        text-align: right;\n",
       "    }\n",
       "</style>\n",
       "<table border=\"1\" class=\"dataframe\">\n",
       "  <thead>\n",
       "    <tr style=\"text-align: right;\">\n",
       "      <th></th>\n",
       "      <th>fps_next3</th>\n",
       "      <th>mph</th>\n",
       "    </tr>\n",
       "  </thead>\n",
       "  <tbody>\n",
       "    <tr>\n",
       "      <th>0.01</th>\n",
       "      <td>1.540909</td>\n",
       "      <td>1.050381</td>\n",
       "    </tr>\n",
       "    <tr>\n",
       "      <th>0.05</th>\n",
       "      <td>2.121324</td>\n",
       "      <td>1.446028</td>\n",
       "    </tr>\n",
       "    <tr>\n",
       "      <th>0.10</th>\n",
       "      <td>7.800000</td>\n",
       "      <td>5.316973</td>\n",
       "    </tr>\n",
       "    <tr>\n",
       "      <th>0.15</th>\n",
       "      <td>12.875000</td>\n",
       "      <td>8.776414</td>\n",
       "    </tr>\n",
       "    <tr>\n",
       "      <th>0.25</th>\n",
       "      <td>17.000000</td>\n",
       "      <td>11.588275</td>\n",
       "    </tr>\n",
       "    <tr>\n",
       "      <th>0.50</th>\n",
       "      <td>25.333333</td>\n",
       "      <td>17.268803</td>\n",
       "    </tr>\n",
       "    <tr>\n",
       "      <th>0.75</th>\n",
       "      <td>31.000000</td>\n",
       "      <td>21.131561</td>\n",
       "    </tr>\n",
       "    <tr>\n",
       "      <th>0.85</th>\n",
       "      <td>34.500000</td>\n",
       "      <td>23.517382</td>\n",
       "    </tr>\n",
       "    <tr>\n",
       "      <th>0.90</th>\n",
       "      <td>37.333333</td>\n",
       "      <td>25.448762</td>\n",
       "    </tr>\n",
       "    <tr>\n",
       "      <th>0.95</th>\n",
       "      <td>40.833333</td>\n",
       "      <td>27.834583</td>\n",
       "    </tr>\n",
       "    <tr>\n",
       "      <th>0.99</th>\n",
       "      <td>45.833333</td>\n",
       "      <td>31.242899</td>\n",
       "    </tr>\n",
       "  </tbody>\n",
       "</table>\n",
       "</div>"
      ],
      "text/plain": [
       "      fps_next3        mph\n",
       "0.01   1.540909   1.050381\n",
       "0.05   2.121324   1.446028\n",
       "0.10   7.800000   5.316973\n",
       "0.15  12.875000   8.776414\n",
       "0.25  17.000000  11.588275\n",
       "0.50  25.333333  17.268803\n",
       "0.75  31.000000  21.131561\n",
       "0.85  34.500000  23.517382\n",
       "0.90  37.333333  25.448762\n",
       "0.95  40.833333  27.834583\n",
       "0.99  45.833333  31.242899"
      ]
     },
     "execution_count": 10,
     "metadata": {},
     "output_type": "execute_result"
    }
   ],
   "source": [
    "freeflow_seg = wr.decompose_segment_ff(rawnav_dat, segment_summary_fil)\n",
    "freeflow_seg"
   ]
  },
  {
   "cell_type": "code",
   "execution_count": 11,
   "metadata": {
    "ExecuteTime": {
     "end_time": "2020-09-18T17:53:46.546027Z",
     "start_time": "2020-09-18T17:53:46.457017Z"
    }
   },
   "outputs": [
    {
     "data": {
      "text/plain": [
       "40.83333333333333"
      ]
     },
     "execution_count": 11,
     "metadata": {},
     "output_type": "execute_result"
    }
   ],
   "source": [
    "segment_ff_val = (\n",
    "    freeflow_seg\n",
    "    .loc[0.95]\n",
    "    .loc[\"fps_next3\"]\n",
    ")\n",
    "segment_ff_val"
   ]
  },
  {
   "cell_type": "code",
   "execution_count": 14,
   "metadata": {
    "ExecuteTime": {
     "end_time": "2020-09-18T18:33:41.624699Z",
     "start_time": "2020-09-18T18:33:41.539673Z"
    },
    "scrolled": true
   },
   "outputs": [
    {
     "data": {
      "text/plain": [
       "25.333333333333332"
      ]
     },
     "execution_count": 14,
     "metadata": {},
     "output_type": "execute_result"
    }
   ],
   "source": [
    "segment_runtime_val = (\n",
    "    freeflow_seg\n",
    "    .loc[0.50]\n",
    "    .loc[\"fps_next3\"]\n",
    ")\n",
    "segment_runtime_val"
   ]
  },
  {
   "cell_type": "code",
   "execution_count": 23,
   "metadata": {
    "ExecuteTime": {
     "end_time": "2020-09-18T18:43:43.426410Z",
     "start_time": "2020-09-18T18:43:43.192267Z"
    }
   },
   "outputs": [],
   "source": [
    "segments = (\n",
    "    gpd.read_file(os.path.join(path_segments,\"seg_5201_by_intersection.geojson\"), dtype={'pattern':'int32'})\n",
    "    .to_crs(wmata_crs)\n",
    ")[['seg_name_id', 'name_str', 'geoid', 'stop_id',\n",
    "       'length', 'geometry']]"
   ]
  },
  {
   "cell_type": "code",
   "execution_count": 28,
   "metadata": {
    "ExecuteTime": {
     "end_time": "2020-09-18T18:44:06.931343Z",
     "start_time": "2020-09-18T18:44:06.850178Z"
    }
   },
   "outputs": [],
   "source": [
    "segment_length_ft = segments.query('seg_name_id == @seg')['length'].values[0]"
   ]
  },
  {
   "cell_type": "code",
   "execution_count": 30,
   "metadata": {
    "ExecuteTime": {
     "end_time": "2020-09-18T18:45:51.403688Z",
     "start_time": "2020-09-18T18:45:51.323688Z"
    }
   },
   "outputs": [
    {
     "data": {
      "text/plain": [
       "(6.6736552209937665, 10.756878481207057)"
      ]
     },
     "execution_count": 30,
     "metadata": {},
     "output_type": "execute_result"
    }
   ],
   "source": [
    "segment_ff_sec = segment_length_ft/segment_ff_val\n",
    "segment_runtime_sec = segment_length_ft/segment_runtime_val\n",
    "(segment_ff_sec, segment_runtime_sec)"
   ]
  },
  {
   "cell_type": "code",
   "execution_count": null,
   "metadata": {},
   "outputs": [],
   "source": [
    "rawnav_fil_seg = calc_rolling_vals(rawnav)\n",
    "\n",
    "rawnav_fil_seg = filter_to_segment(rawnav_fil_seg,\n",
    "                                   segment_summary_)\n",
    "\n",
    "totals = (\n",
    "    rawnav_fil_seg\n",
    "    .groupby(['filename','index_run_start'])\n",
    "    .agg({\"odom_ft\": [lambda x: max(x) - min(x)],\n",
    "          \"sec_past_st\" : [lambda x: max(x) - min(x)]})\n",
    "    .pipe(ll.reset_col_names)\n",
    "    .rename(columns = {'odom_ft_<lambda>': 'odom_ft_seg_total',\n",
    "                       'sec_past_st_<lambda>':'t_segment'})\n",
    ")"
   ]
  },
  {
   "cell_type": "code",
   "execution_count": null,
   "metadata": {},
   "outputs": [],
   "source": []
  },
  {
   "cell_type": "code",
   "execution_count": null,
   "metadata": {},
   "outputs": [],
   "source": []
  }
 ],
 "metadata": {
  "kernelspec": {
   "display_name": "Python (rawnav)",
   "language": "python",
   "name": "rawnav"
  },
  "language_info": {
   "codemirror_mode": {
    "name": "ipython",
    "version": 3
   },
   "file_extension": ".py",
   "mimetype": "text/x-python",
   "name": "python",
   "nbconvert_exporter": "python",
   "pygments_lexer": "ipython3",
   "version": "3.8.5"
  },
  "toc": {
   "base_numbering": 1,
   "nav_menu": {},
   "number_sections": true,
   "sideBar": true,
   "skip_h1_title": false,
   "title_cell": "Table of Contents",
   "title_sidebar": "Contents",
   "toc_cell": false,
   "toc_position": {},
   "toc_section_display": true,
   "toc_window_display": false
  }
 },
 "nbformat": 4,
 "nbformat_minor": 4
}
