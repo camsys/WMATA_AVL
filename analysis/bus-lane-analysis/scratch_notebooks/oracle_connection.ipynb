{
 "cells": [
  {
   "cell_type": "code",
   "execution_count": 1,
   "metadata": {
    "ExecuteTime": {
     "end_time": "2020-06-26T15:48:55.332310Z",
     "start_time": "2020-06-26T15:48:55.241902Z"
    }
   },
   "outputs": [],
   "source": [
    "import cx_Oracle"
   ]
  },
  {
   "cell_type": "code",
   "execution_count": 6,
   "metadata": {
    "ExecuteTime": {
     "end_time": "2020-06-26T15:56:40.608994Z",
     "start_time": "2020-06-26T15:56:40.605993Z"
    }
   },
   "outputs": [],
   "source": [
    "import os, sys, os.path"
   ]
  },
  {
   "cell_type": "code",
   "execution_count": 22,
   "metadata": {
    "ExecuteTime": {
     "end_time": "2020-06-26T16:06:22.730561Z",
     "start_time": "2020-06-26T16:06:21.327819Z"
    }
   },
   "outputs": [],
   "source": [
    "import pandas as pd"
   ]
  },
  {
   "cell_type": "code",
   "execution_count": 13,
   "metadata": {
    "ExecuteTime": {
     "end_time": "2020-06-26T16:03:31.128719Z",
     "start_time": "2020-06-26T16:03:31.124717Z"
    }
   },
   "outputs": [],
   "source": [
    "os.environ['PATH'] = 'C:\\\\Users\\\\E048374\\\\Anaconda3\\\\envs\\\\ox;C:\\\\Users\\\\E048374\\\\Anaconda3\\\\envs\\\\ox\\\\Library\\\\mingw-w64\\\\bin;C:\\\\Users\\\\E048374\\\\Anaconda3\\\\envs\\\\ox\\\\Library\\\\usr\\\\bin;C:\\\\Users\\\\E048374\\\\Anaconda3\\\\envs\\\\ox\\\\Library\\\\bin;C:\\\\Users\\\\E048374\\\\Anaconda3\\\\envs\\\\ox\\\\Scripts;C:\\\\Users\\\\E048374\\\\Anaconda3\\\\envs\\\\ox\\\\bin;C:\\\\;C:\\\\Users\\\\E048374\\\\AppData\\\\Local\\\\Programs\\\\Git\\\\Users\\\\E048374\\\\Anaconda3;C:\\\\;C:\\\\Users\\\\E048374\\\\AppData\\\\Local\\\\Programs\\\\Git\\\\Users\\\\E048374\\\\Anaconda3\\\\Library\\\\mingw-w64\\\\bin;C:\\\\;C:\\\\Users\\\\E048374\\\\AppData\\\\Local\\\\Programs\\\\Git\\\\Users\\\\E048374\\\\Anaconda3\\\\Library\\\\usr\\\\bin;C:\\\\;C:\\\\Users\\\\E048374\\\\AppData\\\\Local\\\\Programs\\\\Git\\\\Users\\\\E048374\\\\Anaconda3\\\\Library\\\\bin;C:\\\\;C:\\\\Users\\\\E048374\\\\AppData\\\\Local\\\\Programs\\\\Git\\\\Users\\\\E048374\\\\Anaconda3\\\\Scripts;C:\\\\;C:\\\\Users\\\\E048374\\\\AppData\\\\Local\\\\Programs\\\\Git\\\\Users\\\\E048374\\\\Anaconda3\\\\bin;C:\\\\;C:\\\\Users\\\\E048374\\\\AppData\\\\Local\\\\Programs\\\\Git\\\\Users\\\\E048374\\\\Anaconda3\\\\Scripts\\\\condabin;C:\\\\Users\\\\E048374\\\\bin;C:\\\\Users\\\\E048374\\\\AppData\\\\Local\\\\Programs\\\\Git\\\\mingw64\\\\bin;C:\\\\Users\\\\E048374\\\\AppData\\\\Local\\\\Programs\\\\Git\\\\usr\\\\local\\\\bin;C:\\\\Users\\\\E048374\\\\AppData\\\\Local\\\\Programs\\\\Git\\\\usr\\\\bin;C:\\\\Users\\\\E048374\\\\AppData\\\\Local\\\\Programs\\\\Git\\\\usr\\\\bin;C:\\\\Users\\\\E048374\\\\AppData\\\\Local\\\\Programs\\\\Git\\\\mingw64\\\\bin;C:\\\\Users\\\\E048374\\\\AppData\\\\Local\\\\Programs\\\\Git\\\\usr\\\\bin;C:\\\\Users\\\\E048374\\\\bin;C:\\\\Program Files (x86)\\\\Common Files\\\\Oracle\\\\Java\\\\javapath;C:\\\\oracle\\\\instantclient_19_6;C:\\\\WINDOWS\\\\system32;C:\\\\WINDOWS;C:\\\\WINDOWS\\\\System32\\\\Wbem;C:\\\\WINDOWS\\\\System32\\\\WindowsPowerShell\\\\v1.0;C:\\\\WINDOWS\\\\System32\\\\OpenSSH;C:\\\\Program Files\\\\Docker\\\\Docker\\\\resources\\\\bin;C:\\\\ProgramData\\\\DockerDesktop\\\\version-bin;C:\\\\Users\\\\E048374\\\\Anaconda3;C:\\\\Users\\\\E048374\\\\Anaconda3\\\\Library\\\\mingw-w64\\\\bin;C:\\\\Users\\\\E048374\\\\Anaconda3\\\\Library\\\\usr\\\\bin;C:\\\\Users\\\\E048374\\\\Anaconda3\\\\Library\\\\bin;C:\\\\Users\\\\E048374\\\\Anaconda3\\\\Scripts;C:\\\\Users\\\\E048374\\\\AppData\\\\Local\\\\Microsoft\\\\WindowsApps;C:\\\\Users\\\\E048374\\\\AppData\\\\Local\\\\Programs\\\\Microsoft VS Code\\\\bin;C:\\\\Users\\\\E048374\\\\AppData\\\\Local\\\\Programs\\\\Git\\\\cmd;C:\\\\Users\\\\E048374\\\\AppData\\\\Local\\\\Programs\\\\Git\\\\usr\\\\bin\\\\vendor_perl;C:\\\\Users\\\\E048374\\\\AppData\\\\Local\\\\Programs\\\\Git\\\\usr\\\\bin\\\\core_perl'"
   ]
  },
  {
   "cell_type": "code",
   "execution_count": 14,
   "metadata": {
    "ExecuteTime": {
     "end_time": "2020-06-26T16:03:37.712028Z",
     "start_time": "2020-06-26T16:03:37.707020Z"
    }
   },
   "outputs": [
    {
     "data": {
      "text/plain": [
       "'C:\\\\Users\\\\E048374\\\\Anaconda3\\\\envs\\\\ox;C:\\\\Users\\\\E048374\\\\Anaconda3\\\\envs\\\\ox\\\\Library\\\\mingw-w64\\\\bin;C:\\\\Users\\\\E048374\\\\Anaconda3\\\\envs\\\\ox\\\\Library\\\\usr\\\\bin;C:\\\\Users\\\\E048374\\\\Anaconda3\\\\envs\\\\ox\\\\Library\\\\bin;C:\\\\Users\\\\E048374\\\\Anaconda3\\\\envs\\\\ox\\\\Scripts;C:\\\\Users\\\\E048374\\\\Anaconda3\\\\envs\\\\ox\\\\bin;C:\\\\;C:\\\\Users\\\\E048374\\\\AppData\\\\Local\\\\Programs\\\\Git\\\\Users\\\\E048374\\\\Anaconda3;C:\\\\;C:\\\\Users\\\\E048374\\\\AppData\\\\Local\\\\Programs\\\\Git\\\\Users\\\\E048374\\\\Anaconda3\\\\Library\\\\mingw-w64\\\\bin;C:\\\\;C:\\\\Users\\\\E048374\\\\AppData\\\\Local\\\\Programs\\\\Git\\\\Users\\\\E048374\\\\Anaconda3\\\\Library\\\\usr\\\\bin;C:\\\\;C:\\\\Users\\\\E048374\\\\AppData\\\\Local\\\\Programs\\\\Git\\\\Users\\\\E048374\\\\Anaconda3\\\\Library\\\\bin;C:\\\\;C:\\\\Users\\\\E048374\\\\AppData\\\\Local\\\\Programs\\\\Git\\\\Users\\\\E048374\\\\Anaconda3\\\\Scripts;C:\\\\;C:\\\\Users\\\\E048374\\\\AppData\\\\Local\\\\Programs\\\\Git\\\\Users\\\\E048374\\\\Anaconda3\\\\bin;C:\\\\;C:\\\\Users\\\\E048374\\\\AppData\\\\Local\\\\Programs\\\\Git\\\\Users\\\\E048374\\\\Anaconda3\\\\Scripts\\\\condabin;C:\\\\Users\\\\E048374\\\\bin;C:\\\\Users\\\\E048374\\\\AppData\\\\Local\\\\Programs\\\\Git\\\\mingw64\\\\bin;C:\\\\Users\\\\E048374\\\\AppData\\\\Local\\\\Programs\\\\Git\\\\usr\\\\local\\\\bin;C:\\\\Users\\\\E048374\\\\AppData\\\\Local\\\\Programs\\\\Git\\\\usr\\\\bin;C:\\\\Users\\\\E048374\\\\AppData\\\\Local\\\\Programs\\\\Git\\\\usr\\\\bin;C:\\\\Users\\\\E048374\\\\AppData\\\\Local\\\\Programs\\\\Git\\\\mingw64\\\\bin;C:\\\\Users\\\\E048374\\\\AppData\\\\Local\\\\Programs\\\\Git\\\\usr\\\\bin;C:\\\\Users\\\\E048374\\\\bin;C:\\\\Program Files (x86)\\\\Common Files\\\\Oracle\\\\Java\\\\javapath;C:\\\\oracle\\\\instantclient_19_6;C:\\\\WINDOWS\\\\system32;C:\\\\WINDOWS;C:\\\\WINDOWS\\\\System32\\\\Wbem;C:\\\\WINDOWS\\\\System32\\\\WindowsPowerShell\\\\v1.0;C:\\\\WINDOWS\\\\System32\\\\OpenSSH;C:\\\\Program Files\\\\Docker\\\\Docker\\\\resources\\\\bin;C:\\\\ProgramData\\\\DockerDesktop\\\\version-bin;C:\\\\Users\\\\E048374\\\\Anaconda3;C:\\\\Users\\\\E048374\\\\Anaconda3\\\\Library\\\\mingw-w64\\\\bin;C:\\\\Users\\\\E048374\\\\Anaconda3\\\\Library\\\\usr\\\\bin;C:\\\\Users\\\\E048374\\\\Anaconda3\\\\Library\\\\bin;C:\\\\Users\\\\E048374\\\\Anaconda3\\\\Scripts;C:\\\\Users\\\\E048374\\\\AppData\\\\Local\\\\Microsoft\\\\WindowsApps;C:\\\\Users\\\\E048374\\\\AppData\\\\Local\\\\Programs\\\\Microsoft VS Code\\\\bin;C:\\\\Users\\\\E048374\\\\AppData\\\\Local\\\\Programs\\\\Git\\\\cmd;C:\\\\Users\\\\E048374\\\\AppData\\\\Local\\\\Programs\\\\Git\\\\usr\\\\bin\\\\vendor_perl;C:\\\\Users\\\\E048374\\\\AppData\\\\Local\\\\Programs\\\\Git\\\\usr\\\\bin\\\\core_perl'"
      ]
     },
     "execution_count": 14,
     "metadata": {},
     "output_type": "execute_result"
    }
   ],
   "source": [
    "os.environ['PATH']"
   ]
  },
  {
   "cell_type": "code",
   "execution_count": 15,
   "metadata": {
    "ExecuteTime": {
     "end_time": "2020-06-26T16:04:05.362366Z",
     "start_time": "2020-06-26T16:04:05.358366Z"
    }
   },
   "outputs": [],
   "source": [
    "dsn_tns = cx_Oracle.makedsn('ctx4-scan', \n",
    "                            '1521', \n",
    "                            service_name='NCSDPRD1.wmata.com') "
   ]
  },
  {
   "cell_type": "code",
   "execution_count": 16,
   "metadata": {
    "ExecuteTime": {
     "end_time": "2020-06-26T16:04:14.325085Z",
     "start_time": "2020-06-26T16:04:05.612735Z"
    }
   },
   "outputs": [],
   "source": [
    "conn = cx_Oracle.connect(user='PLANAPI', \n",
    "                         password='Metr04ward!', \n",
    "                         dsn=dsn_tns)"
   ]
  },
  {
   "cell_type": "code",
   "execution_count": 17,
   "metadata": {
    "ExecuteTime": {
     "end_time": "2020-06-26T16:05:38.834768Z",
     "start_time": "2020-06-26T16:05:38.815766Z"
    }
   },
   "outputs": [
    {
     "data": {
      "text/plain": [
       "<cx_Oracle.Cursor on <cx_Oracle.Connection to PLANAPI@(DESCRIPTION=(ADDRESS=(PROTOCOL=TCP)(HOST=ctx4-scan)(PORT=1521))(CONNECT_DATA=(SERVICE_NAME=NCSDPRD1.wmata.com)))>>"
      ]
     },
     "execution_count": 17,
     "metadata": {},
     "output_type": "execute_result"
    }
   ],
   "source": [
    "c = conn.cursor()\n",
    "c.execute('select * from bus_net_link_road fetch next 5 rows only') # use triple quotes if you want to spread your query across multiple lines"
   ]
  },
  {
   "cell_type": "code",
   "execution_count": 20,
   "metadata": {
    "ExecuteTime": {
     "end_time": "2020-06-26T16:06:07.620370Z",
     "start_time": "2020-06-26T16:06:07.600373Z"
    }
   },
   "outputs": [],
   "source": [
    "result = c.fetchall()"
   ]
  },
  {
   "cell_type": "code",
   "execution_count": 23,
   "metadata": {
    "ExecuteTime": {
     "end_time": "2020-06-26T16:06:33.184366Z",
     "start_time": "2020-06-26T16:06:33.169364Z"
    }
   },
   "outputs": [
    {
     "data": {
      "text/html": [
       "<div>\n",
       "<style scoped>\n",
       "    .dataframe tbody tr th:only-of-type {\n",
       "        vertical-align: middle;\n",
       "    }\n",
       "\n",
       "    .dataframe tbody tr th {\n",
       "        vertical-align: top;\n",
       "    }\n",
       "\n",
       "    .dataframe thead th {\n",
       "        text-align: right;\n",
       "    }\n",
       "</style>\n",
       "<table border=\"1\" class=\"dataframe\">\n",
       "  <thead>\n",
       "    <tr style=\"text-align: right;\">\n",
       "      <th></th>\n",
       "      <th>0</th>\n",
       "      <th>1</th>\n",
       "      <th>2</th>\n",
       "      <th>3</th>\n",
       "      <th>4</th>\n",
       "      <th>5</th>\n",
       "      <th>6</th>\n",
       "      <th>7</th>\n",
       "      <th>8</th>\n",
       "      <th>9</th>\n",
       "    </tr>\n",
       "  </thead>\n",
       "  <tbody>\n",
       "    <tr>\n",
       "      <th>0</th>\n",
       "      <td>11Y02</td>\n",
       "      <td>1272</td>\n",
       "      <td>16</td>\n",
       "      <td>17</td>\n",
       "      <td>1088</td>\n",
       "      <td>63734787</td>\n",
       "      <td>6143007827</td>\n",
       "      <td>1272-1088</td>\n",
       "      <td>63734787-6143007827</td>\n",
       "      <td>59.086</td>\n",
       "    </tr>\n",
       "    <tr>\n",
       "      <th>1</th>\n",
       "      <td>11Y02</td>\n",
       "      <td>1272</td>\n",
       "      <td>16</td>\n",
       "      <td>17</td>\n",
       "      <td>1088</td>\n",
       "      <td>63735005</td>\n",
       "      <td>63734767</td>\n",
       "      <td>1272-1088</td>\n",
       "      <td>63735005-63734767</td>\n",
       "      <td>7.813</td>\n",
       "    </tr>\n",
       "    <tr>\n",
       "      <th>2</th>\n",
       "      <td>11Y02</td>\n",
       "      <td>1272</td>\n",
       "      <td>16</td>\n",
       "      <td>17</td>\n",
       "      <td>1088</td>\n",
       "      <td>63735010</td>\n",
       "      <td>63734787</td>\n",
       "      <td>1272-1088</td>\n",
       "      <td>63735010-63734787</td>\n",
       "      <td>45.239</td>\n",
       "    </tr>\n",
       "    <tr>\n",
       "      <th>3</th>\n",
       "      <td>11Y02</td>\n",
       "      <td>4874</td>\n",
       "      <td>13</td>\n",
       "      <td>14</td>\n",
       "      <td>1448</td>\n",
       "      <td>63735031</td>\n",
       "      <td>63732502</td>\n",
       "      <td>4874-1448</td>\n",
       "      <td>63735031-63732502</td>\n",
       "      <td>300.659</td>\n",
       "    </tr>\n",
       "    <tr>\n",
       "      <th>4</th>\n",
       "      <td>11Y02</td>\n",
       "      <td>4874</td>\n",
       "      <td>13</td>\n",
       "      <td>14</td>\n",
       "      <td>1448</td>\n",
       "      <td>63735061</td>\n",
       "      <td>63735031</td>\n",
       "      <td>4874-1448</td>\n",
       "      <td>63735061-63735031</td>\n",
       "      <td>676.363</td>\n",
       "    </tr>\n",
       "  </tbody>\n",
       "</table>\n",
       "</div>"
      ],
      "text/plain": [
       "       0     1   2   3     4         5           6          7  \\\n",
       "0  11Y02  1272  16  17  1088  63734787  6143007827  1272-1088   \n",
       "1  11Y02  1272  16  17  1088  63735005    63734767  1272-1088   \n",
       "2  11Y02  1272  16  17  1088  63735010    63734787  1272-1088   \n",
       "3  11Y02  4874  13  14  1448  63735031    63732502  4874-1448   \n",
       "4  11Y02  4874  13  14  1448  63735061    63735031  4874-1448   \n",
       "\n",
       "                     8        9  \n",
       "0  63734787-6143007827   59.086  \n",
       "1    63735005-63734767    7.813  \n",
       "2    63735010-63734787   45.239  \n",
       "3    63735031-63732502  300.659  \n",
       "4    63735061-63735031  676.363  "
      ]
     },
     "execution_count": 23,
     "metadata": {},
     "output_type": "execute_result"
    }
   ],
   "source": [
    "pd.DataFrame(result)"
   ]
  },
  {
   "cell_type": "code",
   "execution_count": 24,
   "metadata": {
    "ExecuteTime": {
     "end_time": "2020-06-26T16:06:51.302943Z",
     "start_time": "2020-06-26T16:06:51.269946Z"
    }
   },
   "outputs": [],
   "source": [
    "conn.close()"
   ]
  },
  {
   "cell_type": "code",
   "execution_count": null,
   "metadata": {},
   "outputs": [],
   "source": []
  }
 ],
 "metadata": {
  "kernelspec": {
   "display_name": "Python (ox)",
   "language": "python",
   "name": "ox"
  },
  "language_info": {
   "codemirror_mode": {
    "name": "ipython",
    "version": 3
   },
   "file_extension": ".py",
   "mimetype": "text/x-python",
   "name": "python",
   "nbconvert_exporter": "python",
   "pygments_lexer": "ipython3",
   "version": "3.8.3"
  },
  "toc": {
   "base_numbering": 1,
   "nav_menu": {},
   "number_sections": true,
   "sideBar": true,
   "skip_h1_title": false,
   "title_cell": "Table of Contents",
   "title_sidebar": "Contents",
   "toc_cell": false,
   "toc_position": {},
   "toc_section_display": true,
   "toc_window_display": false
  }
 },
 "nbformat": 4,
 "nbformat_minor": 4
}
