{
 "cells": [
  {
   "cell_type": "code",
   "execution_count": 14,
   "metadata": {},
   "outputs": [],
   "source": [
    "import pandas as pd, os, inflection, numpy as np"
   ]
  },
  {
   "cell_type": "code",
   "execution_count": 15,
   "metadata": {},
   "outputs": [],
   "source": [
    "mdb_to_excel_file_loc = r'C:\\Users\\E048374\\Documents\\RawNav'\n",
    "\n",
    "stop_file = os.path.join(mdb_to_excel_file_loc, '082719-201718 Stop.xlsx')\n",
    "stop_dat = pd.read_excel(stop_file)\n",
    "stop_dat = stop_dat.dropna(axis=1)\n",
    "stop_dat.columns = [inflection.underscore(col_nm) for col_nm in stop_dat.columns]\n",
    "stop_dat.rename(columns = {'longitude':'stop_lon', \n",
    "                           'latitude':'stop_lat',\n",
    "                           'heading':'stop_heading'}, inplace = True)"
   ]
  },
  {
   "cell_type": "code",
   "execution_count": 16,
   "metadata": {},
   "outputs": [],
   "source": [
    "pattern_file = os.path.join(mdb_to_excel_file_loc, '082719-201718 Pattern.xlsx')\n",
    "pattern_dat = pd.read_excel(pattern_file)\n",
    "pattern_dat = pattern_dat[['PatternID','TARoute','PatternName','Direction',\n",
    "                           'Distance','CDRoute','CDVariation','PatternDestination',\n",
    "                           'RouteText','RouteKey','PatternDestination2','RouteText2',\n",
    "                           'Direction2','PatternName2','TARoute2','PubRouteDir','PatternNotes',\n",
    "                           'DirectionID']]"
   ]
  },
  {
   "cell_type": "code",
   "execution_count": 17,
   "metadata": {},
   "outputs": [],
   "source": [
    "pattern_dat.columns = [inflection.underscore(col_nm) for col_nm in pattern_dat.columns]\n",
    "pattern_dat.rename(columns={'distance':'trip_length',\n",
    "                            'cd_route':'route',\n",
    "                            'cd_variation':'pattern'},inplace=True)\n",
    "\n",
    "pattern_detail_file = os.path.join(mdb_to_excel_file_loc, '082719-201718 PatternDetail.xlsx')\n",
    "pattern_detail_dat = pd.read_excel(pattern_detail_file)\n",
    "pattern_detail_dat = pattern_detail_dat.dropna(axis=1)\n",
    "pattern_detail_dat = pattern_detail_dat.drop(columns=['SortOrder', 'GeoPathID'])\n",
    "pattern_detail_dat.columns = [inflection.underscore(col_nm) for col_nm in pattern_detail_dat.columns]\n",
    "pattern_detail_dat.rename(columns={'distance':'dist_from_previous_stop'},inplace=True)"
   ]
  },
  {
   "cell_type": "code",
   "execution_count": 18,
   "metadata": {},
   "outputs": [
    {
     "data": {
      "text/plain": [
       "set()"
      ]
     },
     "execution_count": 18,
     "metadata": {},
     "output_type": "execute_result"
    }
   ],
   "source": [
    "q_jump_route_list = ['S4','52'] ## update\n",
    "pattern_q_jump_route_dat = pattern_dat.query('route in @q_jump_route_list')\n",
    "set(pattern_q_jump_route_dat.route.unique()) - set(q_jump_route_list)"
   ]
  },
  {
   "cell_type": "code",
   "execution_count": 19,
   "metadata": {},
   "outputs": [
    {
     "data": {
      "text/html": [
       "<div>\n",
       "<style scoped>\n",
       "    .dataframe tbody tr th:only-of-type {\n",
       "        vertical-align: middle;\n",
       "    }\n",
       "\n",
       "    .dataframe tbody tr th {\n",
       "        vertical-align: top;\n",
       "    }\n",
       "\n",
       "    .dataframe thead th {\n",
       "        text-align: right;\n",
       "    }\n",
       "</style>\n",
       "<table border=\"1\" class=\"dataframe\">\n",
       "  <thead>\n",
       "    <tr style=\"text-align: right;\">\n",
       "      <th></th>\n",
       "      <th>pattern_id</th>\n",
       "      <th>ta_route</th>\n",
       "      <th>pattern_name</th>\n",
       "      <th>direction</th>\n",
       "      <th>trip_length</th>\n",
       "      <th>route</th>\n",
       "      <th>pattern</th>\n",
       "      <th>pattern_destination</th>\n",
       "      <th>route_text</th>\n",
       "      <th>route_key</th>\n",
       "      <th>pattern_destination2</th>\n",
       "      <th>route_text2</th>\n",
       "      <th>direction2</th>\n",
       "      <th>pattern_name2</th>\n",
       "      <th>ta_route2</th>\n",
       "      <th>pub_route_dir</th>\n",
       "      <th>pattern_notes</th>\n",
       "      <th>direction_id</th>\n",
       "    </tr>\n",
       "  </thead>\n",
       "  <tbody>\n",
       "    <tr>\n",
       "      <th>5</th>\n",
       "      <td>806</td>\n",
       "      <td>S4</td>\n",
       "      <td>[S4]SILVER SPRNG - FED TRIANGLE</td>\n",
       "      <td>SOUTH</td>\n",
       "      <td>41437</td>\n",
       "      <td>S4</td>\n",
       "      <td>1</td>\n",
       "      <td>SOUTH to FEDERAL TRIANGLE</td>\n",
       "      <td>16th Street Line</td>\n",
       "      <td>535</td>\n",
       "      <td>NaN</td>\n",
       "      <td>NaN</td>\n",
       "      <td>NaN</td>\n",
       "      <td>NaN</td>\n",
       "      <td>NaN</td>\n",
       "      <td>SOUTH</td>\n",
       "      <td>NaN</td>\n",
       "      <td>1.0</td>\n",
       "    </tr>\n",
       "    <tr>\n",
       "      <th>6</th>\n",
       "      <td>808</td>\n",
       "      <td>S4</td>\n",
       "      <td>[S4]FED TRIANGLE - SILVER SPRNG</td>\n",
       "      <td>NORTH</td>\n",
       "      <td>43108</td>\n",
       "      <td>S4</td>\n",
       "      <td>2</td>\n",
       "      <td>NORTH to SILVER SPRING STATION</td>\n",
       "      <td>16th Street Line</td>\n",
       "      <td>547</td>\n",
       "      <td>NaN</td>\n",
       "      <td>NaN</td>\n",
       "      <td>NaN</td>\n",
       "      <td>NaN</td>\n",
       "      <td>NaN</td>\n",
       "      <td>NORTH</td>\n",
       "      <td>NaN</td>\n",
       "      <td>0.0</td>\n",
       "    </tr>\n",
       "    <tr>\n",
       "      <th>74</th>\n",
       "      <td>1306</td>\n",
       "      <td>52</td>\n",
       "      <td>[52]L ENFNT PLAZA - 14TH+COLORADO</td>\n",
       "      <td>NORTH</td>\n",
       "      <td>34532</td>\n",
       "      <td>52</td>\n",
       "      <td>4</td>\n",
       "      <td>NORTH to 14TH &amp; COLORADO</td>\n",
       "      <td>14th Street Line</td>\n",
       "      <td>585</td>\n",
       "      <td>NaN</td>\n",
       "      <td>NaN</td>\n",
       "      <td>NaN</td>\n",
       "      <td>NaN</td>\n",
       "      <td>NaN</td>\n",
       "      <td>NORTH</td>\n",
       "      <td>NaN</td>\n",
       "      <td>0.0</td>\n",
       "    </tr>\n",
       "    <tr>\n",
       "      <th>75</th>\n",
       "      <td>1307</td>\n",
       "      <td>52</td>\n",
       "      <td>[52]L ENFNT PLAZA - TAKOMA STATION</td>\n",
       "      <td>NORTH</td>\n",
       "      <td>47617</td>\n",
       "      <td>52</td>\n",
       "      <td>2</td>\n",
       "      <td>NORTH to TAKOMA STATION</td>\n",
       "      <td>14th Street Line</td>\n",
       "      <td>580</td>\n",
       "      <td>NaN</td>\n",
       "      <td>NaN</td>\n",
       "      <td>NaN</td>\n",
       "      <td>NaN</td>\n",
       "      <td>NaN</td>\n",
       "      <td>NORTH</td>\n",
       "      <td>NaN</td>\n",
       "      <td>0.0</td>\n",
       "    </tr>\n",
       "    <tr>\n",
       "      <th>76</th>\n",
       "      <td>1311</td>\n",
       "      <td>52</td>\n",
       "      <td>[52]TAKOMA STA - L ENFANT PLAZA STA</td>\n",
       "      <td>SOUTH</td>\n",
       "      <td>47497</td>\n",
       "      <td>52</td>\n",
       "      <td>3</td>\n",
       "      <td>SOUTH to L'ENFANT PLAZA STATION</td>\n",
       "      <td>14th Street Line</td>\n",
       "      <td>718</td>\n",
       "      <td>NaN</td>\n",
       "      <td>NaN</td>\n",
       "      <td>NaN</td>\n",
       "      <td>NaN</td>\n",
       "      <td>NaN</td>\n",
       "      <td>SOUTH</td>\n",
       "      <td>NaN</td>\n",
       "      <td>1.0</td>\n",
       "    </tr>\n",
       "  </tbody>\n",
       "</table>\n",
       "</div>"
      ],
      "text/plain": [
       "    pattern_id ta_route                         pattern_name direction  \\\n",
       "5          806       S4      [S4]SILVER SPRNG - FED TRIANGLE     SOUTH   \n",
       "6          808       S4      [S4]FED TRIANGLE - SILVER SPRNG     NORTH   \n",
       "74        1306       52    [52]L ENFNT PLAZA - 14TH+COLORADO     NORTH   \n",
       "75        1307       52   [52]L ENFNT PLAZA - TAKOMA STATION     NORTH   \n",
       "76        1311       52  [52]TAKOMA STA - L ENFANT PLAZA STA     SOUTH   \n",
       "\n",
       "    trip_length route  pattern              pattern_destination  \\\n",
       "5         41437    S4        1        SOUTH to FEDERAL TRIANGLE   \n",
       "6         43108    S4        2   NORTH to SILVER SPRING STATION   \n",
       "74        34532    52        4         NORTH to 14TH & COLORADO   \n",
       "75        47617    52        2          NORTH to TAKOMA STATION   \n",
       "76        47497    52        3  SOUTH to L'ENFANT PLAZA STATION   \n",
       "\n",
       "          route_text  route_key  pattern_destination2  route_text2  \\\n",
       "5   16th Street Line        535                   NaN          NaN   \n",
       "6   16th Street Line        547                   NaN          NaN   \n",
       "74  14th Street Line        585                   NaN          NaN   \n",
       "75  14th Street Line        580                   NaN          NaN   \n",
       "76  14th Street Line        718                   NaN          NaN   \n",
       "\n",
       "    direction2  pattern_name2  ta_route2 pub_route_dir  pattern_notes  \\\n",
       "5          NaN            NaN        NaN         SOUTH            NaN   \n",
       "6          NaN            NaN        NaN         NORTH            NaN   \n",
       "74         NaN            NaN        NaN         NORTH            NaN   \n",
       "75         NaN            NaN        NaN         NORTH            NaN   \n",
       "76         NaN            NaN        NaN         SOUTH            NaN   \n",
       "\n",
       "    direction_id  \n",
       "5            1.0  \n",
       "6            0.0  \n",
       "74           0.0  \n",
       "75           0.0  \n",
       "76           1.0  "
      ]
     },
     "execution_count": 19,
     "metadata": {},
     "output_type": "execute_result"
    }
   ],
   "source": [
    "pattern_q_jump_route_dat.head()"
   ]
  },
  {
   "cell_type": "code",
   "execution_count": 20,
   "metadata": {},
   "outputs": [],
   "source": [
    "pattern_pattern_detail_stop_q_jump_route_dat = \\\n",
    "    pattern_q_jump_route_dat.merge(pattern_detail_dat,on='pattern_id',how='left')\\\n",
    "    .merge(stop_dat,on='geo_id',how='left')\n",
    "\n",
    "pattern_pattern_detail_stop_q_jump_route_dat.\\\n",
    "    sort_values(by=['route','pattern','order'],inplace=True)\n",
    "\n",
    "mask_nan_latlong = pattern_pattern_detail_stop_q_jump_route_dat[['stop_lat', 'stop_lon']].isna().all(axis=1)\n",
    "assert_stop_sort_order_zero_has_nan_latlong = \\\n",
    "    sum(pattern_pattern_detail_stop_q_jump_route_dat[mask_nan_latlong].stop_sort_order-0)\n",
    "assert(assert_stop_sort_order_zero_has_nan_latlong==0)\n",
    "\n",
    "no_nan_pattern_pattern_detail_stop_q_jump_route_dat =\\\n",
    "    pattern_pattern_detail_stop_q_jump_route_dat[~mask_nan_latlong]\n",
    "\n",
    "no_nan_pattern_pattern_detail_stop_q_jump_route_dat = \\\n",
    "    no_nan_pattern_pattern_detail_stop_q_jump_route_dat.dropna(axis=1)\n",
    "\n",
    "assert(0== sum(~ no_nan_pattern_pattern_detail_stop_q_jump_route_dat.\n",
    "               eval('''direction==pub_route_dir& route==ta_route''')))\n",
    "no_nan_pattern_pattern_detail_stop_q_jump_route_dat.drop(columns=['pub_route_dir','ta_route'],inplace=True)\n",
    "\n",
    "assert(0== np.sum(no_nan_pattern_pattern_detail_stop_q_jump_route_dat.isna().values))"
   ]
  },
  {
   "cell_type": "code",
   "execution_count": 21,
   "metadata": {},
   "outputs": [],
   "source": [
    "save_file = os.path.join(mdb_to_excel_file_loc,'wmata_schedule_data_q_jump_routes.csv')\n",
    "no_nan_pattern_pattern_detail_stop_q_jump_route_dat.to_csv(save_file)"
   ]
  },
  {
   "cell_type": "code",
   "execution_count": 22,
   "metadata": {},
   "outputs": [
    {
     "data": {
      "text/plain": [
       "pattern_id                                               1315\n",
       "pattern_name               [52]14TH+COLORADO - L ENFANT PLAZA\n",
       "direction                                               SOUTH\n",
       "trip_length                                             35165\n",
       "route                                                      52\n",
       "pattern                                                     1\n",
       "pattern_destination           SOUTH to L'ENFANT PLAZA STATION\n",
       "route_text                                   14th Street Line\n",
       "route_key                                                 154\n",
       "direction_id                                                1\n",
       "geo_id                                                   8676\n",
       "stop_id                                                  6192\n",
       "dist_from_previous_stop                                     0\n",
       "order                                                       2\n",
       "stop_sort_order                                             1\n",
       "geo_description                  COLORADO AVE NW + 14TH ST NW\n",
       "ta_geo_id                                             1002596\n",
       "stop_lon                                             -77.0332\n",
       "stop_lat                                              38.9557\n",
       "stop_heading                                           304.99\n",
       "Name: 326, dtype: object"
      ]
     },
     "execution_count": 22,
     "metadata": {},
     "output_type": "execute_result"
    }
   ],
   "source": [
    "no_nan_pattern_pattern_detail_stop_q_jump_route_dat.iloc[0]"
   ]
  },
  {
   "cell_type": "code",
   "execution_count": 23,
   "metadata": {},
   "outputs": [
    {
     "data": {
      "text/plain": [
       "array(['52', 'S4'], dtype=object)"
      ]
     },
     "execution_count": 23,
     "metadata": {},
     "output_type": "execute_result"
    }
   ],
   "source": [
    "no_nan_pattern_pattern_detail_stop_q_jump_route_dat.route.unique()"
   ]
  },
  {
   "cell_type": "code",
   "execution_count": null,
   "metadata": {},
   "outputs": [],
   "source": []
  },
  {
   "cell_type": "code",
   "execution_count": null,
   "metadata": {},
   "outputs": [],
   "source": []
  }
 ],
 "metadata": {
  "kernelspec": {
   "display_name": "Python (rawnav)",
   "language": "python",
   "name": "rawnav"
  },
  "language_info": {
   "codemirror_mode": {
    "name": "ipython",
    "version": 3
   },
   "file_extension": ".py",
   "mimetype": "text/x-python",
   "name": "python",
   "nbconvert_exporter": "python",
   "pygments_lexer": "ipython3",
   "version": "3.8.5"
  }
 },
 "nbformat": 4,
 "nbformat_minor": 4
}
