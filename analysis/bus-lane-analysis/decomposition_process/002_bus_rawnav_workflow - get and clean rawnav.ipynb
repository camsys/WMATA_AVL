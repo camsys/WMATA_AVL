{
 "cells": [
  {
   "cell_type": "markdown",
   "metadata": {},
   "source": [
    "# set paths and clean rawnav data\n",
    "Note - for some reason, importing the wmatarawnav wr code in the same notebook as the Oracle_cx import (which includes a ['PATH'] modification) throws an error :("
   ]
  },
  {
   "cell_type": "code",
   "execution_count": 1,
   "metadata": {
    "ExecuteTime": {
     "end_time": "2020-09-30T22:00:34.634887Z",
     "start_time": "2020-09-30T22:00:33.635534Z"
    }
   },
   "outputs": [
    {
     "name": "stdout",
     "output_type": "stream",
     "text": [
      "Run Section 1 Import Libraries and Set Global Parameters...\n"
     ]
    }
   ],
   "source": [
    "# 0 Housekeeping. Clear variable space\n",
    "########################################################################################################################\n",
    "from IPython import get_ipython  # run magic commands\n",
    "ipython = get_ipython()\n",
    "ipython.magic(\"reset -f\")\n",
    "ipython = get_ipython()\n",
    "#https://stackoverflow.com/questions/36572282/ipython-autoreload-magic-function-not-found\n",
    "ipython.magic(\"load_ext autoreload\")\n",
    "ipython.magic(\"autoreload 2\")\n",
    "\n",
    "# 1 Import Libraries and Set Global Parameters\n",
    "########################################################################################################################\n",
    "# 1.1 Import Python Libraries\n",
    "############################################\n",
    "from datetime import datetime\n",
    "import pyarrow as pa\n",
    "import pyarrow.parquet as pq\n",
    "import pandas as pd, os, sys, glob, shutil\n",
    "print(\"Run Section 1 Import Libraries and Set Global Parameters...\")\n",
    "begin_time = datetime.now()\n",
    "import os, sys, pandas as pd, geopandas as gpd\n",
    "\n",
    "if not sys.warnoptions:\n",
    "    import warnings\n",
    "    warnings.simplefilter(\"ignore\")  # Stop Pandas warnings"
   ]
  },
  {
   "cell_type": "code",
   "execution_count": 2,
   "metadata": {
    "ExecuteTime": {
     "end_time": "2020-09-30T22:00:35.084279Z",
     "start_time": "2020-09-30T22:00:35.014153Z"
    }
   },
   "outputs": [],
   "source": [
    "path_working = r\"C:\\Users\\E048374\\OneDrive - WMATA\\rawnav_rachel_fork\\WMATA_AVL\"\n",
    "os.chdir(os.path.join(path_working))\n",
    "sys.path.append(r\"C:\\Users\\E048374\\OneDrive - WMATA\\rawnav_rachel_fork\\WMATA_AVL\")\n",
    "path_source_data = r\"\\\\l-600730\\RawNavArchive\"\n",
    "path_sp = r\"C:\\Users\\E048374\\Documents\\RawNav\"\n",
    "path_processed_data = os.path.join(path_working, \"data\", \"02-processed\")"
   ]
  },
  {
   "cell_type": "code",
   "execution_count": 3,
   "metadata": {
    "ExecuteTime": {
     "end_time": "2020-09-30T22:00:39.075447Z",
     "start_time": "2020-09-30T22:00:37.696561Z"
    }
   },
   "outputs": [],
   "source": [
    "import wmatarawnav as wr"
   ]
  },
  {
   "cell_type": "code",
   "execution_count": 4,
   "metadata": {
    "ExecuteTime": {
     "end_time": "2020-09-30T22:00:39.253206Z",
     "start_time": "2020-09-30T22:00:39.075447Z"
    }
   },
   "outputs": [
    {
     "data": {
      "text/html": [
       "<div>\n",
       "<style scoped>\n",
       "    .dataframe tbody tr th:only-of-type {\n",
       "        vertical-align: middle;\n",
       "    }\n",
       "\n",
       "    .dataframe tbody tr th {\n",
       "        vertical-align: top;\n",
       "    }\n",
       "\n",
       "    .dataframe thead th {\n",
       "        text-align: right;\n",
       "    }\n",
       "</style>\n",
       "<table border=\"1\" class=\"dataframe\">\n",
       "  <thead>\n",
       "    <tr style=\"text-align: right;\">\n",
       "      <th></th>\n",
       "      <th>FILENAME</th>\n",
       "    </tr>\n",
       "  </thead>\n",
       "  <tbody>\n",
       "    <tr>\n",
       "      <th>0</th>\n",
       "      <td>rawnav03212191101.txt</td>\n",
       "    </tr>\n",
       "    <tr>\n",
       "      <th>1</th>\n",
       "      <td>rawnav06498191101.txt</td>\n",
       "    </tr>\n",
       "    <tr>\n",
       "      <th>2</th>\n",
       "      <td>rawnav06500191101.txt</td>\n",
       "    </tr>\n",
       "  </tbody>\n",
       "</table>\n",
       "</div>"
      ],
      "text/plain": [
       "                FILENAME\n",
       "0  rawnav03212191101.txt\n",
       "1  rawnav06498191101.txt\n",
       "2  rawnav06500191101.txt"
      ]
     },
     "execution_count": 4,
     "metadata": {},
     "output_type": "execute_result"
    }
   ],
   "source": [
    "rawnav_file_subset = pd.read_csv(os.path.join(path_processed_data, \"rawnav_file_subset.csv\"))\n",
    "rawnav_file_subset.head(3)"
   ]
  },
  {
   "cell_type": "code",
   "execution_count": 9,
   "metadata": {
    "ExecuteTime": {
     "end_time": "2020-09-30T22:01:09.823838Z",
     "start_time": "2020-09-30T22:01:04.782177Z"
    }
   },
   "outputs": [
    {
     "name": "stdout",
     "output_type": "stream",
     "text": [
      "Run Time Section 1 Import Libraries and Set Global Parameters : 0:00:22\n"
     ]
    }
   ],
   "source": [
    "restrict_n = None\n",
    "\n",
    "# List of Routes \n",
    "q_jump_route_list = ['52'] #update\n",
    "# If desired, a subset of routes above or the entire list. Code will iterate on the analysis_routes list\n",
    "analysis_routes = q_jump_route_list\n",
    "\n",
    "run_inventory = True # inventory (or re-inventory files), otherwise reload saved inventory if available\n",
    "run_existing = True # whether to redo outputs that currently exist or skip over them\n",
    "\n",
    "# 1.3 Import User-Defined Package\n",
    "############################################\n",
    "import wmatarawnav as wr\n",
    "\n",
    "execution_time = str(datetime.now() - begin_time).split('.')[0]\n",
    "print(\"Run Time Section 1 Import Libraries and Set Global Parameters : {}\".format(execution_time))\n",
    "\n",
    "# 2 Identify Relevant Files for Analysis Routes\n",
    "########################################################################################################################\n",
    "begin_time = datetime.now()  ##\n",
    "\n",
    "# Create a list of zipped rawnavfiles (ala 'rawnav06544171027.txt.zip') as \n",
    "# file_universe. \n",
    "\n",
    "\n",
    "zipped_files_dir_parent = os.path.join(path_source_data, \"112019\")\n",
    "file_universe = glob.glob(os.path.join(zipped_files_dir_parent, \"*.txt.zip\"))"
   ]
  },
  {
   "cell_type": "code",
   "execution_count": 10,
   "metadata": {
    "ExecuteTime": {
     "end_time": "2020-09-30T22:01:09.911883Z",
     "start_time": "2020-09-30T22:01:09.824836Z"
    }
   },
   "outputs": [],
   "source": [
    "file_subset_list = rawnav_file_subset['FILENAME'].tolist()"
   ]
  },
  {
   "cell_type": "code",
   "execution_count": 11,
   "metadata": {
    "ExecuteTime": {
     "end_time": "2020-09-30T22:01:12.379090Z",
     "start_time": "2020-09-30T22:01:09.913915Z"
    }
   },
   "outputs": [],
   "source": [
    "def Filter(string, substr): \n",
    "    return [str for str in string if\n",
    "             any(sub in str for sub in substr)] \n",
    "\n",
    "file_universe_subset = Filter(file_universe, file_subset_list)"
   ]
  },
  {
   "cell_type": "code",
   "execution_count": 12,
   "metadata": {
    "ExecuteTime": {
     "end_time": "2020-09-30T22:01:12.484118Z",
     "start_time": "2020-09-30T22:01:12.380053Z"
    }
   },
   "outputs": [
    {
     "data": {
      "text/plain": [
       "596"
      ]
     },
     "execution_count": 12,
     "metadata": {},
     "output_type": "execute_result"
    }
   ],
   "source": [
    "len(file_universe_subset)"
   ]
  },
  {
   "cell_type": "code",
   "execution_count": 13,
   "metadata": {
    "ExecuteTime": {
     "end_time": "2020-09-30T22:01:12.605118Z",
     "start_time": "2020-09-30T22:01:12.487115Z"
    }
   },
   "outputs": [
    {
     "data": {
      "text/plain": [
       "['\\\\\\\\l-600730\\\\RawNavArchive\\\\112019\\\\rawnav02835191120.txt.zip',\n",
       " '\\\\\\\\l-600730\\\\RawNavArchive\\\\112019\\\\rawnav02837191121.txt.zip',\n",
       " '\\\\\\\\l-600730\\\\RawNavArchive\\\\112019\\\\rawnav02859191105.txt.zip']"
      ]
     },
     "execution_count": 13,
     "metadata": {},
     "output_type": "execute_result"
    }
   ],
   "source": [
    "file_universe_subset[:3]"
   ]
  },
  {
   "cell_type": "markdown",
   "metadata": {},
   "source": [
    "## Need to add try/except to catch bad data"
   ]
  },
  {
   "cell_type": "code",
   "execution_count": 14,
   "metadata": {
    "ExecuteTime": {
     "end_time": "2020-09-30T22:04:04.259944Z",
     "start_time": "2020-09-30T22:01:14.571506Z"
    }
   },
   "outputs": [
    {
     "name": "stdout",
     "output_type": "stream",
     "text": [
      "Run Time Getting rawnav inventory : 0:02:43\n",
      "Run Time Section 2 Identify Relevant Files for Analysis Routes : 0:02:49\n"
     ]
    }
   ],
   "source": [
    "begin_time = datetime.now()  ##\n",
    "rawnav_inventory = wr.find_rawnav_routes(file_universe_subset, nmax=restrict_n, quiet=True)\n",
    "execution_time = str(datetime.now() - begin_time).split('.')[0]\n",
    "print(\"Run Time Getting rawnav inventory : {}\".format(execution_time))\n",
    "path_rawnav_inventory = os.path.join(path_processed_data,\"rawnav_inventory.parquet\")\n",
    "shutil.rmtree(path_rawnav_inventory, ignore_errors=True) \n",
    "os.mkdir(path_rawnav_inventory)\n",
    "\n",
    "# Note: partitioning required, using filename avoids resorting of values, filename column\n",
    "# will be sorted to end on reload however.\n",
    "rawnav_inventory.to_parquet(\n",
    "    path = path_rawnav_inventory,\n",
    "    partition_cols = ['filename'],\n",
    "    index = False\n",
    ")\n",
    "\n",
    "rawnav_inventory_filtered = (\n",
    "    rawnav_inventory[\n",
    "        rawnav_inventory\n",
    "        .groupby('filename',sort = False)['route']\n",
    "        .transform(lambda x: x.isin(analysis_routes).any())\n",
    "    ]\n",
    ")\n",
    "   \n",
    "rawnav_inventory_filtered = (\n",
    "    rawnav_inventory_filtered\n",
    "    .assign(line_num = lambda x: x.line_num.astype('int'))\n",
    ")\n",
    "    \n",
    "if len(rawnav_inventory_filtered) == 0:\n",
    "    raise Exception(\"No Analysis Routes found in file_universe\")\n",
    "\n",
    "execution_time = str(datetime.now() - begin_time).split('.')[0]\n",
    "print(\"Run Time Section 2 Identify Relevant Files for Analysis Routes : {}\".format(execution_time))"
   ]
  },
  {
   "cell_type": "code",
   "execution_count": 15,
   "metadata": {
    "ExecuteTime": {
     "end_time": "2020-09-30T22:05:00.841720Z",
     "start_time": "2020-09-30T22:04:09.507843Z"
    }
   },
   "outputs": [
    {
     "name": "stdout",
     "output_type": "stream",
     "text": [
      "Run Time Section 3 Load Raw RawNav Data : 0:00:51\n"
     ]
    }
   ],
   "source": [
    "# 3 Load Raw RawNav data\n",
    "########################################################################################################################\n",
    "begin_time = datetime.now()\n",
    "# data is loaded into a dictionary named by the ID\n",
    "route_rawnav_tag_dict = {}\n",
    "\n",
    "# Iterate over each file, skipping to the first row where data in our filtered inventory is found\n",
    "# Rather than read run-by-run, we read the rest of the file, then filter to relevant routes later\n",
    "rawnav_inv_filt_first = rawnav_inventory_filtered.groupby(['fullpath', 'filename']).line_num.min().reset_index()\n",
    "rawnav_inventory_filtered_valid = rawnav_inventory_filtered\n",
    "\n",
    "for index, row in rawnav_inv_filt_first.iterrows():\n",
    "    tag_info_line_no = rawnav_inventory_filtered[rawnav_inventory_filtered['filename'] == row['filename']]\n",
    "    reference = min(tag_info_line_no.line_num)\n",
    "    # -1 refers to the fact that the tag line identifying the start of a run will be removed, such\n",
    "    # that the second row associated with a run will become the first row of data. This helps to \n",
    "    # ensure that indices of the processed data will line up with values in the rawnav inventory\n",
    "    tag_info_line_no.loc[:, \"new_line_no\"] = tag_info_line_no.line_num - reference - 1\n",
    "    temp = wr.load_rawnav_data(\n",
    "        zip_folder_path=row['fullpath'],\n",
    "        skiprows=row['line_num'])\n",
    "\n",
    "    if type(temp) != type(None):\n",
    "        route_rawnav_tag_dict[row['filename']] = dict(RawData=temp, tagLineInfo=tag_info_line_no)\n",
    "    else:\n",
    "        remove_file = row['filename']  \n",
    "        rawnav_inventory_filtered_valid  = rawnav_inventory_filtered_valid.query('filename!= @remove_file')\n",
    "\n",
    "execution_time = str(datetime.now() - begin_time).split('.')[0]\n",
    "print(\"Run Time Section 3 Load Raw RawNav Data : {}\".format(execution_time))"
   ]
  },
  {
   "cell_type": "code",
   "execution_count": 16,
   "metadata": {
    "ExecuteTime": {
     "end_time": "2020-09-30T22:11:36.763880Z",
     "start_time": "2020-09-30T22:05:00.843721Z"
    }
   },
   "outputs": [
    {
     "name": "stdout",
     "output_type": "stream",
     "text": [
      "Run Time Section 4 Clean RawNav Data : 0:06:35\n"
     ]
    }
   ],
   "source": [
    "# 4 Clean RawNav data\n",
    "########################################################################################################################\n",
    "begin_time = datetime.now()  ##\n",
    "\n",
    "rawnav_data_dict = {}\n",
    "summary_data_dict = {}\n",
    "\n",
    "for key, datadict in route_rawnav_tag_dict.items():\n",
    "    temp_dat = wr.clean_rawnav_data(\n",
    "        data_dict=datadict,\n",
    "        filename=key)\n",
    "\n",
    "    rawnav_data_dict[key] = temp_dat['rawnavdata']\n",
    "    summary_data_dict[key] = temp_dat['summary_data']     \n",
    "\n",
    "route_rawnav_tag_dict = None\n",
    "\n",
    "execution_time = str(datetime.now() - begin_time).split('.')[0]\n",
    "print(\"Run Time Section 4 Clean RawNav Data : {}\".format(execution_time))"
   ]
  },
  {
   "cell_type": "code",
   "execution_count": 17,
   "metadata": {
    "ExecuteTime": {
     "end_time": "2020-09-30T22:11:37.296881Z",
     "start_time": "2020-09-30T22:11:36.766881Z"
    }
   },
   "outputs": [],
   "source": [
    "# 5 Output\n",
    "########################################################################################################################\n",
    "begin_time = datetime.now()  \n",
    "# 5.1 Output Summary Rawnav data\n",
    "############################################\n",
    "\n",
    "# Combine summary files, filter to analysis routes, convert col types once NAs removed\n",
    "summary_rawnav = pd.concat(summary_data_dict.values())\n",
    "\n",
    "summary_rawnav = summary_rawnav[summary_rawnav['route'].isin(analysis_routes)]\n",
    "summary_rawnav = summary_rawnav.assign(\n",
    "    route=lambda x: x.route.astype('str'),\n",
    "    pattern=lambda x: x.pattern.astype('int32'))\n",
    "\n",
    "# Remove duplicate runs\n",
    "summary_rawnav = summary_rawnav[\n",
    "    ~summary_rawnav.duplicated(['filename', 'index_run_start'], keep='last')]  \n",
    "\n",
    "# Output Summary Files\n",
    "path_summary_rawnav = os.path.join(path_processed_data,\"rawnav_summary.parquet\")\n",
    "\n",
    "if not os.path.isdir(path_summary_rawnav):\n",
    "    os.mkdir(path_summary_rawnav)\n",
    "      \n",
    "for analysis_route in analysis_routes:\n",
    "    \n",
    "    path_summary_route = os.path.join(path_summary_rawnav,\"route={}\".format(analysis_route))\n",
    "    \n",
    "    if (os.path.isdir(path_summary_route) and run_existing) or (not os.path.isdir(path_summary_route)): \n",
    "        shutil.rmtree(os.path.join(path_summary_route), ignore_errors=True) \n",
    "           \n",
    "        summary_rawnav_fil = summary_rawnav.query('route == @analysis_route')\n",
    "        \n",
    "        table_summary = pa.Table.from_pandas(summary_rawnav_fil,\n",
    "                                             schema = wr.rawnav_summary_schema())\n",
    "        \n",
    "        pq.write_to_dataset(table_summary, \n",
    "                            root_path=os.path.join(path_summary_rawnav),\n",
    "                            partition_cols=['route','wday'])\n",
    "    else:\n",
    "        print('skipping summary output of {}'.format(analysis_route))"
   ]
  },
  {
   "cell_type": "code",
   "execution_count": 18,
   "metadata": {
    "ExecuteTime": {
     "end_time": "2020-09-30T22:11:54.562753Z",
     "start_time": "2020-09-30T22:11:37.299881Z"
    }
   },
   "outputs": [
    {
     "name": "stdout",
     "output_type": "stream",
     "text": [
      "Run Time Section 5 Output : 0:00:17\n",
      "End Time : 2020-09-30 18:11:54.558753\n"
     ]
    }
   ],
   "source": [
    "# 5.2 Output Processed Rawnav data\n",
    "############################################\n",
    "# Export Data\n",
    "path_rawnav_data = os.path.join(path_processed_data, \"rawnav_data.parquet\")\n",
    "\n",
    "if not os.path.isdir(path_rawnav_data):\n",
    "    os.mkdir(path_rawnav_data)\n",
    "\n",
    "for analysis_route in analysis_routes:\n",
    "    \n",
    "    path_rawnav_route = os.path.join(path_rawnav_data,\"route={}\".format(analysis_route))\n",
    "    \n",
    "    if (os.path.isdir(path_rawnav_route) and run_existing) or (not os.path.isdir(path_rawnav_route)): \n",
    "        shutil.rmtree(os.path.join(path_rawnav_route), ignore_errors=True) \n",
    "    \n",
    "        # Merge Cleaned Rawnav Files Containing The Analysis Route\n",
    "        out_rawnav_dat = wr.subset_rawnav_run(\n",
    "            rawnav_data_dict_=rawnav_data_dict,\n",
    "            rawnav_inventory_filtered_valid_=rawnav_inventory_filtered_valid,\n",
    "            analysis_routes_=analysis_route)\n",
    "        \n",
    "        if out_rawnav_dat.shape == (0, 0):\n",
    "            continue\n",
    "        \n",
    "        # Join Additional Identifying Information\n",
    "        temp = summary_rawnav.query('route == @analysis_route')\\\n",
    "            [['filename', 'index_run_start', 'wday', 'start_date_time']]\n",
    "                \n",
    "        out_rawnav_dat = out_rawnav_dat.merge(temp, \n",
    "                                              on=['filename', 'index_run_start'], \n",
    "                                              how='left')\n",
    "    \n",
    "        assert (out_rawnav_dat.groupby(['filename', 'index_run_start', 'index_loc'])['index_loc'].\n",
    "                count().values.max() == 1)\n",
    "        \n",
    "        # Column conversion after missing values removed\n",
    "        out_rawnav_dat = out_rawnav_dat.assign(\n",
    "            route=lambda x: x.route.astype('str'),\n",
    "            #should be okay as int32 if everything goes to plan, but for safety will keep as double\n",
    "            # and convert pattern later\n",
    "            pattern=lambda x: x.pattern.astype('double')) \n",
    "    \n",
    "        # Output    \n",
    "        shutil.rmtree(os.path.join(path_rawnav_data,\"route={}\".format(analysis_route)), ignore_errors=True) \n",
    "                \n",
    "        table = pa.Table.from_pandas(out_rawnav_dat,\n",
    "                                     schema = wr.rawnav_data_schema())\n",
    "        \n",
    "        pq.write_to_dataset(table, \n",
    "                            root_path=os.path.join(path_rawnav_data),\n",
    "                            partition_cols=['route','wday'])\n",
    "    else:\n",
    "        print('skipping output of {}'.format(analysis_route))\n",
    "\n",
    "execution_time = str(datetime.now() - begin_time).split('.')[0]\n",
    "print(\"Run Time Section 5 Output : {}\".format(execution_time))\n",
    "end_time = datetime.now()\n",
    "print(\"End Time : {}\".format(end_time))"
   ]
  },
  {
   "cell_type": "code",
   "execution_count": null,
   "metadata": {},
   "outputs": [],
   "source": []
  }
 ],
 "metadata": {
  "kernelspec": {
   "display_name": "Python (rawnav)",
   "language": "python",
   "name": "rawnav"
  },
  "language_info": {
   "codemirror_mode": {
    "name": "ipython",
    "version": 3
   },
   "file_extension": ".py",
   "mimetype": "text/x-python",
   "name": "python",
   "nbconvert_exporter": "python",
   "pygments_lexer": "ipython3",
   "version": "3.8.5"
  },
  "toc": {
   "base_numbering": 1,
   "nav_menu": {},
   "number_sections": true,
   "sideBar": true,
   "skip_h1_title": false,
   "title_cell": "Table of Contents",
   "title_sidebar": "Contents",
   "toc_cell": false,
   "toc_position": {},
   "toc_section_display": true,
   "toc_window_display": false
  }
 },
 "nbformat": 4,
 "nbformat_minor": 4
}
