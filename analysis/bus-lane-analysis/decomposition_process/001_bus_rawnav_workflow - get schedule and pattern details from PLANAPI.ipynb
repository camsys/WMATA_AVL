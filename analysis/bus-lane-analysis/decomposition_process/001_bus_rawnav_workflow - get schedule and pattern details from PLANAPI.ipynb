{
 "cells": [
  {
   "cell_type": "markdown",
   "metadata": {},
   "source": [
    "# Step 1 - Connect to the `PLANAPI` DB and find the rawnav file names"
   ]
  },
  {
   "cell_type": "code",
   "execution_count": 1,
   "metadata": {
    "ExecuteTime": {
     "end_time": "2020-09-30T21:58:53.148726Z",
     "start_time": "2020-09-30T21:58:52.307364Z"
    }
   },
   "outputs": [],
   "source": [
    "import cx_Oracle\n",
    "import os, sys, os.path\n",
    "import pandas as pd\n",
    "from dotenv import load_dotenv\n",
    "path_working = r\"C:\\Users\\E048374\\OneDrive - WMATA\\rawnav_rachel_fork\\WMATA_AVL\"\n",
    "path_processed_data = os.path.join(path_working, \"data\", \"02-processed\")\n",
    "load_dotenv(os.path.join(path_working, '.env'))\n",
    "os.environ['PATH'] = 'C:\\\\Users\\\\E048374\\\\Anaconda3\\\\envs\\\\ox;C:\\\\Users\\\\E048374\\\\Anaconda3\\\\envs\\\\ox\\\\Library\\\\mingw-w64\\\\bin;C:\\\\Users\\\\E048374\\\\Anaconda3\\\\envs\\\\ox\\\\Library\\\\usr\\\\bin;C:\\\\Users\\\\E048374\\\\Anaconda3\\\\envs\\\\ox\\\\Library\\\\bin;C:\\\\Users\\\\E048374\\\\Anaconda3\\\\envs\\\\ox\\\\Scripts;C:\\\\Users\\\\E048374\\\\Anaconda3\\\\envs\\\\ox\\\\bin;C:\\\\;C:\\\\Users\\\\E048374\\\\AppData\\\\Local\\\\Programs\\\\Git\\\\Users\\\\E048374\\\\Anaconda3;C:\\\\;C:\\\\Users\\\\E048374\\\\AppData\\\\Local\\\\Programs\\\\Git\\\\Users\\\\E048374\\\\Anaconda3\\\\Library\\\\mingw-w64\\\\bin;C:\\\\;C:\\\\Users\\\\E048374\\\\AppData\\\\Local\\\\Programs\\\\Git\\\\Users\\\\E048374\\\\Anaconda3\\\\Library\\\\usr\\\\bin;C:\\\\;C:\\\\Users\\\\E048374\\\\AppData\\\\Local\\\\Programs\\\\Git\\\\Users\\\\E048374\\\\Anaconda3\\\\Library\\\\bin;C:\\\\;C:\\\\Users\\\\E048374\\\\AppData\\\\Local\\\\Programs\\\\Git\\\\Users\\\\E048374\\\\Anaconda3\\\\Scripts;C:\\\\;C:\\\\Users\\\\E048374\\\\AppData\\\\Local\\\\Programs\\\\Git\\\\Users\\\\E048374\\\\Anaconda3\\\\bin;C:\\\\;C:\\\\Users\\\\E048374\\\\AppData\\\\Local\\\\Programs\\\\Git\\\\Users\\\\E048374\\\\Anaconda3\\\\Scripts\\\\condabin;C:\\\\Users\\\\E048374\\\\bin;C:\\\\Users\\\\E048374\\\\AppData\\\\Local\\\\Programs\\\\Git\\\\mingw64\\\\bin;C:\\\\Users\\\\E048374\\\\AppData\\\\Local\\\\Programs\\\\Git\\\\usr\\\\local\\\\bin;C:\\\\Users\\\\E048374\\\\AppData\\\\Local\\\\Programs\\\\Git\\\\usr\\\\bin;C:\\\\Users\\\\E048374\\\\AppData\\\\Local\\\\Programs\\\\Git\\\\usr\\\\bin;C:\\\\Users\\\\E048374\\\\AppData\\\\Local\\\\Programs\\\\Git\\\\mingw64\\\\bin;C:\\\\Users\\\\E048374\\\\AppData\\\\Local\\\\Programs\\\\Git\\\\usr\\\\bin;C:\\\\Users\\\\E048374\\\\bin;C:\\\\Program Files (x86)\\\\Common Files\\\\Oracle\\\\Java\\\\javapath;C:\\\\oracle\\\\instantclient_19_6;C:\\\\WINDOWS\\\\system32;C:\\\\WINDOWS;C:\\\\WINDOWS\\\\System32\\\\Wbem;C:\\\\WINDOWS\\\\System32\\\\WindowsPowerShell\\\\v1.0;C:\\\\WINDOWS\\\\System32\\\\OpenSSH;C:\\\\Program Files\\\\Docker\\\\Docker\\\\resources\\\\bin;C:\\\\ProgramData\\\\DockerDesktop\\\\version-bin;C:\\\\Users\\\\E048374\\\\Anaconda3;C:\\\\Users\\\\E048374\\\\Anaconda3\\\\Library\\\\mingw-w64\\\\bin;C:\\\\Users\\\\E048374\\\\Anaconda3\\\\Library\\\\usr\\\\bin;C:\\\\Users\\\\E048374\\\\Anaconda3\\\\Library\\\\bin;C:\\\\Users\\\\E048374\\\\Anaconda3\\\\Scripts;C:\\\\Users\\\\E048374\\\\AppData\\\\Local\\\\Microsoft\\\\WindowsApps;C:\\\\Users\\\\E048374\\\\AppData\\\\Local\\\\Programs\\\\Microsoft VS Code\\\\bin;C:\\\\Users\\\\E048374\\\\AppData\\\\Local\\\\Programs\\\\Git\\\\cmd;C:\\\\Users\\\\E048374\\\\AppData\\\\Local\\\\Programs\\\\Git\\\\usr\\\\bin\\\\vendor_perl;C:\\\\Users\\\\E048374\\\\AppData\\\\Local\\\\Programs\\\\Git\\\\usr\\\\bin\\\\core_perl'"
   ]
  },
  {
   "cell_type": "code",
   "execution_count": 2,
   "metadata": {
    "ExecuteTime": {
     "end_time": "2020-09-30T21:58:53.501351Z",
     "start_time": "2020-09-30T21:58:53.498351Z"
    }
   },
   "outputs": [],
   "source": [
    "dsn_tns = cx_Oracle.makedsn('ctx4-scan', \n",
    "                            '1521', \n",
    "                            service_name=os.getenv(\"PLAN_DB_SERVICENAME\")) "
   ]
  },
  {
   "cell_type": "code",
   "execution_count": 3,
   "metadata": {
    "ExecuteTime": {
     "end_time": "2020-09-30T21:58:59.282548Z",
     "start_time": "2020-09-30T21:58:53.971187Z"
    }
   },
   "outputs": [],
   "source": [
    "conn = cx_Oracle.connect(user=os.getenv(\"PLAN_DB_USER\"), \n",
    "                         password=os.getenv(\"PLAN_DB_PASS\"), \n",
    "                         dsn=dsn_tns)"
   ]
  },
  {
   "cell_type": "code",
   "execution_count": 4,
   "metadata": {
    "ExecuteTime": {
     "end_time": "2020-09-30T21:58:59.286551Z",
     "start_time": "2020-09-30T21:58:59.283545Z"
    }
   },
   "outputs": [],
   "source": [
    "route = '52'\n",
    "start_date = '01-NOV-19' #'DD-MON-YY' format\n",
    "end_date = '30-NOV-19' #'DD-MON-YY' format"
   ]
  },
  {
   "cell_type": "code",
   "execution_count": 5,
   "metadata": {
    "ExecuteTime": {
     "end_time": "2020-09-30T21:58:59.299548Z",
     "start_time": "2020-09-30T21:58:59.288547Z"
    }
   },
   "outputs": [],
   "source": [
    "query = f'''with bus_dates as (\n",
    "select svc_date, bus_id, count(*)\n",
    "from \n",
    "(select * from \n",
    "BUS_STATE_PAX_LOAD_HMBRW_V01 \n",
    "where svc_date between to_date('{start_date}','DD-MON-YY') and to_date('{end_date}','DD-MON-YY')\n",
    "and route_id like '{route}%')\n",
    "group by svc_date, bus_id\n",
    "order by svc_date\n",
    ")\n",
    "select\n",
    "'rawnav'||'0'||bus_id||to_char(svc_date, 'YYMMDD')||'.txt' as filename\n",
    "from\n",
    "bus_dates'''"
   ]
  },
  {
   "cell_type": "code",
   "execution_count": 6,
   "metadata": {
    "ExecuteTime": {
     "end_time": "2020-09-30T21:59:00.799388Z",
     "start_time": "2020-09-30T21:58:59.832381Z"
    }
   },
   "outputs": [],
   "source": [
    "rawnav_file_df = pd.read_sql_query(query, conn)"
   ]
  },
  {
   "cell_type": "code",
   "execution_count": 7,
   "metadata": {
    "ExecuteTime": {
     "end_time": "2020-09-30T21:59:00.817389Z",
     "start_time": "2020-09-30T21:59:00.800388Z"
    }
   },
   "outputs": [
    {
     "data": {
      "text/html": [
       "<div>\n",
       "<style scoped>\n",
       "    .dataframe tbody tr th:only-of-type {\n",
       "        vertical-align: middle;\n",
       "    }\n",
       "\n",
       "    .dataframe tbody tr th {\n",
       "        vertical-align: top;\n",
       "    }\n",
       "\n",
       "    .dataframe thead th {\n",
       "        text-align: right;\n",
       "    }\n",
       "</style>\n",
       "<table border=\"1\" class=\"dataframe\">\n",
       "  <thead>\n",
       "    <tr style=\"text-align: right;\">\n",
       "      <th></th>\n",
       "      <th>FILENAME</th>\n",
       "    </tr>\n",
       "  </thead>\n",
       "  <tbody>\n",
       "    <tr>\n",
       "      <th>0</th>\n",
       "      <td>rawnav03212191101.txt</td>\n",
       "    </tr>\n",
       "    <tr>\n",
       "      <th>1</th>\n",
       "      <td>rawnav06498191101.txt</td>\n",
       "    </tr>\n",
       "    <tr>\n",
       "      <th>2</th>\n",
       "      <td>rawnav06500191101.txt</td>\n",
       "    </tr>\n",
       "  </tbody>\n",
       "</table>\n",
       "</div>"
      ],
      "text/plain": [
       "                FILENAME\n",
       "0  rawnav03212191101.txt\n",
       "1  rawnav06498191101.txt\n",
       "2  rawnav06500191101.txt"
      ]
     },
     "execution_count": 7,
     "metadata": {},
     "output_type": "execute_result"
    }
   ],
   "source": [
    "rawnav_file_df.head(3)"
   ]
  },
  {
   "cell_type": "code",
   "execution_count": 8,
   "metadata": {
    "ExecuteTime": {
     "end_time": "2020-09-30T21:59:06.221397Z",
     "start_time": "2020-09-30T21:59:06.208395Z"
    }
   },
   "outputs": [],
   "source": [
    "rawnav_file_df.to_csv(os.path.join(path_processed_data, \"rawnav_file_subset.csv\"), index=False)"
   ]
  },
  {
   "cell_type": "markdown",
   "metadata": {},
   "source": [
    "# Step 2 - while still connected to the DB - grab the schedule data\n",
    "Update script below to grab the schedule of the timeframe you're interest in. Main concern is stop locations and/or stop sequence changes"
   ]
  },
  {
   "cell_type": "code",
   "execution_count": 9,
   "metadata": {
    "ExecuteTime": {
     "end_time": "2020-09-30T21:59:58.405523Z",
     "start_time": "2020-09-30T21:59:58.401522Z"
    }
   },
   "outputs": [],
   "source": [
    "pattern_id = '5201'\n",
    "query = f'''with current_version_id as (\n",
    "select max(versionid) versionid from BUS_SCHED_STOP_SEQUENCE_V)\n",
    "select \n",
    "seq.route, seq.variation as pattern, seq.pattern_id, seq.directiondescription direction, seq.routename route_text\n",
    ", seq.routevarname pattern_name, seq.geostopid geoid, seq.stopid stop_id, seq.directionid direction_id, route.pattern_destination\n",
    ",seq.geostopdescription as geo_description, seq.latitude stop_lat, seq.longitude stop_lon, seq.stop_sequence, route.pattern_distance trip_length\n",
    "from BUS_SCHED_STOP_SEQUENCE_V seq \n",
    "join current_version_id curr on (curr.versionid = seq.versionid)\n",
    "left join bus_sched_route_v route on (seq.versionid = route.versionid and seq.routevarid = route.ROUTEVARID)\n",
    "where seq.PATTERN_ID = '{pattern_id}' '''"
   ]
  },
  {
   "cell_type": "code",
   "execution_count": 10,
   "metadata": {
    "ExecuteTime": {
     "end_time": "2020-09-30T22:00:09.173790Z",
     "start_time": "2020-09-30T22:00:00.778027Z"
    }
   },
   "outputs": [],
   "source": [
    "bus_sched_df = pd.read_sql_query(query, conn)"
   ]
  },
  {
   "cell_type": "code",
   "execution_count": 11,
   "metadata": {
    "ExecuteTime": {
     "end_time": "2020-09-30T22:00:09.194432Z",
     "start_time": "2020-09-30T22:00:09.173790Z"
    }
   },
   "outputs": [
    {
     "data": {
      "text/html": [
       "<div>\n",
       "<style scoped>\n",
       "    .dataframe tbody tr th:only-of-type {\n",
       "        vertical-align: middle;\n",
       "    }\n",
       "\n",
       "    .dataframe tbody tr th {\n",
       "        vertical-align: top;\n",
       "    }\n",
       "\n",
       "    .dataframe thead th {\n",
       "        text-align: right;\n",
       "    }\n",
       "</style>\n",
       "<table border=\"1\" class=\"dataframe\">\n",
       "  <thead>\n",
       "    <tr style=\"text-align: right;\">\n",
       "      <th></th>\n",
       "      <th>ROUTE</th>\n",
       "      <th>PATTERN</th>\n",
       "      <th>PATTERN_ID</th>\n",
       "      <th>DIRECTION</th>\n",
       "      <th>ROUTE_TEXT</th>\n",
       "      <th>PATTERN_NAME</th>\n",
       "      <th>GEOID</th>\n",
       "      <th>STOP_ID</th>\n",
       "      <th>DIRECTION_ID</th>\n",
       "      <th>PATTERN_DESTINATION</th>\n",
       "      <th>GEO_DESCRIPTION</th>\n",
       "      <th>STOP_LAT</th>\n",
       "      <th>STOP_LON</th>\n",
       "      <th>STOP_SEQUENCE</th>\n",
       "      <th>TRIP_LENGTH</th>\n",
       "    </tr>\n",
       "  </thead>\n",
       "  <tbody>\n",
       "    <tr>\n",
       "      <th>0</th>\n",
       "      <td>52</td>\n",
       "      <td>01</td>\n",
       "      <td>5201</td>\n",
       "      <td>SOUTH</td>\n",
       "      <td>14th Street Line</td>\n",
       "      <td>[52]14TH+COLORADO - L ENFANT PLAZA</td>\n",
       "      <td>27665</td>\n",
       "      <td>23875</td>\n",
       "      <td>13</td>\n",
       "      <td>METROBUS</td>\n",
       "      <td>D ST SW + 7TH ST SW</td>\n",
       "      <td>38.884918</td>\n",
       "      <td>-77.020996</td>\n",
       "      <td>40</td>\n",
       "      <td>35197</td>\n",
       "    </tr>\n",
       "    <tr>\n",
       "      <th>1</th>\n",
       "      <td>52</td>\n",
       "      <td>01</td>\n",
       "      <td>5201</td>\n",
       "      <td>SOUTH</td>\n",
       "      <td>14th Street Line</td>\n",
       "      <td>[52]14TH+COLORADO - L ENFANT PLAZA</td>\n",
       "      <td>21969</td>\n",
       "      <td>25811</td>\n",
       "      <td>13</td>\n",
       "      <td>METROBUS</td>\n",
       "      <td>7TH ST + I ST</td>\n",
       "      <td>38.879684</td>\n",
       "      <td>-77.021767</td>\n",
       "      <td>39</td>\n",
       "      <td>35197</td>\n",
       "    </tr>\n",
       "    <tr>\n",
       "      <th>2</th>\n",
       "      <td>52</td>\n",
       "      <td>01</td>\n",
       "      <td>5201</td>\n",
       "      <td>SOUTH</td>\n",
       "      <td>14th Street Line</td>\n",
       "      <td>[52]14TH+COLORADO - L ENFANT PLAZA</td>\n",
       "      <td>21970</td>\n",
       "      <td>19046</td>\n",
       "      <td>13</td>\n",
       "      <td>METROBUS</td>\n",
       "      <td>MAINE AVE + 9TH STREET</td>\n",
       "      <td>38.879967</td>\n",
       "      <td>-77.024635</td>\n",
       "      <td>38</td>\n",
       "      <td>35197</td>\n",
       "    </tr>\n",
       "    <tr>\n",
       "      <th>3</th>\n",
       "      <td>52</td>\n",
       "      <td>01</td>\n",
       "      <td>5201</td>\n",
       "      <td>SOUTH</td>\n",
       "      <td>14th Street Line</td>\n",
       "      <td>[52]14TH+COLORADO - L ENFANT PLAZA</td>\n",
       "      <td>4773</td>\n",
       "      <td>7197</td>\n",
       "      <td>13</td>\n",
       "      <td>METROBUS</td>\n",
       "      <td>12TH ST + C ST</td>\n",
       "      <td>38.885567</td>\n",
       "      <td>-77.028114</td>\n",
       "      <td>37</td>\n",
       "      <td>35197</td>\n",
       "    </tr>\n",
       "    <tr>\n",
       "      <th>4</th>\n",
       "      <td>52</td>\n",
       "      <td>01</td>\n",
       "      <td>5201</td>\n",
       "      <td>SOUTH</td>\n",
       "      <td>14th Street Line</td>\n",
       "      <td>[52]14TH+COLORADO - L ENFANT PLAZA</td>\n",
       "      <td>4897</td>\n",
       "      <td>40843</td>\n",
       "      <td>13</td>\n",
       "      <td>METROBUS</td>\n",
       "      <td>INDEPENDENCE AVE + 12TH ST</td>\n",
       "      <td>38.887402</td>\n",
       "      <td>-77.028580</td>\n",
       "      <td>36</td>\n",
       "      <td>35197</td>\n",
       "    </tr>\n",
       "  </tbody>\n",
       "</table>\n",
       "</div>"
      ],
      "text/plain": [
       "  ROUTE PATTERN PATTERN_ID DIRECTION        ROUTE_TEXT  \\\n",
       "0    52      01       5201     SOUTH  14th Street Line   \n",
       "1    52      01       5201     SOUTH  14th Street Line   \n",
       "2    52      01       5201     SOUTH  14th Street Line   \n",
       "3    52      01       5201     SOUTH  14th Street Line   \n",
       "4    52      01       5201     SOUTH  14th Street Line   \n",
       "\n",
       "                         PATTERN_NAME  GEOID  STOP_ID  DIRECTION_ID  \\\n",
       "0  [52]14TH+COLORADO - L ENFANT PLAZA  27665    23875            13   \n",
       "1  [52]14TH+COLORADO - L ENFANT PLAZA  21969    25811            13   \n",
       "2  [52]14TH+COLORADO - L ENFANT PLAZA  21970    19046            13   \n",
       "3  [52]14TH+COLORADO - L ENFANT PLAZA   4773     7197            13   \n",
       "4  [52]14TH+COLORADO - L ENFANT PLAZA   4897    40843            13   \n",
       "\n",
       "  PATTERN_DESTINATION             GEO_DESCRIPTION   STOP_LAT   STOP_LON  \\\n",
       "0            METROBUS         D ST SW + 7TH ST SW  38.884918 -77.020996   \n",
       "1            METROBUS               7TH ST + I ST  38.879684 -77.021767   \n",
       "2            METROBUS      MAINE AVE + 9TH STREET  38.879967 -77.024635   \n",
       "3            METROBUS              12TH ST + C ST  38.885567 -77.028114   \n",
       "4            METROBUS  INDEPENDENCE AVE + 12TH ST  38.887402 -77.028580   \n",
       "\n",
       "   STOP_SEQUENCE  TRIP_LENGTH  \n",
       "0             40        35197  \n",
       "1             39        35197  \n",
       "2             38        35197  \n",
       "3             37        35197  \n",
       "4             36        35197  "
      ]
     },
     "execution_count": 11,
     "metadata": {},
     "output_type": "execute_result"
    }
   ],
   "source": [
    "bus_sched_df.head()"
   ]
  },
  {
   "cell_type": "code",
   "execution_count": 12,
   "metadata": {
    "ExecuteTime": {
     "end_time": "2020-09-30T22:00:09.256971Z",
     "start_time": "2020-09-30T22:00:09.194432Z"
    }
   },
   "outputs": [],
   "source": [
    "#close connection\n",
    "conn.close()"
   ]
  },
  {
   "cell_type": "code",
   "execution_count": 13,
   "metadata": {
    "ExecuteTime": {
     "end_time": "2020-09-30T22:00:09.294724Z",
     "start_time": "2020-09-30T22:00:09.256971Z"
    }
   },
   "outputs": [
    {
     "data": {
      "text/html": [
       "<div>\n",
       "<style scoped>\n",
       "    .dataframe tbody tr th:only-of-type {\n",
       "        vertical-align: middle;\n",
       "    }\n",
       "\n",
       "    .dataframe tbody tr th {\n",
       "        vertical-align: top;\n",
       "    }\n",
       "\n",
       "    .dataframe thead th {\n",
       "        text-align: right;\n",
       "    }\n",
       "</style>\n",
       "<table border=\"1\" class=\"dataframe\">\n",
       "  <thead>\n",
       "    <tr style=\"text-align: right;\">\n",
       "      <th></th>\n",
       "      <th>ROUTE</th>\n",
       "      <th>PATTERN</th>\n",
       "      <th>PATTERN_ID</th>\n",
       "      <th>DIRECTION</th>\n",
       "      <th>ROUTE_TEXT</th>\n",
       "      <th>PATTERN_NAME</th>\n",
       "      <th>GEOID</th>\n",
       "      <th>STOP_ID</th>\n",
       "      <th>DIRECTION_ID</th>\n",
       "      <th>PATTERN_DESTINATION</th>\n",
       "      <th>GEO_DESCRIPTION</th>\n",
       "      <th>STOP_LAT</th>\n",
       "      <th>STOP_LON</th>\n",
       "      <th>STOP_SEQUENCE</th>\n",
       "      <th>TRIP_LENGTH</th>\n",
       "    </tr>\n",
       "  </thead>\n",
       "  <tbody>\n",
       "    <tr>\n",
       "      <th>27</th>\n",
       "      <td>52</td>\n",
       "      <td>01</td>\n",
       "      <td>5201</td>\n",
       "      <td>SOUTH</td>\n",
       "      <td>14th Street Line</td>\n",
       "      <td>[52]14TH+COLORADO - L ENFANT PLAZA</td>\n",
       "      <td>7864</td>\n",
       "      <td>22172</td>\n",
       "      <td>13</td>\n",
       "      <td>METROBUS</td>\n",
       "      <td>14TH ST + PARKWOOD PL</td>\n",
       "      <td>38.935799</td>\n",
       "      <td>-77.032791</td>\n",
       "      <td>13</td>\n",
       "      <td>35197</td>\n",
       "    </tr>\n",
       "    <tr>\n",
       "      <th>26</th>\n",
       "      <td>52</td>\n",
       "      <td>01</td>\n",
       "      <td>5201</td>\n",
       "      <td>SOUTH</td>\n",
       "      <td>14th Street Line</td>\n",
       "      <td>[52]14TH+COLORADO - L ENFANT PLAZA</td>\n",
       "      <td>7714</td>\n",
       "      <td>6206</td>\n",
       "      <td>13</td>\n",
       "      <td>METROBUS</td>\n",
       "      <td>14TH ST + NEWTON ST</td>\n",
       "      <td>38.932697</td>\n",
       "      <td>-77.032784</td>\n",
       "      <td>14</td>\n",
       "      <td>35197</td>\n",
       "    </tr>\n",
       "    <tr>\n",
       "      <th>25</th>\n",
       "      <td>52</td>\n",
       "      <td>01</td>\n",
       "      <td>5201</td>\n",
       "      <td>SOUTH</td>\n",
       "      <td>14th Street Line</td>\n",
       "      <td>[52]14TH+COLORADO - L ENFANT PLAZA</td>\n",
       "      <td>7593</td>\n",
       "      <td>6207</td>\n",
       "      <td>13</td>\n",
       "      <td>METROBUS</td>\n",
       "      <td>14TH ST + PARK RD</td>\n",
       "      <td>38.930527</td>\n",
       "      <td>-77.032799</td>\n",
       "      <td>15</td>\n",
       "      <td>35197</td>\n",
       "    </tr>\n",
       "    <tr>\n",
       "      <th>24</th>\n",
       "      <td>52</td>\n",
       "      <td>01</td>\n",
       "      <td>5201</td>\n",
       "      <td>SOUTH</td>\n",
       "      <td>14th Street Line</td>\n",
       "      <td>[52]14TH+COLORADO - L ENFANT PLAZA</td>\n",
       "      <td>16203</td>\n",
       "      <td>21627</td>\n",
       "      <td>13</td>\n",
       "      <td>METROBUS</td>\n",
       "      <td>14TH ST + IRVING ST</td>\n",
       "      <td>38.928444</td>\n",
       "      <td>-77.032646</td>\n",
       "      <td>16</td>\n",
       "      <td>35197</td>\n",
       "    </tr>\n",
       "    <tr>\n",
       "      <th>23</th>\n",
       "      <td>52</td>\n",
       "      <td>01</td>\n",
       "      <td>5201</td>\n",
       "      <td>SOUTH</td>\n",
       "      <td>14th Street Line</td>\n",
       "      <td>[52]14TH+COLORADO - L ENFANT PLAZA</td>\n",
       "      <td>16662</td>\n",
       "      <td>19066</td>\n",
       "      <td>13</td>\n",
       "      <td>METROBUS</td>\n",
       "      <td>14TH ST + HARVARD ST</td>\n",
       "      <td>38.926239</td>\n",
       "      <td>-77.032471</td>\n",
       "      <td>17</td>\n",
       "      <td>35197</td>\n",
       "    </tr>\n",
       "    <tr>\n",
       "      <th>22</th>\n",
       "      <td>52</td>\n",
       "      <td>01</td>\n",
       "      <td>5201</td>\n",
       "      <td>SOUTH</td>\n",
       "      <td>14th Street Line</td>\n",
       "      <td>[52]14TH+COLORADO - L ENFANT PLAZA</td>\n",
       "      <td>7243</td>\n",
       "      <td>19143</td>\n",
       "      <td>13</td>\n",
       "      <td>METROBUS</td>\n",
       "      <td>14TH ST + FAIRMONT ST</td>\n",
       "      <td>38.924294</td>\n",
       "      <td>-77.032326</td>\n",
       "      <td>18</td>\n",
       "      <td>35197</td>\n",
       "    </tr>\n",
       "    <tr>\n",
       "      <th>21</th>\n",
       "      <td>52</td>\n",
       "      <td>01</td>\n",
       "      <td>5201</td>\n",
       "      <td>SOUTH</td>\n",
       "      <td>14th Street Line</td>\n",
       "      <td>[52]14TH+COLORADO - L ENFANT PLAZA</td>\n",
       "      <td>7113</td>\n",
       "      <td>21180</td>\n",
       "      <td>13</td>\n",
       "      <td>METROBUS</td>\n",
       "      <td>14TH ST NW + CHAPIN ST NW</td>\n",
       "      <td>38.921200</td>\n",
       "      <td>-77.032013</td>\n",
       "      <td>19</td>\n",
       "      <td>35197</td>\n",
       "    </tr>\n",
       "    <tr>\n",
       "      <th>20</th>\n",
       "      <td>52</td>\n",
       "      <td>01</td>\n",
       "      <td>5201</td>\n",
       "      <td>SOUTH</td>\n",
       "      <td>14th Street Line</td>\n",
       "      <td>[52]14TH+COLORADO - L ENFANT PLAZA</td>\n",
       "      <td>7021</td>\n",
       "      <td>17555</td>\n",
       "      <td>13</td>\n",
       "      <td>METROBUS</td>\n",
       "      <td>14TH ST + FLORIDA AVE</td>\n",
       "      <td>38.919769</td>\n",
       "      <td>-77.032066</td>\n",
       "      <td>20</td>\n",
       "      <td>35197</td>\n",
       "    </tr>\n",
       "  </tbody>\n",
       "</table>\n",
       "</div>"
      ],
      "text/plain": [
       "   ROUTE PATTERN PATTERN_ID DIRECTION        ROUTE_TEXT  \\\n",
       "27    52      01       5201     SOUTH  14th Street Line   \n",
       "26    52      01       5201     SOUTH  14th Street Line   \n",
       "25    52      01       5201     SOUTH  14th Street Line   \n",
       "24    52      01       5201     SOUTH  14th Street Line   \n",
       "23    52      01       5201     SOUTH  14th Street Line   \n",
       "22    52      01       5201     SOUTH  14th Street Line   \n",
       "21    52      01       5201     SOUTH  14th Street Line   \n",
       "20    52      01       5201     SOUTH  14th Street Line   \n",
       "\n",
       "                          PATTERN_NAME  GEOID  STOP_ID  DIRECTION_ID  \\\n",
       "27  [52]14TH+COLORADO - L ENFANT PLAZA   7864    22172            13   \n",
       "26  [52]14TH+COLORADO - L ENFANT PLAZA   7714     6206            13   \n",
       "25  [52]14TH+COLORADO - L ENFANT PLAZA   7593     6207            13   \n",
       "24  [52]14TH+COLORADO - L ENFANT PLAZA  16203    21627            13   \n",
       "23  [52]14TH+COLORADO - L ENFANT PLAZA  16662    19066            13   \n",
       "22  [52]14TH+COLORADO - L ENFANT PLAZA   7243    19143            13   \n",
       "21  [52]14TH+COLORADO - L ENFANT PLAZA   7113    21180            13   \n",
       "20  [52]14TH+COLORADO - L ENFANT PLAZA   7021    17555            13   \n",
       "\n",
       "   PATTERN_DESTINATION            GEO_DESCRIPTION   STOP_LAT   STOP_LON  \\\n",
       "27            METROBUS      14TH ST + PARKWOOD PL  38.935799 -77.032791   \n",
       "26            METROBUS        14TH ST + NEWTON ST  38.932697 -77.032784   \n",
       "25            METROBUS          14TH ST + PARK RD  38.930527 -77.032799   \n",
       "24            METROBUS        14TH ST + IRVING ST  38.928444 -77.032646   \n",
       "23            METROBUS       14TH ST + HARVARD ST  38.926239 -77.032471   \n",
       "22            METROBUS      14TH ST + FAIRMONT ST  38.924294 -77.032326   \n",
       "21            METROBUS  14TH ST NW + CHAPIN ST NW  38.921200 -77.032013   \n",
       "20            METROBUS      14TH ST + FLORIDA AVE  38.919769 -77.032066   \n",
       "\n",
       "    STOP_SEQUENCE  TRIP_LENGTH  \n",
       "27             13        35197  \n",
       "26             14        35197  \n",
       "25             15        35197  \n",
       "24             16        35197  \n",
       "23             17        35197  \n",
       "22             18        35197  \n",
       "21             19        35197  \n",
       "20             20        35197  "
      ]
     },
     "execution_count": 13,
     "metadata": {},
     "output_type": "execute_result"
    }
   ],
   "source": [
    "bus_sched_df.sort_values('STOP_SEQUENCE').iloc[12:20]"
   ]
  },
  {
   "cell_type": "code",
   "execution_count": 14,
   "metadata": {
    "ExecuteTime": {
     "end_time": "2020-09-30T22:00:09.310343Z",
     "start_time": "2020-09-30T22:00:09.294724Z"
    }
   },
   "outputs": [],
   "source": [
    "bus_sched_df.columns= bus_sched_df.columns.str.lower()\n",
    "bus_sched_df.to_csv(os.path.join(path_processed_data, f\"bus_sched_{pattern_id}.csv\"), index=False)"
   ]
  },
  {
   "cell_type": "code",
   "execution_count": null,
   "metadata": {},
   "outputs": [],
   "source": []
  }
 ],
 "metadata": {
  "kernelspec": {
   "display_name": "Python (rawnav)",
   "language": "python",
   "name": "rawnav"
  },
  "language_info": {
   "codemirror_mode": {
    "name": "ipython",
    "version": 3
   },
   "file_extension": ".py",
   "mimetype": "text/x-python",
   "name": "python",
   "nbconvert_exporter": "python",
   "pygments_lexer": "ipython3",
   "version": "3.8.5"
  },
  "toc": {
   "base_numbering": 1,
   "nav_menu": {},
   "number_sections": true,
   "sideBar": true,
   "skip_h1_title": false,
   "title_cell": "Table of Contents",
   "title_sidebar": "Contents",
   "toc_cell": false,
   "toc_position": {},
   "toc_section_display": true,
   "toc_window_display": false
  }
 },
 "nbformat": 4,
 "nbformat_minor": 4
}
