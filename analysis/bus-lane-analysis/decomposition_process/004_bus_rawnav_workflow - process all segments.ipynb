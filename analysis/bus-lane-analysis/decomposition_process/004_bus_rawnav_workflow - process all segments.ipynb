{
 "cells": [
  {
   "cell_type": "code",
   "execution_count": 19,
   "metadata": {
    "ExecuteTime": {
     "end_time": "2020-09-30T22:39:33.001377Z",
     "start_time": "2020-09-30T22:39:32.732377Z"
    }
   },
   "outputs": [
    {
     "name": "stdout",
     "output_type": "stream",
     "text": [
      "The autoreload extension is already loaded. To reload it, use:\n",
      "  %reload_ext autoreload\n"
     ]
    }
   ],
   "source": [
    "# 0 Housekeeping. Clear variable space\n",
    "######################################\n",
    "from IPython import get_ipython  \n",
    "\n",
    "ipython = get_ipython()\n",
    "ipython.magic(\"reset -f\")\n",
    "ipython = get_ipython()\n",
    "ipython.magic(\"load_ext autoreload\")\n",
    "ipython.magic(\"autoreload 2\")"
   ]
  },
  {
   "cell_type": "code",
   "execution_count": 20,
   "metadata": {
    "ExecuteTime": {
     "end_time": "2020-09-30T22:39:33.102379Z",
     "start_time": "2020-09-30T22:39:33.003376Z"
    }
   },
   "outputs": [],
   "source": [
    "import folium\n",
    "from folium.plugins import MarkerCluster\n",
    "from folium import CircleMarker\n",
    "from IPython.display import IFrame\n",
    "import numpy as np\n",
    "import matplotlib.pyplot as plt"
   ]
  },
  {
   "cell_type": "code",
   "execution_count": 21,
   "metadata": {
    "ExecuteTime": {
     "end_time": "2020-09-30T22:39:33.202378Z",
     "start_time": "2020-09-30T22:39:33.104379Z"
    }
   },
   "outputs": [
    {
     "name": "stdout",
     "output_type": "stream",
     "text": [
      "Run Section 1 Import Libraries and Set Global Parameters...\n"
     ]
    }
   ],
   "source": [
    "# 1 Import Libraries and Set Global Parameters\n",
    "##############################################\n",
    "# 1.1 Import Python Libraries\n",
    "#############################\n",
    "from datetime import datetime\n",
    "print(\"Run Section 1 Import Libraries and Set Global Parameters...\")\n",
    "begin_time = datetime.now()\n",
    "\n",
    "import os, sys\n",
    "import pandas as pd\n",
    "import geopandas as gpd\n",
    "import pyarrow.parquet as pq"
   ]
  },
  {
   "cell_type": "code",
   "execution_count": 22,
   "metadata": {
    "ExecuteTime": {
     "end_time": "2020-09-30T22:39:33.342377Z",
     "start_time": "2020-09-30T22:39:33.245383Z"
    }
   },
   "outputs": [],
   "source": [
    "# 1.2 Set Global Parameters\n",
    "###########################\n",
    "    \n",
    "if os.getlogin() == \"E048374\":\n",
    "    # Working Paths\n",
    "    path_working = r\"C:\\Users\\E048374\\OneDrive - WMATA\\rawnav_rachel_fork\\WMATA_AVL\"\n",
    "    os.chdir(os.path.join(path_working))\n",
    "    sys.path.append(r\"C:\\Users\\E048374\\OneDrive - WMATA\\rawnav_rachel_fork\\WMATA_AVL\")\n",
    "    path_source_data = r\"\\\\l-600730\\RawNavArchive\"\n",
    "    path_sp = r\"C:\\Users\\E048374\\Documents\\RawNav\"\n",
    "    path_processed_data = os.path.join(path_working, \"data\", \"02-processed\")\n",
    "    path_segments = os.path.join(path_working, \"data\", \"02-processed\")\n",
    "\n",
    "else:\n",
    "    raise FileNotFoundError(\"Define the path_working, path_source_data, gtfs_dir, \\\n",
    "                            ZippedFilesloc, and path_processed_data in a new elif block\")"
   ]
  },
  {
   "cell_type": "code",
   "execution_count": 23,
   "metadata": {
    "ExecuteTime": {
     "end_time": "2020-09-30T22:39:33.495380Z",
     "start_time": "2020-09-30T22:39:33.397383Z"
    }
   },
   "outputs": [],
   "source": [
    "# Globals\n",
    "# Queue Jump Routes\n",
    "q_jump_route_list = ['52']\n",
    "analysis_routes = q_jump_route_list\n",
    "# EPSG code for WMATA-area work\n",
    "wmata_crs = 2248\n",
    "     \n",
    "# 1.3 Import User-Defined Package\n",
    "#################################\n",
    "import wmatarawnav as wr"
   ]
  },
  {
   "cell_type": "code",
   "execution_count": 24,
   "metadata": {
    "ExecuteTime": {
     "end_time": "2020-09-30T22:39:33.669380Z",
     "start_time": "2020-09-30T22:39:33.549382Z"
    }
   },
   "outputs": [
    {
     "data": {
      "text/html": [
       "<div>\n",
       "<style scoped>\n",
       "    .dataframe tbody tr th:only-of-type {\n",
       "        vertical-align: middle;\n",
       "    }\n",
       "\n",
       "    .dataframe tbody tr th {\n",
       "        vertical-align: top;\n",
       "    }\n",
       "\n",
       "    .dataframe thead th {\n",
       "        text-align: right;\n",
       "    }\n",
       "</style>\n",
       "<table border=\"1\" class=\"dataframe\">\n",
       "  <thead>\n",
       "    <tr style=\"text-align: right;\">\n",
       "      <th></th>\n",
       "      <th>seg_name_id</th>\n",
       "      <th>geoid</th>\n",
       "      <th>stop_id</th>\n",
       "      <th>route</th>\n",
       "      <th>pattern</th>\n",
       "    </tr>\n",
       "  </thead>\n",
       "  <tbody>\n",
       "    <tr>\n",
       "      <th>0</th>\n",
       "      <td>14th_12</td>\n",
       "      <td>16203</td>\n",
       "      <td>21627</td>\n",
       "      <td>52</td>\n",
       "      <td>1</td>\n",
       "    </tr>\n",
       "    <tr>\n",
       "      <th>1</th>\n",
       "      <td>14th_14</td>\n",
       "      <td>16662</td>\n",
       "      <td>19066</td>\n",
       "      <td>52</td>\n",
       "      <td>1</td>\n",
       "    </tr>\n",
       "    <tr>\n",
       "      <th>2</th>\n",
       "      <td>14th_17</td>\n",
       "      <td>0</td>\n",
       "      <td>0</td>\n",
       "      <td>52</td>\n",
       "      <td>1</td>\n",
       "    </tr>\n",
       "    <tr>\n",
       "      <th>3</th>\n",
       "      <td>14th_21</td>\n",
       "      <td>0</td>\n",
       "      <td>0</td>\n",
       "      <td>52</td>\n",
       "      <td>1</td>\n",
       "    </tr>\n",
       "    <tr>\n",
       "      <th>4</th>\n",
       "      <td>14th_22</td>\n",
       "      <td>0</td>\n",
       "      <td>0</td>\n",
       "      <td>52</td>\n",
       "      <td>1</td>\n",
       "    </tr>\n",
       "    <tr>\n",
       "      <th>5</th>\n",
       "      <td>14th_24</td>\n",
       "      <td>0</td>\n",
       "      <td>0</td>\n",
       "      <td>52</td>\n",
       "      <td>1</td>\n",
       "    </tr>\n",
       "    <tr>\n",
       "      <th>6</th>\n",
       "      <td>14th_25</td>\n",
       "      <td>7243</td>\n",
       "      <td>19143</td>\n",
       "      <td>52</td>\n",
       "      <td>1</td>\n",
       "    </tr>\n",
       "  </tbody>\n",
       "</table>\n",
       "</div>"
      ],
      "text/plain": [
       "  seg_name_id  geoid  stop_id route  pattern\n",
       "0     14th_12  16203    21627    52        1\n",
       "1     14th_14  16662    19066    52        1\n",
       "2     14th_17      0        0    52        1\n",
       "3     14th_21      0        0    52        1\n",
       "4     14th_22      0        0    52        1\n",
       "5     14th_24      0        0    52        1\n",
       "6     14th_25   7243    19143    52        1"
      ]
     },
     "execution_count": 24,
     "metadata": {},
     "output_type": "execute_result"
    }
   ],
   "source": [
    "seg_pattern = pd.read_csv(os.path.join(path_segments,\"stop_seq_pattern_5201_by_intersection.csv\"),\n",
    "                         dtype={'route':str, 'PATTERN_ID':str, 'pattern':'int32'})\n",
    "seg_pattern"
   ]
  },
  {
   "cell_type": "code",
   "execution_count": 25,
   "metadata": {
    "ExecuteTime": {
     "end_time": "2020-09-30T22:39:33.825382Z",
     "start_time": "2020-09-30T22:39:33.701383Z"
    },
    "scrolled": true
   },
   "outputs": [
    {
     "data": {
      "text/html": [
       "<div>\n",
       "<style scoped>\n",
       "    .dataframe tbody tr th:only-of-type {\n",
       "        vertical-align: middle;\n",
       "    }\n",
       "\n",
       "    .dataframe tbody tr th {\n",
       "        vertical-align: top;\n",
       "    }\n",
       "\n",
       "    .dataframe thead th {\n",
       "        text-align: right;\n",
       "    }\n",
       "</style>\n",
       "<table border=\"1\" class=\"dataframe\">\n",
       "  <thead>\n",
       "    <tr style=\"text-align: right;\">\n",
       "      <th></th>\n",
       "      <th>route</th>\n",
       "      <th>pattern</th>\n",
       "      <th>seg_name_id</th>\n",
       "      <th>stop_id</th>\n",
       "    </tr>\n",
       "  </thead>\n",
       "  <tbody>\n",
       "    <tr>\n",
       "      <th>0</th>\n",
       "      <td>52</td>\n",
       "      <td>1</td>\n",
       "      <td>14th_12</td>\n",
       "      <td>21627</td>\n",
       "    </tr>\n",
       "    <tr>\n",
       "      <th>1</th>\n",
       "      <td>52</td>\n",
       "      <td>1</td>\n",
       "      <td>14th_14</td>\n",
       "      <td>19066</td>\n",
       "    </tr>\n",
       "    <tr>\n",
       "      <th>2</th>\n",
       "      <td>52</td>\n",
       "      <td>1</td>\n",
       "      <td>14th_17</td>\n",
       "      <td>0</td>\n",
       "    </tr>\n",
       "    <tr>\n",
       "      <th>3</th>\n",
       "      <td>52</td>\n",
       "      <td>1</td>\n",
       "      <td>14th_21</td>\n",
       "      <td>0</td>\n",
       "    </tr>\n",
       "    <tr>\n",
       "      <th>4</th>\n",
       "      <td>52</td>\n",
       "      <td>1</td>\n",
       "      <td>14th_22</td>\n",
       "      <td>0</td>\n",
       "    </tr>\n",
       "    <tr>\n",
       "      <th>5</th>\n",
       "      <td>52</td>\n",
       "      <td>1</td>\n",
       "      <td>14th_24</td>\n",
       "      <td>0</td>\n",
       "    </tr>\n",
       "    <tr>\n",
       "      <th>6</th>\n",
       "      <td>52</td>\n",
       "      <td>1</td>\n",
       "      <td>14th_25</td>\n",
       "      <td>19143</td>\n",
       "    </tr>\n",
       "  </tbody>\n",
       "</table>\n",
       "</div>"
      ],
      "text/plain": [
       "  route  pattern seg_name_id  stop_id\n",
       "0    52        1     14th_12    21627\n",
       "1    52        1     14th_14    19066\n",
       "2    52        1     14th_17        0\n",
       "3    52        1     14th_21        0\n",
       "4    52        1     14th_22        0\n",
       "5    52        1     14th_24        0\n",
       "6    52        1     14th_25    19143"
      ]
     },
     "execution_count": 25,
     "metadata": {},
     "output_type": "execute_result"
    }
   ],
   "source": [
    "xwalk_seg_pattern_stop = seg_pattern[['route','pattern','seg_name_id','stop_id']].copy()\n",
    "xwalk_seg_pattern_stop"
   ]
  },
  {
   "cell_type": "code",
   "execution_count": 26,
   "metadata": {
    "ExecuteTime": {
     "end_time": "2020-09-30T22:39:34.050891Z",
     "start_time": "2020-09-30T22:39:33.887301Z"
    }
   },
   "outputs": [],
   "source": [
    "rawnav_dat = (\n",
    "        wr.read_cleaned_rawnav(\n",
    "           analysis_routes_ = analysis_routes,\n",
    "           path = os.path.join(path_processed_data, \"rawnav_summary.parquet\")\n",
    "        )\n",
    "    )"
   ]
  },
  {
   "cell_type": "code",
   "execution_count": 27,
   "metadata": {
    "ExecuteTime": {
     "end_time": "2020-09-30T22:39:34.260876Z",
     "start_time": "2020-09-30T22:39:34.082888Z"
    }
   },
   "outputs": [],
   "source": [
    "segment_summary = (\n",
    "        pq.read_table(\n",
    "            source = os.path.join(path_processed_data,\"segment_summary.parquet\"),\n",
    "            filters = [['seg_name_id', \"=\", '14th_14']],\n",
    "            use_pandas_metadata = True\n",
    "        )\n",
    "        .to_pandas()\n",
    "    )"
   ]
  },
  {
   "cell_type": "code",
   "execution_count": 29,
   "metadata": {
    "ExecuteTime": {
     "end_time": "2020-09-30T22:41:33.296521Z",
     "start_time": "2020-09-30T22:40:45.215227Z"
    }
   },
   "outputs": [
    {
     "name": "stdout",
     "output_type": "stream",
     "text": [
      "working on segment: 14th_12\n",
      "xwalk_seg_pattern_stop_fil['stop_id'].values[0]!=0\n",
      "['t_stop1','t_stop','t_l_initial','t_l_addl'] in decomp\n",
      "working on segment: 14th_14\n",
      "xwalk_seg_pattern_stop_fil['stop_id'].values[0]!=0\n",
      "['t_stop1','t_stop','t_l_initial','t_l_addl'] in decomp\n",
      "working on segment: 14th_17\n",
      "xwalk_seg_pattern_stop_fil['stop_id'].values[0]==0\n",
      "working on segment: 14th_21\n",
      "xwalk_seg_pattern_stop_fil['stop_id'].values[0]==0\n",
      "working on segment: 14th_22\n",
      "xwalk_seg_pattern_stop_fil['stop_id'].values[0]==0\n",
      "working on segment: 14th_24\n",
      "xwalk_seg_pattern_stop_fil['stop_id'].values[0]==0\n",
      "working on segment: 14th_25\n",
      "xwalk_seg_pattern_stop_fil['stop_id'].values[0]!=0\n",
      "['t_stop1','t_stop','t_l_initial','t_l_addl'] in decomp\n"
     ]
    }
   ],
   "source": [
    "segment_decomp_df = pd.DataFrame()\n",
    "for seg in list(xwalk_seg_pattern_stop.seg_name_id.drop_duplicates()[:]):\n",
    "    print(f\"working on segment: {seg}\")\n",
    "    xwalk_seg_pattern_stop_fil = xwalk_seg_pattern_stop.query('seg_name_id == @seg')\n",
    "\n",
    "    # xwalk_seg_pattern_stop_fil['stop_id'].values[0]==0\n",
    "\n",
    "    seg_routes = list(xwalk_seg_pattern_stop_fil.route.drop_duplicates())\n",
    "\n",
    "    rawnav_dat = (\n",
    "        wr.read_cleaned_rawnav(\n",
    "           analysis_routes_ = seg_routes,\n",
    "           path = os.path.join(path_processed_data, \"rawnav_data.parquet\")\n",
    "        )\n",
    "        .drop(columns=['blank', 'lat_raw', 'long_raw', 'sat_cnt'])\n",
    "    )\n",
    "\n",
    "    segment_summary = (\n",
    "        pq.read_table(\n",
    "            source = os.path.join(path_processed_data,\"segment_summary.parquet\"),\n",
    "            filters = [['seg_name_id', \"=\", seg]],\n",
    "            use_pandas_metadata = True\n",
    "        )\n",
    "        .to_pandas()\n",
    "    )\n",
    "    \n",
    "    \n",
    "    #removed | flag_wrong_order_any\\\n",
    "    segment_summary_fil = (\n",
    "        segment_summary\n",
    "        .query('~(flag_too_far_any\\\n",
    "                  | flag_too_long_odom\\\n",
    "                  | flag_secs_total_mismatch\\\n",
    "                  | flag_odom_total_mismatch)'\n",
    "        )\n",
    "    )\n",
    "    \n",
    "    if xwalk_seg_pattern_stop_fil['stop_id'].values[0]==0:\n",
    "        print(\"xwalk_seg_pattern_stop_fil['stop_id'].values[0]==0\")\n",
    "    \n",
    "        rawnav_filtered = wr.filter_to_segment(rawnav_dat,\n",
    "                                         segment_summary_fil)\n",
    "\n",
    "        freeflow_seg = wr.decompose_segment_ff(rawnav_dat, segment_summary_fil)\n",
    "        segment_ff_val = (\n",
    "            freeflow_seg\n",
    "            .loc[0.95]\n",
    "            .loc[\"fps_next3\"]\n",
    "        )\n",
    "\n",
    "        rawnav_fil_seg = wr.calc_rolling_vals(rawnav_filtered)\n",
    "\n",
    "\n",
    "        totals = (\n",
    "            rawnav_fil_seg\n",
    "            .groupby(['filename','index_run_start'])\n",
    "            .agg({\"odom_ft\": [lambda x: max(x) - min(x)],\n",
    "                  \"sec_past_st\" : [lambda x: max(x) - min(x)],\n",
    "                 \"fps_next3\": [lambda x: np.mean(x)]})\n",
    "            .pipe(wr.reset_col_names)\n",
    "            .rename(columns = {'odom_ft_<lambda>': 'odom_ft_seg_total',\n",
    "                               'sec_past_st_<lambda>':'t_segment',\n",
    "                              'fps_next3_<lambda>':'avg_fps'})\n",
    "        )\n",
    "\n",
    "        totals.loc[:,'ff_fps'] = segment_ff_val\n",
    "        totals.loc[:,'t_ff'] = totals.loc[:,['ff_fps','odom_ft_seg_total']].apply(lambda x: \n",
    "                                                                                  x['odom_ft_seg_total']/x['ff_fps']\n",
    "                                                                            ,axis=1)\n",
    "        totals.loc[:,'t_traffic'] = totals.loc[:,['t_ff','t_segment']].apply(lambda x: \n",
    "                                                                             0 if x['t_segment']-x['t_ff']<0\n",
    "                                                                             else x['t_segment']-x['t_ff']\n",
    "                                                                            ,axis=1)\n",
    "\n",
    "        totals.loc[:,'seg_name_id'] = seg\n",
    "        totals.loc[:,'t_stop'] = 0\n",
    "        totals.loc[:,'t_stop1'] = 0\n",
    "        totals.loc[:,'t_stop2'] = 0\n",
    "        \n",
    "        \n",
    "\n",
    "        segment_part = (totals[['filename', 'index_run_start', 'odom_ft_seg_total', 't_segment',\n",
    "                       't_ff', 't_stop','t_stop1','t_stop2','t_traffic', 'seg_name_id']].merge(\n",
    "                segment_summary_fil[['filename', 'index_run_start','start_date_time']],\n",
    "                how='left',on=['filename', 'index_run_start'])\n",
    "                                )[['filename', 'index_run_start','start_date_time', 'odom_ft_seg_total', 't_segment',\n",
    "                       't_ff', 't_stop','t_stop1','t_stop2','t_traffic', 'seg_name_id']]\n",
    "        \n",
    "        if segment_decomp_df.empty:\n",
    "            segment_decomp_df = segment_part\n",
    "        else:\n",
    "            segment_decomp_df = segment_decomp_df.append(segment_part)\n",
    "            \n",
    "    else:\n",
    "        print(\"xwalk_seg_pattern_stop_fil['stop_id'].values[0]!=0\")\n",
    "        freeflow_list = []\n",
    "        stop_area_decomp_list = []\n",
    "        traveltime_decomp_list = []\n",
    "        stop_index = ( pq.read_table(source=os.path.join(path_processed_data,\"stop_index.parquet\"),\n",
    "                      filters=[[('route','=',route)] for route in seg_routes],\n",
    "                        columns = [ 'route',\n",
    "                                    'pattern',\n",
    "                                    'stop_id',\n",
    "                                    'filename',\n",
    "                                    'index_run_start',\n",
    "                                    'index_loc',\n",
    "                                    'odom_ft',\n",
    "                                    'sec_past_st',\n",
    "                                    'geo_description'],\n",
    "                      use_pandas_metadata = True\n",
    "        ).to_pandas()\n",
    "            # As a bit of proofing, we confirm this is int32 and not string, may remove later\n",
    "            .assign(pattern = lambda x: x.pattern.astype('int32'))\n",
    "            .assign(route = lambda x: x.route.astype(str))\n",
    "            .rename(columns = {'odom_ft' : 'odom_ft_qj_stop'})\n",
    "        )\n",
    "\n",
    "        stop_index_fil = (\n",
    "                stop_index\n",
    "                .merge(xwalk_seg_pattern_stop_fil,\n",
    "                       on = ['route','pattern','stop_id'],\n",
    "                       how = 'inner')   \n",
    "            )\n",
    "    \n",
    "            # Calculate Free Flow Travel Time through Entire Segment\n",
    "        segment_ff = (\n",
    "            wr.decompose_segment_ff(\n",
    "                rawnav_dat,\n",
    "                segment_summary_fil,\n",
    "                max_fps = 73.3\n",
    "            )\n",
    "            .assign(seg_name_id = seg)\n",
    "        )\n",
    "\n",
    "        freeflow_list.append(segment_ff)\n",
    "\n",
    "        # Calculate Stop-Area Decomposition\n",
    "        stop_area_decomp = (\n",
    "            wr.decompose_stop_area(\n",
    "                rawnav_dat,\n",
    "                segment_summary_fil,\n",
    "                stop_index_fil\n",
    "            )\n",
    "            .assign(seg_name_id = seg)\n",
    "        )\n",
    "\n",
    "        stop_area_decomp_list.append(stop_area_decomp)\n",
    "        \n",
    "        if stop_area_decomp.stop_area_phase.isin([\"t_stop1\",\"t_stop\"]).any():\n",
    "            \n",
    "            print(\"['t_stop1','t_stop','t_l_initial','t_l_addl'] in decomp\")\n",
    "\n",
    "            segment_ff_val = (\n",
    "                segment_ff\n",
    "                .loc[0.95]\n",
    "                .loc[\"fps_next3\"]\n",
    "            )\n",
    "\n",
    "            # Run decomposition\n",
    "            traveltime_decomp = (\n",
    "                wr.decompose_traveltime(\n",
    "                    rawnav_dat,\n",
    "                    segment_summary_fil,\n",
    "                    stop_area_decomp,\n",
    "                    segment_ff_val\n",
    "                )\n",
    "            )\n",
    "            traveltime_decomp_list.append(traveltime_decomp)\n",
    "\n",
    "            freeflow = (\n",
    "                pd.concat(freeflow_list)\n",
    "                .rename_axis('ntile')\n",
    "                .reset_index()\n",
    "            )\n",
    "\n",
    "            basic_decomp = (\n",
    "                pd.concat(stop_area_decomp_list)\n",
    "                .reset_index() \n",
    "            )\n",
    "\n",
    "            traveltime_decomp = (\n",
    "                pd.concat(traveltime_decomp_list)\n",
    "                .reset_index()\n",
    "            )\n",
    "            \n",
    "            traveltime_decomp.loc[:,'t_traffic'] = traveltime_decomp.loc[:,'t_traffic'].apply(lambda x: 0 if x<0 else x)\n",
    "            \n",
    "            traveltime_decomp_dedupe = traveltime_decomp.drop_duplicates(keep='first')\n",
    "            segment_part = (traveltime_decomp_dedupe[['filename', 'index_run_start', 'odom_ft_seg_total', 't_segment',\n",
    "           't_ff', 't_stop','t_stop1','t_stop2','t_traffic', 'seg_name_id']]\n",
    "                            .merge(\n",
    "                                segment_summary_fil[['filename', 'index_run_start','start_date_time']],\n",
    "                            how='left'\n",
    "                            ,on=['filename', 'index_run_start'])[['filename', 'index_run_start','start_date_time', 'odom_ft_seg_total', 't_segment',\n",
    "                       't_ff', 't_stop','t_stop1','t_stop2','t_traffic', 'seg_name_id']])\n",
    "            \n",
    "            if segment_decomp_df.empty:\n",
    "                segment_decomp_df = segment_part\n",
    "            else:\n",
    "                segment_decomp_df = segment_decomp_df.append(segment_part)\n",
    "            \n",
    "            \n",
    "        else:\n",
    "            print(\"['t_stop1','t_stop','t_l_initial','t_l_addl'] not in decomp\")\n",
    "            freeflow_seg = wr.decompose_segment_ff(rawnav_dat, segment_summary_fil)\n",
    "            segment_ff_val = (\n",
    "                freeflow_seg\n",
    "                .loc[0.95]\n",
    "                .loc[\"fps_next3\"]\n",
    "            )\n",
    "            \n",
    "            rawnav_fil_seg = wr.calc_rolling_vals(rawnav_dat)\n",
    "\n",
    "            rawnav_fil_seg = wr.filter_to_segment(rawnav_fil_seg,\n",
    "                                               segment_summary_fil)\n",
    "\n",
    "            totals = (\n",
    "                rawnav_fil_seg\n",
    "                .groupby(['filename','index_run_start'])\n",
    "                .agg({\"odom_ft\": [lambda x: max(x) - min(x)],\n",
    "                      \"sec_past_st\" : [lambda x: max(x) - min(x)],\n",
    "                     \"fps_next3\": [lambda x: np.mean(x)]})\n",
    "                .pipe(wr.reset_col_names)\n",
    "                .rename(columns = {'odom_ft_<lambda>': 'odom_ft_seg_total',\n",
    "                                   'sec_past_st_<lambda>':'t_segment',\n",
    "                                  'fps_next3_<lambda>':'avg_fps'})\n",
    "            )\n",
    "\n",
    "            totals.loc[:,'ff_fps'] = segment_ff_val\n",
    "            totals.loc[:,'t_ff'] = totals.loc[:,['ff_fps','odom_ft_seg_total']].apply(lambda x: \n",
    "                                                                                      x['odom_ft_seg_total']/x['ff_fps']\n",
    "                                                                                ,axis=1)\n",
    "            totals.loc[:,'t_traffic'] = totals.loc[:,['t_ff','t_segment']].apply(lambda x: \n",
    "                                                                                 0 if x['t_segment']-x['t_ff']<0\n",
    "                                                                                 else x['t_segment']-x['t_ff']\n",
    "                                                                                ,axis=1)\n",
    "\n",
    "            totals.loc[:,'seg_name_id'] = seg\n",
    "            totals.loc[:,'t_stop'] = 0\n",
    "            totals.loc[:,'t_stop1'] = 0\n",
    "            totals.loc[:,'t_stop2'] = 0\n",
    "\n",
    "            segment_part = (totals[['filename', 'index_run_start', 'odom_ft_seg_total', 't_segment',\n",
    "                       't_ff', 't_stop','t_stop1','t_stop2','t_traffic', 'seg_name_id']].merge(\n",
    "                segment_summary_fil[['filename', 'index_run_start','start_date_time']],\n",
    "                how='left',on=['filename', 'index_run_start'])\n",
    "                                )[['filename', 'index_run_start','start_date_time', 'odom_ft_seg_total', 't_segment',\n",
    "                       't_ff', 't_stop','t_stop1','t_stop2','t_traffic', 'seg_name_id']]\n",
    "        \n",
    "            if segment_decomp_df.empty:\n",
    "                segment_decomp_df = segment_part\n",
    "            else:\n",
    "                segment_decomp_df = segment_decomp_df.append(segment_part)"
   ]
  },
  {
   "cell_type": "code",
   "execution_count": 30,
   "metadata": {
    "ExecuteTime": {
     "end_time": "2020-09-30T22:42:17.148805Z",
     "start_time": "2020-09-30T22:42:17.049819Z"
    }
   },
   "outputs": [
    {
     "data": {
      "text/plain": [
       "array(['14th_12', '14th_14', '14th_17', '14th_21', '14th_22', '14th_24',\n",
       "       '14th_25'], dtype=object)"
      ]
     },
     "execution_count": 30,
     "metadata": {},
     "output_type": "execute_result"
    }
   ],
   "source": [
    "segment_decomp_df.seg_name_id.unique()"
   ]
  },
  {
   "cell_type": "code",
   "execution_count": 31,
   "metadata": {
    "ExecuteTime": {
     "end_time": "2020-09-30T22:42:18.011801Z",
     "start_time": "2020-09-30T22:42:17.915798Z"
    }
   },
   "outputs": [],
   "source": [
    "agg_all_segments = (segment_decomp_df\n",
    "    .groupby(['filename','index_run_start'])\n",
    "     .agg({'t_traffic':sum,\n",
    "          't_ff':sum,\n",
    "          't_stop':sum,\n",
    "          't_stop1':sum,\n",
    "          't_stop2':sum})\n",
    "     .reset_index()\n",
    "\n",
    ")"
   ]
  },
  {
   "cell_type": "code",
   "execution_count": 32,
   "metadata": {
    "ExecuteTime": {
     "end_time": "2020-09-30T22:42:18.807839Z",
     "start_time": "2020-09-30T22:42:18.507181Z"
    }
   },
   "outputs": [
    {
     "data": {
      "image/png": "[encoded data removed]",
      "text/plain": [
       "<Figure size 576x432 with 1 Axes>"
      ]
     },
     "metadata": {
      "needs_background": "light"
     },
     "output_type": "display_data"
    }
   ],
   "source": [
    "#hacky for now\n",
    "route = seg_pattern.route.unique()[0]\n",
    "pattern = seg_pattern.pattern.unique()[0]\n",
    "fig, ax = plt.subplots(figsize=(8, 6))\n",
    "ax.hist(agg_all_segments.loc[:,'t_traffic'].values, bins=50, density=True, cumulative=True, histtype='step')\n",
    "ax.set_title(f'Cumulative step distribution of t_traffic for route: {route} pattern:{pattern} - all segments')\n",
    "ax.set_xlabel('t_traffic (sec)')\n",
    "_=ax.set_ylabel('Likelihood of occurrence')"
   ]
  },
  {
   "cell_type": "code",
   "execution_count": 33,
   "metadata": {
    "ExecuteTime": {
     "end_time": "2020-09-30T22:42:20.337323Z",
     "start_time": "2020-09-30T22:42:19.500099Z"
    }
   },
   "outputs": [
    {
     "data": {
      "image/png": "[encoded data removed]",
      "text/plain": [
       "<Figure size 720x1440 with 7 Axes>"
      ]
     },
     "metadata": {
      "needs_background": "light"
     },
     "output_type": "display_data"
    }
   ],
   "source": [
    "fig, axs = plt.subplots(len(segment_decomp_df.seg_name_id.unique()), sharey=True, figsize=(10,20))\n",
    "route = seg_pattern.route.unique()[0]\n",
    "pattern = seg_pattern.pattern.unique()[0]\n",
    "fig.suptitle(f'Cumulative step distribution of t_traffic for route: {route} pattern:{pattern}')\n",
    "for idx,seg in enumerate(segment_decomp_df.seg_name_id.unique()):\n",
    "    segment_decomp_one_seg = segment_decomp_df[segment_decomp_df.loc[:,'seg_name_id']==seg].copy()\n",
    "    axs[idx].hist(segment_decomp_one_seg.loc[:,'t_traffic'].values, bins=50\n",
    "                  , density=True, cumulative=True, histtype='step')\n",
    "    axs[idx].set_title(f'{seg}')"
   ]
  },
  {
   "cell_type": "code",
   "execution_count": 34,
   "metadata": {
    "ExecuteTime": {
     "end_time": "2020-09-30T22:42:20.522964Z",
     "start_time": "2020-09-30T22:42:20.349325Z"
    }
   },
   "outputs": [],
   "source": [
    "segment_decomp_df.to_csv(os.path.join(path_processed_data, f\"segment_decomp_{route+str(pattern).zfill(2)}_201911_14th_buslane.csv\"), index=False)"
   ]
  },
  {
   "cell_type": "code",
   "execution_count": null,
   "metadata": {},
   "outputs": [],
   "source": []
  },
  {
   "cell_type": "code",
   "execution_count": null,
   "metadata": {},
   "outputs": [],
   "source": []
  },
  {
   "cell_type": "code",
   "execution_count": null,
   "metadata": {},
   "outputs": [],
   "source": []
  }
 ],
 "metadata": {
  "kernelspec": {
   "display_name": "Python (rawnav)",
   "language": "python",
   "name": "rawnav"
  },
  "language_info": {
   "codemirror_mode": {
    "name": "ipython",
    "version": 3
   },
   "file_extension": ".py",
   "mimetype": "text/x-python",
   "name": "python",
   "nbconvert_exporter": "python",
   "pygments_lexer": "ipython3",
   "version": "3.8.5"
  },
  "toc": {
   "base_numbering": 1,
   "nav_menu": {},
   "number_sections": true,
   "sideBar": true,
   "skip_h1_title": false,
   "title_cell": "Table of Contents",
   "title_sidebar": "Contents",
   "toc_cell": false,
   "toc_position": {},
   "toc_section_display": true,
   "toc_window_display": false
  }
 },
 "nbformat": 4,
 "nbformat_minor": 4
}
